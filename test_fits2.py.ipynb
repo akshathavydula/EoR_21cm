<!DOCTYPE html>
<html>
<head><meta charset="utf-8" />

<title>test_fits2.py</title>

<script src="https://cdnjs.cloudflare.com/ajax/libs/require.js/2.1.10/require.min.js"></script>
<script src="https://cdnjs.cloudflare.com/ajax/libs/jquery/2.0.3/jquery.min.js"></script>



<style type="text/css">
    /*!
*
* Twitter Bootstrap
*
*/
/*!
 * Bootstrap v3.3.7 (http://getbootstrap.com)
 * Copyright 2011-2016 Twitter, Inc.
 * Licensed under MIT (https://github.com/twbs/bootstrap/blob/master/LICENSE)
 */
/*! normalize.css v3.0.3 | MIT License | github.com/necolas/normalize.css */
html {
  font-family: sans-serif;
  -ms-text-size-adjust: 100%;
  -webkit-text-size-adjust: 100%;
}
body {
  margin: 0;
}
article,
aside,
details,
figcaption,
figure,
footer,
header,
hgroup,
main,
menu,
nav,
section,
summary {
  display: block;
}
audio,
canvas,
progress,
video {
  display: inline-block;
  vertical-align: baseline;
}
audio:not([controls]) {
  display: none;
  height: 0;
}
[hidden],
template {
  display: none;
}
a {
  background-color: transparent;
}
a:active,
a:hover {
  outline: 0;
}
abbr[title] {
  border-bottom: 1px dotted;
}
b,
strong {
  font-weight: bold;
}
dfn {
  font-style: italic;
}
h1 {
  font-size: 2em;
  margin: 0.67em 0;
}
mark {
  background: #ff0;
  color: #000;
}
small {
  font-size: 80%;
}
sub,
sup {
  font-size: 75%;
  line-height: 0;
  position: relative;
  vertical-align: baseline;
}
sup {
  top: -0.5em;
}
sub {
  bottom: -0.25em;
}
img {
  border: 0;
}
svg:not(:root) {
  overflow: hidden;
}
figure {
  margin: 1em 40px;
}
hr {
  box-sizing: content-box;
  height: 0;
}
pre {
  overflow: auto;
}
code,
kbd,
pre,
samp {
  font-family: monospace, monospace;
  font-size: 1em;
}
button,
input,
optgroup,
select,
textarea {
  color: inherit;
  font: inherit;
  margin: 0;
}
button {
  overflow: visible;
}
button,
select {
  text-transform: none;
}
button,
html input[type="button"],
input[type="reset"],
input[type="submit"] {
  -webkit-appearance: button;
  cursor: pointer;
}
button[disabled],
html input[disabled] {
  cursor: default;
}
button::-moz-focus-inner,
input::-moz-focus-inner {
  border: 0;
  padding: 0;
}
input {
  line-height: normal;
}
input[type="checkbox"],
input[type="radio"] {
  box-sizing: border-box;
  padding: 0;
}
input[type="number"]::-webkit-inner-spin-button,
input[type="number"]::-webkit-outer-spin-button {
  height: auto;
}
input[type="search"] {
  -webkit-appearance: textfield;
  box-sizing: content-box;
}
input[type="search"]::-webkit-search-cancel-button,
input[type="search"]::-webkit-search-decoration {
  -webkit-appearance: none;
}
fieldset {
  border: 1px solid #c0c0c0;
  margin: 0 2px;
  padding: 0.35em 0.625em 0.75em;
}
legend {
  border: 0;
  padding: 0;
}
textarea {
  overflow: auto;
}
optgroup {
  font-weight: bold;
}
table {
  border-collapse: collapse;
  border-spacing: 0;
}
td,
th {
  padding: 0;
}
/*! Source: https://github.com/h5bp/html5-boilerplate/blob/master/src/css/main.css */
@media print {
  *,
  *:before,
  *:after {
    background: transparent !important;
    box-shadow: none !important;
    text-shadow: none !important;
  }
  a,
  a:visited {
    text-decoration: underline;
  }
  a[href]:after {
    content: " (" attr(href) ")";
  }
  abbr[title]:after {
    content: " (" attr(title) ")";
  }
  a[href^="#"]:after,
  a[href^="javascript:"]:after {
    content: "";
  }
  pre,
  blockquote {
    border: 1px solid #999;
    page-break-inside: avoid;
  }
  thead {
    display: table-header-group;
  }
  tr,
  img {
    page-break-inside: avoid;
  }
  img {
    max-width: 100% !important;
  }
  p,
  h2,
  h3 {
    orphans: 3;
    widows: 3;
  }
  h2,
  h3 {
    page-break-after: avoid;
  }
  .navbar {
    display: none;
  }
  .btn > .caret,
  .dropup > .btn > .caret {
    border-top-color: #000 !important;
  }
  .label {
    border: 1px solid #000;
  }
  .table {
    border-collapse: collapse !important;
  }
  .table td,
  .table th {
    background-color: #fff !important;
  }
  .table-bordered th,
  .table-bordered td {
    border: 1px solid #ddd !important;
  }
}
@font-face {
  font-family: 'Glyphicons Halflings';
  src: url('../components/bootstrap/fonts/glyphicons-halflings-regular.eot');
  src: url('../components/bootstrap/fonts/glyphicons-halflings-regular.eot?#iefix') format('embedded-opentype'), url('../components/bootstrap/fonts/glyphicons-halflings-regular.woff2') format('woff2'), url('../components/bootstrap/fonts/glyphicons-halflings-regular.woff') format('woff'), url('../components/bootstrap/fonts/glyphicons-halflings-regular.ttf') format('truetype'), url('../components/bootstrap/fonts/glyphicons-halflings-regular.svg#glyphicons_halflingsregular') format('svg');
}
.glyphicon {
  position: relative;
  top: 1px;
  display: inline-block;
  font-family: 'Glyphicons Halflings';
  font-style: normal;
  font-weight: normal;
  line-height: 1;
  -webkit-font-smoothing: antialiased;
  -moz-osx-font-smoothing: grayscale;
}
.glyphicon-asterisk:before {
  content: "\002a";
}
.glyphicon-plus:before {
  content: "\002b";
}
.glyphicon-euro:before,
.glyphicon-eur:before {
  content: "\20ac";
}
.glyphicon-minus:before {
  content: "\2212";
}
.glyphicon-cloud:before {
  content: "\2601";
}
.glyphicon-envelope:before {
  content: "\2709";
}
.glyphicon-pencil:before {
  content: "\270f";
}
.glyphicon-glass:before {
  content: "\e001";
}
.glyphicon-music:before {
  content: "\e002";
}
.glyphicon-search:before {
  content: "\e003";
}
.glyphicon-heart:before {
  content: "\e005";
}
.glyphicon-star:before {
  content: "\e006";
}
.glyphicon-star-empty:before {
  content: "\e007";
}
.glyphicon-user:before {
  content: "\e008";
}
.glyphicon-film:before {
  content: "\e009";
}
.glyphicon-th-large:before {
  content: "\e010";
}
.glyphicon-th:before {
  content: "\e011";
}
.glyphicon-th-list:before {
  content: "\e012";
}
.glyphicon-ok:before {
  content: "\e013";
}
.glyphicon-remove:before {
  content: "\e014";
}
.glyphicon-zoom-in:before {
  content: "\e015";
}
.glyphicon-zoom-out:before {
  content: "\e016";
}
.glyphicon-off:before {
  content: "\e017";
}
.glyphicon-signal:before {
  content: "\e018";
}
.glyphicon-cog:before {
  content: "\e019";
}
.glyphicon-trash:before {
  content: "\e020";
}
.glyphicon-home:before {
  content: "\e021";
}
.glyphicon-file:before {
  content: "\e022";
}
.glyphicon-time:before {
  content: "\e023";
}
.glyphicon-road:before {
  content: "\e024";
}
.glyphicon-download-alt:before {
  content: "\e025";
}
.glyphicon-download:before {
  content: "\e026";
}
.glyphicon-upload:before {
  content: "\e027";
}
.glyphicon-inbox:before {
  content: "\e028";
}
.glyphicon-play-circle:before {
  content: "\e029";
}
.glyphicon-repeat:before {
  content: "\e030";
}
.glyphicon-refresh:before {
  content: "\e031";
}
.glyphicon-list-alt:before {
  content: "\e032";
}
.glyphicon-lock:before {
  content: "\e033";
}
.glyphicon-flag:before {
  content: "\e034";
}
.glyphicon-headphones:before {
  content: "\e035";
}
.glyphicon-volume-off:before {
  content: "\e036";
}
.glyphicon-volume-down:before {
  content: "\e037";
}
.glyphicon-volume-up:before {
  content: "\e038";
}
.glyphicon-qrcode:before {
  content: "\e039";
}
.glyphicon-barcode:before {
  content: "\e040";
}
.glyphicon-tag:before {
  content: "\e041";
}
.glyphicon-tags:before {
  content: "\e042";
}
.glyphicon-book:before {
  content: "\e043";
}
.glyphicon-bookmark:before {
  content: "\e044";
}
.glyphicon-print:before {
  content: "\e045";
}
.glyphicon-camera:before {
  content: "\e046";
}
.glyphicon-font:before {
  content: "\e047";
}
.glyphicon-bold:before {
  content: "\e048";
}
.glyphicon-italic:before {
  content: "\e049";
}
.glyphicon-text-height:before {
  content: "\e050";
}
.glyphicon-text-width:before {
  content: "\e051";
}
.glyphicon-align-left:before {
  content: "\e052";
}
.glyphicon-align-center:before {
  content: "\e053";
}
.glyphicon-align-right:before {
  content: "\e054";
}
.glyphicon-align-justify:before {
  content: "\e055";
}
.glyphicon-list:before {
  content: "\e056";
}
.glyphicon-indent-left:before {
  content: "\e057";
}
.glyphicon-indent-right:before {
  content: "\e058";
}
.glyphicon-facetime-video:before {
  content: "\e059";
}
.glyphicon-picture:before {
  content: "\e060";
}
.glyphicon-map-marker:before {
  content: "\e062";
}
.glyphicon-adjust:before {
  content: "\e063";
}
.glyphicon-tint:before {
  content: "\e064";
}
.glyphicon-edit:before {
  content: "\e065";
}
.glyphicon-share:before {
  content: "\e066";
}
.glyphicon-check:before {
  content: "\e067";
}
.glyphicon-move:before {
  content: "\e068";
}
.glyphicon-step-backward:before {
  content: "\e069";
}
.glyphicon-fast-backward:before {
  content: "\e070";
}
.glyphicon-backward:before {
  content: "\e071";
}
.glyphicon-play:before {
  content: "\e072";
}
.glyphicon-pause:before {
  content: "\e073";
}
.glyphicon-stop:before {
  content: "\e074";
}
.glyphicon-forward:before {
  content: "\e075";
}
.glyphicon-fast-forward:before {
  content: "\e076";
}
.glyphicon-step-forward:before {
  content: "\e077";
}
.glyphicon-eject:before {
  content: "\e078";
}
.glyphicon-chevron-left:before {
  content: "\e079";
}
.glyphicon-chevron-right:before {
  content: "\e080";
}
.glyphicon-plus-sign:before {
  content: "\e081";
}
.glyphicon-minus-sign:before {
  content: "\e082";
}
.glyphicon-remove-sign:before {
  content: "\e083";
}
.glyphicon-ok-sign:before {
  content: "\e084";
}
.glyphicon-question-sign:before {
  content: "\e085";
}
.glyphicon-info-sign:before {
  content: "\e086";
}
.glyphicon-screenshot:before {
  content: "\e087";
}
.glyphicon-remove-circle:before {
  content: "\e088";
}
.glyphicon-ok-circle:before {
  content: "\e089";
}
.glyphicon-ban-circle:before {
  content: "\e090";
}
.glyphicon-arrow-left:before {
  content: "\e091";
}
.glyphicon-arrow-right:before {
  content: "\e092";
}
.glyphicon-arrow-up:before {
  content: "\e093";
}
.glyphicon-arrow-down:before {
  content: "\e094";
}
.glyphicon-share-alt:before {
  content: "\e095";
}
.glyphicon-resize-full:before {
  content: "\e096";
}
.glyphicon-resize-small:before {
  content: "\e097";
}
.glyphicon-exclamation-sign:before {
  content: "\e101";
}
.glyphicon-gift:before {
  content: "\e102";
}
.glyphicon-leaf:before {
  content: "\e103";
}
.glyphicon-fire:before {
  content: "\e104";
}
.glyphicon-eye-open:before {
  content: "\e105";
}
.glyphicon-eye-close:before {
  content: "\e106";
}
.glyphicon-warning-sign:before {
  content: "\e107";
}
.glyphicon-plane:before {
  content: "\e108";
}
.glyphicon-calendar:before {
  content: "\e109";
}
.glyphicon-random:before {
  content: "\e110";
}
.glyphicon-comment:before {
  content: "\e111";
}
.glyphicon-magnet:before {
  content: "\e112";
}
.glyphicon-chevron-up:before {
  content: "\e113";
}
.glyphicon-chevron-down:before {
  content: "\e114";
}
.glyphicon-retweet:before {
  content: "\e115";
}
.glyphicon-shopping-cart:before {
  content: "\e116";
}
.glyphicon-folder-close:before {
  content: "\e117";
}
.glyphicon-folder-open:before {
  content: "\e118";
}
.glyphicon-resize-vertical:before {
  content: "\e119";
}
.glyphicon-resize-horizontal:before {
  content: "\e120";
}
.glyphicon-hdd:before {
  content: "\e121";
}
.glyphicon-bullhorn:before {
  content: "\e122";
}
.glyphicon-bell:before {
  content: "\e123";
}
.glyphicon-certificate:before {
  content: "\e124";
}
.glyphicon-thumbs-up:before {
  content: "\e125";
}
.glyphicon-thumbs-down:before {
  content: "\e126";
}
.glyphicon-hand-right:before {
  content: "\e127";
}
.glyphicon-hand-left:before {
  content: "\e128";
}
.glyphicon-hand-up:before {
  content: "\e129";
}
.glyphicon-hand-down:before {
  content: "\e130";
}
.glyphicon-circle-arrow-right:before {
  content: "\e131";
}
.glyphicon-circle-arrow-left:before {
  content: "\e132";
}
.glyphicon-circle-arrow-up:before {
  content: "\e133";
}
.glyphicon-circle-arrow-down:before {
  content: "\e134";
}
.glyphicon-globe:before {
  content: "\e135";
}
.glyphicon-wrench:before {
  content: "\e136";
}
.glyphicon-tasks:before {
  content: "\e137";
}
.glyphicon-filter:before {
  content: "\e138";
}
.glyphicon-briefcase:before {
  content: "\e139";
}
.glyphicon-fullscreen:before {
  content: "\e140";
}
.glyphicon-dashboard:before {
  content: "\e141";
}
.glyphicon-paperclip:before {
  content: "\e142";
}
.glyphicon-heart-empty:before {
  content: "\e143";
}
.glyphicon-link:before {
  content: "\e144";
}
.glyphicon-phone:before {
  content: "\e145";
}
.glyphicon-pushpin:before {
  content: "\e146";
}
.glyphicon-usd:before {
  content: "\e148";
}
.glyphicon-gbp:before {
  content: "\e149";
}
.glyphicon-sort:before {
  content: "\e150";
}
.glyphicon-sort-by-alphabet:before {
  content: "\e151";
}
.glyphicon-sort-by-alphabet-alt:before {
  content: "\e152";
}
.glyphicon-sort-by-order:before {
  content: "\e153";
}
.glyphicon-sort-by-order-alt:before {
  content: "\e154";
}
.glyphicon-sort-by-attributes:before {
  content: "\e155";
}
.glyphicon-sort-by-attributes-alt:before {
  content: "\e156";
}
.glyphicon-unchecked:before {
  content: "\e157";
}
.glyphicon-expand:before {
  content: "\e158";
}
.glyphicon-collapse-down:before {
  content: "\e159";
}
.glyphicon-collapse-up:before {
  content: "\e160";
}
.glyphicon-log-in:before {
  content: "\e161";
}
.glyphicon-flash:before {
  content: "\e162";
}
.glyphicon-log-out:before {
  content: "\e163";
}
.glyphicon-new-window:before {
  content: "\e164";
}
.glyphicon-record:before {
  content: "\e165";
}
.glyphicon-save:before {
  content: "\e166";
}
.glyphicon-open:before {
  content: "\e167";
}
.glyphicon-saved:before {
  content: "\e168";
}
.glyphicon-import:before {
  content: "\e169";
}
.glyphicon-export:before {
  content: "\e170";
}
.glyphicon-send:before {
  content: "\e171";
}
.glyphicon-floppy-disk:before {
  content: "\e172";
}
.glyphicon-floppy-saved:before {
  content: "\e173";
}
.glyphicon-floppy-remove:before {
  content: "\e174";
}
.glyphicon-floppy-save:before {
  content: "\e175";
}
.glyphicon-floppy-open:before {
  content: "\e176";
}
.glyphicon-credit-card:before {
  content: "\e177";
}
.glyphicon-transfer:before {
  content: "\e178";
}
.glyphicon-cutlery:before {
  content: "\e179";
}
.glyphicon-header:before {
  content: "\e180";
}
.glyphicon-compressed:before {
  content: "\e181";
}
.glyphicon-earphone:before {
  content: "\e182";
}
.glyphicon-phone-alt:before {
  content: "\e183";
}
.glyphicon-tower:before {
  content: "\e184";
}
.glyphicon-stats:before {
  content: "\e185";
}
.glyphicon-sd-video:before {
  content: "\e186";
}
.glyphicon-hd-video:before {
  content: "\e187";
}
.glyphicon-subtitles:before {
  content: "\e188";
}
.glyphicon-sound-stereo:before {
  content: "\e189";
}
.glyphicon-sound-dolby:before {
  content: "\e190";
}
.glyphicon-sound-5-1:before {
  content: "\e191";
}
.glyphicon-sound-6-1:before {
  content: "\e192";
}
.glyphicon-sound-7-1:before {
  content: "\e193";
}
.glyphicon-copyright-mark:before {
  content: "\e194";
}
.glyphicon-registration-mark:before {
  content: "\e195";
}
.glyphicon-cloud-download:before {
  content: "\e197";
}
.glyphicon-cloud-upload:before {
  content: "\e198";
}
.glyphicon-tree-conifer:before {
  content: "\e199";
}
.glyphicon-tree-deciduous:before {
  content: "\e200";
}
.glyphicon-cd:before {
  content: "\e201";
}
.glyphicon-save-file:before {
  content: "\e202";
}
.glyphicon-open-file:before {
  content: "\e203";
}
.glyphicon-level-up:before {
  content: "\e204";
}
.glyphicon-copy:before {
  content: "\e205";
}
.glyphicon-paste:before {
  content: "\e206";
}
.glyphicon-alert:before {
  content: "\e209";
}
.glyphicon-equalizer:before {
  content: "\e210";
}
.glyphicon-king:before {
  content: "\e211";
}
.glyphicon-queen:before {
  content: "\e212";
}
.glyphicon-pawn:before {
  content: "\e213";
}
.glyphicon-bishop:before {
  content: "\e214";
}
.glyphicon-knight:before {
  content: "\e215";
}
.glyphicon-baby-formula:before {
  content: "\e216";
}
.glyphicon-tent:before {
  content: "\26fa";
}
.glyphicon-blackboard:before {
  content: "\e218";
}
.glyphicon-bed:before {
  content: "\e219";
}
.glyphicon-apple:before {
  content: "\f8ff";
}
.glyphicon-erase:before {
  content: "\e221";
}
.glyphicon-hourglass:before {
  content: "\231b";
}
.glyphicon-lamp:before {
  content: "\e223";
}
.glyphicon-duplicate:before {
  content: "\e224";
}
.glyphicon-piggy-bank:before {
  content: "\e225";
}
.glyphicon-scissors:before {
  content: "\e226";
}
.glyphicon-bitcoin:before {
  content: "\e227";
}
.glyphicon-btc:before {
  content: "\e227";
}
.glyphicon-xbt:before {
  content: "\e227";
}
.glyphicon-yen:before {
  content: "\00a5";
}
.glyphicon-jpy:before {
  content: "\00a5";
}
.glyphicon-ruble:before {
  content: "\20bd";
}
.glyphicon-rub:before {
  content: "\20bd";
}
.glyphicon-scale:before {
  content: "\e230";
}
.glyphicon-ice-lolly:before {
  content: "\e231";
}
.glyphicon-ice-lolly-tasted:before {
  content: "\e232";
}
.glyphicon-education:before {
  content: "\e233";
}
.glyphicon-option-horizontal:before {
  content: "\e234";
}
.glyphicon-option-vertical:before {
  content: "\e235";
}
.glyphicon-menu-hamburger:before {
  content: "\e236";
}
.glyphicon-modal-window:before {
  content: "\e237";
}
.glyphicon-oil:before {
  content: "\e238";
}
.glyphicon-grain:before {
  content: "\e239";
}
.glyphicon-sunglasses:before {
  content: "\e240";
}
.glyphicon-text-size:before {
  content: "\e241";
}
.glyphicon-text-color:before {
  content: "\e242";
}
.glyphicon-text-background:before {
  content: "\e243";
}
.glyphicon-object-align-top:before {
  content: "\e244";
}
.glyphicon-object-align-bottom:before {
  content: "\e245";
}
.glyphicon-object-align-horizontal:before {
  content: "\e246";
}
.glyphicon-object-align-left:before {
  content: "\e247";
}
.glyphicon-object-align-vertical:before {
  content: "\e248";
}
.glyphicon-object-align-right:before {
  content: "\e249";
}
.glyphicon-triangle-right:before {
  content: "\e250";
}
.glyphicon-triangle-left:before {
  content: "\e251";
}
.glyphicon-triangle-bottom:before {
  content: "\e252";
}
.glyphicon-triangle-top:before {
  content: "\e253";
}
.glyphicon-console:before {
  content: "\e254";
}
.glyphicon-superscript:before {
  content: "\e255";
}
.glyphicon-subscript:before {
  content: "\e256";
}
.glyphicon-menu-left:before {
  content: "\e257";
}
.glyphicon-menu-right:before {
  content: "\e258";
}
.glyphicon-menu-down:before {
  content: "\e259";
}
.glyphicon-menu-up:before {
  content: "\e260";
}
* {
  -webkit-box-sizing: border-box;
  -moz-box-sizing: border-box;
  box-sizing: border-box;
}
*:before,
*:after {
  -webkit-box-sizing: border-box;
  -moz-box-sizing: border-box;
  box-sizing: border-box;
}
html {
  font-size: 10px;
  -webkit-tap-highlight-color: rgba(0, 0, 0, 0);
}
body {
  font-family: "Helvetica Neue", Helvetica, Arial, sans-serif;
  font-size: 13px;
  line-height: 1.42857143;
  color: #000;
  background-color: #fff;
}
input,
button,
select,
textarea {
  font-family: inherit;
  font-size: inherit;
  line-height: inherit;
}
a {
  color: #337ab7;
  text-decoration: none;
}
a:hover,
a:focus {
  color: #23527c;
  text-decoration: underline;
}
a:focus {
  outline: 5px auto -webkit-focus-ring-color;
  outline-offset: -2px;
}
figure {
  margin: 0;
}
img {
  vertical-align: middle;
}
.img-responsive,
.thumbnail > img,
.thumbnail a > img,
.carousel-inner > .item > img,
.carousel-inner > .item > a > img {
  display: block;
  max-width: 100%;
  height: auto;
}
.img-rounded {
  border-radius: 3px;
}
.img-thumbnail {
  padding: 4px;
  line-height: 1.42857143;
  background-color: #fff;
  border: 1px solid #ddd;
  border-radius: 2px;
  -webkit-transition: all 0.2s ease-in-out;
  -o-transition: all 0.2s ease-in-out;
  transition: all 0.2s ease-in-out;
  display: inline-block;
  max-width: 100%;
  height: auto;
}
.img-circle {
  border-radius: 50%;
}
hr {
  margin-top: 18px;
  margin-bottom: 18px;
  border: 0;
  border-top: 1px solid #eeeeee;
}
.sr-only {
  position: absolute;
  width: 1px;
  height: 1px;
  margin: -1px;
  padding: 0;
  overflow: hidden;
  clip: rect(0, 0, 0, 0);
  border: 0;
}
.sr-only-focusable:active,
.sr-only-focusable:focus {
  position: static;
  width: auto;
  height: auto;
  margin: 0;
  overflow: visible;
  clip: auto;
}
[role="button"] {
  cursor: pointer;
}
h1,
h2,
h3,
h4,
h5,
h6,
.h1,
.h2,
.h3,
.h4,
.h5,
.h6 {
  font-family: inherit;
  font-weight: 500;
  line-height: 1.1;
  color: inherit;
}
h1 small,
h2 small,
h3 small,
h4 small,
h5 small,
h6 small,
.h1 small,
.h2 small,
.h3 small,
.h4 small,
.h5 small,
.h6 small,
h1 .small,
h2 .small,
h3 .small,
h4 .small,
h5 .small,
h6 .small,
.h1 .small,
.h2 .small,
.h3 .small,
.h4 .small,
.h5 .small,
.h6 .small {
  font-weight: normal;
  line-height: 1;
  color: #777777;
}
h1,
.h1,
h2,
.h2,
h3,
.h3 {
  margin-top: 18px;
  margin-bottom: 9px;
}
h1 small,
.h1 small,
h2 small,
.h2 small,
h3 small,
.h3 small,
h1 .small,
.h1 .small,
h2 .small,
.h2 .small,
h3 .small,
.h3 .small {
  font-size: 65%;
}
h4,
.h4,
h5,
.h5,
h6,
.h6 {
  margin-top: 9px;
  margin-bottom: 9px;
}
h4 small,
.h4 small,
h5 small,
.h5 small,
h6 small,
.h6 small,
h4 .small,
.h4 .small,
h5 .small,
.h5 .small,
h6 .small,
.h6 .small {
  font-size: 75%;
}
h1,
.h1 {
  font-size: 33px;
}
h2,
.h2 {
  font-size: 27px;
}
h3,
.h3 {
  font-size: 23px;
}
h4,
.h4 {
  font-size: 17px;
}
h5,
.h5 {
  font-size: 13px;
}
h6,
.h6 {
  font-size: 12px;
}
p {
  margin: 0 0 9px;
}
.lead {
  margin-bottom: 18px;
  font-size: 14px;
  font-weight: 300;
  line-height: 1.4;
}
@media (min-width: 768px) {
  .lead {
    font-size: 19.5px;
  }
}
small,
.small {
  font-size: 92%;
}
mark,
.mark {
  background-color: #fcf8e3;
  padding: .2em;
}
.text-left {
  text-align: left;
}
.text-right {
  text-align: right;
}
.text-center {
  text-align: center;
}
.text-justify {
  text-align: justify;
}
.text-nowrap {
  white-space: nowrap;
}
.text-lowercase {
  text-transform: lowercase;
}
.text-uppercase {
  text-transform: uppercase;
}
.text-capitalize {
  text-transform: capitalize;
}
.text-muted {
  color: #777777;
}
.text-primary {
  color: #337ab7;
}
a.text-primary:hover,
a.text-primary:focus {
  color: #286090;
}
.text-success {
  color: #3c763d;
}
a.text-success:hover,
a.text-success:focus {
  color: #2b542c;
}
.text-info {
  color: #31708f;
}
a.text-info:hover,
a.text-info:focus {
  color: #245269;
}
.text-warning {
  color: #8a6d3b;
}
a.text-warning:hover,
a.text-warning:focus {
  color: #66512c;
}
.text-danger {
  color: #a94442;
}
a.text-danger:hover,
a.text-danger:focus {
  color: #843534;
}
.bg-primary {
  color: #fff;
  background-color: #337ab7;
}
a.bg-primary:hover,
a.bg-primary:focus {
  background-color: #286090;
}
.bg-success {
  background-color: #dff0d8;
}
a.bg-success:hover,
a.bg-success:focus {
  background-color: #c1e2b3;
}
.bg-info {
  background-color: #d9edf7;
}
a.bg-info:hover,
a.bg-info:focus {
  background-color: #afd9ee;
}
.bg-warning {
  background-color: #fcf8e3;
}
a.bg-warning:hover,
a.bg-warning:focus {
  background-color: #f7ecb5;
}
.bg-danger {
  background-color: #f2dede;
}
a.bg-danger:hover,
a.bg-danger:focus {
  background-color: #e4b9b9;
}
.page-header {
  padding-bottom: 8px;
  margin: 36px 0 18px;
  border-bottom: 1px solid #eeeeee;
}
ul,
ol {
  margin-top: 0;
  margin-bottom: 9px;
}
ul ul,
ol ul,
ul ol,
ol ol {
  margin-bottom: 0;
}
.list-unstyled {
  padding-left: 0;
  list-style: none;
}
.list-inline {
  padding-left: 0;
  list-style: none;
  margin-left: -5px;
}
.list-inline > li {
  display: inline-block;
  padding-left: 5px;
  padding-right: 5px;
}
dl {
  margin-top: 0;
  margin-bottom: 18px;
}
dt,
dd {
  line-height: 1.42857143;
}
dt {
  font-weight: bold;
}
dd {
  margin-left: 0;
}
@media (min-width: 541px) {
  .dl-horizontal dt {
    float: left;
    width: 160px;
    clear: left;
    text-align: right;
    overflow: hidden;
    text-overflow: ellipsis;
    white-space: nowrap;
  }
  .dl-horizontal dd {
    margin-left: 180px;
  }
}
abbr[title],
abbr[data-original-title] {
  cursor: help;
  border-bottom: 1px dotted #777777;
}
.initialism {
  font-size: 90%;
  text-transform: uppercase;
}
blockquote {
  padding: 9px 18px;
  margin: 0 0 18px;
  font-size: inherit;
  border-left: 5px solid #eeeeee;
}
blockquote p:last-child,
blockquote ul:last-child,
blockquote ol:last-child {
  margin-bottom: 0;
}
blockquote footer,
blockquote small,
blockquote .small {
  display: block;
  font-size: 80%;
  line-height: 1.42857143;
  color: #777777;
}
blockquote footer:before,
blockquote small:before,
blockquote .small:before {
  content: '\2014 \00A0';
}
.blockquote-reverse,
blockquote.pull-right {
  padding-right: 15px;
  padding-left: 0;
  border-right: 5px solid #eeeeee;
  border-left: 0;
  text-align: right;
}
.blockquote-reverse footer:before,
blockquote.pull-right footer:before,
.blockquote-reverse small:before,
blockquote.pull-right small:before,
.blockquote-reverse .small:before,
blockquote.pull-right .small:before {
  content: '';
}
.blockquote-reverse footer:after,
blockquote.pull-right footer:after,
.blockquote-reverse small:after,
blockquote.pull-right small:after,
.blockquote-reverse .small:after,
blockquote.pull-right .small:after {
  content: '\00A0 \2014';
}
address {
  margin-bottom: 18px;
  font-style: normal;
  line-height: 1.42857143;
}
code,
kbd,
pre,
samp {
  font-family: monospace;
}
code {
  padding: 2px 4px;
  font-size: 90%;
  color: #c7254e;
  background-color: #f9f2f4;
  border-radius: 2px;
}
kbd {
  padding: 2px 4px;
  font-size: 90%;
  color: #888;
  background-color: transparent;
  border-radius: 1px;
  box-shadow: inset 0 -1px 0 rgba(0, 0, 0, 0.25);
}
kbd kbd {
  padding: 0;
  font-size: 100%;
  font-weight: bold;
  box-shadow: none;
}
pre {
  display: block;
  padding: 8.5px;
  margin: 0 0 9px;
  font-size: 12px;
  line-height: 1.42857143;
  word-break: break-all;
  word-wrap: break-word;
  color: #333333;
  background-color: #f5f5f5;
  border: 1px solid #ccc;
  border-radius: 2px;
}
pre code {
  padding: 0;
  font-size: inherit;
  color: inherit;
  white-space: pre-wrap;
  background-color: transparent;
  border-radius: 0;
}
.pre-scrollable {
  max-height: 340px;
  overflow-y: scroll;
}
.container {
  margin-right: auto;
  margin-left: auto;
  padding-left: 0px;
  padding-right: 0px;
}
@media (min-width: 768px) {
  .container {
    width: 768px;
  }
}
@media (min-width: 992px) {
  .container {
    width: 940px;
  }
}
@media (min-width: 1200px) {
  .container {
    width: 1140px;
  }
}
.container-fluid {
  margin-right: auto;
  margin-left: auto;
  padding-left: 0px;
  padding-right: 0px;
}
.row {
  margin-left: 0px;
  margin-right: 0px;
}
.col-xs-1, .col-sm-1, .col-md-1, .col-lg-1, .col-xs-2, .col-sm-2, .col-md-2, .col-lg-2, .col-xs-3, .col-sm-3, .col-md-3, .col-lg-3, .col-xs-4, .col-sm-4, .col-md-4, .col-lg-4, .col-xs-5, .col-sm-5, .col-md-5, .col-lg-5, .col-xs-6, .col-sm-6, .col-md-6, .col-lg-6, .col-xs-7, .col-sm-7, .col-md-7, .col-lg-7, .col-xs-8, .col-sm-8, .col-md-8, .col-lg-8, .col-xs-9, .col-sm-9, .col-md-9, .col-lg-9, .col-xs-10, .col-sm-10, .col-md-10, .col-lg-10, .col-xs-11, .col-sm-11, .col-md-11, .col-lg-11, .col-xs-12, .col-sm-12, .col-md-12, .col-lg-12 {
  position: relative;
  min-height: 1px;
  padding-left: 0px;
  padding-right: 0px;
}
.col-xs-1, .col-xs-2, .col-xs-3, .col-xs-4, .col-xs-5, .col-xs-6, .col-xs-7, .col-xs-8, .col-xs-9, .col-xs-10, .col-xs-11, .col-xs-12 {
  float: left;
}
.col-xs-12 {
  width: 100%;
}
.col-xs-11 {
  width: 91.66666667%;
}
.col-xs-10 {
  width: 83.33333333%;
}
.col-xs-9 {
  width: 75%;
}
.col-xs-8 {
  width: 66.66666667%;
}
.col-xs-7 {
  width: 58.33333333%;
}
.col-xs-6 {
  width: 50%;
}
.col-xs-5 {
  width: 41.66666667%;
}
.col-xs-4 {
  width: 33.33333333%;
}
.col-xs-3 {
  width: 25%;
}
.col-xs-2 {
  width: 16.66666667%;
}
.col-xs-1 {
  width: 8.33333333%;
}
.col-xs-pull-12 {
  right: 100%;
}
.col-xs-pull-11 {
  right: 91.66666667%;
}
.col-xs-pull-10 {
  right: 83.33333333%;
}
.col-xs-pull-9 {
  right: 75%;
}
.col-xs-pull-8 {
  right: 66.66666667%;
}
.col-xs-pull-7 {
  right: 58.33333333%;
}
.col-xs-pull-6 {
  right: 50%;
}
.col-xs-pull-5 {
  right: 41.66666667%;
}
.col-xs-pull-4 {
  right: 33.33333333%;
}
.col-xs-pull-3 {
  right: 25%;
}
.col-xs-pull-2 {
  right: 16.66666667%;
}
.col-xs-pull-1 {
  right: 8.33333333%;
}
.col-xs-pull-0 {
  right: auto;
}
.col-xs-push-12 {
  left: 100%;
}
.col-xs-push-11 {
  left: 91.66666667%;
}
.col-xs-push-10 {
  left: 83.33333333%;
}
.col-xs-push-9 {
  left: 75%;
}
.col-xs-push-8 {
  left: 66.66666667%;
}
.col-xs-push-7 {
  left: 58.33333333%;
}
.col-xs-push-6 {
  left: 50%;
}
.col-xs-push-5 {
  left: 41.66666667%;
}
.col-xs-push-4 {
  left: 33.33333333%;
}
.col-xs-push-3 {
  left: 25%;
}
.col-xs-push-2 {
  left: 16.66666667%;
}
.col-xs-push-1 {
  left: 8.33333333%;
}
.col-xs-push-0 {
  left: auto;
}
.col-xs-offset-12 {
  margin-left: 100%;
}
.col-xs-offset-11 {
  margin-left: 91.66666667%;
}
.col-xs-offset-10 {
  margin-left: 83.33333333%;
}
.col-xs-offset-9 {
  margin-left: 75%;
}
.col-xs-offset-8 {
  margin-left: 66.66666667%;
}
.col-xs-offset-7 {
  margin-left: 58.33333333%;
}
.col-xs-offset-6 {
  margin-left: 50%;
}
.col-xs-offset-5 {
  margin-left: 41.66666667%;
}
.col-xs-offset-4 {
  margin-left: 33.33333333%;
}
.col-xs-offset-3 {
  margin-left: 25%;
}
.col-xs-offset-2 {
  margin-left: 16.66666667%;
}
.col-xs-offset-1 {
  margin-left: 8.33333333%;
}
.col-xs-offset-0 {
  margin-left: 0%;
}
@media (min-width: 768px) {
  .col-sm-1, .col-sm-2, .col-sm-3, .col-sm-4, .col-sm-5, .col-sm-6, .col-sm-7, .col-sm-8, .col-sm-9, .col-sm-10, .col-sm-11, .col-sm-12 {
    float: left;
  }
  .col-sm-12 {
    width: 100%;
  }
  .col-sm-11 {
    width: 91.66666667%;
  }
  .col-sm-10 {
    width: 83.33333333%;
  }
  .col-sm-9 {
    width: 75%;
  }
  .col-sm-8 {
    width: 66.66666667%;
  }
  .col-sm-7 {
    width: 58.33333333%;
  }
  .col-sm-6 {
    width: 50%;
  }
  .col-sm-5 {
    width: 41.66666667%;
  }
  .col-sm-4 {
    width: 33.33333333%;
  }
  .col-sm-3 {
    width: 25%;
  }
  .col-sm-2 {
    width: 16.66666667%;
  }
  .col-sm-1 {
    width: 8.33333333%;
  }
  .col-sm-pull-12 {
    right: 100%;
  }
  .col-sm-pull-11 {
    right: 91.66666667%;
  }
  .col-sm-pull-10 {
    right: 83.33333333%;
  }
  .col-sm-pull-9 {
    right: 75%;
  }
  .col-sm-pull-8 {
    right: 66.66666667%;
  }
  .col-sm-pull-7 {
    right: 58.33333333%;
  }
  .col-sm-pull-6 {
    right: 50%;
  }
  .col-sm-pull-5 {
    right: 41.66666667%;
  }
  .col-sm-pull-4 {
    right: 33.33333333%;
  }
  .col-sm-pull-3 {
    right: 25%;
  }
  .col-sm-pull-2 {
    right: 16.66666667%;
  }
  .col-sm-pull-1 {
    right: 8.33333333%;
  }
  .col-sm-pull-0 {
    right: auto;
  }
  .col-sm-push-12 {
    left: 100%;
  }
  .col-sm-push-11 {
    left: 91.66666667%;
  }
  .col-sm-push-10 {
    left: 83.33333333%;
  }
  .col-sm-push-9 {
    left: 75%;
  }
  .col-sm-push-8 {
    left: 66.66666667%;
  }
  .col-sm-push-7 {
    left: 58.33333333%;
  }
  .col-sm-push-6 {
    left: 50%;
  }
  .col-sm-push-5 {
    left: 41.66666667%;
  }
  .col-sm-push-4 {
    left: 33.33333333%;
  }
  .col-sm-push-3 {
    left: 25%;
  }
  .col-sm-push-2 {
    left: 16.66666667%;
  }
  .col-sm-push-1 {
    left: 8.33333333%;
  }
  .col-sm-push-0 {
    left: auto;
  }
  .col-sm-offset-12 {
    margin-left: 100%;
  }
  .col-sm-offset-11 {
    margin-left: 91.66666667%;
  }
  .col-sm-offset-10 {
    margin-left: 83.33333333%;
  }
  .col-sm-offset-9 {
    margin-left: 75%;
  }
  .col-sm-offset-8 {
    margin-left: 66.66666667%;
  }
  .col-sm-offset-7 {
    margin-left: 58.33333333%;
  }
  .col-sm-offset-6 {
    margin-left: 50%;
  }
  .col-sm-offset-5 {
    margin-left: 41.66666667%;
  }
  .col-sm-offset-4 {
    margin-left: 33.33333333%;
  }
  .col-sm-offset-3 {
    margin-left: 25%;
  }
  .col-sm-offset-2 {
    margin-left: 16.66666667%;
  }
  .col-sm-offset-1 {
    margin-left: 8.33333333%;
  }
  .col-sm-offset-0 {
    margin-left: 0%;
  }
}
@media (min-width: 992px) {
  .col-md-1, .col-md-2, .col-md-3, .col-md-4, .col-md-5, .col-md-6, .col-md-7, .col-md-8, .col-md-9, .col-md-10, .col-md-11, .col-md-12 {
    float: left;
  }
  .col-md-12 {
    width: 100%;
  }
  .col-md-11 {
    width: 91.66666667%;
  }
  .col-md-10 {
    width: 83.33333333%;
  }
  .col-md-9 {
    width: 75%;
  }
  .col-md-8 {
    width: 66.66666667%;
  }
  .col-md-7 {
    width: 58.33333333%;
  }
  .col-md-6 {
    width: 50%;
  }
  .col-md-5 {
    width: 41.66666667%;
  }
  .col-md-4 {
    width: 33.33333333%;
  }
  .col-md-3 {
    width: 25%;
  }
  .col-md-2 {
    width: 16.66666667%;
  }
  .col-md-1 {
    width: 8.33333333%;
  }
  .col-md-pull-12 {
    right: 100%;
  }
  .col-md-pull-11 {
    right: 91.66666667%;
  }
  .col-md-pull-10 {
    right: 83.33333333%;
  }
  .col-md-pull-9 {
    right: 75%;
  }
  .col-md-pull-8 {
    right: 66.66666667%;
  }
  .col-md-pull-7 {
    right: 58.33333333%;
  }
  .col-md-pull-6 {
    right: 50%;
  }
  .col-md-pull-5 {
    right: 41.66666667%;
  }
  .col-md-pull-4 {
    right: 33.33333333%;
  }
  .col-md-pull-3 {
    right: 25%;
  }
  .col-md-pull-2 {
    right: 16.66666667%;
  }
  .col-md-pull-1 {
    right: 8.33333333%;
  }
  .col-md-pull-0 {
    right: auto;
  }
  .col-md-push-12 {
    left: 100%;
  }
  .col-md-push-11 {
    left: 91.66666667%;
  }
  .col-md-push-10 {
    left: 83.33333333%;
  }
  .col-md-push-9 {
    left: 75%;
  }
  .col-md-push-8 {
    left: 66.66666667%;
  }
  .col-md-push-7 {
    left: 58.33333333%;
  }
  .col-md-push-6 {
    left: 50%;
  }
  .col-md-push-5 {
    left: 41.66666667%;
  }
  .col-md-push-4 {
    left: 33.33333333%;
  }
  .col-md-push-3 {
    left: 25%;
  }
  .col-md-push-2 {
    left: 16.66666667%;
  }
  .col-md-push-1 {
    left: 8.33333333%;
  }
  .col-md-push-0 {
    left: auto;
  }
  .col-md-offset-12 {
    margin-left: 100%;
  }
  .col-md-offset-11 {
    margin-left: 91.66666667%;
  }
  .col-md-offset-10 {
    margin-left: 83.33333333%;
  }
  .col-md-offset-9 {
    margin-left: 75%;
  }
  .col-md-offset-8 {
    margin-left: 66.66666667%;
  }
  .col-md-offset-7 {
    margin-left: 58.33333333%;
  }
  .col-md-offset-6 {
    margin-left: 50%;
  }
  .col-md-offset-5 {
    margin-left: 41.66666667%;
  }
  .col-md-offset-4 {
    margin-left: 33.33333333%;
  }
  .col-md-offset-3 {
    margin-left: 25%;
  }
  .col-md-offset-2 {
    margin-left: 16.66666667%;
  }
  .col-md-offset-1 {
    margin-left: 8.33333333%;
  }
  .col-md-offset-0 {
    margin-left: 0%;
  }
}
@media (min-width: 1200px) {
  .col-lg-1, .col-lg-2, .col-lg-3, .col-lg-4, .col-lg-5, .col-lg-6, .col-lg-7, .col-lg-8, .col-lg-9, .col-lg-10, .col-lg-11, .col-lg-12 {
    float: left;
  }
  .col-lg-12 {
    width: 100%;
  }
  .col-lg-11 {
    width: 91.66666667%;
  }
  .col-lg-10 {
    width: 83.33333333%;
  }
  .col-lg-9 {
    width: 75%;
  }
  .col-lg-8 {
    width: 66.66666667%;
  }
  .col-lg-7 {
    width: 58.33333333%;
  }
  .col-lg-6 {
    width: 50%;
  }
  .col-lg-5 {
    width: 41.66666667%;
  }
  .col-lg-4 {
    width: 33.33333333%;
  }
  .col-lg-3 {
    width: 25%;
  }
  .col-lg-2 {
    width: 16.66666667%;
  }
  .col-lg-1 {
    width: 8.33333333%;
  }
  .col-lg-pull-12 {
    right: 100%;
  }
  .col-lg-pull-11 {
    right: 91.66666667%;
  }
  .col-lg-pull-10 {
    right: 83.33333333%;
  }
  .col-lg-pull-9 {
    right: 75%;
  }
  .col-lg-pull-8 {
    right: 66.66666667%;
  }
  .col-lg-pull-7 {
    right: 58.33333333%;
  }
  .col-lg-pull-6 {
    right: 50%;
  }
  .col-lg-pull-5 {
    right: 41.66666667%;
  }
  .col-lg-pull-4 {
    right: 33.33333333%;
  }
  .col-lg-pull-3 {
    right: 25%;
  }
  .col-lg-pull-2 {
    right: 16.66666667%;
  }
  .col-lg-pull-1 {
    right: 8.33333333%;
  }
  .col-lg-pull-0 {
    right: auto;
  }
  .col-lg-push-12 {
    left: 100%;
  }
  .col-lg-push-11 {
    left: 91.66666667%;
  }
  .col-lg-push-10 {
    left: 83.33333333%;
  }
  .col-lg-push-9 {
    left: 75%;
  }
  .col-lg-push-8 {
    left: 66.66666667%;
  }
  .col-lg-push-7 {
    left: 58.33333333%;
  }
  .col-lg-push-6 {
    left: 50%;
  }
  .col-lg-push-5 {
    left: 41.66666667%;
  }
  .col-lg-push-4 {
    left: 33.33333333%;
  }
  .col-lg-push-3 {
    left: 25%;
  }
  .col-lg-push-2 {
    left: 16.66666667%;
  }
  .col-lg-push-1 {
    left: 8.33333333%;
  }
  .col-lg-push-0 {
    left: auto;
  }
  .col-lg-offset-12 {
    margin-left: 100%;
  }
  .col-lg-offset-11 {
    margin-left: 91.66666667%;
  }
  .col-lg-offset-10 {
    margin-left: 83.33333333%;
  }
  .col-lg-offset-9 {
    margin-left: 75%;
  }
  .col-lg-offset-8 {
    margin-left: 66.66666667%;
  }
  .col-lg-offset-7 {
    margin-left: 58.33333333%;
  }
  .col-lg-offset-6 {
    margin-left: 50%;
  }
  .col-lg-offset-5 {
    margin-left: 41.66666667%;
  }
  .col-lg-offset-4 {
    margin-left: 33.33333333%;
  }
  .col-lg-offset-3 {
    margin-left: 25%;
  }
  .col-lg-offset-2 {
    margin-left: 16.66666667%;
  }
  .col-lg-offset-1 {
    margin-left: 8.33333333%;
  }
  .col-lg-offset-0 {
    margin-left: 0%;
  }
}
table {
  background-color: transparent;
}
caption {
  padding-top: 8px;
  padding-bottom: 8px;
  color: #777777;
  text-align: left;
}
th {
  text-align: left;
}
.table {
  width: 100%;
  max-width: 100%;
  margin-bottom: 18px;
}
.table > thead > tr > th,
.table > tbody > tr > th,
.table > tfoot > tr > th,
.table > thead > tr > td,
.table > tbody > tr > td,
.table > tfoot > tr > td {
  padding: 8px;
  line-height: 1.42857143;
  vertical-align: top;
  border-top: 1px solid #ddd;
}
.table > thead > tr > th {
  vertical-align: bottom;
  border-bottom: 2px solid #ddd;
}
.table > caption + thead > tr:first-child > th,
.table > colgroup + thead > tr:first-child > th,
.table > thead:first-child > tr:first-child > th,
.table > caption + thead > tr:first-child > td,
.table > colgroup + thead > tr:first-child > td,
.table > thead:first-child > tr:first-child > td {
  border-top: 0;
}
.table > tbody + tbody {
  border-top: 2px solid #ddd;
}
.table .table {
  background-color: #fff;
}
.table-condensed > thead > tr > th,
.table-condensed > tbody > tr > th,
.table-condensed > tfoot > tr > th,
.table-condensed > thead > tr > td,
.table-condensed > tbody > tr > td,
.table-condensed > tfoot > tr > td {
  padding: 5px;
}
.table-bordered {
  border: 1px solid #ddd;
}
.table-bordered > thead > tr > th,
.table-bordered > tbody > tr > th,
.table-bordered > tfoot > tr > th,
.table-bordered > thead > tr > td,
.table-bordered > tbody > tr > td,
.table-bordered > tfoot > tr > td {
  border: 1px solid #ddd;
}
.table-bordered > thead > tr > th,
.table-bordered > thead > tr > td {
  border-bottom-width: 2px;
}
.table-striped > tbody > tr:nth-of-type(odd) {
  background-color: #f9f9f9;
}
.table-hover > tbody > tr:hover {
  background-color: #f5f5f5;
}
table col[class*="col-"] {
  position: static;
  float: none;
  display: table-column;
}
table td[class*="col-"],
table th[class*="col-"] {
  position: static;
  float: none;
  display: table-cell;
}
.table > thead > tr > td.active,
.table > tbody > tr > td.active,
.table > tfoot > tr > td.active,
.table > thead > tr > th.active,
.table > tbody > tr > th.active,
.table > tfoot > tr > th.active,
.table > thead > tr.active > td,
.table > tbody > tr.active > td,
.table > tfoot > tr.active > td,
.table > thead > tr.active > th,
.table > tbody > tr.active > th,
.table > tfoot > tr.active > th {
  background-color: #f5f5f5;
}
.table-hover > tbody > tr > td.active:hover,
.table-hover > tbody > tr > th.active:hover,
.table-hover > tbody > tr.active:hover > td,
.table-hover > tbody > tr:hover > .active,
.table-hover > tbody > tr.active:hover > th {
  background-color: #e8e8e8;
}
.table > thead > tr > td.success,
.table > tbody > tr > td.success,
.table > tfoot > tr > td.success,
.table > thead > tr > th.success,
.table > tbody > tr > th.success,
.table > tfoot > tr > th.success,
.table > thead > tr.success > td,
.table > tbody > tr.success > td,
.table > tfoot > tr.success > td,
.table > thead > tr.success > th,
.table > tbody > tr.success > th,
.table > tfoot > tr.success > th {
  background-color: #dff0d8;
}
.table-hover > tbody > tr > td.success:hover,
.table-hover > tbody > tr > th.success:hover,
.table-hover > tbody > tr.success:hover > td,
.table-hover > tbody > tr:hover > .success,
.table-hover > tbody > tr.success:hover > th {
  background-color: #d0e9c6;
}
.table > thead > tr > td.info,
.table > tbody > tr > td.info,
.table > tfoot > tr > td.info,
.table > thead > tr > th.info,
.table > tbody > tr > th.info,
.table > tfoot > tr > th.info,
.table > thead > tr.info > td,
.table > tbody > tr.info > td,
.table > tfoot > tr.info > td,
.table > thead > tr.info > th,
.table > tbody > tr.info > th,
.table > tfoot > tr.info > th {
  background-color: #d9edf7;
}
.table-hover > tbody > tr > td.info:hover,
.table-hover > tbody > tr > th.info:hover,
.table-hover > tbody > tr.info:hover > td,
.table-hover > tbody > tr:hover > .info,
.table-hover > tbody > tr.info:hover > th {
  background-color: #c4e3f3;
}
.table > thead > tr > td.warning,
.table > tbody > tr > td.warning,
.table > tfoot > tr > td.warning,
.table > thead > tr > th.warning,
.table > tbody > tr > th.warning,
.table > tfoot > tr > th.warning,
.table > thead > tr.warning > td,
.table > tbody > tr.warning > td,
.table > tfoot > tr.warning > td,
.table > thead > tr.warning > th,
.table > tbody > tr.warning > th,
.table > tfoot > tr.warning > th {
  background-color: #fcf8e3;
}
.table-hover > tbody > tr > td.warning:hover,
.table-hover > tbody > tr > th.warning:hover,
.table-hover > tbody > tr.warning:hover > td,
.table-hover > tbody > tr:hover > .warning,
.table-hover > tbody > tr.warning:hover > th {
  background-color: #faf2cc;
}
.table > thead > tr > td.danger,
.table > tbody > tr > td.danger,
.table > tfoot > tr > td.danger,
.table > thead > tr > th.danger,
.table > tbody > tr > th.danger,
.table > tfoot > tr > th.danger,
.table > thead > tr.danger > td,
.table > tbody > tr.danger > td,
.table > tfoot > tr.danger > td,
.table > thead > tr.danger > th,
.table > tbody > tr.danger > th,
.table > tfoot > tr.danger > th {
  background-color: #f2dede;
}
.table-hover > tbody > tr > td.danger:hover,
.table-hover > tbody > tr > th.danger:hover,
.table-hover > tbody > tr.danger:hover > td,
.table-hover > tbody > tr:hover > .danger,
.table-hover > tbody > tr.danger:hover > th {
  background-color: #ebcccc;
}
.table-responsive {
  overflow-x: auto;
  min-height: 0.01%;
}
@media screen and (max-width: 767px) {
  .table-responsive {
    width: 100%;
    margin-bottom: 13.5px;
    overflow-y: hidden;
    -ms-overflow-style: -ms-autohiding-scrollbar;
    border: 1px solid #ddd;
  }
  .table-responsive > .table {
    margin-bottom: 0;
  }
  .table-responsive > .table > thead > tr > th,
  .table-responsive > .table > tbody > tr > th,
  .table-responsive > .table > tfoot > tr > th,
  .table-responsive > .table > thead > tr > td,
  .table-responsive > .table > tbody > tr > td,
  .table-responsive > .table > tfoot > tr > td {
    white-space: nowrap;
  }
  .table-responsive > .table-bordered {
    border: 0;
  }
  .table-responsive > .table-bordered > thead > tr > th:first-child,
  .table-responsive > .table-bordered > tbody > tr > th:first-child,
  .table-responsive > .table-bordered > tfoot > tr > th:first-child,
  .table-responsive > .table-bordered > thead > tr > td:first-child,
  .table-responsive > .table-bordered > tbody > tr > td:first-child,
  .table-responsive > .table-bordered > tfoot > tr > td:first-child {
    border-left: 0;
  }
  .table-responsive > .table-bordered > thead > tr > th:last-child,
  .table-responsive > .table-bordered > tbody > tr > th:last-child,
  .table-responsive > .table-bordered > tfoot > tr > th:last-child,
  .table-responsive > .table-bordered > thead > tr > td:last-child,
  .table-responsive > .table-bordered > tbody > tr > td:last-child,
  .table-responsive > .table-bordered > tfoot > tr > td:last-child {
    border-right: 0;
  }
  .table-responsive > .table-bordered > tbody > tr:last-child > th,
  .table-responsive > .table-bordered > tfoot > tr:last-child > th,
  .table-responsive > .table-bordered > tbody > tr:last-child > td,
  .table-responsive > .table-bordered > tfoot > tr:last-child > td {
    border-bottom: 0;
  }
}
fieldset {
  padding: 0;
  margin: 0;
  border: 0;
  min-width: 0;
}
legend {
  display: block;
  width: 100%;
  padding: 0;
  margin-bottom: 18px;
  font-size: 19.5px;
  line-height: inherit;
  color: #333333;
  border: 0;
  border-bottom: 1px solid #e5e5e5;
}
label {
  display: inline-block;
  max-width: 100%;
  margin-bottom: 5px;
  font-weight: bold;
}
input[type="search"] {
  -webkit-box-sizing: border-box;
  -moz-box-sizing: border-box;
  box-sizing: border-box;
}
input[type="radio"],
input[type="checkbox"] {
  margin: 4px 0 0;
  margin-top: 1px \9;
  line-height: normal;
}
input[type="file"] {
  display: block;
}
input[type="range"] {
  display: block;
  width: 100%;
}
select[multiple],
select[size] {
  height: auto;
}
input[type="file"]:focus,
input[type="radio"]:focus,
input[type="checkbox"]:focus {
  outline: 5px auto -webkit-focus-ring-color;
  outline-offset: -2px;
}
output {
  display: block;
  padding-top: 7px;
  font-size: 13px;
  line-height: 1.42857143;
  color: #555555;
}
.form-control {
  display: block;
  width: 100%;
  height: 32px;
  padding: 6px 12px;
  font-size: 13px;
  line-height: 1.42857143;
  color: #555555;
  background-color: #fff;
  background-image: none;
  border: 1px solid #ccc;
  border-radius: 2px;
  -webkit-box-shadow: inset 0 1px 1px rgba(0, 0, 0, 0.075);
  box-shadow: inset 0 1px 1px rgba(0, 0, 0, 0.075);
  -webkit-transition: border-color ease-in-out .15s, box-shadow ease-in-out .15s;
  -o-transition: border-color ease-in-out .15s, box-shadow ease-in-out .15s;
  transition: border-color ease-in-out .15s, box-shadow ease-in-out .15s;
}
.form-control:focus {
  border-color: #66afe9;
  outline: 0;
  -webkit-box-shadow: inset 0 1px 1px rgba(0,0,0,.075), 0 0 8px rgba(102, 175, 233, 0.6);
  box-shadow: inset 0 1px 1px rgba(0,0,0,.075), 0 0 8px rgba(102, 175, 233, 0.6);
}
.form-control::-moz-placeholder {
  color: #999;
  opacity: 1;
}
.form-control:-ms-input-placeholder {
  color: #999;
}
.form-control::-webkit-input-placeholder {
  color: #999;
}
.form-control::-ms-expand {
  border: 0;
  background-color: transparent;
}
.form-control[disabled],
.form-control[readonly],
fieldset[disabled] .form-control {
  background-color: #eeeeee;
  opacity: 1;
}
.form-control[disabled],
fieldset[disabled] .form-control {
  cursor: not-allowed;
}
textarea.form-control {
  height: auto;
}
input[type="search"] {
  -webkit-appearance: none;
}
@media screen and (-webkit-min-device-pixel-ratio: 0) {
  input[type="date"].form-control,
  input[type="time"].form-control,
  input[type="datetime-local"].form-control,
  input[type="month"].form-control {
    line-height: 32px;
  }
  input[type="date"].input-sm,
  input[type="time"].input-sm,
  input[type="datetime-local"].input-sm,
  input[type="month"].input-sm,
  .input-group-sm input[type="date"],
  .input-group-sm input[type="time"],
  .input-group-sm input[type="datetime-local"],
  .input-group-sm input[type="month"] {
    line-height: 30px;
  }
  input[type="date"].input-lg,
  input[type="time"].input-lg,
  input[type="datetime-local"].input-lg,
  input[type="month"].input-lg,
  .input-group-lg input[type="date"],
  .input-group-lg input[type="time"],
  .input-group-lg input[type="datetime-local"],
  .input-group-lg input[type="month"] {
    line-height: 45px;
  }
}
.form-group {
  margin-bottom: 15px;
}
.radio,
.checkbox {
  position: relative;
  display: block;
  margin-top: 10px;
  margin-bottom: 10px;
}
.radio label,
.checkbox label {
  min-height: 18px;
  padding-left: 20px;
  margin-bottom: 0;
  font-weight: normal;
  cursor: pointer;
}
.radio input[type="radio"],
.radio-inline input[type="radio"],
.checkbox input[type="checkbox"],
.checkbox-inline input[type="checkbox"] {
  position: absolute;
  margin-left: -20px;
  margin-top: 4px \9;
}
.radio + .radio,
.checkbox + .checkbox {
  margin-top: -5px;
}
.radio-inline,
.checkbox-inline {
  position: relative;
  display: inline-block;
  padding-left: 20px;
  margin-bottom: 0;
  vertical-align: middle;
  font-weight: normal;
  cursor: pointer;
}
.radio-inline + .radio-inline,
.checkbox-inline + .checkbox-inline {
  margin-top: 0;
  margin-left: 10px;
}
input[type="radio"][disabled],
input[type="checkbox"][disabled],
input[type="radio"].disabled,
input[type="checkbox"].disabled,
fieldset[disabled] input[type="radio"],
fieldset[disabled] input[type="checkbox"] {
  cursor: not-allowed;
}
.radio-inline.disabled,
.checkbox-inline.disabled,
fieldset[disabled] .radio-inline,
fieldset[disabled] .checkbox-inline {
  cursor: not-allowed;
}
.radio.disabled label,
.checkbox.disabled label,
fieldset[disabled] .radio label,
fieldset[disabled] .checkbox label {
  cursor: not-allowed;
}
.form-control-static {
  padding-top: 7px;
  padding-bottom: 7px;
  margin-bottom: 0;
  min-height: 31px;
}
.form-control-static.input-lg,
.form-control-static.input-sm {
  padding-left: 0;
  padding-right: 0;
}
.input-sm {
  height: 30px;
  padding: 5px 10px;
  font-size: 12px;
  line-height: 1.5;
  border-radius: 1px;
}
select.input-sm {
  height: 30px;
  line-height: 30px;
}
textarea.input-sm,
select[multiple].input-sm {
  height: auto;
}
.form-group-sm .form-control {
  height: 30px;
  padding: 5px 10px;
  font-size: 12px;
  line-height: 1.5;
  border-radius: 1px;
}
.form-group-sm select.form-control {
  height: 30px;
  line-height: 30px;
}
.form-group-sm textarea.form-control,
.form-group-sm select[multiple].form-control {
  height: auto;
}
.form-group-sm .form-control-static {
  height: 30px;
  min-height: 30px;
  padding: 6px 10px;
  font-size: 12px;
  line-height: 1.5;
}
.input-lg {
  height: 45px;
  padding: 10px 16px;
  font-size: 17px;
  line-height: 1.3333333;
  border-radius: 3px;
}
select.input-lg {
  height: 45px;
  line-height: 45px;
}
textarea.input-lg,
select[multiple].input-lg {
  height: auto;
}
.form-group-lg .form-control {
  height: 45px;
  padding: 10px 16px;
  font-size: 17px;
  line-height: 1.3333333;
  border-radius: 3px;
}
.form-group-lg select.form-control {
  height: 45px;
  line-height: 45px;
}
.form-group-lg textarea.form-control,
.form-group-lg select[multiple].form-control {
  height: auto;
}
.form-group-lg .form-control-static {
  height: 45px;
  min-height: 35px;
  padding: 11px 16px;
  font-size: 17px;
  line-height: 1.3333333;
}
.has-feedback {
  position: relative;
}
.has-feedback .form-control {
  padding-right: 40px;
}
.form-control-feedback {
  position: absolute;
  top: 0;
  right: 0;
  z-index: 2;
  display: block;
  width: 32px;
  height: 32px;
  line-height: 32px;
  text-align: center;
  pointer-events: none;
}
.input-lg + .form-control-feedback,
.input-group-lg + .form-control-feedback,
.form-group-lg .form-control + .form-control-feedback {
  width: 45px;
  height: 45px;
  line-height: 45px;
}
.input-sm + .form-control-feedback,
.input-group-sm + .form-control-feedback,
.form-group-sm .form-control + .form-control-feedback {
  width: 30px;
  height: 30px;
  line-height: 30px;
}
.has-success .help-block,
.has-success .control-label,
.has-success .radio,
.has-success .checkbox,
.has-success .radio-inline,
.has-success .checkbox-inline,
.has-success.radio label,
.has-success.checkbox label,
.has-success.radio-inline label,
.has-success.checkbox-inline label {
  color: #3c763d;
}
.has-success .form-control {
  border-color: #3c763d;
  -webkit-box-shadow: inset 0 1px 1px rgba(0, 0, 0, 0.075);
  box-shadow: inset 0 1px 1px rgba(0, 0, 0, 0.075);
}
.has-success .form-control:focus {
  border-color: #2b542c;
  -webkit-box-shadow: inset 0 1px 1px rgba(0, 0, 0, 0.075), 0 0 6px #67b168;
  box-shadow: inset 0 1px 1px rgba(0, 0, 0, 0.075), 0 0 6px #67b168;
}
.has-success .input-group-addon {
  color: #3c763d;
  border-color: #3c763d;
  background-color: #dff0d8;
}
.has-success .form-control-feedback {
  color: #3c763d;
}
.has-warning .help-block,
.has-warning .control-label,
.has-warning .radio,
.has-warning .checkbox,
.has-warning .radio-inline,
.has-warning .checkbox-inline,
.has-warning.radio label,
.has-warning.checkbox label,
.has-warning.radio-inline label,
.has-warning.checkbox-inline label {
  color: #8a6d3b;
}
.has-warning .form-control {
  border-color: #8a6d3b;
  -webkit-box-shadow: inset 0 1px 1px rgba(0, 0, 0, 0.075);
  box-shadow: inset 0 1px 1px rgba(0, 0, 0, 0.075);
}
.has-warning .form-control:focus {
  border-color: #66512c;
  -webkit-box-shadow: inset 0 1px 1px rgba(0, 0, 0, 0.075), 0 0 6px #c0a16b;
  box-shadow: inset 0 1px 1px rgba(0, 0, 0, 0.075), 0 0 6px #c0a16b;
}
.has-warning .input-group-addon {
  color: #8a6d3b;
  border-color: #8a6d3b;
  background-color: #fcf8e3;
}
.has-warning .form-control-feedback {
  color: #8a6d3b;
}
.has-error .help-block,
.has-error .control-label,
.has-error .radio,
.has-error .checkbox,
.has-error .radio-inline,
.has-error .checkbox-inline,
.has-error.radio label,
.has-error.checkbox label,
.has-error.radio-inline label,
.has-error.checkbox-inline label {
  color: #a94442;
}
.has-error .form-control {
  border-color: #a94442;
  -webkit-box-shadow: inset 0 1px 1px rgba(0, 0, 0, 0.075);
  box-shadow: inset 0 1px 1px rgba(0, 0, 0, 0.075);
}
.has-error .form-control:focus {
  border-color: #843534;
  -webkit-box-shadow: inset 0 1px 1px rgba(0, 0, 0, 0.075), 0 0 6px #ce8483;
  box-shadow: inset 0 1px 1px rgba(0, 0, 0, 0.075), 0 0 6px #ce8483;
}
.has-error .input-group-addon {
  color: #a94442;
  border-color: #a94442;
  background-color: #f2dede;
}
.has-error .form-control-feedback {
  color: #a94442;
}
.has-feedback label ~ .form-control-feedback {
  top: 23px;
}
.has-feedback label.sr-only ~ .form-control-feedback {
  top: 0;
}
.help-block {
  display: block;
  margin-top: 5px;
  margin-bottom: 10px;
  color: #404040;
}
@media (min-width: 768px) {
  .form-inline .form-group {
    display: inline-block;
    margin-bottom: 0;
    vertical-align: middle;
  }
  .form-inline .form-control {
    display: inline-block;
    width: auto;
    vertical-align: middle;
  }
  .form-inline .form-control-static {
    display: inline-block;
  }
  .form-inline .input-group {
    display: inline-table;
    vertical-align: middle;
  }
  .form-inline .input-group .input-group-addon,
  .form-inline .input-group .input-group-btn,
  .form-inline .input-group .form-control {
    width: auto;
  }
  .form-inline .input-group > .form-control {
    width: 100%;
  }
  .form-inline .control-label {
    margin-bottom: 0;
    vertical-align: middle;
  }
  .form-inline .radio,
  .form-inline .checkbox {
    display: inline-block;
    margin-top: 0;
    margin-bottom: 0;
    vertical-align: middle;
  }
  .form-inline .radio label,
  .form-inline .checkbox label {
    padding-left: 0;
  }
  .form-inline .radio input[type="radio"],
  .form-inline .checkbox input[type="checkbox"] {
    position: relative;
    margin-left: 0;
  }
  .form-inline .has-feedback .form-control-feedback {
    top: 0;
  }
}
.form-horizontal .radio,
.form-horizontal .checkbox,
.form-horizontal .radio-inline,
.form-horizontal .checkbox-inline {
  margin-top: 0;
  margin-bottom: 0;
  padding-top: 7px;
}
.form-horizontal .radio,
.form-horizontal .checkbox {
  min-height: 25px;
}
.form-horizontal .form-group {
  margin-left: 0px;
  margin-right: 0px;
}
@media (min-width: 768px) {
  .form-horizontal .control-label {
    text-align: right;
    margin-bottom: 0;
    padding-top: 7px;
  }
}
.form-horizontal .has-feedback .form-control-feedback {
  right: 0px;
}
@media (min-width: 768px) {
  .form-horizontal .form-group-lg .control-label {
    padding-top: 11px;
    font-size: 17px;
  }
}
@media (min-width: 768px) {
  .form-horizontal .form-group-sm .control-label {
    padding-top: 6px;
    font-size: 12px;
  }
}
.btn {
  display: inline-block;
  margin-bottom: 0;
  font-weight: normal;
  text-align: center;
  vertical-align: middle;
  touch-action: manipulation;
  cursor: pointer;
  background-image: none;
  border: 1px solid transparent;
  white-space: nowrap;
  padding: 6px 12px;
  font-size: 13px;
  line-height: 1.42857143;
  border-radius: 2px;
  -webkit-user-select: none;
  -moz-user-select: none;
  -ms-user-select: none;
  user-select: none;
}
.btn:focus,
.btn:active:focus,
.btn.active:focus,
.btn.focus,
.btn:active.focus,
.btn.active.focus {
  outline: 5px auto -webkit-focus-ring-color;
  outline-offset: -2px;
}
.btn:hover,
.btn:focus,
.btn.focus {
  color: #333;
  text-decoration: none;
}
.btn:active,
.btn.active {
  outline: 0;
  background-image: none;
  -webkit-box-shadow: inset 0 3px 5px rgba(0, 0, 0, 0.125);
  box-shadow: inset 0 3px 5px rgba(0, 0, 0, 0.125);
}
.btn.disabled,
.btn[disabled],
fieldset[disabled] .btn {
  cursor: not-allowed;
  opacity: 0.65;
  filter: alpha(opacity=65);
  -webkit-box-shadow: none;
  box-shadow: none;
}
a.btn.disabled,
fieldset[disabled] a.btn {
  pointer-events: none;
}
.btn-default {
  color: #333;
  background-color: #fff;
  border-color: #ccc;
}
.btn-default:focus,
.btn-default.focus {
  color: #333;
  background-color: #e6e6e6;
  border-color: #8c8c8c;
}
.btn-default:hover {
  color: #333;
  background-color: #e6e6e6;
  border-color: #adadad;
}
.btn-default:active,
.btn-default.active,
.open > .dropdown-toggle.btn-default {
  color: #333;
  background-color: #e6e6e6;
  border-color: #adadad;
}
.btn-default:active:hover,
.btn-default.active:hover,
.open > .dropdown-toggle.btn-default:hover,
.btn-default:active:focus,
.btn-default.active:focus,
.open > .dropdown-toggle.btn-default:focus,
.btn-default:active.focus,
.btn-default.active.focus,
.open > .dropdown-toggle.btn-default.focus {
  color: #333;
  background-color: #d4d4d4;
  border-color: #8c8c8c;
}
.btn-default:active,
.btn-default.active,
.open > .dropdown-toggle.btn-default {
  background-image: none;
}
.btn-default.disabled:hover,
.btn-default[disabled]:hover,
fieldset[disabled] .btn-default:hover,
.btn-default.disabled:focus,
.btn-default[disabled]:focus,
fieldset[disabled] .btn-default:focus,
.btn-default.disabled.focus,
.btn-default[disabled].focus,
fieldset[disabled] .btn-default.focus {
  background-color: #fff;
  border-color: #ccc;
}
.btn-default .badge {
  color: #fff;
  background-color: #333;
}
.btn-primary {
  color: #fff;
  background-color: #337ab7;
  border-color: #2e6da4;
}
.btn-primary:focus,
.btn-primary.focus {
  color: #fff;
  background-color: #286090;
  border-color: #122b40;
}
.btn-primary:hover {
  color: #fff;
  background-color: #286090;
  border-color: #204d74;
}
.btn-primary:active,
.btn-primary.active,
.open > .dropdown-toggle.btn-primary {
  color: #fff;
  background-color: #286090;
  border-color: #204d74;
}
.btn-primary:active:hover,
.btn-primary.active:hover,
.open > .dropdown-toggle.btn-primary:hover,
.btn-primary:active:focus,
.btn-primary.active:focus,
.open > .dropdown-toggle.btn-primary:focus,
.btn-primary:active.focus,
.btn-primary.active.focus,
.open > .dropdown-toggle.btn-primary.focus {
  color: #fff;
  background-color: #204d74;
  border-color: #122b40;
}
.btn-primary:active,
.btn-primary.active,
.open > .dropdown-toggle.btn-primary {
  background-image: none;
}
.btn-primary.disabled:hover,
.btn-primary[disabled]:hover,
fieldset[disabled] .btn-primary:hover,
.btn-primary.disabled:focus,
.btn-primary[disabled]:focus,
fieldset[disabled] .btn-primary:focus,
.btn-primary.disabled.focus,
.btn-primary[disabled].focus,
fieldset[disabled] .btn-primary.focus {
  background-color: #337ab7;
  border-color: #2e6da4;
}
.btn-primary .badge {
  color: #337ab7;
  background-color: #fff;
}
.btn-success {
  color: #fff;
  background-color: #5cb85c;
  border-color: #4cae4c;
}
.btn-success:focus,
.btn-success.focus {
  color: #fff;
  background-color: #449d44;
  border-color: #255625;
}
.btn-success:hover {
  color: #fff;
  background-color: #449d44;
  border-color: #398439;
}
.btn-success:active,
.btn-success.active,
.open > .dropdown-toggle.btn-success {
  color: #fff;
  background-color: #449d44;
  border-color: #398439;
}
.btn-success:active:hover,
.btn-success.active:hover,
.open > .dropdown-toggle.btn-success:hover,
.btn-success:active:focus,
.btn-success.active:focus,
.open > .dropdown-toggle.btn-success:focus,
.btn-success:active.focus,
.btn-success.active.focus,
.open > .dropdown-toggle.btn-success.focus {
  color: #fff;
  background-color: #398439;
  border-color: #255625;
}
.btn-success:active,
.btn-success.active,
.open > .dropdown-toggle.btn-success {
  background-image: none;
}
.btn-success.disabled:hover,
.btn-success[disabled]:hover,
fieldset[disabled] .btn-success:hover,
.btn-success.disabled:focus,
.btn-success[disabled]:focus,
fieldset[disabled] .btn-success:focus,
.btn-success.disabled.focus,
.btn-success[disabled].focus,
fieldset[disabled] .btn-success.focus {
  background-color: #5cb85c;
  border-color: #4cae4c;
}
.btn-success .badge {
  color: #5cb85c;
  background-color: #fff;
}
.btn-info {
  color: #fff;
  background-color: #5bc0de;
  border-color: #46b8da;
}
.btn-info:focus,
.btn-info.focus {
  color: #fff;
  background-color: #31b0d5;
  border-color: #1b6d85;
}
.btn-info:hover {
  color: #fff;
  background-color: #31b0d5;
  border-color: #269abc;
}
.btn-info:active,
.btn-info.active,
.open > .dropdown-toggle.btn-info {
  color: #fff;
  background-color: #31b0d5;
  border-color: #269abc;
}
.btn-info:active:hover,
.btn-info.active:hover,
.open > .dropdown-toggle.btn-info:hover,
.btn-info:active:focus,
.btn-info.active:focus,
.open > .dropdown-toggle.btn-info:focus,
.btn-info:active.focus,
.btn-info.active.focus,
.open > .dropdown-toggle.btn-info.focus {
  color: #fff;
  background-color: #269abc;
  border-color: #1b6d85;
}
.btn-info:active,
.btn-info.active,
.open > .dropdown-toggle.btn-info {
  background-image: none;
}
.btn-info.disabled:hover,
.btn-info[disabled]:hover,
fieldset[disabled] .btn-info:hover,
.btn-info.disabled:focus,
.btn-info[disabled]:focus,
fieldset[disabled] .btn-info:focus,
.btn-info.disabled.focus,
.btn-info[disabled].focus,
fieldset[disabled] .btn-info.focus {
  background-color: #5bc0de;
  border-color: #46b8da;
}
.btn-info .badge {
  color: #5bc0de;
  background-color: #fff;
}
.btn-warning {
  color: #fff;
  background-color: #f0ad4e;
  border-color: #eea236;
}
.btn-warning:focus,
.btn-warning.focus {
  color: #fff;
  background-color: #ec971f;
  border-color: #985f0d;
}
.btn-warning:hover {
  color: #fff;
  background-color: #ec971f;
  border-color: #d58512;
}
.btn-warning:active,
.btn-warning.active,
.open > .dropdown-toggle.btn-warning {
  color: #fff;
  background-color: #ec971f;
  border-color: #d58512;
}
.btn-warning:active:hover,
.btn-warning.active:hover,
.open > .dropdown-toggle.btn-warning:hover,
.btn-warning:active:focus,
.btn-warning.active:focus,
.open > .dropdown-toggle.btn-warning:focus,
.btn-warning:active.focus,
.btn-warning.active.focus,
.open > .dropdown-toggle.btn-warning.focus {
  color: #fff;
  background-color: #d58512;
  border-color: #985f0d;
}
.btn-warning:active,
.btn-warning.active,
.open > .dropdown-toggle.btn-warning {
  background-image: none;
}
.btn-warning.disabled:hover,
.btn-warning[disabled]:hover,
fieldset[disabled] .btn-warning:hover,
.btn-warning.disabled:focus,
.btn-warning[disabled]:focus,
fieldset[disabled] .btn-warning:focus,
.btn-warning.disabled.focus,
.btn-warning[disabled].focus,
fieldset[disabled] .btn-warning.focus {
  background-color: #f0ad4e;
  border-color: #eea236;
}
.btn-warning .badge {
  color: #f0ad4e;
  background-color: #fff;
}
.btn-danger {
  color: #fff;
  background-color: #d9534f;
  border-color: #d43f3a;
}
.btn-danger:focus,
.btn-danger.focus {
  color: #fff;
  background-color: #c9302c;
  border-color: #761c19;
}
.btn-danger:hover {
  color: #fff;
  background-color: #c9302c;
  border-color: #ac2925;
}
.btn-danger:active,
.btn-danger.active,
.open > .dropdown-toggle.btn-danger {
  color: #fff;
  background-color: #c9302c;
  border-color: #ac2925;
}
.btn-danger:active:hover,
.btn-danger.active:hover,
.open > .dropdown-toggle.btn-danger:hover,
.btn-danger:active:focus,
.btn-danger.active:focus,
.open > .dropdown-toggle.btn-danger:focus,
.btn-danger:active.focus,
.btn-danger.active.focus,
.open > .dropdown-toggle.btn-danger.focus {
  color: #fff;
  background-color: #ac2925;
  border-color: #761c19;
}
.btn-danger:active,
.btn-danger.active,
.open > .dropdown-toggle.btn-danger {
  background-image: none;
}
.btn-danger.disabled:hover,
.btn-danger[disabled]:hover,
fieldset[disabled] .btn-danger:hover,
.btn-danger.disabled:focus,
.btn-danger[disabled]:focus,
fieldset[disabled] .btn-danger:focus,
.btn-danger.disabled.focus,
.btn-danger[disabled].focus,
fieldset[disabled] .btn-danger.focus {
  background-color: #d9534f;
  border-color: #d43f3a;
}
.btn-danger .badge {
  color: #d9534f;
  background-color: #fff;
}
.btn-link {
  color: #337ab7;
  font-weight: normal;
  border-radius: 0;
}
.btn-link,
.btn-link:active,
.btn-link.active,
.btn-link[disabled],
fieldset[disabled] .btn-link {
  background-color: transparent;
  -webkit-box-shadow: none;
  box-shadow: none;
}
.btn-link,
.btn-link:hover,
.btn-link:focus,
.btn-link:active {
  border-color: transparent;
}
.btn-link:hover,
.btn-link:focus {
  color: #23527c;
  text-decoration: underline;
  background-color: transparent;
}
.btn-link[disabled]:hover,
fieldset[disabled] .btn-link:hover,
.btn-link[disabled]:focus,
fieldset[disabled] .btn-link:focus {
  color: #777777;
  text-decoration: none;
}
.btn-lg,
.btn-group-lg > .btn {
  padding: 10px 16px;
  font-size: 17px;
  line-height: 1.3333333;
  border-radius: 3px;
}
.btn-sm,
.btn-group-sm > .btn {
  padding: 5px 10px;
  font-size: 12px;
  line-height: 1.5;
  border-radius: 1px;
}
.btn-xs,
.btn-group-xs > .btn {
  padding: 1px 5px;
  font-size: 12px;
  line-height: 1.5;
  border-radius: 1px;
}
.btn-block {
  display: block;
  width: 100%;
}
.btn-block + .btn-block {
  margin-top: 5px;
}
input[type="submit"].btn-block,
input[type="reset"].btn-block,
input[type="button"].btn-block {
  width: 100%;
}
.fade {
  opacity: 0;
  -webkit-transition: opacity 0.15s linear;
  -o-transition: opacity 0.15s linear;
  transition: opacity 0.15s linear;
}
.fade.in {
  opacity: 1;
}
.collapse {
  display: none;
}
.collapse.in {
  display: block;
}
tr.collapse.in {
  display: table-row;
}
tbody.collapse.in {
  display: table-row-group;
}
.collapsing {
  position: relative;
  height: 0;
  overflow: hidden;
  -webkit-transition-property: height, visibility;
  transition-property: height, visibility;
  -webkit-transition-duration: 0.35s;
  transition-duration: 0.35s;
  -webkit-transition-timing-function: ease;
  transition-timing-function: ease;
}
.caret {
  display: inline-block;
  width: 0;
  height: 0;
  margin-left: 2px;
  vertical-align: middle;
  border-top: 4px dashed;
  border-top: 4px solid \9;
  border-right: 4px solid transparent;
  border-left: 4px solid transparent;
}
.dropup,
.dropdown {
  position: relative;
}
.dropdown-toggle:focus {
  outline: 0;
}
.dropdown-menu {
  position: absolute;
  top: 100%;
  left: 0;
  z-index: 1000;
  display: none;
  float: left;
  min-width: 160px;
  padding: 5px 0;
  margin: 2px 0 0;
  list-style: none;
  font-size: 13px;
  text-align: left;
  background-color: #fff;
  border: 1px solid #ccc;
  border: 1px solid rgba(0, 0, 0, 0.15);
  border-radius: 2px;
  -webkit-box-shadow: 0 6px 12px rgba(0, 0, 0, 0.175);
  box-shadow: 0 6px 12px rgba(0, 0, 0, 0.175);
  background-clip: padding-box;
}
.dropdown-menu.pull-right {
  right: 0;
  left: auto;
}
.dropdown-menu .divider {
  height: 1px;
  margin: 8px 0;
  overflow: hidden;
  background-color: #e5e5e5;
}
.dropdown-menu > li > a {
  display: block;
  padding: 3px 20px;
  clear: both;
  font-weight: normal;
  line-height: 1.42857143;
  color: #333333;
  white-space: nowrap;
}
.dropdown-menu > li > a:hover,
.dropdown-menu > li > a:focus {
  text-decoration: none;
  color: #262626;
  background-color: #f5f5f5;
}
.dropdown-menu > .active > a,
.dropdown-menu > .active > a:hover,
.dropdown-menu > .active > a:focus {
  color: #fff;
  text-decoration: none;
  outline: 0;
  background-color: #337ab7;
}
.dropdown-menu > .disabled > a,
.dropdown-menu > .disabled > a:hover,
.dropdown-menu > .disabled > a:focus {
  color: #777777;
}
.dropdown-menu > .disabled > a:hover,
.dropdown-menu > .disabled > a:focus {
  text-decoration: none;
  background-color: transparent;
  background-image: none;
  filter: progid:DXImageTransform.Microsoft.gradient(enabled = false);
  cursor: not-allowed;
}
.open > .dropdown-menu {
  display: block;
}
.open > a {
  outline: 0;
}
.dropdown-menu-right {
  left: auto;
  right: 0;
}
.dropdown-menu-left {
  left: 0;
  right: auto;
}
.dropdown-header {
  display: block;
  padding: 3px 20px;
  font-size: 12px;
  line-height: 1.42857143;
  color: #777777;
  white-space: nowrap;
}
.dropdown-backdrop {
  position: fixed;
  left: 0;
  right: 0;
  bottom: 0;
  top: 0;
  z-index: 990;
}
.pull-right > .dropdown-menu {
  right: 0;
  left: auto;
}
.dropup .caret,
.navbar-fixed-bottom .dropdown .caret {
  border-top: 0;
  border-bottom: 4px dashed;
  border-bottom: 4px solid \9;
  content: "";
}
.dropup .dropdown-menu,
.navbar-fixed-bottom .dropdown .dropdown-menu {
  top: auto;
  bottom: 100%;
  margin-bottom: 2px;
}
@media (min-width: 541px) {
  .navbar-right .dropdown-menu {
    left: auto;
    right: 0;
  }
  .navbar-right .dropdown-menu-left {
    left: 0;
    right: auto;
  }
}
.btn-group,
.btn-group-vertical {
  position: relative;
  display: inline-block;
  vertical-align: middle;
}
.btn-group > .btn,
.btn-group-vertical > .btn {
  position: relative;
  float: left;
}
.btn-group > .btn:hover,
.btn-group-vertical > .btn:hover,
.btn-group > .btn:focus,
.btn-group-vertical > .btn:focus,
.btn-group > .btn:active,
.btn-group-vertical > .btn:active,
.btn-group > .btn.active,
.btn-group-vertical > .btn.active {
  z-index: 2;
}
.btn-group .btn + .btn,
.btn-group .btn + .btn-group,
.btn-group .btn-group + .btn,
.btn-group .btn-group + .btn-group {
  margin-left: -1px;
}
.btn-toolbar {
  margin-left: -5px;
}
.btn-toolbar .btn,
.btn-toolbar .btn-group,
.btn-toolbar .input-group {
  float: left;
}
.btn-toolbar > .btn,
.btn-toolbar > .btn-group,
.btn-toolbar > .input-group {
  margin-left: 5px;
}
.btn-group > .btn:not(:first-child):not(:last-child):not(.dropdown-toggle) {
  border-radius: 0;
}
.btn-group > .btn:first-child {
  margin-left: 0;
}
.btn-group > .btn:first-child:not(:last-child):not(.dropdown-toggle) {
  border-bottom-right-radius: 0;
  border-top-right-radius: 0;
}
.btn-group > .btn:last-child:not(:first-child),
.btn-group > .dropdown-toggle:not(:first-child) {
  border-bottom-left-radius: 0;
  border-top-left-radius: 0;
}
.btn-group > .btn-group {
  float: left;
}
.btn-group > .btn-group:not(:first-child):not(:last-child) > .btn {
  border-radius: 0;
}
.btn-group > .btn-group:first-child:not(:last-child) > .btn:last-child,
.btn-group > .btn-group:first-child:not(:last-child) > .dropdown-toggle {
  border-bottom-right-radius: 0;
  border-top-right-radius: 0;
}
.btn-group > .btn-group:last-child:not(:first-child) > .btn:first-child {
  border-bottom-left-radius: 0;
  border-top-left-radius: 0;
}
.btn-group .dropdown-toggle:active,
.btn-group.open .dropdown-toggle {
  outline: 0;
}
.btn-group > .btn + .dropdown-toggle {
  padding-left: 8px;
  padding-right: 8px;
}
.btn-group > .btn-lg + .dropdown-toggle {
  padding-left: 12px;
  padding-right: 12px;
}
.btn-group.open .dropdown-toggle {
  -webkit-box-shadow: inset 0 3px 5px rgba(0, 0, 0, 0.125);
  box-shadow: inset 0 3px 5px rgba(0, 0, 0, 0.125);
}
.btn-group.open .dropdown-toggle.btn-link {
  -webkit-box-shadow: none;
  box-shadow: none;
}
.btn .caret {
  margin-left: 0;
}
.btn-lg .caret {
  border-width: 5px 5px 0;
  border-bottom-width: 0;
}
.dropup .btn-lg .caret {
  border-width: 0 5px 5px;
}
.btn-group-vertical > .btn,
.btn-group-vertical > .btn-group,
.btn-group-vertical > .btn-group > .btn {
  display: block;
  float: none;
  width: 100%;
  max-width: 100%;
}
.btn-group-vertical > .btn-group > .btn {
  float: none;
}
.btn-group-vertical > .btn + .btn,
.btn-group-vertical > .btn + .btn-group,
.btn-group-vertical > .btn-group + .btn,
.btn-group-vertical > .btn-group + .btn-group {
  margin-top: -1px;
  margin-left: 0;
}
.btn-group-vertical > .btn:not(:first-child):not(:last-child) {
  border-radius: 0;
}
.btn-group-vertical > .btn:first-child:not(:last-child) {
  border-top-right-radius: 2px;
  border-top-left-radius: 2px;
  border-bottom-right-radius: 0;
  border-bottom-left-radius: 0;
}
.btn-group-vertical > .btn:last-child:not(:first-child) {
  border-top-right-radius: 0;
  border-top-left-radius: 0;
  border-bottom-right-radius: 2px;
  border-bottom-left-radius: 2px;
}
.btn-group-vertical > .btn-group:not(:first-child):not(:last-child) > .btn {
  border-radius: 0;
}
.btn-group-vertical > .btn-group:first-child:not(:last-child) > .btn:last-child,
.btn-group-vertical > .btn-group:first-child:not(:last-child) > .dropdown-toggle {
  border-bottom-right-radius: 0;
  border-bottom-left-radius: 0;
}
.btn-group-vertical > .btn-group:last-child:not(:first-child) > .btn:first-child {
  border-top-right-radius: 0;
  border-top-left-radius: 0;
}
.btn-group-justified {
  display: table;
  width: 100%;
  table-layout: fixed;
  border-collapse: separate;
}
.btn-group-justified > .btn,
.btn-group-justified > .btn-group {
  float: none;
  display: table-cell;
  width: 1%;
}
.btn-group-justified > .btn-group .btn {
  width: 100%;
}
.btn-group-justified > .btn-group .dropdown-menu {
  left: auto;
}
[data-toggle="buttons"] > .btn input[type="radio"],
[data-toggle="buttons"] > .btn-group > .btn input[type="radio"],
[data-toggle="buttons"] > .btn input[type="checkbox"],
[data-toggle="buttons"] > .btn-group > .btn input[type="checkbox"] {
  position: absolute;
  clip: rect(0, 0, 0, 0);
  pointer-events: none;
}
.input-group {
  position: relative;
  display: table;
  border-collapse: separate;
}
.input-group[class*="col-"] {
  float: none;
  padding-left: 0;
  padding-right: 0;
}
.input-group .form-control {
  position: relative;
  z-index: 2;
  float: left;
  width: 100%;
  margin-bottom: 0;
}
.input-group .form-control:focus {
  z-index: 3;
}
.input-group-lg > .form-control,
.input-group-lg > .input-group-addon,
.input-group-lg > .input-group-btn > .btn {
  height: 45px;
  padding: 10px 16px;
  font-size: 17px;
  line-height: 1.3333333;
  border-radius: 3px;
}
select.input-group-lg > .form-control,
select.input-group-lg > .input-group-addon,
select.input-group-lg > .input-group-btn > .btn {
  height: 45px;
  line-height: 45px;
}
textarea.input-group-lg > .form-control,
textarea.input-group-lg > .input-group-addon,
textarea.input-group-lg > .input-group-btn > .btn,
select[multiple].input-group-lg > .form-control,
select[multiple].input-group-lg > .input-group-addon,
select[multiple].input-group-lg > .input-group-btn > .btn {
  height: auto;
}
.input-group-sm > .form-control,
.input-group-sm > .input-group-addon,
.input-group-sm > .input-group-btn > .btn {
  height: 30px;
  padding: 5px 10px;
  font-size: 12px;
  line-height: 1.5;
  border-radius: 1px;
}
select.input-group-sm > .form-control,
select.input-group-sm > .input-group-addon,
select.input-group-sm > .input-group-btn > .btn {
  height: 30px;
  line-height: 30px;
}
textarea.input-group-sm > .form-control,
textarea.input-group-sm > .input-group-addon,
textarea.input-group-sm > .input-group-btn > .btn,
select[multiple].input-group-sm > .form-control,
select[multiple].input-group-sm > .input-group-addon,
select[multiple].input-group-sm > .input-group-btn > .btn {
  height: auto;
}
.input-group-addon,
.input-group-btn,
.input-group .form-control {
  display: table-cell;
}
.input-group-addon:not(:first-child):not(:last-child),
.input-group-btn:not(:first-child):not(:last-child),
.input-group .form-control:not(:first-child):not(:last-child) {
  border-radius: 0;
}
.input-group-addon,
.input-group-btn {
  width: 1%;
  white-space: nowrap;
  vertical-align: middle;
}
.input-group-addon {
  padding: 6px 12px;
  font-size: 13px;
  font-weight: normal;
  line-height: 1;
  color: #555555;
  text-align: center;
  background-color: #eeeeee;
  border: 1px solid #ccc;
  border-radius: 2px;
}
.input-group-addon.input-sm {
  padding: 5px 10px;
  font-size: 12px;
  border-radius: 1px;
}
.input-group-addon.input-lg {
  padding: 10px 16px;
  font-size: 17px;
  border-radius: 3px;
}
.input-group-addon input[type="radio"],
.input-group-addon input[type="checkbox"] {
  margin-top: 0;
}
.input-group .form-control:first-child,
.input-group-addon:first-child,
.input-group-btn:first-child > .btn,
.input-group-btn:first-child > .btn-group > .btn,
.input-group-btn:first-child > .dropdown-toggle,
.input-group-btn:last-child > .btn:not(:last-child):not(.dropdown-toggle),
.input-group-btn:last-child > .btn-group:not(:last-child) > .btn {
  border-bottom-right-radius: 0;
  border-top-right-radius: 0;
}
.input-group-addon:first-child {
  border-right: 0;
}
.input-group .form-control:last-child,
.input-group-addon:last-child,
.input-group-btn:last-child > .btn,
.input-group-btn:last-child > .btn-group > .btn,
.input-group-btn:last-child > .dropdown-toggle,
.input-group-btn:first-child > .btn:not(:first-child),
.input-group-btn:first-child > .btn-group:not(:first-child) > .btn {
  border-bottom-left-radius: 0;
  border-top-left-radius: 0;
}
.input-group-addon:last-child {
  border-left: 0;
}
.input-group-btn {
  position: relative;
  font-size: 0;
  white-space: nowrap;
}
.input-group-btn > .btn {
  position: relative;
}
.input-group-btn > .btn + .btn {
  margin-left: -1px;
}
.input-group-btn > .btn:hover,
.input-group-btn > .btn:focus,
.input-group-btn > .btn:active {
  z-index: 2;
}
.input-group-btn:first-child > .btn,
.input-group-btn:first-child > .btn-group {
  margin-right: -1px;
}
.input-group-btn:last-child > .btn,
.input-group-btn:last-child > .btn-group {
  z-index: 2;
  margin-left: -1px;
}
.nav {
  margin-bottom: 0;
  padding-left: 0;
  list-style: none;
}
.nav > li {
  position: relative;
  display: block;
}
.nav > li > a {
  position: relative;
  display: block;
  padding: 10px 15px;
}
.nav > li > a:hover,
.nav > li > a:focus {
  text-decoration: none;
  background-color: #eeeeee;
}
.nav > li.disabled > a {
  color: #777777;
}
.nav > li.disabled > a:hover,
.nav > li.disabled > a:focus {
  color: #777777;
  text-decoration: none;
  background-color: transparent;
  cursor: not-allowed;
}
.nav .open > a,
.nav .open > a:hover,
.nav .open > a:focus {
  background-color: #eeeeee;
  border-color: #337ab7;
}
.nav .nav-divider {
  height: 1px;
  margin: 8px 0;
  overflow: hidden;
  background-color: #e5e5e5;
}
.nav > li > a > img {
  max-width: none;
}
.nav-tabs {
  border-bottom: 1px solid #ddd;
}
.nav-tabs > li {
  float: left;
  margin-bottom: -1px;
}
.nav-tabs > li > a {
  margin-right: 2px;
  line-height: 1.42857143;
  border: 1px solid transparent;
  border-radius: 2px 2px 0 0;
}
.nav-tabs > li > a:hover {
  border-color: #eeeeee #eeeeee #ddd;
}
.nav-tabs > li.active > a,
.nav-tabs > li.active > a:hover,
.nav-tabs > li.active > a:focus {
  color: #555555;
  background-color: #fff;
  border: 1px solid #ddd;
  border-bottom-color: transparent;
  cursor: default;
}
.nav-tabs.nav-justified {
  width: 100%;
  border-bottom: 0;
}
.nav-tabs.nav-justified > li {
  float: none;
}
.nav-tabs.nav-justified > li > a {
  text-align: center;
  margin-bottom: 5px;
}
.nav-tabs.nav-justified > .dropdown .dropdown-menu {
  top: auto;
  left: auto;
}
@media (min-width: 768px) {
  .nav-tabs.nav-justified > li {
    display: table-cell;
    width: 1%;
  }
  .nav-tabs.nav-justified > li > a {
    margin-bottom: 0;
  }
}
.nav-tabs.nav-justified > li > a {
  margin-right: 0;
  border-radius: 2px;
}
.nav-tabs.nav-justified > .active > a,
.nav-tabs.nav-justified > .active > a:hover,
.nav-tabs.nav-justified > .active > a:focus {
  border: 1px solid #ddd;
}
@media (min-width: 768px) {
  .nav-tabs.nav-justified > li > a {
    border-bottom: 1px solid #ddd;
    border-radius: 2px 2px 0 0;
  }
  .nav-tabs.nav-justified > .active > a,
  .nav-tabs.nav-justified > .active > a:hover,
  .nav-tabs.nav-justified > .active > a:focus {
    border-bottom-color: #fff;
  }
}
.nav-pills > li {
  float: left;
}
.nav-pills > li > a {
  border-radius: 2px;
}
.nav-pills > li + li {
  margin-left: 2px;
}
.nav-pills > li.active > a,
.nav-pills > li.active > a:hover,
.nav-pills > li.active > a:focus {
  color: #fff;
  background-color: #337ab7;
}
.nav-stacked > li {
  float: none;
}
.nav-stacked > li + li {
  margin-top: 2px;
  margin-left: 0;
}
.nav-justified {
  width: 100%;
}
.nav-justified > li {
  float: none;
}
.nav-justified > li > a {
  text-align: center;
  margin-bottom: 5px;
}
.nav-justified > .dropdown .dropdown-menu {
  top: auto;
  left: auto;
}
@media (min-width: 768px) {
  .nav-justified > li {
    display: table-cell;
    width: 1%;
  }
  .nav-justified > li > a {
    margin-bottom: 0;
  }
}
.nav-tabs-justified {
  border-bottom: 0;
}
.nav-tabs-justified > li > a {
  margin-right: 0;
  border-radius: 2px;
}
.nav-tabs-justified > .active > a,
.nav-tabs-justified > .active > a:hover,
.nav-tabs-justified > .active > a:focus {
  border: 1px solid #ddd;
}
@media (min-width: 768px) {
  .nav-tabs-justified > li > a {
    border-bottom: 1px solid #ddd;
    border-radius: 2px 2px 0 0;
  }
  .nav-tabs-justified > .active > a,
  .nav-tabs-justified > .active > a:hover,
  .nav-tabs-justified > .active > a:focus {
    border-bottom-color: #fff;
  }
}
.tab-content > .tab-pane {
  display: none;
}
.tab-content > .active {
  display: block;
}
.nav-tabs .dropdown-menu {
  margin-top: -1px;
  border-top-right-radius: 0;
  border-top-left-radius: 0;
}
.navbar {
  position: relative;
  min-height: 30px;
  margin-bottom: 18px;
  border: 1px solid transparent;
}
@media (min-width: 541px) {
  .navbar {
    border-radius: 2px;
  }
}
@media (min-width: 541px) {
  .navbar-header {
    float: left;
  }
}
.navbar-collapse {
  overflow-x: visible;
  padding-right: 0px;
  padding-left: 0px;
  border-top: 1px solid transparent;
  box-shadow: inset 0 1px 0 rgba(255, 255, 255, 0.1);
  -webkit-overflow-scrolling: touch;
}
.navbar-collapse.in {
  overflow-y: auto;
}
@media (min-width: 541px) {
  .navbar-collapse {
    width: auto;
    border-top: 0;
    box-shadow: none;
  }
  .navbar-collapse.collapse {
    display: block !important;
    height: auto !important;
    padding-bottom: 0;
    overflow: visible !important;
  }
  .navbar-collapse.in {
    overflow-y: visible;
  }
  .navbar-fixed-top .navbar-collapse,
  .navbar-static-top .navbar-collapse,
  .navbar-fixed-bottom .navbar-collapse {
    padding-left: 0;
    padding-right: 0;
  }
}
.navbar-fixed-top .navbar-collapse,
.navbar-fixed-bottom .navbar-collapse {
  max-height: 340px;
}
@media (max-device-width: 540px) and (orientation: landscape) {
  .navbar-fixed-top .navbar-collapse,
  .navbar-fixed-bottom .navbar-collapse {
    max-height: 200px;
  }
}
.container > .navbar-header,
.container-fluid > .navbar-header,
.container > .navbar-collapse,
.container-fluid > .navbar-collapse {
  margin-right: 0px;
  margin-left: 0px;
}
@media (min-width: 541px) {
  .container > .navbar-header,
  .container-fluid > .navbar-header,
  .container > .navbar-collapse,
  .container-fluid > .navbar-collapse {
    margin-right: 0;
    margin-left: 0;
  }
}
.navbar-static-top {
  z-index: 1000;
  border-width: 0 0 1px;
}
@media (min-width: 541px) {
  .navbar-static-top {
    border-radius: 0;
  }
}
.navbar-fixed-top,
.navbar-fixed-bottom {
  position: fixed;
  right: 0;
  left: 0;
  z-index: 1030;
}
@media (min-width: 541px) {
  .navbar-fixed-top,
  .navbar-fixed-bottom {
    border-radius: 0;
  }
}
.navbar-fixed-top {
  top: 0;
  border-width: 0 0 1px;
}
.navbar-fixed-bottom {
  bottom: 0;
  margin-bottom: 0;
  border-width: 1px 0 0;
}
.navbar-brand {
  float: left;
  padding: 6px 0px;
  font-size: 17px;
  line-height: 18px;
  height: 30px;
}
.navbar-brand:hover,
.navbar-brand:focus {
  text-decoration: none;
}
.navbar-brand > img {
  display: block;
}
@media (min-width: 541px) {
  .navbar > .container .navbar-brand,
  .navbar > .container-fluid .navbar-brand {
    margin-left: 0px;
  }
}
.navbar-toggle {
  position: relative;
  float: right;
  margin-right: 0px;
  padding: 9px 10px;
  margin-top: -2px;
  margin-bottom: -2px;
  background-color: transparent;
  background-image: none;
  border: 1px solid transparent;
  border-radius: 2px;
}
.navbar-toggle:focus {
  outline: 0;
}
.navbar-toggle .icon-bar {
  display: block;
  width: 22px;
  height: 2px;
  border-radius: 1px;
}
.navbar-toggle .icon-bar + .icon-bar {
  margin-top: 4px;
}
@media (min-width: 541px) {
  .navbar-toggle {
    display: none;
  }
}
.navbar-nav {
  margin: 3px 0px;
}
.navbar-nav > li > a {
  padding-top: 10px;
  padding-bottom: 10px;
  line-height: 18px;
}
@media (max-width: 540px) {
  .navbar-nav .open .dropdown-menu {
    position: static;
    float: none;
    width: auto;
    margin-top: 0;
    background-color: transparent;
    border: 0;
    box-shadow: none;
  }
  .navbar-nav .open .dropdown-menu > li > a,
  .navbar-nav .open .dropdown-menu .dropdown-header {
    padding: 5px 15px 5px 25px;
  }
  .navbar-nav .open .dropdown-menu > li > a {
    line-height: 18px;
  }
  .navbar-nav .open .dropdown-menu > li > a:hover,
  .navbar-nav .open .dropdown-menu > li > a:focus {
    background-image: none;
  }
}
@media (min-width: 541px) {
  .navbar-nav {
    float: left;
    margin: 0;
  }
  .navbar-nav > li {
    float: left;
  }
  .navbar-nav > li > a {
    padding-top: 6px;
    padding-bottom: 6px;
  }
}
.navbar-form {
  margin-left: 0px;
  margin-right: 0px;
  padding: 10px 0px;
  border-top: 1px solid transparent;
  border-bottom: 1px solid transparent;
  -webkit-box-shadow: inset 0 1px 0 rgba(255, 255, 255, 0.1), 0 1px 0 rgba(255, 255, 255, 0.1);
  box-shadow: inset 0 1px 0 rgba(255, 255, 255, 0.1), 0 1px 0 rgba(255, 255, 255, 0.1);
  margin-top: -1px;
  margin-bottom: -1px;
}
@media (min-width: 768px) {
  .navbar-form .form-group {
    display: inline-block;
    margin-bottom: 0;
    vertical-align: middle;
  }
  .navbar-form .form-control {
    display: inline-block;
    width: auto;
    vertical-align: middle;
  }
  .navbar-form .form-control-static {
    display: inline-block;
  }
  .navbar-form .input-group {
    display: inline-table;
    vertical-align: middle;
  }
  .navbar-form .input-group .input-group-addon,
  .navbar-form .input-group .input-group-btn,
  .navbar-form .input-group .form-control {
    width: auto;
  }
  .navbar-form .input-group > .form-control {
    width: 100%;
  }
  .navbar-form .control-label {
    margin-bottom: 0;
    vertical-align: middle;
  }
  .navbar-form .radio,
  .navbar-form .checkbox {
    display: inline-block;
    margin-top: 0;
    margin-bottom: 0;
    vertical-align: middle;
  }
  .navbar-form .radio label,
  .navbar-form .checkbox label {
    padding-left: 0;
  }
  .navbar-form .radio input[type="radio"],
  .navbar-form .checkbox input[type="checkbox"] {
    position: relative;
    margin-left: 0;
  }
  .navbar-form .has-feedback .form-control-feedback {
    top: 0;
  }
}
@media (max-width: 540px) {
  .navbar-form .form-group {
    margin-bottom: 5px;
  }
  .navbar-form .form-group:last-child {
    margin-bottom: 0;
  }
}
@media (min-width: 541px) {
  .navbar-form {
    width: auto;
    border: 0;
    margin-left: 0;
    margin-right: 0;
    padding-top: 0;
    padding-bottom: 0;
    -webkit-box-shadow: none;
    box-shadow: none;
  }
}
.navbar-nav > li > .dropdown-menu {
  margin-top: 0;
  border-top-right-radius: 0;
  border-top-left-radius: 0;
}
.navbar-fixed-bottom .navbar-nav > li > .dropdown-menu {
  margin-bottom: 0;
  border-top-right-radius: 2px;
  border-top-left-radius: 2px;
  border-bottom-right-radius: 0;
  border-bottom-left-radius: 0;
}
.navbar-btn {
  margin-top: -1px;
  margin-bottom: -1px;
}
.navbar-btn.btn-sm {
  margin-top: 0px;
  margin-bottom: 0px;
}
.navbar-btn.btn-xs {
  margin-top: 4px;
  margin-bottom: 4px;
}
.navbar-text {
  margin-top: 6px;
  margin-bottom: 6px;
}
@media (min-width: 541px) {
  .navbar-text {
    float: left;
    margin-left: 0px;
    margin-right: 0px;
  }
}
@media (min-width: 541px) {
  .navbar-left {
    float: left !important;
    float: left;
  }
  .navbar-right {
    float: right !important;
    float: right;
    margin-right: 0px;
  }
  .navbar-right ~ .navbar-right {
    margin-right: 0;
  }
}
.navbar-default {
  background-color: #f8f8f8;
  border-color: #e7e7e7;
}
.navbar-default .navbar-brand {
  color: #777;
}
.navbar-default .navbar-brand:hover,
.navbar-default .navbar-brand:focus {
  color: #5e5e5e;
  background-color: transparent;
}
.navbar-default .navbar-text {
  color: #777;
}
.navbar-default .navbar-nav > li > a {
  color: #777;
}
.navbar-default .navbar-nav > li > a:hover,
.navbar-default .navbar-nav > li > a:focus {
  color: #333;
  background-color: transparent;
}
.navbar-default .navbar-nav > .active > a,
.navbar-default .navbar-nav > .active > a:hover,
.navbar-default .navbar-nav > .active > a:focus {
  color: #555;
  background-color: #e7e7e7;
}
.navbar-default .navbar-nav > .disabled > a,
.navbar-default .navbar-nav > .disabled > a:hover,
.navbar-default .navbar-nav > .disabled > a:focus {
  color: #ccc;
  background-color: transparent;
}
.navbar-default .navbar-toggle {
  border-color: #ddd;
}
.navbar-default .navbar-toggle:hover,
.navbar-default .navbar-toggle:focus {
  background-color: #ddd;
}
.navbar-default .navbar-toggle .icon-bar {
  background-color: #888;
}
.navbar-default .navbar-collapse,
.navbar-default .navbar-form {
  border-color: #e7e7e7;
}
.navbar-default .navbar-nav > .open > a,
.navbar-default .navbar-nav > .open > a:hover,
.navbar-default .navbar-nav > .open > a:focus {
  background-color: #e7e7e7;
  color: #555;
}
@media (max-width: 540px) {
  .navbar-default .navbar-nav .open .dropdown-menu > li > a {
    color: #777;
  }
  .navbar-default .navbar-nav .open .dropdown-menu > li > a:hover,
  .navbar-default .navbar-nav .open .dropdown-menu > li > a:focus {
    color: #333;
    background-color: transparent;
  }
  .navbar-default .navbar-nav .open .dropdown-menu > .active > a,
  .navbar-default .navbar-nav .open .dropdown-menu > .active > a:hover,
  .navbar-default .navbar-nav .open .dropdown-menu > .active > a:focus {
    color: #555;
    background-color: #e7e7e7;
  }
  .navbar-default .navbar-nav .open .dropdown-menu > .disabled > a,
  .navbar-default .navbar-nav .open .dropdown-menu > .disabled > a:hover,
  .navbar-default .navbar-nav .open .dropdown-menu > .disabled > a:focus {
    color: #ccc;
    background-color: transparent;
  }
}
.navbar-default .navbar-link {
  color: #777;
}
.navbar-default .navbar-link:hover {
  color: #333;
}
.navbar-default .btn-link {
  color: #777;
}
.navbar-default .btn-link:hover,
.navbar-default .btn-link:focus {
  color: #333;
}
.navbar-default .btn-link[disabled]:hover,
fieldset[disabled] .navbar-default .btn-link:hover,
.navbar-default .btn-link[disabled]:focus,
fieldset[disabled] .navbar-default .btn-link:focus {
  color: #ccc;
}
.navbar-inverse {
  background-color: #222;
  border-color: #080808;
}
.navbar-inverse .navbar-brand {
  color: #9d9d9d;
}
.navbar-inverse .navbar-brand:hover,
.navbar-inverse .navbar-brand:focus {
  color: #fff;
  background-color: transparent;
}
.navbar-inverse .navbar-text {
  color: #9d9d9d;
}
.navbar-inverse .navbar-nav > li > a {
  color: #9d9d9d;
}
.navbar-inverse .navbar-nav > li > a:hover,
.navbar-inverse .navbar-nav > li > a:focus {
  color: #fff;
  background-color: transparent;
}
.navbar-inverse .navbar-nav > .active > a,
.navbar-inverse .navbar-nav > .active > a:hover,
.navbar-inverse .navbar-nav > .active > a:focus {
  color: #fff;
  background-color: #080808;
}
.navbar-inverse .navbar-nav > .disabled > a,
.navbar-inverse .navbar-nav > .disabled > a:hover,
.navbar-inverse .navbar-nav > .disabled > a:focus {
  color: #444;
  background-color: transparent;
}
.navbar-inverse .navbar-toggle {
  border-color: #333;
}
.navbar-inverse .navbar-toggle:hover,
.navbar-inverse .navbar-toggle:focus {
  background-color: #333;
}
.navbar-inverse .navbar-toggle .icon-bar {
  background-color: #fff;
}
.navbar-inverse .navbar-collapse,
.navbar-inverse .navbar-form {
  border-color: #101010;
}
.navbar-inverse .navbar-nav > .open > a,
.navbar-inverse .navbar-nav > .open > a:hover,
.navbar-inverse .navbar-nav > .open > a:focus {
  background-color: #080808;
  color: #fff;
}
@media (max-width: 540px) {
  .navbar-inverse .navbar-nav .open .dropdown-menu > .dropdown-header {
    border-color: #080808;
  }
  .navbar-inverse .navbar-nav .open .dropdown-menu .divider {
    background-color: #080808;
  }
  .navbar-inverse .navbar-nav .open .dropdown-menu > li > a {
    color: #9d9d9d;
  }
  .navbar-inverse .navbar-nav .open .dropdown-menu > li > a:hover,
  .navbar-inverse .navbar-nav .open .dropdown-menu > li > a:focus {
    color: #fff;
    background-color: transparent;
  }
  .navbar-inverse .navbar-nav .open .dropdown-menu > .active > a,
  .navbar-inverse .navbar-nav .open .dropdown-menu > .active > a:hover,
  .navbar-inverse .navbar-nav .open .dropdown-menu > .active > a:focus {
    color: #fff;
    background-color: #080808;
  }
  .navbar-inverse .navbar-nav .open .dropdown-menu > .disabled > a,
  .navbar-inverse .navbar-nav .open .dropdown-menu > .disabled > a:hover,
  .navbar-inverse .navbar-nav .open .dropdown-menu > .disabled > a:focus {
    color: #444;
    background-color: transparent;
  }
}
.navbar-inverse .navbar-link {
  color: #9d9d9d;
}
.navbar-inverse .navbar-link:hover {
  color: #fff;
}
.navbar-inverse .btn-link {
  color: #9d9d9d;
}
.navbar-inverse .btn-link:hover,
.navbar-inverse .btn-link:focus {
  color: #fff;
}
.navbar-inverse .btn-link[disabled]:hover,
fieldset[disabled] .navbar-inverse .btn-link:hover,
.navbar-inverse .btn-link[disabled]:focus,
fieldset[disabled] .navbar-inverse .btn-link:focus {
  color: #444;
}
.breadcrumb {
  padding: 8px 15px;
  margin-bottom: 18px;
  list-style: none;
  background-color: #f5f5f5;
  border-radius: 2px;
}
.breadcrumb > li {
  display: inline-block;
}
.breadcrumb > li + li:before {
  content: "/\00a0";
  padding: 0 5px;
  color: #5e5e5e;
}
.breadcrumb > .active {
  color: #777777;
}
.pagination {
  display: inline-block;
  padding-left: 0;
  margin: 18px 0;
  border-radius: 2px;
}
.pagination > li {
  display: inline;
}
.pagination > li > a,
.pagination > li > span {
  position: relative;
  float: left;
  padding: 6px 12px;
  line-height: 1.42857143;
  text-decoration: none;
  color: #337ab7;
  background-color: #fff;
  border: 1px solid #ddd;
  margin-left: -1px;
}
.pagination > li:first-child > a,
.pagination > li:first-child > span {
  margin-left: 0;
  border-bottom-left-radius: 2px;
  border-top-left-radius: 2px;
}
.pagination > li:last-child > a,
.pagination > li:last-child > span {
  border-bottom-right-radius: 2px;
  border-top-right-radius: 2px;
}
.pagination > li > a:hover,
.pagination > li > span:hover,
.pagination > li > a:focus,
.pagination > li > span:focus {
  z-index: 2;
  color: #23527c;
  background-color: #eeeeee;
  border-color: #ddd;
}
.pagination > .active > a,
.pagination > .active > span,
.pagination > .active > a:hover,
.pagination > .active > span:hover,
.pagination > .active > a:focus,
.pagination > .active > span:focus {
  z-index: 3;
  color: #fff;
  background-color: #337ab7;
  border-color: #337ab7;
  cursor: default;
}
.pagination > .disabled > span,
.pagination > .disabled > span:hover,
.pagination > .disabled > span:focus,
.pagination > .disabled > a,
.pagination > .disabled > a:hover,
.pagination > .disabled > a:focus {
  color: #777777;
  background-color: #fff;
  border-color: #ddd;
  cursor: not-allowed;
}
.pagination-lg > li > a,
.pagination-lg > li > span {
  padding: 10px 16px;
  font-size: 17px;
  line-height: 1.3333333;
}
.pagination-lg > li:first-child > a,
.pagination-lg > li:first-child > span {
  border-bottom-left-radius: 3px;
  border-top-left-radius: 3px;
}
.pagination-lg > li:last-child > a,
.pagination-lg > li:last-child > span {
  border-bottom-right-radius: 3px;
  border-top-right-radius: 3px;
}
.pagination-sm > li > a,
.pagination-sm > li > span {
  padding: 5px 10px;
  font-size: 12px;
  line-height: 1.5;
}
.pagination-sm > li:first-child > a,
.pagination-sm > li:first-child > span {
  border-bottom-left-radius: 1px;
  border-top-left-radius: 1px;
}
.pagination-sm > li:last-child > a,
.pagination-sm > li:last-child > span {
  border-bottom-right-radius: 1px;
  border-top-right-radius: 1px;
}
.pager {
  padding-left: 0;
  margin: 18px 0;
  list-style: none;
  text-align: center;
}
.pager li {
  display: inline;
}
.pager li > a,
.pager li > span {
  display: inline-block;
  padding: 5px 14px;
  background-color: #fff;
  border: 1px solid #ddd;
  border-radius: 15px;
}
.pager li > a:hover,
.pager li > a:focus {
  text-decoration: none;
  background-color: #eeeeee;
}
.pager .next > a,
.pager .next > span {
  float: right;
}
.pager .previous > a,
.pager .previous > span {
  float: left;
}
.pager .disabled > a,
.pager .disabled > a:hover,
.pager .disabled > a:focus,
.pager .disabled > span {
  color: #777777;
  background-color: #fff;
  cursor: not-allowed;
}
.label {
  display: inline;
  padding: .2em .6em .3em;
  font-size: 75%;
  font-weight: bold;
  line-height: 1;
  color: #fff;
  text-align: center;
  white-space: nowrap;
  vertical-align: baseline;
  border-radius: .25em;
}
a.label:hover,
a.label:focus {
  color: #fff;
  text-decoration: none;
  cursor: pointer;
}
.label:empty {
  display: none;
}
.btn .label {
  position: relative;
  top: -1px;
}
.label-default {
  background-color: #777777;
}
.label-default[href]:hover,
.label-default[href]:focus {
  background-color: #5e5e5e;
}
.label-primary {
  background-color: #337ab7;
}
.label-primary[href]:hover,
.label-primary[href]:focus {
  background-color: #286090;
}
.label-success {
  background-color: #5cb85c;
}
.label-success[href]:hover,
.label-success[href]:focus {
  background-color: #449d44;
}
.label-info {
  background-color: #5bc0de;
}
.label-info[href]:hover,
.label-info[href]:focus {
  background-color: #31b0d5;
}
.label-warning {
  background-color: #f0ad4e;
}
.label-warning[href]:hover,
.label-warning[href]:focus {
  background-color: #ec971f;
}
.label-danger {
  background-color: #d9534f;
}
.label-danger[href]:hover,
.label-danger[href]:focus {
  background-color: #c9302c;
}
.badge {
  display: inline-block;
  min-width: 10px;
  padding: 3px 7px;
  font-size: 12px;
  font-weight: bold;
  color: #fff;
  line-height: 1;
  vertical-align: middle;
  white-space: nowrap;
  text-align: center;
  background-color: #777777;
  border-radius: 10px;
}
.badge:empty {
  display: none;
}
.btn .badge {
  position: relative;
  top: -1px;
}
.btn-xs .badge,
.btn-group-xs > .btn .badge {
  top: 0;
  padding: 1px 5px;
}
a.badge:hover,
a.badge:focus {
  color: #fff;
  text-decoration: none;
  cursor: pointer;
}
.list-group-item.active > .badge,
.nav-pills > .active > a > .badge {
  color: #337ab7;
  background-color: #fff;
}
.list-group-item > .badge {
  float: right;
}
.list-group-item > .badge + .badge {
  margin-right: 5px;
}
.nav-pills > li > a > .badge {
  margin-left: 3px;
}
.jumbotron {
  padding-top: 30px;
  padding-bottom: 30px;
  margin-bottom: 30px;
  color: inherit;
  background-color: #eeeeee;
}
.jumbotron h1,
.jumbotron .h1 {
  color: inherit;
}
.jumbotron p {
  margin-bottom: 15px;
  font-size: 20px;
  font-weight: 200;
}
.jumbotron > hr {
  border-top-color: #d5d5d5;
}
.container .jumbotron,
.container-fluid .jumbotron {
  border-radius: 3px;
  padding-left: 0px;
  padding-right: 0px;
}
.jumbotron .container {
  max-width: 100%;
}
@media screen and (min-width: 768px) {
  .jumbotron {
    padding-top: 48px;
    padding-bottom: 48px;
  }
  .container .jumbotron,
  .container-fluid .jumbotron {
    padding-left: 60px;
    padding-right: 60px;
  }
  .jumbotron h1,
  .jumbotron .h1 {
    font-size: 59px;
  }
}
.thumbnail {
  display: block;
  padding: 4px;
  margin-bottom: 18px;
  line-height: 1.42857143;
  background-color: #fff;
  border: 1px solid #ddd;
  border-radius: 2px;
  -webkit-transition: border 0.2s ease-in-out;
  -o-transition: border 0.2s ease-in-out;
  transition: border 0.2s ease-in-out;
}
.thumbnail > img,
.thumbnail a > img {
  margin-left: auto;
  margin-right: auto;
}
a.thumbnail:hover,
a.thumbnail:focus,
a.thumbnail.active {
  border-color: #337ab7;
}
.thumbnail .caption {
  padding: 9px;
  color: #000;
}
.alert {
  padding: 15px;
  margin-bottom: 18px;
  border: 1px solid transparent;
  border-radius: 2px;
}
.alert h4 {
  margin-top: 0;
  color: inherit;
}
.alert .alert-link {
  font-weight: bold;
}
.alert > p,
.alert > ul {
  margin-bottom: 0;
}
.alert > p + p {
  margin-top: 5px;
}
.alert-dismissable,
.alert-dismissible {
  padding-right: 35px;
}
.alert-dismissable .close,
.alert-dismissible .close {
  position: relative;
  top: -2px;
  right: -21px;
  color: inherit;
}
.alert-success {
  background-color: #dff0d8;
  border-color: #d6e9c6;
  color: #3c763d;
}
.alert-success hr {
  border-top-color: #c9e2b3;
}
.alert-success .alert-link {
  color: #2b542c;
}
.alert-info {
  background-color: #d9edf7;
  border-color: #bce8f1;
  color: #31708f;
}
.alert-info hr {
  border-top-color: #a6e1ec;
}
.alert-info .alert-link {
  color: #245269;
}
.alert-warning {
  background-color: #fcf8e3;
  border-color: #faebcc;
  color: #8a6d3b;
}
.alert-warning hr {
  border-top-color: #f7e1b5;
}
.alert-warning .alert-link {
  color: #66512c;
}
.alert-danger {
  background-color: #f2dede;
  border-color: #ebccd1;
  color: #a94442;
}
.alert-danger hr {
  border-top-color: #e4b9c0;
}
.alert-danger .alert-link {
  color: #843534;
}
@-webkit-keyframes progress-bar-stripes {
  from {
    background-position: 40px 0;
  }
  to {
    background-position: 0 0;
  }
}
@keyframes progress-bar-stripes {
  from {
    background-position: 40px 0;
  }
  to {
    background-position: 0 0;
  }
}
.progress {
  overflow: hidden;
  height: 18px;
  margin-bottom: 18px;
  background-color: #f5f5f5;
  border-radius: 2px;
  -webkit-box-shadow: inset 0 1px 2px rgba(0, 0, 0, 0.1);
  box-shadow: inset 0 1px 2px rgba(0, 0, 0, 0.1);
}
.progress-bar {
  float: left;
  width: 0%;
  height: 100%;
  font-size: 12px;
  line-height: 18px;
  color: #fff;
  text-align: center;
  background-color: #337ab7;
  -webkit-box-shadow: inset 0 -1px 0 rgba(0, 0, 0, 0.15);
  box-shadow: inset 0 -1px 0 rgba(0, 0, 0, 0.15);
  -webkit-transition: width 0.6s ease;
  -o-transition: width 0.6s ease;
  transition: width 0.6s ease;
}
.progress-striped .progress-bar,
.progress-bar-striped {
  background-image: -webkit-linear-gradient(45deg, rgba(255, 255, 255, 0.15) 25%, transparent 25%, transparent 50%, rgba(255, 255, 255, 0.15) 50%, rgba(255, 255, 255, 0.15) 75%, transparent 75%, transparent);
  background-image: -o-linear-gradient(45deg, rgba(255, 255, 255, 0.15) 25%, transparent 25%, transparent 50%, rgba(255, 255, 255, 0.15) 50%, rgba(255, 255, 255, 0.15) 75%, transparent 75%, transparent);
  background-image: linear-gradient(45deg, rgba(255, 255, 255, 0.15) 25%, transparent 25%, transparent 50%, rgba(255, 255, 255, 0.15) 50%, rgba(255, 255, 255, 0.15) 75%, transparent 75%, transparent);
  background-size: 40px 40px;
}
.progress.active .progress-bar,
.progress-bar.active {
  -webkit-animation: progress-bar-stripes 2s linear infinite;
  -o-animation: progress-bar-stripes 2s linear infinite;
  animation: progress-bar-stripes 2s linear infinite;
}
.progress-bar-success {
  background-color: #5cb85c;
}
.progress-striped .progress-bar-success {
  background-image: -webkit-linear-gradient(45deg, rgba(255, 255, 255, 0.15) 25%, transparent 25%, transparent 50%, rgba(255, 255, 255, 0.15) 50%, rgba(255, 255, 255, 0.15) 75%, transparent 75%, transparent);
  background-image: -o-linear-gradient(45deg, rgba(255, 255, 255, 0.15) 25%, transparent 25%, transparent 50%, rgba(255, 255, 255, 0.15) 50%, rgba(255, 255, 255, 0.15) 75%, transparent 75%, transparent);
  background-image: linear-gradient(45deg, rgba(255, 255, 255, 0.15) 25%, transparent 25%, transparent 50%, rgba(255, 255, 255, 0.15) 50%, rgba(255, 255, 255, 0.15) 75%, transparent 75%, transparent);
}
.progress-bar-info {
  background-color: #5bc0de;
}
.progress-striped .progress-bar-info {
  background-image: -webkit-linear-gradient(45deg, rgba(255, 255, 255, 0.15) 25%, transparent 25%, transparent 50%, rgba(255, 255, 255, 0.15) 50%, rgba(255, 255, 255, 0.15) 75%, transparent 75%, transparent);
  background-image: -o-linear-gradient(45deg, rgba(255, 255, 255, 0.15) 25%, transparent 25%, transparent 50%, rgba(255, 255, 255, 0.15) 50%, rgba(255, 255, 255, 0.15) 75%, transparent 75%, transparent);
  background-image: linear-gradient(45deg, rgba(255, 255, 255, 0.15) 25%, transparent 25%, transparent 50%, rgba(255, 255, 255, 0.15) 50%, rgba(255, 255, 255, 0.15) 75%, transparent 75%, transparent);
}
.progress-bar-warning {
  background-color: #f0ad4e;
}
.progress-striped .progress-bar-warning {
  background-image: -webkit-linear-gradient(45deg, rgba(255, 255, 255, 0.15) 25%, transparent 25%, transparent 50%, rgba(255, 255, 255, 0.15) 50%, rgba(255, 255, 255, 0.15) 75%, transparent 75%, transparent);
  background-image: -o-linear-gradient(45deg, rgba(255, 255, 255, 0.15) 25%, transparent 25%, transparent 50%, rgba(255, 255, 255, 0.15) 50%, rgba(255, 255, 255, 0.15) 75%, transparent 75%, transparent);
  background-image: linear-gradient(45deg, rgba(255, 255, 255, 0.15) 25%, transparent 25%, transparent 50%, rgba(255, 255, 255, 0.15) 50%, rgba(255, 255, 255, 0.15) 75%, transparent 75%, transparent);
}
.progress-bar-danger {
  background-color: #d9534f;
}
.progress-striped .progress-bar-danger {
  background-image: -webkit-linear-gradient(45deg, rgba(255, 255, 255, 0.15) 25%, transparent 25%, transparent 50%, rgba(255, 255, 255, 0.15) 50%, rgba(255, 255, 255, 0.15) 75%, transparent 75%, transparent);
  background-image: -o-linear-gradient(45deg, rgba(255, 255, 255, 0.15) 25%, transparent 25%, transparent 50%, rgba(255, 255, 255, 0.15) 50%, rgba(255, 255, 255, 0.15) 75%, transparent 75%, transparent);
  background-image: linear-gradient(45deg, rgba(255, 255, 255, 0.15) 25%, transparent 25%, transparent 50%, rgba(255, 255, 255, 0.15) 50%, rgba(255, 255, 255, 0.15) 75%, transparent 75%, transparent);
}
.media {
  margin-top: 15px;
}
.media:first-child {
  margin-top: 0;
}
.media,
.media-body {
  zoom: 1;
  overflow: hidden;
}
.media-body {
  width: 10000px;
}
.media-object {
  display: block;
}
.media-object.img-thumbnail {
  max-width: none;
}
.media-right,
.media > .pull-right {
  padding-left: 10px;
}
.media-left,
.media > .pull-left {
  padding-right: 10px;
}
.media-left,
.media-right,
.media-body {
  display: table-cell;
  vertical-align: top;
}
.media-middle {
  vertical-align: middle;
}
.media-bottom {
  vertical-align: bottom;
}
.media-heading {
  margin-top: 0;
  margin-bottom: 5px;
}
.media-list {
  padding-left: 0;
  list-style: none;
}
.list-group {
  margin-bottom: 20px;
  padding-left: 0;
}
.list-group-item {
  position: relative;
  display: block;
  padding: 10px 15px;
  margin-bottom: -1px;
  background-color: #fff;
  border: 1px solid #ddd;
}
.list-group-item:first-child {
  border-top-right-radius: 2px;
  border-top-left-radius: 2px;
}
.list-group-item:last-child {
  margin-bottom: 0;
  border-bottom-right-radius: 2px;
  border-bottom-left-radius: 2px;
}
a.list-group-item,
button.list-group-item {
  color: #555;
}
a.list-group-item .list-group-item-heading,
button.list-group-item .list-group-item-heading {
  color: #333;
}
a.list-group-item:hover,
button.list-group-item:hover,
a.list-group-item:focus,
button.list-group-item:focus {
  text-decoration: none;
  color: #555;
  background-color: #f5f5f5;
}
button.list-group-item {
  width: 100%;
  text-align: left;
}
.list-group-item.disabled,
.list-group-item.disabled:hover,
.list-group-item.disabled:focus {
  background-color: #eeeeee;
  color: #777777;
  cursor: not-allowed;
}
.list-group-item.disabled .list-group-item-heading,
.list-group-item.disabled:hover .list-group-item-heading,
.list-group-item.disabled:focus .list-group-item-heading {
  color: inherit;
}
.list-group-item.disabled .list-group-item-text,
.list-group-item.disabled:hover .list-group-item-text,
.list-group-item.disabled:focus .list-group-item-text {
  color: #777777;
}
.list-group-item.active,
.list-group-item.active:hover,
.list-group-item.active:focus {
  z-index: 2;
  color: #fff;
  background-color: #337ab7;
  border-color: #337ab7;
}
.list-group-item.active .list-group-item-heading,
.list-group-item.active:hover .list-group-item-heading,
.list-group-item.active:focus .list-group-item-heading,
.list-group-item.active .list-group-item-heading > small,
.list-group-item.active:hover .list-group-item-heading > small,
.list-group-item.active:focus .list-group-item-heading > small,
.list-group-item.active .list-group-item-heading > .small,
.list-group-item.active:hover .list-group-item-heading > .small,
.list-group-item.active:focus .list-group-item-heading > .small {
  color: inherit;
}
.list-group-item.active .list-group-item-text,
.list-group-item.active:hover .list-group-item-text,
.list-group-item.active:focus .list-group-item-text {
  color: #c7ddef;
}
.list-group-item-success {
  color: #3c763d;
  background-color: #dff0d8;
}
a.list-group-item-success,
button.list-group-item-success {
  color: #3c763d;
}
a.list-group-item-success .list-group-item-heading,
button.list-group-item-success .list-group-item-heading {
  color: inherit;
}
a.list-group-item-success:hover,
button.list-group-item-success:hover,
a.list-group-item-success:focus,
button.list-group-item-success:focus {
  color: #3c763d;
  background-color: #d0e9c6;
}
a.list-group-item-success.active,
button.list-group-item-success.active,
a.list-group-item-success.active:hover,
button.list-group-item-success.active:hover,
a.list-group-item-success.active:focus,
button.list-group-item-success.active:focus {
  color: #fff;
  background-color: #3c763d;
  border-color: #3c763d;
}
.list-group-item-info {
  color: #31708f;
  background-color: #d9edf7;
}
a.list-group-item-info,
button.list-group-item-info {
  color: #31708f;
}
a.list-group-item-info .list-group-item-heading,
button.list-group-item-info .list-group-item-heading {
  color: inherit;
}
a.list-group-item-info:hover,
button.list-group-item-info:hover,
a.list-group-item-info:focus,
button.list-group-item-info:focus {
  color: #31708f;
  background-color: #c4e3f3;
}
a.list-group-item-info.active,
button.list-group-item-info.active,
a.list-group-item-info.active:hover,
button.list-group-item-info.active:hover,
a.list-group-item-info.active:focus,
button.list-group-item-info.active:focus {
  color: #fff;
  background-color: #31708f;
  border-color: #31708f;
}
.list-group-item-warning {
  color: #8a6d3b;
  background-color: #fcf8e3;
}
a.list-group-item-warning,
button.list-group-item-warning {
  color: #8a6d3b;
}
a.list-group-item-warning .list-group-item-heading,
button.list-group-item-warning .list-group-item-heading {
  color: inherit;
}
a.list-group-item-warning:hover,
button.list-group-item-warning:hover,
a.list-group-item-warning:focus,
button.list-group-item-warning:focus {
  color: #8a6d3b;
  background-color: #faf2cc;
}
a.list-group-item-warning.active,
button.list-group-item-warning.active,
a.list-group-item-warning.active:hover,
button.list-group-item-warning.active:hover,
a.list-group-item-warning.active:focus,
button.list-group-item-warning.active:focus {
  color: #fff;
  background-color: #8a6d3b;
  border-color: #8a6d3b;
}
.list-group-item-danger {
  color: #a94442;
  background-color: #f2dede;
}
a.list-group-item-danger,
button.list-group-item-danger {
  color: #a94442;
}
a.list-group-item-danger .list-group-item-heading,
button.list-group-item-danger .list-group-item-heading {
  color: inherit;
}
a.list-group-item-danger:hover,
button.list-group-item-danger:hover,
a.list-group-item-danger:focus,
button.list-group-item-danger:focus {
  color: #a94442;
  background-color: #ebcccc;
}
a.list-group-item-danger.active,
button.list-group-item-danger.active,
a.list-group-item-danger.active:hover,
button.list-group-item-danger.active:hover,
a.list-group-item-danger.active:focus,
button.list-group-item-danger.active:focus {
  color: #fff;
  background-color: #a94442;
  border-color: #a94442;
}
.list-group-item-heading {
  margin-top: 0;
  margin-bottom: 5px;
}
.list-group-item-text {
  margin-bottom: 0;
  line-height: 1.3;
}
.panel {
  margin-bottom: 18px;
  background-color: #fff;
  border: 1px solid transparent;
  border-radius: 2px;
  -webkit-box-shadow: 0 1px 1px rgba(0, 0, 0, 0.05);
  box-shadow: 0 1px 1px rgba(0, 0, 0, 0.05);
}
.panel-body {
  padding: 15px;
}
.panel-heading {
  padding: 10px 15px;
  border-bottom: 1px solid transparent;
  border-top-right-radius: 1px;
  border-top-left-radius: 1px;
}
.panel-heading > .dropdown .dropdown-toggle {
  color: inherit;
}
.panel-title {
  margin-top: 0;
  margin-bottom: 0;
  font-size: 15px;
  color: inherit;
}
.panel-title > a,
.panel-title > small,
.panel-title > .small,
.panel-title > small > a,
.panel-title > .small > a {
  color: inherit;
}
.panel-footer {
  padding: 10px 15px;
  background-color: #f5f5f5;
  border-top: 1px solid #ddd;
  border-bottom-right-radius: 1px;
  border-bottom-left-radius: 1px;
}
.panel > .list-group,
.panel > .panel-collapse > .list-group {
  margin-bottom: 0;
}
.panel > .list-group .list-group-item,
.panel > .panel-collapse > .list-group .list-group-item {
  border-width: 1px 0;
  border-radius: 0;
}
.panel > .list-group:first-child .list-group-item:first-child,
.panel > .panel-collapse > .list-group:first-child .list-group-item:first-child {
  border-top: 0;
  border-top-right-radius: 1px;
  border-top-left-radius: 1px;
}
.panel > .list-group:last-child .list-group-item:last-child,
.panel > .panel-collapse > .list-group:last-child .list-group-item:last-child {
  border-bottom: 0;
  border-bottom-right-radius: 1px;
  border-bottom-left-radius: 1px;
}
.panel > .panel-heading + .panel-collapse > .list-group .list-group-item:first-child {
  border-top-right-radius: 0;
  border-top-left-radius: 0;
}
.panel-heading + .list-group .list-group-item:first-child {
  border-top-width: 0;
}
.list-group + .panel-footer {
  border-top-width: 0;
}
.panel > .table,
.panel > .table-responsive > .table,
.panel > .panel-collapse > .table {
  margin-bottom: 0;
}
.panel > .table caption,
.panel > .table-responsive > .table caption,
.panel > .panel-collapse > .table caption {
  padding-left: 15px;
  padding-right: 15px;
}
.panel > .table:first-child,
.panel > .table-responsive:first-child > .table:first-child {
  border-top-right-radius: 1px;
  border-top-left-radius: 1px;
}
.panel > .table:first-child > thead:first-child > tr:first-child,
.panel > .table-responsive:first-child > .table:first-child > thead:first-child > tr:first-child,
.panel > .table:first-child > tbody:first-child > tr:first-child,
.panel > .table-responsive:first-child > .table:first-child > tbody:first-child > tr:first-child {
  border-top-left-radius: 1px;
  border-top-right-radius: 1px;
}
.panel > .table:first-child > thead:first-child > tr:first-child td:first-child,
.panel > .table-responsive:first-child > .table:first-child > thead:first-child > tr:first-child td:first-child,
.panel > .table:first-child > tbody:first-child > tr:first-child td:first-child,
.panel > .table-responsive:first-child > .table:first-child > tbody:first-child > tr:first-child td:first-child,
.panel > .table:first-child > thead:first-child > tr:first-child th:first-child,
.panel > .table-responsive:first-child > .table:first-child > thead:first-child > tr:first-child th:first-child,
.panel > .table:first-child > tbody:first-child > tr:first-child th:first-child,
.panel > .table-responsive:first-child > .table:first-child > tbody:first-child > tr:first-child th:first-child {
  border-top-left-radius: 1px;
}
.panel > .table:first-child > thead:first-child > tr:first-child td:last-child,
.panel > .table-responsive:first-child > .table:first-child > thead:first-child > tr:first-child td:last-child,
.panel > .table:first-child > tbody:first-child > tr:first-child td:last-child,
.panel > .table-responsive:first-child > .table:first-child > tbody:first-child > tr:first-child td:last-child,
.panel > .table:first-child > thead:first-child > tr:first-child th:last-child,
.panel > .table-responsive:first-child > .table:first-child > thead:first-child > tr:first-child th:last-child,
.panel > .table:first-child > tbody:first-child > tr:first-child th:last-child,
.panel > .table-responsive:first-child > .table:first-child > tbody:first-child > tr:first-child th:last-child {
  border-top-right-radius: 1px;
}
.panel > .table:last-child,
.panel > .table-responsive:last-child > .table:last-child {
  border-bottom-right-radius: 1px;
  border-bottom-left-radius: 1px;
}
.panel > .table:last-child > tbody:last-child > tr:last-child,
.panel > .table-responsive:last-child > .table:last-child > tbody:last-child > tr:last-child,
.panel > .table:last-child > tfoot:last-child > tr:last-child,
.panel > .table-responsive:last-child > .table:last-child > tfoot:last-child > tr:last-child {
  border-bottom-left-radius: 1px;
  border-bottom-right-radius: 1px;
}
.panel > .table:last-child > tbody:last-child > tr:last-child td:first-child,
.panel > .table-responsive:last-child > .table:last-child > tbody:last-child > tr:last-child td:first-child,
.panel > .table:last-child > tfoot:last-child > tr:last-child td:first-child,
.panel > .table-responsive:last-child > .table:last-child > tfoot:last-child > tr:last-child td:first-child,
.panel > .table:last-child > tbody:last-child > tr:last-child th:first-child,
.panel > .table-responsive:last-child > .table:last-child > tbody:last-child > tr:last-child th:first-child,
.panel > .table:last-child > tfoot:last-child > tr:last-child th:first-child,
.panel > .table-responsive:last-child > .table:last-child > tfoot:last-child > tr:last-child th:first-child {
  border-bottom-left-radius: 1px;
}
.panel > .table:last-child > tbody:last-child > tr:last-child td:last-child,
.panel > .table-responsive:last-child > .table:last-child > tbody:last-child > tr:last-child td:last-child,
.panel > .table:last-child > tfoot:last-child > tr:last-child td:last-child,
.panel > .table-responsive:last-child > .table:last-child > tfoot:last-child > tr:last-child td:last-child,
.panel > .table:last-child > tbody:last-child > tr:last-child th:last-child,
.panel > .table-responsive:last-child > .table:last-child > tbody:last-child > tr:last-child th:last-child,
.panel > .table:last-child > tfoot:last-child > tr:last-child th:last-child,
.panel > .table-responsive:last-child > .table:last-child > tfoot:last-child > tr:last-child th:last-child {
  border-bottom-right-radius: 1px;
}
.panel > .panel-body + .table,
.panel > .panel-body + .table-responsive,
.panel > .table + .panel-body,
.panel > .table-responsive + .panel-body {
  border-top: 1px solid #ddd;
}
.panel > .table > tbody:first-child > tr:first-child th,
.panel > .table > tbody:first-child > tr:first-child td {
  border-top: 0;
}
.panel > .table-bordered,
.panel > .table-responsive > .table-bordered {
  border: 0;
}
.panel > .table-bordered > thead > tr > th:first-child,
.panel > .table-responsive > .table-bordered > thead > tr > th:first-child,
.panel > .table-bordered > tbody > tr > th:first-child,
.panel > .table-responsive > .table-bordered > tbody > tr > th:first-child,
.panel > .table-bordered > tfoot > tr > th:first-child,
.panel > .table-responsive > .table-bordered > tfoot > tr > th:first-child,
.panel > .table-bordered > thead > tr > td:first-child,
.panel > .table-responsive > .table-bordered > thead > tr > td:first-child,
.panel > .table-bordered > tbody > tr > td:first-child,
.panel > .table-responsive > .table-bordered > tbody > tr > td:first-child,
.panel > .table-bordered > tfoot > tr > td:first-child,
.panel > .table-responsive > .table-bordered > tfoot > tr > td:first-child {
  border-left: 0;
}
.panel > .table-bordered > thead > tr > th:last-child,
.panel > .table-responsive > .table-bordered > thead > tr > th:last-child,
.panel > .table-bordered > tbody > tr > th:last-child,
.panel > .table-responsive > .table-bordered > tbody > tr > th:last-child,
.panel > .table-bordered > tfoot > tr > th:last-child,
.panel > .table-responsive > .table-bordered > tfoot > tr > th:last-child,
.panel > .table-bordered > thead > tr > td:last-child,
.panel > .table-responsive > .table-bordered > thead > tr > td:last-child,
.panel > .table-bordered > tbody > tr > td:last-child,
.panel > .table-responsive > .table-bordered > tbody > tr > td:last-child,
.panel > .table-bordered > tfoot > tr > td:last-child,
.panel > .table-responsive > .table-bordered > tfoot > tr > td:last-child {
  border-right: 0;
}
.panel > .table-bordered > thead > tr:first-child > td,
.panel > .table-responsive > .table-bordered > thead > tr:first-child > td,
.panel > .table-bordered > tbody > tr:first-child > td,
.panel > .table-responsive > .table-bordered > tbody > tr:first-child > td,
.panel > .table-bordered > thead > tr:first-child > th,
.panel > .table-responsive > .table-bordered > thead > tr:first-child > th,
.panel > .table-bordered > tbody > tr:first-child > th,
.panel > .table-responsive > .table-bordered > tbody > tr:first-child > th {
  border-bottom: 0;
}
.panel > .table-bordered > tbody > tr:last-child > td,
.panel > .table-responsive > .table-bordered > tbody > tr:last-child > td,
.panel > .table-bordered > tfoot > tr:last-child > td,
.panel > .table-responsive > .table-bordered > tfoot > tr:last-child > td,
.panel > .table-bordered > tbody > tr:last-child > th,
.panel > .table-responsive > .table-bordered > tbody > tr:last-child > th,
.panel > .table-bordered > tfoot > tr:last-child > th,
.panel > .table-responsive > .table-bordered > tfoot > tr:last-child > th {
  border-bottom: 0;
}
.panel > .table-responsive {
  border: 0;
  margin-bottom: 0;
}
.panel-group {
  margin-bottom: 18px;
}
.panel-group .panel {
  margin-bottom: 0;
  border-radius: 2px;
}
.panel-group .panel + .panel {
  margin-top: 5px;
}
.panel-group .panel-heading {
  border-bottom: 0;
}
.panel-group .panel-heading + .panel-collapse > .panel-body,
.panel-group .panel-heading + .panel-collapse > .list-group {
  border-top: 1px solid #ddd;
}
.panel-group .panel-footer {
  border-top: 0;
}
.panel-group .panel-footer + .panel-collapse .panel-body {
  border-bottom: 1px solid #ddd;
}
.panel-default {
  border-color: #ddd;
}
.panel-default > .panel-heading {
  color: #333333;
  background-color: #f5f5f5;
  border-color: #ddd;
}
.panel-default > .panel-heading + .panel-collapse > .panel-body {
  border-top-color: #ddd;
}
.panel-default > .panel-heading .badge {
  color: #f5f5f5;
  background-color: #333333;
}
.panel-default > .panel-footer + .panel-collapse > .panel-body {
  border-bottom-color: #ddd;
}
.panel-primary {
  border-color: #337ab7;
}
.panel-primary > .panel-heading {
  color: #fff;
  background-color: #337ab7;
  border-color: #337ab7;
}
.panel-primary > .panel-heading + .panel-collapse > .panel-body {
  border-top-color: #337ab7;
}
.panel-primary > .panel-heading .badge {
  color: #337ab7;
  background-color: #fff;
}
.panel-primary > .panel-footer + .panel-collapse > .panel-body {
  border-bottom-color: #337ab7;
}
.panel-success {
  border-color: #d6e9c6;
}
.panel-success > .panel-heading {
  color: #3c763d;
  background-color: #dff0d8;
  border-color: #d6e9c6;
}
.panel-success > .panel-heading + .panel-collapse > .panel-body {
  border-top-color: #d6e9c6;
}
.panel-success > .panel-heading .badge {
  color: #dff0d8;
  background-color: #3c763d;
}
.panel-success > .panel-footer + .panel-collapse > .panel-body {
  border-bottom-color: #d6e9c6;
}
.panel-info {
  border-color: #bce8f1;
}
.panel-info > .panel-heading {
  color: #31708f;
  background-color: #d9edf7;
  border-color: #bce8f1;
}
.panel-info > .panel-heading + .panel-collapse > .panel-body {
  border-top-color: #bce8f1;
}
.panel-info > .panel-heading .badge {
  color: #d9edf7;
  background-color: #31708f;
}
.panel-info > .panel-footer + .panel-collapse > .panel-body {
  border-bottom-color: #bce8f1;
}
.panel-warning {
  border-color: #faebcc;
}
.panel-warning > .panel-heading {
  color: #8a6d3b;
  background-color: #fcf8e3;
  border-color: #faebcc;
}
.panel-warning > .panel-heading + .panel-collapse > .panel-body {
  border-top-color: #faebcc;
}
.panel-warning > .panel-heading .badge {
  color: #fcf8e3;
  background-color: #8a6d3b;
}
.panel-warning > .panel-footer + .panel-collapse > .panel-body {
  border-bottom-color: #faebcc;
}
.panel-danger {
  border-color: #ebccd1;
}
.panel-danger > .panel-heading {
  color: #a94442;
  background-color: #f2dede;
  border-color: #ebccd1;
}
.panel-danger > .panel-heading + .panel-collapse > .panel-body {
  border-top-color: #ebccd1;
}
.panel-danger > .panel-heading .badge {
  color: #f2dede;
  background-color: #a94442;
}
.panel-danger > .panel-footer + .panel-collapse > .panel-body {
  border-bottom-color: #ebccd1;
}
.embed-responsive {
  position: relative;
  display: block;
  height: 0;
  padding: 0;
  overflow: hidden;
}
.embed-responsive .embed-responsive-item,
.embed-responsive iframe,
.embed-responsive embed,
.embed-responsive object,
.embed-responsive video {
  position: absolute;
  top: 0;
  left: 0;
  bottom: 0;
  height: 100%;
  width: 100%;
  border: 0;
}
.embed-responsive-16by9 {
  padding-bottom: 56.25%;
}
.embed-responsive-4by3 {
  padding-bottom: 75%;
}
.well {
  min-height: 20px;
  padding: 19px;
  margin-bottom: 20px;
  background-color: #f5f5f5;
  border: 1px solid #e3e3e3;
  border-radius: 2px;
  -webkit-box-shadow: inset 0 1px 1px rgba(0, 0, 0, 0.05);
  box-shadow: inset 0 1px 1px rgba(0, 0, 0, 0.05);
}
.well blockquote {
  border-color: #ddd;
  border-color: rgba(0, 0, 0, 0.15);
}
.well-lg {
  padding: 24px;
  border-radius: 3px;
}
.well-sm {
  padding: 9px;
  border-radius: 1px;
}
.close {
  float: right;
  font-size: 19.5px;
  font-weight: bold;
  line-height: 1;
  color: #000;
  text-shadow: 0 1px 0 #fff;
  opacity: 0.2;
  filter: alpha(opacity=20);
}
.close:hover,
.close:focus {
  color: #000;
  text-decoration: none;
  cursor: pointer;
  opacity: 0.5;
  filter: alpha(opacity=50);
}
button.close {
  padding: 0;
  cursor: pointer;
  background: transparent;
  border: 0;
  -webkit-appearance: none;
}
.modal-open {
  overflow: hidden;
}
.modal {
  display: none;
  overflow: hidden;
  position: fixed;
  top: 0;
  right: 0;
  bottom: 0;
  left: 0;
  z-index: 1050;
  -webkit-overflow-scrolling: touch;
  outline: 0;
}
.modal.fade .modal-dialog {
  -webkit-transform: translate(0, -25%);
  -ms-transform: translate(0, -25%);
  -o-transform: translate(0, -25%);
  transform: translate(0, -25%);
  -webkit-transition: -webkit-transform 0.3s ease-out;
  -moz-transition: -moz-transform 0.3s ease-out;
  -o-transition: -o-transform 0.3s ease-out;
  transition: transform 0.3s ease-out;
}
.modal.in .modal-dialog {
  -webkit-transform: translate(0, 0);
  -ms-transform: translate(0, 0);
  -o-transform: translate(0, 0);
  transform: translate(0, 0);
}
.modal-open .modal {
  overflow-x: hidden;
  overflow-y: auto;
}
.modal-dialog {
  position: relative;
  width: auto;
  margin: 10px;
}
.modal-content {
  position: relative;
  background-color: #fff;
  border: 1px solid #999;
  border: 1px solid rgba(0, 0, 0, 0.2);
  border-radius: 3px;
  -webkit-box-shadow: 0 3px 9px rgba(0, 0, 0, 0.5);
  box-shadow: 0 3px 9px rgba(0, 0, 0, 0.5);
  background-clip: padding-box;
  outline: 0;
}
.modal-backdrop {
  position: fixed;
  top: 0;
  right: 0;
  bottom: 0;
  left: 0;
  z-index: 1040;
  background-color: #000;
}
.modal-backdrop.fade {
  opacity: 0;
  filter: alpha(opacity=0);
}
.modal-backdrop.in {
  opacity: 0.5;
  filter: alpha(opacity=50);
}
.modal-header {
  padding: 15px;
  border-bottom: 1px solid #e5e5e5;
}
.modal-header .close {
  margin-top: -2px;
}
.modal-title {
  margin: 0;
  line-height: 1.42857143;
}
.modal-body {
  position: relative;
  padding: 15px;
}
.modal-footer {
  padding: 15px;
  text-align: right;
  border-top: 1px solid #e5e5e5;
}
.modal-footer .btn + .btn {
  margin-left: 5px;
  margin-bottom: 0;
}
.modal-footer .btn-group .btn + .btn {
  margin-left: -1px;
}
.modal-footer .btn-block + .btn-block {
  margin-left: 0;
}
.modal-scrollbar-measure {
  position: absolute;
  top: -9999px;
  width: 50px;
  height: 50px;
  overflow: scroll;
}
@media (min-width: 768px) {
  .modal-dialog {
    width: 600px;
    margin: 30px auto;
  }
  .modal-content {
    -webkit-box-shadow: 0 5px 15px rgba(0, 0, 0, 0.5);
    box-shadow: 0 5px 15px rgba(0, 0, 0, 0.5);
  }
  .modal-sm {
    width: 300px;
  }
}
@media (min-width: 992px) {
  .modal-lg {
    width: 900px;
  }
}
.tooltip {
  position: absolute;
  z-index: 1070;
  display: block;
  font-family: "Helvetica Neue", Helvetica, Arial, sans-serif;
  font-style: normal;
  font-weight: normal;
  letter-spacing: normal;
  line-break: auto;
  line-height: 1.42857143;
  text-align: left;
  text-align: start;
  text-decoration: none;
  text-shadow: none;
  text-transform: none;
  white-space: normal;
  word-break: normal;
  word-spacing: normal;
  word-wrap: normal;
  font-size: 12px;
  opacity: 0;
  filter: alpha(opacity=0);
}
.tooltip.in {
  opacity: 0.9;
  filter: alpha(opacity=90);
}
.tooltip.top {
  margin-top: -3px;
  padding: 5px 0;
}
.tooltip.right {
  margin-left: 3px;
  padding: 0 5px;
}
.tooltip.bottom {
  margin-top: 3px;
  padding: 5px 0;
}
.tooltip.left {
  margin-left: -3px;
  padding: 0 5px;
}
.tooltip-inner {
  max-width: 200px;
  padding: 3px 8px;
  color: #fff;
  text-align: center;
  background-color: #000;
  border-radius: 2px;
}
.tooltip-arrow {
  position: absolute;
  width: 0;
  height: 0;
  border-color: transparent;
  border-style: solid;
}
.tooltip.top .tooltip-arrow {
  bottom: 0;
  left: 50%;
  margin-left: -5px;
  border-width: 5px 5px 0;
  border-top-color: #000;
}
.tooltip.top-left .tooltip-arrow {
  bottom: 0;
  right: 5px;
  margin-bottom: -5px;
  border-width: 5px 5px 0;
  border-top-color: #000;
}
.tooltip.top-right .tooltip-arrow {
  bottom: 0;
  left: 5px;
  margin-bottom: -5px;
  border-width: 5px 5px 0;
  border-top-color: #000;
}
.tooltip.right .tooltip-arrow {
  top: 50%;
  left: 0;
  margin-top: -5px;
  border-width: 5px 5px 5px 0;
  border-right-color: #000;
}
.tooltip.left .tooltip-arrow {
  top: 50%;
  right: 0;
  margin-top: -5px;
  border-width: 5px 0 5px 5px;
  border-left-color: #000;
}
.tooltip.bottom .tooltip-arrow {
  top: 0;
  left: 50%;
  margin-left: -5px;
  border-width: 0 5px 5px;
  border-bottom-color: #000;
}
.tooltip.bottom-left .tooltip-arrow {
  top: 0;
  right: 5px;
  margin-top: -5px;
  border-width: 0 5px 5px;
  border-bottom-color: #000;
}
.tooltip.bottom-right .tooltip-arrow {
  top: 0;
  left: 5px;
  margin-top: -5px;
  border-width: 0 5px 5px;
  border-bottom-color: #000;
}
.popover {
  position: absolute;
  top: 0;
  left: 0;
  z-index: 1060;
  display: none;
  max-width: 276px;
  padding: 1px;
  font-family: "Helvetica Neue", Helvetica, Arial, sans-serif;
  font-style: normal;
  font-weight: normal;
  letter-spacing: normal;
  line-break: auto;
  line-height: 1.42857143;
  text-align: left;
  text-align: start;
  text-decoration: none;
  text-shadow: none;
  text-transform: none;
  white-space: normal;
  word-break: normal;
  word-spacing: normal;
  word-wrap: normal;
  font-size: 13px;
  background-color: #fff;
  background-clip: padding-box;
  border: 1px solid #ccc;
  border: 1px solid rgba(0, 0, 0, 0.2);
  border-radius: 3px;
  -webkit-box-shadow: 0 5px 10px rgba(0, 0, 0, 0.2);
  box-shadow: 0 5px 10px rgba(0, 0, 0, 0.2);
}
.popover.top {
  margin-top: -10px;
}
.popover.right {
  margin-left: 10px;
}
.popover.bottom {
  margin-top: 10px;
}
.popover.left {
  margin-left: -10px;
}
.popover-title {
  margin: 0;
  padding: 8px 14px;
  font-size: 13px;
  background-color: #f7f7f7;
  border-bottom: 1px solid #ebebeb;
  border-radius: 2px 2px 0 0;
}
.popover-content {
  padding: 9px 14px;
}
.popover > .arrow,
.popover > .arrow:after {
  position: absolute;
  display: block;
  width: 0;
  height: 0;
  border-color: transparent;
  border-style: solid;
}
.popover > .arrow {
  border-width: 11px;
}
.popover > .arrow:after {
  border-width: 10px;
  content: "";
}
.popover.top > .arrow {
  left: 50%;
  margin-left: -11px;
  border-bottom-width: 0;
  border-top-color: #999999;
  border-top-color: rgba(0, 0, 0, 0.25);
  bottom: -11px;
}
.popover.top > .arrow:after {
  content: " ";
  bottom: 1px;
  margin-left: -10px;
  border-bottom-width: 0;
  border-top-color: #fff;
}
.popover.right > .arrow {
  top: 50%;
  left: -11px;
  margin-top: -11px;
  border-left-width: 0;
  border-right-color: #999999;
  border-right-color: rgba(0, 0, 0, 0.25);
}
.popover.right > .arrow:after {
  content: " ";
  left: 1px;
  bottom: -10px;
  border-left-width: 0;
  border-right-color: #fff;
}
.popover.bottom > .arrow {
  left: 50%;
  margin-left: -11px;
  border-top-width: 0;
  border-bottom-color: #999999;
  border-bottom-color: rgba(0, 0, 0, 0.25);
  top: -11px;
}
.popover.bottom > .arrow:after {
  content: " ";
  top: 1px;
  margin-left: -10px;
  border-top-width: 0;
  border-bottom-color: #fff;
}
.popover.left > .arrow {
  top: 50%;
  right: -11px;
  margin-top: -11px;
  border-right-width: 0;
  border-left-color: #999999;
  border-left-color: rgba(0, 0, 0, 0.25);
}
.popover.left > .arrow:after {
  content: " ";
  right: 1px;
  border-right-width: 0;
  border-left-color: #fff;
  bottom: -10px;
}
.carousel {
  position: relative;
}
.carousel-inner {
  position: relative;
  overflow: hidden;
  width: 100%;
}
.carousel-inner > .item {
  display: none;
  position: relative;
  -webkit-transition: 0.6s ease-in-out left;
  -o-transition: 0.6s ease-in-out left;
  transition: 0.6s ease-in-out left;
}
.carousel-inner > .item > img,
.carousel-inner > .item > a > img {
  line-height: 1;
}
@media all and (transform-3d), (-webkit-transform-3d) {
  .carousel-inner > .item {
    -webkit-transition: -webkit-transform 0.6s ease-in-out;
    -moz-transition: -moz-transform 0.6s ease-in-out;
    -o-transition: -o-transform 0.6s ease-in-out;
    transition: transform 0.6s ease-in-out;
    -webkit-backface-visibility: hidden;
    -moz-backface-visibility: hidden;
    backface-visibility: hidden;
    -webkit-perspective: 1000px;
    -moz-perspective: 1000px;
    perspective: 1000px;
  }
  .carousel-inner > .item.next,
  .carousel-inner > .item.active.right {
    -webkit-transform: translate3d(100%, 0, 0);
    transform: translate3d(100%, 0, 0);
    left: 0;
  }
  .carousel-inner > .item.prev,
  .carousel-inner > .item.active.left {
    -webkit-transform: translate3d(-100%, 0, 0);
    transform: translate3d(-100%, 0, 0);
    left: 0;
  }
  .carousel-inner > .item.next.left,
  .carousel-inner > .item.prev.right,
  .carousel-inner > .item.active {
    -webkit-transform: translate3d(0, 0, 0);
    transform: translate3d(0, 0, 0);
    left: 0;
  }
}
.carousel-inner > .active,
.carousel-inner > .next,
.carousel-inner > .prev {
  display: block;
}
.carousel-inner > .active {
  left: 0;
}
.carousel-inner > .next,
.carousel-inner > .prev {
  position: absolute;
  top: 0;
  width: 100%;
}
.carousel-inner > .next {
  left: 100%;
}
.carousel-inner > .prev {
  left: -100%;
}
.carousel-inner > .next.left,
.carousel-inner > .prev.right {
  left: 0;
}
.carousel-inner > .active.left {
  left: -100%;
}
.carousel-inner > .active.right {
  left: 100%;
}
.carousel-control {
  position: absolute;
  top: 0;
  left: 0;
  bottom: 0;
  width: 15%;
  opacity: 0.5;
  filter: alpha(opacity=50);
  font-size: 20px;
  color: #fff;
  text-align: center;
  text-shadow: 0 1px 2px rgba(0, 0, 0, 0.6);
  background-color: rgba(0, 0, 0, 0);
}
.carousel-control.left {
  background-image: -webkit-linear-gradient(left, rgba(0, 0, 0, 0.5) 0%, rgba(0, 0, 0, 0.0001) 100%);
  background-image: -o-linear-gradient(left, rgba(0, 0, 0, 0.5) 0%, rgba(0, 0, 0, 0.0001) 100%);
  background-image: linear-gradient(to right, rgba(0, 0, 0, 0.5) 0%, rgba(0, 0, 0, 0.0001) 100%);
  background-repeat: repeat-x;
  filter: progid:DXImageTransform.Microsoft.gradient(startColorstr='#80000000', endColorstr='#00000000', GradientType=1);
}
.carousel-control.right {
  left: auto;
  right: 0;
  background-image: -webkit-linear-gradient(left, rgba(0, 0, 0, 0.0001) 0%, rgba(0, 0, 0, 0.5) 100%);
  background-image: -o-linear-gradient(left, rgba(0, 0, 0, 0.0001) 0%, rgba(0, 0, 0, 0.5) 100%);
  background-image: linear-gradient(to right, rgba(0, 0, 0, 0.0001) 0%, rgba(0, 0, 0, 0.5) 100%);
  background-repeat: repeat-x;
  filter: progid:DXImageTransform.Microsoft.gradient(startColorstr='#00000000', endColorstr='#80000000', GradientType=1);
}
.carousel-control:hover,
.carousel-control:focus {
  outline: 0;
  color: #fff;
  text-decoration: none;
  opacity: 0.9;
  filter: alpha(opacity=90);
}
.carousel-control .icon-prev,
.carousel-control .icon-next,
.carousel-control .glyphicon-chevron-left,
.carousel-control .glyphicon-chevron-right {
  position: absolute;
  top: 50%;
  margin-top: -10px;
  z-index: 5;
  display: inline-block;
}
.carousel-control .icon-prev,
.carousel-control .glyphicon-chevron-left {
  left: 50%;
  margin-left: -10px;
}
.carousel-control .icon-next,
.carousel-control .glyphicon-chevron-right {
  right: 50%;
  margin-right: -10px;
}
.carousel-control .icon-prev,
.carousel-control .icon-next {
  width: 20px;
  height: 20px;
  line-height: 1;
  font-family: serif;
}
.carousel-control .icon-prev:before {
  content: '\2039';
}
.carousel-control .icon-next:before {
  content: '\203a';
}
.carousel-indicators {
  position: absolute;
  bottom: 10px;
  left: 50%;
  z-index: 15;
  width: 60%;
  margin-left: -30%;
  padding-left: 0;
  list-style: none;
  text-align: center;
}
.carousel-indicators li {
  display: inline-block;
  width: 10px;
  height: 10px;
  margin: 1px;
  text-indent: -999px;
  border: 1px solid #fff;
  border-radius: 10px;
  cursor: pointer;
  background-color: #000 \9;
  background-color: rgba(0, 0, 0, 0);
}
.carousel-indicators .active {
  margin: 0;
  width: 12px;
  height: 12px;
  background-color: #fff;
}
.carousel-caption {
  position: absolute;
  left: 15%;
  right: 15%;
  bottom: 20px;
  z-index: 10;
  padding-top: 20px;
  padding-bottom: 20px;
  color: #fff;
  text-align: center;
  text-shadow: 0 1px 2px rgba(0, 0, 0, 0.6);
}
.carousel-caption .btn {
  text-shadow: none;
}
@media screen and (min-width: 768px) {
  .carousel-control .glyphicon-chevron-left,
  .carousel-control .glyphicon-chevron-right,
  .carousel-control .icon-prev,
  .carousel-control .icon-next {
    width: 30px;
    height: 30px;
    margin-top: -10px;
    font-size: 30px;
  }
  .carousel-control .glyphicon-chevron-left,
  .carousel-control .icon-prev {
    margin-left: -10px;
  }
  .carousel-control .glyphicon-chevron-right,
  .carousel-control .icon-next {
    margin-right: -10px;
  }
  .carousel-caption {
    left: 20%;
    right: 20%;
    padding-bottom: 30px;
  }
  .carousel-indicators {
    bottom: 20px;
  }
}
.clearfix:before,
.clearfix:after,
.dl-horizontal dd:before,
.dl-horizontal dd:after,
.container:before,
.container:after,
.container-fluid:before,
.container-fluid:after,
.row:before,
.row:after,
.form-horizontal .form-group:before,
.form-horizontal .form-group:after,
.btn-toolbar:before,
.btn-toolbar:after,
.btn-group-vertical > .btn-group:before,
.btn-group-vertical > .btn-group:after,
.nav:before,
.nav:after,
.navbar:before,
.navbar:after,
.navbar-header:before,
.navbar-header:after,
.navbar-collapse:before,
.navbar-collapse:after,
.pager:before,
.pager:after,
.panel-body:before,
.panel-body:after,
.modal-header:before,
.modal-header:after,
.modal-footer:before,
.modal-footer:after,
.item_buttons:before,
.item_buttons:after {
  content: " ";
  display: table;
}
.clearfix:after,
.dl-horizontal dd:after,
.container:after,
.container-fluid:after,
.row:after,
.form-horizontal .form-group:after,
.btn-toolbar:after,
.btn-group-vertical > .btn-group:after,
.nav:after,
.navbar:after,
.navbar-header:after,
.navbar-collapse:after,
.pager:after,
.panel-body:after,
.modal-header:after,
.modal-footer:after,
.item_buttons:after {
  clear: both;
}
.center-block {
  display: block;
  margin-left: auto;
  margin-right: auto;
}
.pull-right {
  float: right !important;
}
.pull-left {
  float: left !important;
}
.hide {
  display: none !important;
}
.show {
  display: block !important;
}
.invisible {
  visibility: hidden;
}
.text-hide {
  font: 0/0 a;
  color: transparent;
  text-shadow: none;
  background-color: transparent;
  border: 0;
}
.hidden {
  display: none !important;
}
.affix {
  position: fixed;
}
@-ms-viewport {
  width: device-width;
}
.visible-xs,
.visible-sm,
.visible-md,
.visible-lg {
  display: none !important;
}
.visible-xs-block,
.visible-xs-inline,
.visible-xs-inline-block,
.visible-sm-block,
.visible-sm-inline,
.visible-sm-inline-block,
.visible-md-block,
.visible-md-inline,
.visible-md-inline-block,
.visible-lg-block,
.visible-lg-inline,
.visible-lg-inline-block {
  display: none !important;
}
@media (max-width: 767px) {
  .visible-xs {
    display: block !important;
  }
  table.visible-xs {
    display: table !important;
  }
  tr.visible-xs {
    display: table-row !important;
  }
  th.visible-xs,
  td.visible-xs {
    display: table-cell !important;
  }
}
@media (max-width: 767px) {
  .visible-xs-block {
    display: block !important;
  }
}
@media (max-width: 767px) {
  .visible-xs-inline {
    display: inline !important;
  }
}
@media (max-width: 767px) {
  .visible-xs-inline-block {
    display: inline-block !important;
  }
}
@media (min-width: 768px) and (max-width: 991px) {
  .visible-sm {
    display: block !important;
  }
  table.visible-sm {
    display: table !important;
  }
  tr.visible-sm {
    display: table-row !important;
  }
  th.visible-sm,
  td.visible-sm {
    display: table-cell !important;
  }
}
@media (min-width: 768px) and (max-width: 991px) {
  .visible-sm-block {
    display: block !important;
  }
}
@media (min-width: 768px) and (max-width: 991px) {
  .visible-sm-inline {
    display: inline !important;
  }
}
@media (min-width: 768px) and (max-width: 991px) {
  .visible-sm-inline-block {
    display: inline-block !important;
  }
}
@media (min-width: 992px) and (max-width: 1199px) {
  .visible-md {
    display: block !important;
  }
  table.visible-md {
    display: table !important;
  }
  tr.visible-md {
    display: table-row !important;
  }
  th.visible-md,
  td.visible-md {
    display: table-cell !important;
  }
}
@media (min-width: 992px) and (max-width: 1199px) {
  .visible-md-block {
    display: block !important;
  }
}
@media (min-width: 992px) and (max-width: 1199px) {
  .visible-md-inline {
    display: inline !important;
  }
}
@media (min-width: 992px) and (max-width: 1199px) {
  .visible-md-inline-block {
    display: inline-block !important;
  }
}
@media (min-width: 1200px) {
  .visible-lg {
    display: block !important;
  }
  table.visible-lg {
    display: table !important;
  }
  tr.visible-lg {
    display: table-row !important;
  }
  th.visible-lg,
  td.visible-lg {
    display: table-cell !important;
  }
}
@media (min-width: 1200px) {
  .visible-lg-block {
    display: block !important;
  }
}
@media (min-width: 1200px) {
  .visible-lg-inline {
    display: inline !important;
  }
}
@media (min-width: 1200px) {
  .visible-lg-inline-block {
    display: inline-block !important;
  }
}
@media (max-width: 767px) {
  .hidden-xs {
    display: none !important;
  }
}
@media (min-width: 768px) and (max-width: 991px) {
  .hidden-sm {
    display: none !important;
  }
}
@media (min-width: 992px) and (max-width: 1199px) {
  .hidden-md {
    display: none !important;
  }
}
@media (min-width: 1200px) {
  .hidden-lg {
    display: none !important;
  }
}
.visible-print {
  display: none !important;
}
@media print {
  .visible-print {
    display: block !important;
  }
  table.visible-print {
    display: table !important;
  }
  tr.visible-print {
    display: table-row !important;
  }
  th.visible-print,
  td.visible-print {
    display: table-cell !important;
  }
}
.visible-print-block {
  display: none !important;
}
@media print {
  .visible-print-block {
    display: block !important;
  }
}
.visible-print-inline {
  display: none !important;
}
@media print {
  .visible-print-inline {
    display: inline !important;
  }
}
.visible-print-inline-block {
  display: none !important;
}
@media print {
  .visible-print-inline-block {
    display: inline-block !important;
  }
}
@media print {
  .hidden-print {
    display: none !important;
  }
}
/*!
*
* Font Awesome
*
*/
/*!
 *  Font Awesome 4.7.0 by @davegandy - http://fontawesome.io - @fontawesome
 *  License - http://fontawesome.io/license (Font: SIL OFL 1.1, CSS: MIT License)
 */
/* FONT PATH
 * -------------------------- */
@font-face {
  font-family: 'FontAwesome';
  src: url('../components/font-awesome/fonts/fontawesome-webfont.eot?v=4.7.0');
  src: url('../components/font-awesome/fonts/fontawesome-webfont.eot?#iefix&v=4.7.0') format('embedded-opentype'), url('../components/font-awesome/fonts/fontawesome-webfont.woff2?v=4.7.0') format('woff2'), url('../components/font-awesome/fonts/fontawesome-webfont.woff?v=4.7.0') format('woff'), url('../components/font-awesome/fonts/fontawesome-webfont.ttf?v=4.7.0') format('truetype'), url('../components/font-awesome/fonts/fontawesome-webfont.svg?v=4.7.0#fontawesomeregular') format('svg');
  font-weight: normal;
  font-style: normal;
}
.fa {
  display: inline-block;
  font: normal normal normal 14px/1 FontAwesome;
  font-size: inherit;
  text-rendering: auto;
  -webkit-font-smoothing: antialiased;
  -moz-osx-font-smoothing: grayscale;
}
/* makes the font 33% larger relative to the icon container */
.fa-lg {
  font-size: 1.33333333em;
  line-height: 0.75em;
  vertical-align: -15%;
}
.fa-2x {
  font-size: 2em;
}
.fa-3x {
  font-size: 3em;
}
.fa-4x {
  font-size: 4em;
}
.fa-5x {
  font-size: 5em;
}
.fa-fw {
  width: 1.28571429em;
  text-align: center;
}
.fa-ul {
  padding-left: 0;
  margin-left: 2.14285714em;
  list-style-type: none;
}
.fa-ul > li {
  position: relative;
}
.fa-li {
  position: absolute;
  left: -2.14285714em;
  width: 2.14285714em;
  top: 0.14285714em;
  text-align: center;
}
.fa-li.fa-lg {
  left: -1.85714286em;
}
.fa-border {
  padding: .2em .25em .15em;
  border: solid 0.08em #eee;
  border-radius: .1em;
}
.fa-pull-left {
  float: left;
}
.fa-pull-right {
  float: right;
}
.fa.fa-pull-left {
  margin-right: .3em;
}
.fa.fa-pull-right {
  margin-left: .3em;
}
/* Deprecated as of 4.4.0 */
.pull-right {
  float: right;
}
.pull-left {
  float: left;
}
.fa.pull-left {
  margin-right: .3em;
}
.fa.pull-right {
  margin-left: .3em;
}
.fa-spin {
  -webkit-animation: fa-spin 2s infinite linear;
  animation: fa-spin 2s infinite linear;
}
.fa-pulse {
  -webkit-animation: fa-spin 1s infinite steps(8);
  animation: fa-spin 1s infinite steps(8);
}
@-webkit-keyframes fa-spin {
  0% {
    -webkit-transform: rotate(0deg);
    transform: rotate(0deg);
  }
  100% {
    -webkit-transform: rotate(359deg);
    transform: rotate(359deg);
  }
}
@keyframes fa-spin {
  0% {
    -webkit-transform: rotate(0deg);
    transform: rotate(0deg);
  }
  100% {
    -webkit-transform: rotate(359deg);
    transform: rotate(359deg);
  }
}
.fa-rotate-90 {
  -ms-filter: "progid:DXImageTransform.Microsoft.BasicImage(rotation=1)";
  -webkit-transform: rotate(90deg);
  -ms-transform: rotate(90deg);
  transform: rotate(90deg);
}
.fa-rotate-180 {
  -ms-filter: "progid:DXImageTransform.Microsoft.BasicImage(rotation=2)";
  -webkit-transform: rotate(180deg);
  -ms-transform: rotate(180deg);
  transform: rotate(180deg);
}
.fa-rotate-270 {
  -ms-filter: "progid:DXImageTransform.Microsoft.BasicImage(rotation=3)";
  -webkit-transform: rotate(270deg);
  -ms-transform: rotate(270deg);
  transform: rotate(270deg);
}
.fa-flip-horizontal {
  -ms-filter: "progid:DXImageTransform.Microsoft.BasicImage(rotation=0, mirror=1)";
  -webkit-transform: scale(-1, 1);
  -ms-transform: scale(-1, 1);
  transform: scale(-1, 1);
}
.fa-flip-vertical {
  -ms-filter: "progid:DXImageTransform.Microsoft.BasicImage(rotation=2, mirror=1)";
  -webkit-transform: scale(1, -1);
  -ms-transform: scale(1, -1);
  transform: scale(1, -1);
}
:root .fa-rotate-90,
:root .fa-rotate-180,
:root .fa-rotate-270,
:root .fa-flip-horizontal,
:root .fa-flip-vertical {
  filter: none;
}
.fa-stack {
  position: relative;
  display: inline-block;
  width: 2em;
  height: 2em;
  line-height: 2em;
  vertical-align: middle;
}
.fa-stack-1x,
.fa-stack-2x {
  position: absolute;
  left: 0;
  width: 100%;
  text-align: center;
}
.fa-stack-1x {
  line-height: inherit;
}
.fa-stack-2x {
  font-size: 2em;
}
.fa-inverse {
  color: #fff;
}
/* Font Awesome uses the Unicode Private Use Area (PUA) to ensure screen
   readers do not read off random characters that represent icons */
.fa-glass:before {
  content: "\f000";
}
.fa-music:before {
  content: "\f001";
}
.fa-search:before {
  content: "\f002";
}
.fa-envelope-o:before {
  content: "\f003";
}
.fa-heart:before {
  content: "\f004";
}
.fa-star:before {
  content: "\f005";
}
.fa-star-o:before {
  content: "\f006";
}
.fa-user:before {
  content: "\f007";
}
.fa-film:before {
  content: "\f008";
}
.fa-th-large:before {
  content: "\f009";
}
.fa-th:before {
  content: "\f00a";
}
.fa-th-list:before {
  content: "\f00b";
}
.fa-check:before {
  content: "\f00c";
}
.fa-remove:before,
.fa-close:before,
.fa-times:before {
  content: "\f00d";
}
.fa-search-plus:before {
  content: "\f00e";
}
.fa-search-minus:before {
  content: "\f010";
}
.fa-power-off:before {
  content: "\f011";
}
.fa-signal:before {
  content: "\f012";
}
.fa-gear:before,
.fa-cog:before {
  content: "\f013";
}
.fa-trash-o:before {
  content: "\f014";
}
.fa-home:before {
  content: "\f015";
}
.fa-file-o:before {
  content: "\f016";
}
.fa-clock-o:before {
  content: "\f017";
}
.fa-road:before {
  content: "\f018";
}
.fa-download:before {
  content: "\f019";
}
.fa-arrow-circle-o-down:before {
  content: "\f01a";
}
.fa-arrow-circle-o-up:before {
  content: "\f01b";
}
.fa-inbox:before {
  content: "\f01c";
}
.fa-play-circle-o:before {
  content: "\f01d";
}
.fa-rotate-right:before,
.fa-repeat:before {
  content: "\f01e";
}
.fa-refresh:before {
  content: "\f021";
}
.fa-list-alt:before {
  content: "\f022";
}
.fa-lock:before {
  content: "\f023";
}
.fa-flag:before {
  content: "\f024";
}
.fa-headphones:before {
  content: "\f025";
}
.fa-volume-off:before {
  content: "\f026";
}
.fa-volume-down:before {
  content: "\f027";
}
.fa-volume-up:before {
  content: "\f028";
}
.fa-qrcode:before {
  content: "\f029";
}
.fa-barcode:before {
  content: "\f02a";
}
.fa-tag:before {
  content: "\f02b";
}
.fa-tags:before {
  content: "\f02c";
}
.fa-book:before {
  content: "\f02d";
}
.fa-bookmark:before {
  content: "\f02e";
}
.fa-print:before {
  content: "\f02f";
}
.fa-camera:before {
  content: "\f030";
}
.fa-font:before {
  content: "\f031";
}
.fa-bold:before {
  content: "\f032";
}
.fa-italic:before {
  content: "\f033";
}
.fa-text-height:before {
  content: "\f034";
}
.fa-text-width:before {
  content: "\f035";
}
.fa-align-left:before {
  content: "\f036";
}
.fa-align-center:before {
  content: "\f037";
}
.fa-align-right:before {
  content: "\f038";
}
.fa-align-justify:before {
  content: "\f039";
}
.fa-list:before {
  content: "\f03a";
}
.fa-dedent:before,
.fa-outdent:before {
  content: "\f03b";
}
.fa-indent:before {
  content: "\f03c";
}
.fa-video-camera:before {
  content: "\f03d";
}
.fa-photo:before,
.fa-image:before,
.fa-picture-o:before {
  content: "\f03e";
}
.fa-pencil:before {
  content: "\f040";
}
.fa-map-marker:before {
  content: "\f041";
}
.fa-adjust:before {
  content: "\f042";
}
.fa-tint:before {
  content: "\f043";
}
.fa-edit:before,
.fa-pencil-square-o:before {
  content: "\f044";
}
.fa-share-square-o:before {
  content: "\f045";
}
.fa-check-square-o:before {
  content: "\f046";
}
.fa-arrows:before {
  content: "\f047";
}
.fa-step-backward:before {
  content: "\f048";
}
.fa-fast-backward:before {
  content: "\f049";
}
.fa-backward:before {
  content: "\f04a";
}
.fa-play:before {
  content: "\f04b";
}
.fa-pause:before {
  content: "\f04c";
}
.fa-stop:before {
  content: "\f04d";
}
.fa-forward:before {
  content: "\f04e";
}
.fa-fast-forward:before {
  content: "\f050";
}
.fa-step-forward:before {
  content: "\f051";
}
.fa-eject:before {
  content: "\f052";
}
.fa-chevron-left:before {
  content: "\f053";
}
.fa-chevron-right:before {
  content: "\f054";
}
.fa-plus-circle:before {
  content: "\f055";
}
.fa-minus-circle:before {
  content: "\f056";
}
.fa-times-circle:before {
  content: "\f057";
}
.fa-check-circle:before {
  content: "\f058";
}
.fa-question-circle:before {
  content: "\f059";
}
.fa-info-circle:before {
  content: "\f05a";
}
.fa-crosshairs:before {
  content: "\f05b";
}
.fa-times-circle-o:before {
  content: "\f05c";
}
.fa-check-circle-o:before {
  content: "\f05d";
}
.fa-ban:before {
  content: "\f05e";
}
.fa-arrow-left:before {
  content: "\f060";
}
.fa-arrow-right:before {
  content: "\f061";
}
.fa-arrow-up:before {
  content: "\f062";
}
.fa-arrow-down:before {
  content: "\f063";
}
.fa-mail-forward:before,
.fa-share:before {
  content: "\f064";
}
.fa-expand:before {
  content: "\f065";
}
.fa-compress:before {
  content: "\f066";
}
.fa-plus:before {
  content: "\f067";
}
.fa-minus:before {
  content: "\f068";
}
.fa-asterisk:before {
  content: "\f069";
}
.fa-exclamation-circle:before {
  content: "\f06a";
}
.fa-gift:before {
  content: "\f06b";
}
.fa-leaf:before {
  content: "\f06c";
}
.fa-fire:before {
  content: "\f06d";
}
.fa-eye:before {
  content: "\f06e";
}
.fa-eye-slash:before {
  content: "\f070";
}
.fa-warning:before,
.fa-exclamation-triangle:before {
  content: "\f071";
}
.fa-plane:before {
  content: "\f072";
}
.fa-calendar:before {
  content: "\f073";
}
.fa-random:before {
  content: "\f074";
}
.fa-comment:before {
  content: "\f075";
}
.fa-magnet:before {
  content: "\f076";
}
.fa-chevron-up:before {
  content: "\f077";
}
.fa-chevron-down:before {
  content: "\f078";
}
.fa-retweet:before {
  content: "\f079";
}
.fa-shopping-cart:before {
  content: "\f07a";
}
.fa-folder:before {
  content: "\f07b";
}
.fa-folder-open:before {
  content: "\f07c";
}
.fa-arrows-v:before {
  content: "\f07d";
}
.fa-arrows-h:before {
  content: "\f07e";
}
.fa-bar-chart-o:before,
.fa-bar-chart:before {
  content: "\f080";
}
.fa-twitter-square:before {
  content: "\f081";
}
.fa-facebook-square:before {
  content: "\f082";
}
.fa-camera-retro:before {
  content: "\f083";
}
.fa-key:before {
  content: "\f084";
}
.fa-gears:before,
.fa-cogs:before {
  content: "\f085";
}
.fa-comments:before {
  content: "\f086";
}
.fa-thumbs-o-up:before {
  content: "\f087";
}
.fa-thumbs-o-down:before {
  content: "\f088";
}
.fa-star-half:before {
  content: "\f089";
}
.fa-heart-o:before {
  content: "\f08a";
}
.fa-sign-out:before {
  content: "\f08b";
}
.fa-linkedin-square:before {
  content: "\f08c";
}
.fa-thumb-tack:before {
  content: "\f08d";
}
.fa-external-link:before {
  content: "\f08e";
}
.fa-sign-in:before {
  content: "\f090";
}
.fa-trophy:before {
  content: "\f091";
}
.fa-github-square:before {
  content: "\f092";
}
.fa-upload:before {
  content: "\f093";
}
.fa-lemon-o:before {
  content: "\f094";
}
.fa-phone:before {
  content: "\f095";
}
.fa-square-o:before {
  content: "\f096";
}
.fa-bookmark-o:before {
  content: "\f097";
}
.fa-phone-square:before {
  content: "\f098";
}
.fa-twitter:before {
  content: "\f099";
}
.fa-facebook-f:before,
.fa-facebook:before {
  content: "\f09a";
}
.fa-github:before {
  content: "\f09b";
}
.fa-unlock:before {
  content: "\f09c";
}
.fa-credit-card:before {
  content: "\f09d";
}
.fa-feed:before,
.fa-rss:before {
  content: "\f09e";
}
.fa-hdd-o:before {
  content: "\f0a0";
}
.fa-bullhorn:before {
  content: "\f0a1";
}
.fa-bell:before {
  content: "\f0f3";
}
.fa-certificate:before {
  content: "\f0a3";
}
.fa-hand-o-right:before {
  content: "\f0a4";
}
.fa-hand-o-left:before {
  content: "\f0a5";
}
.fa-hand-o-up:before {
  content: "\f0a6";
}
.fa-hand-o-down:before {
  content: "\f0a7";
}
.fa-arrow-circle-left:before {
  content: "\f0a8";
}
.fa-arrow-circle-right:before {
  content: "\f0a9";
}
.fa-arrow-circle-up:before {
  content: "\f0aa";
}
.fa-arrow-circle-down:before {
  content: "\f0ab";
}
.fa-globe:before {
  content: "\f0ac";
}
.fa-wrench:before {
  content: "\f0ad";
}
.fa-tasks:before {
  content: "\f0ae";
}
.fa-filter:before {
  content: "\f0b0";
}
.fa-briefcase:before {
  content: "\f0b1";
}
.fa-arrows-alt:before {
  content: "\f0b2";
}
.fa-group:before,
.fa-users:before {
  content: "\f0c0";
}
.fa-chain:before,
.fa-link:before {
  content: "\f0c1";
}
.fa-cloud:before {
  content: "\f0c2";
}
.fa-flask:before {
  content: "\f0c3";
}
.fa-cut:before,
.fa-scissors:before {
  content: "\f0c4";
}
.fa-copy:before,
.fa-files-o:before {
  content: "\f0c5";
}
.fa-paperclip:before {
  content: "\f0c6";
}
.fa-save:before,
.fa-floppy-o:before {
  content: "\f0c7";
}
.fa-square:before {
  content: "\f0c8";
}
.fa-navicon:before,
.fa-reorder:before,
.fa-bars:before {
  content: "\f0c9";
}
.fa-list-ul:before {
  content: "\f0ca";
}
.fa-list-ol:before {
  content: "\f0cb";
}
.fa-strikethrough:before {
  content: "\f0cc";
}
.fa-underline:before {
  content: "\f0cd";
}
.fa-table:before {
  content: "\f0ce";
}
.fa-magic:before {
  content: "\f0d0";
}
.fa-truck:before {
  content: "\f0d1";
}
.fa-pinterest:before {
  content: "\f0d2";
}
.fa-pinterest-square:before {
  content: "\f0d3";
}
.fa-google-plus-square:before {
  content: "\f0d4";
}
.fa-google-plus:before {
  content: "\f0d5";
}
.fa-money:before {
  content: "\f0d6";
}
.fa-caret-down:before {
  content: "\f0d7";
}
.fa-caret-up:before {
  content: "\f0d8";
}
.fa-caret-left:before {
  content: "\f0d9";
}
.fa-caret-right:before {
  content: "\f0da";
}
.fa-columns:before {
  content: "\f0db";
}
.fa-unsorted:before,
.fa-sort:before {
  content: "\f0dc";
}
.fa-sort-down:before,
.fa-sort-desc:before {
  content: "\f0dd";
}
.fa-sort-up:before,
.fa-sort-asc:before {
  content: "\f0de";
}
.fa-envelope:before {
  content: "\f0e0";
}
.fa-linkedin:before {
  content: "\f0e1";
}
.fa-rotate-left:before,
.fa-undo:before {
  content: "\f0e2";
}
.fa-legal:before,
.fa-gavel:before {
  content: "\f0e3";
}
.fa-dashboard:before,
.fa-tachometer:before {
  content: "\f0e4";
}
.fa-comment-o:before {
  content: "\f0e5";
}
.fa-comments-o:before {
  content: "\f0e6";
}
.fa-flash:before,
.fa-bolt:before {
  content: "\f0e7";
}
.fa-sitemap:before {
  content: "\f0e8";
}
.fa-umbrella:before {
  content: "\f0e9";
}
.fa-paste:before,
.fa-clipboard:before {
  content: "\f0ea";
}
.fa-lightbulb-o:before {
  content: "\f0eb";
}
.fa-exchange:before {
  content: "\f0ec";
}
.fa-cloud-download:before {
  content: "\f0ed";
}
.fa-cloud-upload:before {
  content: "\f0ee";
}
.fa-user-md:before {
  content: "\f0f0";
}
.fa-stethoscope:before {
  content: "\f0f1";
}
.fa-suitcase:before {
  content: "\f0f2";
}
.fa-bell-o:before {
  content: "\f0a2";
}
.fa-coffee:before {
  content: "\f0f4";
}
.fa-cutlery:before {
  content: "\f0f5";
}
.fa-file-text-o:before {
  content: "\f0f6";
}
.fa-building-o:before {
  content: "\f0f7";
}
.fa-hospital-o:before {
  content: "\f0f8";
}
.fa-ambulance:before {
  content: "\f0f9";
}
.fa-medkit:before {
  content: "\f0fa";
}
.fa-fighter-jet:before {
  content: "\f0fb";
}
.fa-beer:before {
  content: "\f0fc";
}
.fa-h-square:before {
  content: "\f0fd";
}
.fa-plus-square:before {
  content: "\f0fe";
}
.fa-angle-double-left:before {
  content: "\f100";
}
.fa-angle-double-right:before {
  content: "\f101";
}
.fa-angle-double-up:before {
  content: "\f102";
}
.fa-angle-double-down:before {
  content: "\f103";
}
.fa-angle-left:before {
  content: "\f104";
}
.fa-angle-right:before {
  content: "\f105";
}
.fa-angle-up:before {
  content: "\f106";
}
.fa-angle-down:before {
  content: "\f107";
}
.fa-desktop:before {
  content: "\f108";
}
.fa-laptop:before {
  content: "\f109";
}
.fa-tablet:before {
  content: "\f10a";
}
.fa-mobile-phone:before,
.fa-mobile:before {
  content: "\f10b";
}
.fa-circle-o:before {
  content: "\f10c";
}
.fa-quote-left:before {
  content: "\f10d";
}
.fa-quote-right:before {
  content: "\f10e";
}
.fa-spinner:before {
  content: "\f110";
}
.fa-circle:before {
  content: "\f111";
}
.fa-mail-reply:before,
.fa-reply:before {
  content: "\f112";
}
.fa-github-alt:before {
  content: "\f113";
}
.fa-folder-o:before {
  content: "\f114";
}
.fa-folder-open-o:before {
  content: "\f115";
}
.fa-smile-o:before {
  content: "\f118";
}
.fa-frown-o:before {
  content: "\f119";
}
.fa-meh-o:before {
  content: "\f11a";
}
.fa-gamepad:before {
  content: "\f11b";
}
.fa-keyboard-o:before {
  content: "\f11c";
}
.fa-flag-o:before {
  content: "\f11d";
}
.fa-flag-checkered:before {
  content: "\f11e";
}
.fa-terminal:before {
  content: "\f120";
}
.fa-code:before {
  content: "\f121";
}
.fa-mail-reply-all:before,
.fa-reply-all:before {
  content: "\f122";
}
.fa-star-half-empty:before,
.fa-star-half-full:before,
.fa-star-half-o:before {
  content: "\f123";
}
.fa-location-arrow:before {
  content: "\f124";
}
.fa-crop:before {
  content: "\f125";
}
.fa-code-fork:before {
  content: "\f126";
}
.fa-unlink:before,
.fa-chain-broken:before {
  content: "\f127";
}
.fa-question:before {
  content: "\f128";
}
.fa-info:before {
  content: "\f129";
}
.fa-exclamation:before {
  content: "\f12a";
}
.fa-superscript:before {
  content: "\f12b";
}
.fa-subscript:before {
  content: "\f12c";
}
.fa-eraser:before {
  content: "\f12d";
}
.fa-puzzle-piece:before {
  content: "\f12e";
}
.fa-microphone:before {
  content: "\f130";
}
.fa-microphone-slash:before {
  content: "\f131";
}
.fa-shield:before {
  content: "\f132";
}
.fa-calendar-o:before {
  content: "\f133";
}
.fa-fire-extinguisher:before {
  content: "\f134";
}
.fa-rocket:before {
  content: "\f135";
}
.fa-maxcdn:before {
  content: "\f136";
}
.fa-chevron-circle-left:before {
  content: "\f137";
}
.fa-chevron-circle-right:before {
  content: "\f138";
}
.fa-chevron-circle-up:before {
  content: "\f139";
}
.fa-chevron-circle-down:before {
  content: "\f13a";
}
.fa-html5:before {
  content: "\f13b";
}
.fa-css3:before {
  content: "\f13c";
}
.fa-anchor:before {
  content: "\f13d";
}
.fa-unlock-alt:before {
  content: "\f13e";
}
.fa-bullseye:before {
  content: "\f140";
}
.fa-ellipsis-h:before {
  content: "\f141";
}
.fa-ellipsis-v:before {
  content: "\f142";
}
.fa-rss-square:before {
  content: "\f143";
}
.fa-play-circle:before {
  content: "\f144";
}
.fa-ticket:before {
  content: "\f145";
}
.fa-minus-square:before {
  content: "\f146";
}
.fa-minus-square-o:before {
  content: "\f147";
}
.fa-level-up:before {
  content: "\f148";
}
.fa-level-down:before {
  content: "\f149";
}
.fa-check-square:before {
  content: "\f14a";
}
.fa-pencil-square:before {
  content: "\f14b";
}
.fa-external-link-square:before {
  content: "\f14c";
}
.fa-share-square:before {
  content: "\f14d";
}
.fa-compass:before {
  content: "\f14e";
}
.fa-toggle-down:before,
.fa-caret-square-o-down:before {
  content: "\f150";
}
.fa-toggle-up:before,
.fa-caret-square-o-up:before {
  content: "\f151";
}
.fa-toggle-right:before,
.fa-caret-square-o-right:before {
  content: "\f152";
}
.fa-euro:before,
.fa-eur:before {
  content: "\f153";
}
.fa-gbp:before {
  content: "\f154";
}
.fa-dollar:before,
.fa-usd:before {
  content: "\f155";
}
.fa-rupee:before,
.fa-inr:before {
  content: "\f156";
}
.fa-cny:before,
.fa-rmb:before,
.fa-yen:before,
.fa-jpy:before {
  content: "\f157";
}
.fa-ruble:before,
.fa-rouble:before,
.fa-rub:before {
  content: "\f158";
}
.fa-won:before,
.fa-krw:before {
  content: "\f159";
}
.fa-bitcoin:before,
.fa-btc:before {
  content: "\f15a";
}
.fa-file:before {
  content: "\f15b";
}
.fa-file-text:before {
  content: "\f15c";
}
.fa-sort-alpha-asc:before {
  content: "\f15d";
}
.fa-sort-alpha-desc:before {
  content: "\f15e";
}
.fa-sort-amount-asc:before {
  content: "\f160";
}
.fa-sort-amount-desc:before {
  content: "\f161";
}
.fa-sort-numeric-asc:before {
  content: "\f162";
}
.fa-sort-numeric-desc:before {
  content: "\f163";
}
.fa-thumbs-up:before {
  content: "\f164";
}
.fa-thumbs-down:before {
  content: "\f165";
}
.fa-youtube-square:before {
  content: "\f166";
}
.fa-youtube:before {
  content: "\f167";
}
.fa-xing:before {
  content: "\f168";
}
.fa-xing-square:before {
  content: "\f169";
}
.fa-youtube-play:before {
  content: "\f16a";
}
.fa-dropbox:before {
  content: "\f16b";
}
.fa-stack-overflow:before {
  content: "\f16c";
}
.fa-instagram:before {
  content: "\f16d";
}
.fa-flickr:before {
  content: "\f16e";
}
.fa-adn:before {
  content: "\f170";
}
.fa-bitbucket:before {
  content: "\f171";
}
.fa-bitbucket-square:before {
  content: "\f172";
}
.fa-tumblr:before {
  content: "\f173";
}
.fa-tumblr-square:before {
  content: "\f174";
}
.fa-long-arrow-down:before {
  content: "\f175";
}
.fa-long-arrow-up:before {
  content: "\f176";
}
.fa-long-arrow-left:before {
  content: "\f177";
}
.fa-long-arrow-right:before {
  content: "\f178";
}
.fa-apple:before {
  content: "\f179";
}
.fa-windows:before {
  content: "\f17a";
}
.fa-android:before {
  content: "\f17b";
}
.fa-linux:before {
  content: "\f17c";
}
.fa-dribbble:before {
  content: "\f17d";
}
.fa-skype:before {
  content: "\f17e";
}
.fa-foursquare:before {
  content: "\f180";
}
.fa-trello:before {
  content: "\f181";
}
.fa-female:before {
  content: "\f182";
}
.fa-male:before {
  content: "\f183";
}
.fa-gittip:before,
.fa-gratipay:before {
  content: "\f184";
}
.fa-sun-o:before {
  content: "\f185";
}
.fa-moon-o:before {
  content: "\f186";
}
.fa-archive:before {
  content: "\f187";
}
.fa-bug:before {
  content: "\f188";
}
.fa-vk:before {
  content: "\f189";
}
.fa-weibo:before {
  content: "\f18a";
}
.fa-renren:before {
  content: "\f18b";
}
.fa-pagelines:before {
  content: "\f18c";
}
.fa-stack-exchange:before {
  content: "\f18d";
}
.fa-arrow-circle-o-right:before {
  content: "\f18e";
}
.fa-arrow-circle-o-left:before {
  content: "\f190";
}
.fa-toggle-left:before,
.fa-caret-square-o-left:before {
  content: "\f191";
}
.fa-dot-circle-o:before {
  content: "\f192";
}
.fa-wheelchair:before {
  content: "\f193";
}
.fa-vimeo-square:before {
  content: "\f194";
}
.fa-turkish-lira:before,
.fa-try:before {
  content: "\f195";
}
.fa-plus-square-o:before {
  content: "\f196";
}
.fa-space-shuttle:before {
  content: "\f197";
}
.fa-slack:before {
  content: "\f198";
}
.fa-envelope-square:before {
  content: "\f199";
}
.fa-wordpress:before {
  content: "\f19a";
}
.fa-openid:before {
  content: "\f19b";
}
.fa-institution:before,
.fa-bank:before,
.fa-university:before {
  content: "\f19c";
}
.fa-mortar-board:before,
.fa-graduation-cap:before {
  content: "\f19d";
}
.fa-yahoo:before {
  content: "\f19e";
}
.fa-google:before {
  content: "\f1a0";
}
.fa-reddit:before {
  content: "\f1a1";
}
.fa-reddit-square:before {
  content: "\f1a2";
}
.fa-stumbleupon-circle:before {
  content: "\f1a3";
}
.fa-stumbleupon:before {
  content: "\f1a4";
}
.fa-delicious:before {
  content: "\f1a5";
}
.fa-digg:before {
  content: "\f1a6";
}
.fa-pied-piper-pp:before {
  content: "\f1a7";
}
.fa-pied-piper-alt:before {
  content: "\f1a8";
}
.fa-drupal:before {
  content: "\f1a9";
}
.fa-joomla:before {
  content: "\f1aa";
}
.fa-language:before {
  content: "\f1ab";
}
.fa-fax:before {
  content: "\f1ac";
}
.fa-building:before {
  content: "\f1ad";
}
.fa-child:before {
  content: "\f1ae";
}
.fa-paw:before {
  content: "\f1b0";
}
.fa-spoon:before {
  content: "\f1b1";
}
.fa-cube:before {
  content: "\f1b2";
}
.fa-cubes:before {
  content: "\f1b3";
}
.fa-behance:before {
  content: "\f1b4";
}
.fa-behance-square:before {
  content: "\f1b5";
}
.fa-steam:before {
  content: "\f1b6";
}
.fa-steam-square:before {
  content: "\f1b7";
}
.fa-recycle:before {
  content: "\f1b8";
}
.fa-automobile:before,
.fa-car:before {
  content: "\f1b9";
}
.fa-cab:before,
.fa-taxi:before {
  content: "\f1ba";
}
.fa-tree:before {
  content: "\f1bb";
}
.fa-spotify:before {
  content: "\f1bc";
}
.fa-deviantart:before {
  content: "\f1bd";
}
.fa-soundcloud:before {
  content: "\f1be";
}
.fa-database:before {
  content: "\f1c0";
}
.fa-file-pdf-o:before {
  content: "\f1c1";
}
.fa-file-word-o:before {
  content: "\f1c2";
}
.fa-file-excel-o:before {
  content: "\f1c3";
}
.fa-file-powerpoint-o:before {
  content: "\f1c4";
}
.fa-file-photo-o:before,
.fa-file-picture-o:before,
.fa-file-image-o:before {
  content: "\f1c5";
}
.fa-file-zip-o:before,
.fa-file-archive-o:before {
  content: "\f1c6";
}
.fa-file-sound-o:before,
.fa-file-audio-o:before {
  content: "\f1c7";
}
.fa-file-movie-o:before,
.fa-file-video-o:before {
  content: "\f1c8";
}
.fa-file-code-o:before {
  content: "\f1c9";
}
.fa-vine:before {
  content: "\f1ca";
}
.fa-codepen:before {
  content: "\f1cb";
}
.fa-jsfiddle:before {
  content: "\f1cc";
}
.fa-life-bouy:before,
.fa-life-buoy:before,
.fa-life-saver:before,
.fa-support:before,
.fa-life-ring:before {
  content: "\f1cd";
}
.fa-circle-o-notch:before {
  content: "\f1ce";
}
.fa-ra:before,
.fa-resistance:before,
.fa-rebel:before {
  content: "\f1d0";
}
.fa-ge:before,
.fa-empire:before {
  content: "\f1d1";
}
.fa-git-square:before {
  content: "\f1d2";
}
.fa-git:before {
  content: "\f1d3";
}
.fa-y-combinator-square:before,
.fa-yc-square:before,
.fa-hacker-news:before {
  content: "\f1d4";
}
.fa-tencent-weibo:before {
  content: "\f1d5";
}
.fa-qq:before {
  content: "\f1d6";
}
.fa-wechat:before,
.fa-weixin:before {
  content: "\f1d7";
}
.fa-send:before,
.fa-paper-plane:before {
  content: "\f1d8";
}
.fa-send-o:before,
.fa-paper-plane-o:before {
  content: "\f1d9";
}
.fa-history:before {
  content: "\f1da";
}
.fa-circle-thin:before {
  content: "\f1db";
}
.fa-header:before {
  content: "\f1dc";
}
.fa-paragraph:before {
  content: "\f1dd";
}
.fa-sliders:before {
  content: "\f1de";
}
.fa-share-alt:before {
  content: "\f1e0";
}
.fa-share-alt-square:before {
  content: "\f1e1";
}
.fa-bomb:before {
  content: "\f1e2";
}
.fa-soccer-ball-o:before,
.fa-futbol-o:before {
  content: "\f1e3";
}
.fa-tty:before {
  content: "\f1e4";
}
.fa-binoculars:before {
  content: "\f1e5";
}
.fa-plug:before {
  content: "\f1e6";
}
.fa-slideshare:before {
  content: "\f1e7";
}
.fa-twitch:before {
  content: "\f1e8";
}
.fa-yelp:before {
  content: "\f1e9";
}
.fa-newspaper-o:before {
  content: "\f1ea";
}
.fa-wifi:before {
  content: "\f1eb";
}
.fa-calculator:before {
  content: "\f1ec";
}
.fa-paypal:before {
  content: "\f1ed";
}
.fa-google-wallet:before {
  content: "\f1ee";
}
.fa-cc-visa:before {
  content: "\f1f0";
}
.fa-cc-mastercard:before {
  content: "\f1f1";
}
.fa-cc-discover:before {
  content: "\f1f2";
}
.fa-cc-amex:before {
  content: "\f1f3";
}
.fa-cc-paypal:before {
  content: "\f1f4";
}
.fa-cc-stripe:before {
  content: "\f1f5";
}
.fa-bell-slash:before {
  content: "\f1f6";
}
.fa-bell-slash-o:before {
  content: "\f1f7";
}
.fa-trash:before {
  content: "\f1f8";
}
.fa-copyright:before {
  content: "\f1f9";
}
.fa-at:before {
  content: "\f1fa";
}
.fa-eyedropper:before {
  content: "\f1fb";
}
.fa-paint-brush:before {
  content: "\f1fc";
}
.fa-birthday-cake:before {
  content: "\f1fd";
}
.fa-area-chart:before {
  content: "\f1fe";
}
.fa-pie-chart:before {
  content: "\f200";
}
.fa-line-chart:before {
  content: "\f201";
}
.fa-lastfm:before {
  content: "\f202";
}
.fa-lastfm-square:before {
  content: "\f203";
}
.fa-toggle-off:before {
  content: "\f204";
}
.fa-toggle-on:before {
  content: "\f205";
}
.fa-bicycle:before {
  content: "\f206";
}
.fa-bus:before {
  content: "\f207";
}
.fa-ioxhost:before {
  content: "\f208";
}
.fa-angellist:before {
  content: "\f209";
}
.fa-cc:before {
  content: "\f20a";
}
.fa-shekel:before,
.fa-sheqel:before,
.fa-ils:before {
  content: "\f20b";
}
.fa-meanpath:before {
  content: "\f20c";
}
.fa-buysellads:before {
  content: "\f20d";
}
.fa-connectdevelop:before {
  content: "\f20e";
}
.fa-dashcube:before {
  content: "\f210";
}
.fa-forumbee:before {
  content: "\f211";
}
.fa-leanpub:before {
  content: "\f212";
}
.fa-sellsy:before {
  content: "\f213";
}
.fa-shirtsinbulk:before {
  content: "\f214";
}
.fa-simplybuilt:before {
  content: "\f215";
}
.fa-skyatlas:before {
  content: "\f216";
}
.fa-cart-plus:before {
  content: "\f217";
}
.fa-cart-arrow-down:before {
  content: "\f218";
}
.fa-diamond:before {
  content: "\f219";
}
.fa-ship:before {
  content: "\f21a";
}
.fa-user-secret:before {
  content: "\f21b";
}
.fa-motorcycle:before {
  content: "\f21c";
}
.fa-street-view:before {
  content: "\f21d";
}
.fa-heartbeat:before {
  content: "\f21e";
}
.fa-venus:before {
  content: "\f221";
}
.fa-mars:before {
  content: "\f222";
}
.fa-mercury:before {
  content: "\f223";
}
.fa-intersex:before,
.fa-transgender:before {
  content: "\f224";
}
.fa-transgender-alt:before {
  content: "\f225";
}
.fa-venus-double:before {
  content: "\f226";
}
.fa-mars-double:before {
  content: "\f227";
}
.fa-venus-mars:before {
  content: "\f228";
}
.fa-mars-stroke:before {
  content: "\f229";
}
.fa-mars-stroke-v:before {
  content: "\f22a";
}
.fa-mars-stroke-h:before {
  content: "\f22b";
}
.fa-neuter:before {
  content: "\f22c";
}
.fa-genderless:before {
  content: "\f22d";
}
.fa-facebook-official:before {
  content: "\f230";
}
.fa-pinterest-p:before {
  content: "\f231";
}
.fa-whatsapp:before {
  content: "\f232";
}
.fa-server:before {
  content: "\f233";
}
.fa-user-plus:before {
  content: "\f234";
}
.fa-user-times:before {
  content: "\f235";
}
.fa-hotel:before,
.fa-bed:before {
  content: "\f236";
}
.fa-viacoin:before {
  content: "\f237";
}
.fa-train:before {
  content: "\f238";
}
.fa-subway:before {
  content: "\f239";
}
.fa-medium:before {
  content: "\f23a";
}
.fa-yc:before,
.fa-y-combinator:before {
  content: "\f23b";
}
.fa-optin-monster:before {
  content: "\f23c";
}
.fa-opencart:before {
  content: "\f23d";
}
.fa-expeditedssl:before {
  content: "\f23e";
}
.fa-battery-4:before,
.fa-battery:before,
.fa-battery-full:before {
  content: "\f240";
}
.fa-battery-3:before,
.fa-battery-three-quarters:before {
  content: "\f241";
}
.fa-battery-2:before,
.fa-battery-half:before {
  content: "\f242";
}
.fa-battery-1:before,
.fa-battery-quarter:before {
  content: "\f243";
}
.fa-battery-0:before,
.fa-battery-empty:before {
  content: "\f244";
}
.fa-mouse-pointer:before {
  content: "\f245";
}
.fa-i-cursor:before {
  content: "\f246";
}
.fa-object-group:before {
  content: "\f247";
}
.fa-object-ungroup:before {
  content: "\f248";
}
.fa-sticky-note:before {
  content: "\f249";
}
.fa-sticky-note-o:before {
  content: "\f24a";
}
.fa-cc-jcb:before {
  content: "\f24b";
}
.fa-cc-diners-club:before {
  content: "\f24c";
}
.fa-clone:before {
  content: "\f24d";
}
.fa-balance-scale:before {
  content: "\f24e";
}
.fa-hourglass-o:before {
  content: "\f250";
}
.fa-hourglass-1:before,
.fa-hourglass-start:before {
  content: "\f251";
}
.fa-hourglass-2:before,
.fa-hourglass-half:before {
  content: "\f252";
}
.fa-hourglass-3:before,
.fa-hourglass-end:before {
  content: "\f253";
}
.fa-hourglass:before {
  content: "\f254";
}
.fa-hand-grab-o:before,
.fa-hand-rock-o:before {
  content: "\f255";
}
.fa-hand-stop-o:before,
.fa-hand-paper-o:before {
  content: "\f256";
}
.fa-hand-scissors-o:before {
  content: "\f257";
}
.fa-hand-lizard-o:before {
  content: "\f258";
}
.fa-hand-spock-o:before {
  content: "\f259";
}
.fa-hand-pointer-o:before {
  content: "\f25a";
}
.fa-hand-peace-o:before {
  content: "\f25b";
}
.fa-trademark:before {
  content: "\f25c";
}
.fa-registered:before {
  content: "\f25d";
}
.fa-creative-commons:before {
  content: "\f25e";
}
.fa-gg:before {
  content: "\f260";
}
.fa-gg-circle:before {
  content: "\f261";
}
.fa-tripadvisor:before {
  content: "\f262";
}
.fa-odnoklassniki:before {
  content: "\f263";
}
.fa-odnoklassniki-square:before {
  content: "\f264";
}
.fa-get-pocket:before {
  content: "\f265";
}
.fa-wikipedia-w:before {
  content: "\f266";
}
.fa-safari:before {
  content: "\f267";
}
.fa-chrome:before {
  content: "\f268";
}
.fa-firefox:before {
  content: "\f269";
}
.fa-opera:before {
  content: "\f26a";
}
.fa-internet-explorer:before {
  content: "\f26b";
}
.fa-tv:before,
.fa-television:before {
  content: "\f26c";
}
.fa-contao:before {
  content: "\f26d";
}
.fa-500px:before {
  content: "\f26e";
}
.fa-amazon:before {
  content: "\f270";
}
.fa-calendar-plus-o:before {
  content: "\f271";
}
.fa-calendar-minus-o:before {
  content: "\f272";
}
.fa-calendar-times-o:before {
  content: "\f273";
}
.fa-calendar-check-o:before {
  content: "\f274";
}
.fa-industry:before {
  content: "\f275";
}
.fa-map-pin:before {
  content: "\f276";
}
.fa-map-signs:before {
  content: "\f277";
}
.fa-map-o:before {
  content: "\f278";
}
.fa-map:before {
  content: "\f279";
}
.fa-commenting:before {
  content: "\f27a";
}
.fa-commenting-o:before {
  content: "\f27b";
}
.fa-houzz:before {
  content: "\f27c";
}
.fa-vimeo:before {
  content: "\f27d";
}
.fa-black-tie:before {
  content: "\f27e";
}
.fa-fonticons:before {
  content: "\f280";
}
.fa-reddit-alien:before {
  content: "\f281";
}
.fa-edge:before {
  content: "\f282";
}
.fa-credit-card-alt:before {
  content: "\f283";
}
.fa-codiepie:before {
  content: "\f284";
}
.fa-modx:before {
  content: "\f285";
}
.fa-fort-awesome:before {
  content: "\f286";
}
.fa-usb:before {
  content: "\f287";
}
.fa-product-hunt:before {
  content: "\f288";
}
.fa-mixcloud:before {
  content: "\f289";
}
.fa-scribd:before {
  content: "\f28a";
}
.fa-pause-circle:before {
  content: "\f28b";
}
.fa-pause-circle-o:before {
  content: "\f28c";
}
.fa-stop-circle:before {
  content: "\f28d";
}
.fa-stop-circle-o:before {
  content: "\f28e";
}
.fa-shopping-bag:before {
  content: "\f290";
}
.fa-shopping-basket:before {
  content: "\f291";
}
.fa-hashtag:before {
  content: "\f292";
}
.fa-bluetooth:before {
  content: "\f293";
}
.fa-bluetooth-b:before {
  content: "\f294";
}
.fa-percent:before {
  content: "\f295";
}
.fa-gitlab:before {
  content: "\f296";
}
.fa-wpbeginner:before {
  content: "\f297";
}
.fa-wpforms:before {
  content: "\f298";
}
.fa-envira:before {
  content: "\f299";
}
.fa-universal-access:before {
  content: "\f29a";
}
.fa-wheelchair-alt:before {
  content: "\f29b";
}
.fa-question-circle-o:before {
  content: "\f29c";
}
.fa-blind:before {
  content: "\f29d";
}
.fa-audio-description:before {
  content: "\f29e";
}
.fa-volume-control-phone:before {
  content: "\f2a0";
}
.fa-braille:before {
  content: "\f2a1";
}
.fa-assistive-listening-systems:before {
  content: "\f2a2";
}
.fa-asl-interpreting:before,
.fa-american-sign-language-interpreting:before {
  content: "\f2a3";
}
.fa-deafness:before,
.fa-hard-of-hearing:before,
.fa-deaf:before {
  content: "\f2a4";
}
.fa-glide:before {
  content: "\f2a5";
}
.fa-glide-g:before {
  content: "\f2a6";
}
.fa-signing:before,
.fa-sign-language:before {
  content: "\f2a7";
}
.fa-low-vision:before {
  content: "\f2a8";
}
.fa-viadeo:before {
  content: "\f2a9";
}
.fa-viadeo-square:before {
  content: "\f2aa";
}
.fa-snapchat:before {
  content: "\f2ab";
}
.fa-snapchat-ghost:before {
  content: "\f2ac";
}
.fa-snapchat-square:before {
  content: "\f2ad";
}
.fa-pied-piper:before {
  content: "\f2ae";
}
.fa-first-order:before {
  content: "\f2b0";
}
.fa-yoast:before {
  content: "\f2b1";
}
.fa-themeisle:before {
  content: "\f2b2";
}
.fa-google-plus-circle:before,
.fa-google-plus-official:before {
  content: "\f2b3";
}
.fa-fa:before,
.fa-font-awesome:before {
  content: "\f2b4";
}
.fa-handshake-o:before {
  content: "\f2b5";
}
.fa-envelope-open:before {
  content: "\f2b6";
}
.fa-envelope-open-o:before {
  content: "\f2b7";
}
.fa-linode:before {
  content: "\f2b8";
}
.fa-address-book:before {
  content: "\f2b9";
}
.fa-address-book-o:before {
  content: "\f2ba";
}
.fa-vcard:before,
.fa-address-card:before {
  content: "\f2bb";
}
.fa-vcard-o:before,
.fa-address-card-o:before {
  content: "\f2bc";
}
.fa-user-circle:before {
  content: "\f2bd";
}
.fa-user-circle-o:before {
  content: "\f2be";
}
.fa-user-o:before {
  content: "\f2c0";
}
.fa-id-badge:before {
  content: "\f2c1";
}
.fa-drivers-license:before,
.fa-id-card:before {
  content: "\f2c2";
}
.fa-drivers-license-o:before,
.fa-id-card-o:before {
  content: "\f2c3";
}
.fa-quora:before {
  content: "\f2c4";
}
.fa-free-code-camp:before {
  content: "\f2c5";
}
.fa-telegram:before {
  content: "\f2c6";
}
.fa-thermometer-4:before,
.fa-thermometer:before,
.fa-thermometer-full:before {
  content: "\f2c7";
}
.fa-thermometer-3:before,
.fa-thermometer-three-quarters:before {
  content: "\f2c8";
}
.fa-thermometer-2:before,
.fa-thermometer-half:before {
  content: "\f2c9";
}
.fa-thermometer-1:before,
.fa-thermometer-quarter:before {
  content: "\f2ca";
}
.fa-thermometer-0:before,
.fa-thermometer-empty:before {
  content: "\f2cb";
}
.fa-shower:before {
  content: "\f2cc";
}
.fa-bathtub:before,
.fa-s15:before,
.fa-bath:before {
  content: "\f2cd";
}
.fa-podcast:before {
  content: "\f2ce";
}
.fa-window-maximize:before {
  content: "\f2d0";
}
.fa-window-minimize:before {
  content: "\f2d1";
}
.fa-window-restore:before {
  content: "\f2d2";
}
.fa-times-rectangle:before,
.fa-window-close:before {
  content: "\f2d3";
}
.fa-times-rectangle-o:before,
.fa-window-close-o:before {
  content: "\f2d4";
}
.fa-bandcamp:before {
  content: "\f2d5";
}
.fa-grav:before {
  content: "\f2d6";
}
.fa-etsy:before {
  content: "\f2d7";
}
.fa-imdb:before {
  content: "\f2d8";
}
.fa-ravelry:before {
  content: "\f2d9";
}
.fa-eercast:before {
  content: "\f2da";
}
.fa-microchip:before {
  content: "\f2db";
}
.fa-snowflake-o:before {
  content: "\f2dc";
}
.fa-superpowers:before {
  content: "\f2dd";
}
.fa-wpexplorer:before {
  content: "\f2de";
}
.fa-meetup:before {
  content: "\f2e0";
}
.sr-only {
  position: absolute;
  width: 1px;
  height: 1px;
  padding: 0;
  margin: -1px;
  overflow: hidden;
  clip: rect(0, 0, 0, 0);
  border: 0;
}
.sr-only-focusable:active,
.sr-only-focusable:focus {
  position: static;
  width: auto;
  height: auto;
  margin: 0;
  overflow: visible;
  clip: auto;
}
.sr-only-focusable:active,
.sr-only-focusable:focus {
  position: static;
  width: auto;
  height: auto;
  margin: 0;
  overflow: visible;
  clip: auto;
}
/*!
*
* IPython base
*
*/
.modal.fade .modal-dialog {
  -webkit-transform: translate(0, 0);
  -ms-transform: translate(0, 0);
  -o-transform: translate(0, 0);
  transform: translate(0, 0);
}
code {
  color: #000;
}
pre {
  font-size: inherit;
  line-height: inherit;
}
label {
  font-weight: normal;
}
/* Make the page background atleast 100% the height of the view port */
/* Make the page itself atleast 70% the height of the view port */
.border-box-sizing {
  box-sizing: border-box;
  -moz-box-sizing: border-box;
  -webkit-box-sizing: border-box;
}
.corner-all {
  border-radius: 2px;
}
.no-padding {
  padding: 0px;
}
/* Flexible box model classes */
/* Taken from Alex Russell http://infrequently.org/2009/08/css-3-progress/ */
/* This file is a compatability layer.  It allows the usage of flexible box 
model layouts accross multiple browsers, including older browsers.  The newest,
universal implementation of the flexible box model is used when available (see
`Modern browsers` comments below).  Browsers that are known to implement this 
new spec completely include:

    Firefox 28.0+
    Chrome 29.0+
    Internet Explorer 11+ 
    Opera 17.0+

Browsers not listed, including Safari, are supported via the styling under the
`Old browsers` comments below.
*/
.hbox {
  /* Old browsers */
  display: -webkit-box;
  -webkit-box-orient: horizontal;
  -webkit-box-align: stretch;
  display: -moz-box;
  -moz-box-orient: horizontal;
  -moz-box-align: stretch;
  display: box;
  box-orient: horizontal;
  box-align: stretch;
  /* Modern browsers */
  display: flex;
  flex-direction: row;
  align-items: stretch;
}
.hbox > * {
  /* Old browsers */
  -webkit-box-flex: 0;
  -moz-box-flex: 0;
  box-flex: 0;
  /* Modern browsers */
  flex: none;
}
.vbox {
  /* Old browsers */
  display: -webkit-box;
  -webkit-box-orient: vertical;
  -webkit-box-align: stretch;
  display: -moz-box;
  -moz-box-orient: vertical;
  -moz-box-align: stretch;
  display: box;
  box-orient: vertical;
  box-align: stretch;
  /* Modern browsers */
  display: flex;
  flex-direction: column;
  align-items: stretch;
}
.vbox > * {
  /* Old browsers */
  -webkit-box-flex: 0;
  -moz-box-flex: 0;
  box-flex: 0;
  /* Modern browsers */
  flex: none;
}
.hbox.reverse,
.vbox.reverse,
.reverse {
  /* Old browsers */
  -webkit-box-direction: reverse;
  -moz-box-direction: reverse;
  box-direction: reverse;
  /* Modern browsers */
  flex-direction: row-reverse;
}
.hbox.box-flex0,
.vbox.box-flex0,
.box-flex0 {
  /* Old browsers */
  -webkit-box-flex: 0;
  -moz-box-flex: 0;
  box-flex: 0;
  /* Modern browsers */
  flex: none;
  width: auto;
}
.hbox.box-flex1,
.vbox.box-flex1,
.box-flex1 {
  /* Old browsers */
  -webkit-box-flex: 1;
  -moz-box-flex: 1;
  box-flex: 1;
  /* Modern browsers */
  flex: 1;
}
.hbox.box-flex,
.vbox.box-flex,
.box-flex {
  /* Old browsers */
  /* Old browsers */
  -webkit-box-flex: 1;
  -moz-box-flex: 1;
  box-flex: 1;
  /* Modern browsers */
  flex: 1;
}
.hbox.box-flex2,
.vbox.box-flex2,
.box-flex2 {
  /* Old browsers */
  -webkit-box-flex: 2;
  -moz-box-flex: 2;
  box-flex: 2;
  /* Modern browsers */
  flex: 2;
}
.box-group1 {
  /*  Deprecated */
  -webkit-box-flex-group: 1;
  -moz-box-flex-group: 1;
  box-flex-group: 1;
}
.box-group2 {
  /* Deprecated */
  -webkit-box-flex-group: 2;
  -moz-box-flex-group: 2;
  box-flex-group: 2;
}
.hbox.start,
.vbox.start,
.start {
  /* Old browsers */
  -webkit-box-pack: start;
  -moz-box-pack: start;
  box-pack: start;
  /* Modern browsers */
  justify-content: flex-start;
}
.hbox.end,
.vbox.end,
.end {
  /* Old browsers */
  -webkit-box-pack: end;
  -moz-box-pack: end;
  box-pack: end;
  /* Modern browsers */
  justify-content: flex-end;
}
.hbox.center,
.vbox.center,
.center {
  /* Old browsers */
  -webkit-box-pack: center;
  -moz-box-pack: center;
  box-pack: center;
  /* Modern browsers */
  justify-content: center;
}
.hbox.baseline,
.vbox.baseline,
.baseline {
  /* Old browsers */
  -webkit-box-pack: baseline;
  -moz-box-pack: baseline;
  box-pack: baseline;
  /* Modern browsers */
  justify-content: baseline;
}
.hbox.stretch,
.vbox.stretch,
.stretch {
  /* Old browsers */
  -webkit-box-pack: stretch;
  -moz-box-pack: stretch;
  box-pack: stretch;
  /* Modern browsers */
  justify-content: stretch;
}
.hbox.align-start,
.vbox.align-start,
.align-start {
  /* Old browsers */
  -webkit-box-align: start;
  -moz-box-align: start;
  box-align: start;
  /* Modern browsers */
  align-items: flex-start;
}
.hbox.align-end,
.vbox.align-end,
.align-end {
  /* Old browsers */
  -webkit-box-align: end;
  -moz-box-align: end;
  box-align: end;
  /* Modern browsers */
  align-items: flex-end;
}
.hbox.align-center,
.vbox.align-center,
.align-center {
  /* Old browsers */
  -webkit-box-align: center;
  -moz-box-align: center;
  box-align: center;
  /* Modern browsers */
  align-items: center;
}
.hbox.align-baseline,
.vbox.align-baseline,
.align-baseline {
  /* Old browsers */
  -webkit-box-align: baseline;
  -moz-box-align: baseline;
  box-align: baseline;
  /* Modern browsers */
  align-items: baseline;
}
.hbox.align-stretch,
.vbox.align-stretch,
.align-stretch {
  /* Old browsers */
  -webkit-box-align: stretch;
  -moz-box-align: stretch;
  box-align: stretch;
  /* Modern browsers */
  align-items: stretch;
}
div.error {
  margin: 2em;
  text-align: center;
}
div.error > h1 {
  font-size: 500%;
  line-height: normal;
}
div.error > p {
  font-size: 200%;
  line-height: normal;
}
div.traceback-wrapper {
  text-align: left;
  max-width: 800px;
  margin: auto;
}
div.traceback-wrapper pre.traceback {
  max-height: 600px;
  overflow: auto;
}
/**
 * Primary styles
 *
 * Author: Jupyter Development Team
 */
body {
  background-color: #fff;
  /* This makes sure that the body covers the entire window and needs to
       be in a different element than the display: box in wrapper below */
  position: absolute;
  left: 0px;
  right: 0px;
  top: 0px;
  bottom: 0px;
  overflow: visible;
}
body > #header {
  /* Initially hidden to prevent FLOUC */
  display: none;
  background-color: #fff;
  /* Display over codemirror */
  position: relative;
  z-index: 100;
}
body > #header #header-container {
  display: flex;
  flex-direction: row;
  justify-content: space-between;
  padding: 5px;
  padding-bottom: 5px;
  padding-top: 5px;
  box-sizing: border-box;
  -moz-box-sizing: border-box;
  -webkit-box-sizing: border-box;
}
body > #header .header-bar {
  width: 100%;
  height: 1px;
  background: #e7e7e7;
  margin-bottom: -1px;
}
@media print {
  body > #header {
    display: none !important;
  }
}
#header-spacer {
  width: 100%;
  visibility: hidden;
}
@media print {
  #header-spacer {
    display: none;
  }
}
#ipython_notebook {
  padding-left: 0px;
  padding-top: 1px;
  padding-bottom: 1px;
}
[dir="rtl"] #ipython_notebook {
  margin-right: 10px;
  margin-left: 0;
}
[dir="rtl"] #ipython_notebook.pull-left {
  float: right !important;
  float: right;
}
.flex-spacer {
  flex: 1;
}
#noscript {
  width: auto;
  padding-top: 16px;
  padding-bottom: 16px;
  text-align: center;
  font-size: 22px;
  color: red;
  font-weight: bold;
}
#ipython_notebook img {
  height: 28px;
}
#site {
  width: 100%;
  display: none;
  box-sizing: border-box;
  -moz-box-sizing: border-box;
  -webkit-box-sizing: border-box;
  overflow: auto;
}
@media print {
  #site {
    height: auto !important;
  }
}
/* Smaller buttons */
.ui-button .ui-button-text {
  padding: 0.2em 0.8em;
  font-size: 77%;
}
input.ui-button {
  padding: 0.3em 0.9em;
}
span#kernel_logo_widget {
  margin: 0 10px;
}
span#login_widget {
  float: right;
}
[dir="rtl"] span#login_widget {
  float: left;
}
span#login_widget > .button,
#logout {
  color: #333;
  background-color: #fff;
  border-color: #ccc;
}
span#login_widget > .button:focus,
#logout:focus,
span#login_widget > .button.focus,
#logout.focus {
  color: #333;
  background-color: #e6e6e6;
  border-color: #8c8c8c;
}
span#login_widget > .button:hover,
#logout:hover {
  color: #333;
  background-color: #e6e6e6;
  border-color: #adadad;
}
span#login_widget > .button:active,
#logout:active,
span#login_widget > .button.active,
#logout.active,
.open > .dropdown-togglespan#login_widget > .button,
.open > .dropdown-toggle#logout {
  color: #333;
  background-color: #e6e6e6;
  border-color: #adadad;
}
span#login_widget > .button:active:hover,
#logout:active:hover,
span#login_widget > .button.active:hover,
#logout.active:hover,
.open > .dropdown-togglespan#login_widget > .button:hover,
.open > .dropdown-toggle#logout:hover,
span#login_widget > .button:active:focus,
#logout:active:focus,
span#login_widget > .button.active:focus,
#logout.active:focus,
.open > .dropdown-togglespan#login_widget > .button:focus,
.open > .dropdown-toggle#logout:focus,
span#login_widget > .button:active.focus,
#logout:active.focus,
span#login_widget > .button.active.focus,
#logout.active.focus,
.open > .dropdown-togglespan#login_widget > .button.focus,
.open > .dropdown-toggle#logout.focus {
  color: #333;
  background-color: #d4d4d4;
  border-color: #8c8c8c;
}
span#login_widget > .button:active,
#logout:active,
span#login_widget > .button.active,
#logout.active,
.open > .dropdown-togglespan#login_widget > .button,
.open > .dropdown-toggle#logout {
  background-image: none;
}
span#login_widget > .button.disabled:hover,
#logout.disabled:hover,
span#login_widget > .button[disabled]:hover,
#logout[disabled]:hover,
fieldset[disabled] span#login_widget > .button:hover,
fieldset[disabled] #logout:hover,
span#login_widget > .button.disabled:focus,
#logout.disabled:focus,
span#login_widget > .button[disabled]:focus,
#logout[disabled]:focus,
fieldset[disabled] span#login_widget > .button:focus,
fieldset[disabled] #logout:focus,
span#login_widget > .button.disabled.focus,
#logout.disabled.focus,
span#login_widget > .button[disabled].focus,
#logout[disabled].focus,
fieldset[disabled] span#login_widget > .button.focus,
fieldset[disabled] #logout.focus {
  background-color: #fff;
  border-color: #ccc;
}
span#login_widget > .button .badge,
#logout .badge {
  color: #fff;
  background-color: #333;
}
.nav-header {
  text-transform: none;
}
#header > span {
  margin-top: 10px;
}
.modal_stretch .modal-dialog {
  /* Old browsers */
  display: -webkit-box;
  -webkit-box-orient: vertical;
  -webkit-box-align: stretch;
  display: -moz-box;
  -moz-box-orient: vertical;
  -moz-box-align: stretch;
  display: box;
  box-orient: vertical;
  box-align: stretch;
  /* Modern browsers */
  display: flex;
  flex-direction: column;
  align-items: stretch;
  min-height: 80vh;
}
.modal_stretch .modal-dialog .modal-body {
  max-height: calc(100vh - 200px);
  overflow: auto;
  flex: 1;
}
.modal-header {
  cursor: move;
}
@media (min-width: 768px) {
  .modal .modal-dialog {
    width: 700px;
  }
}
@media (min-width: 768px) {
  select.form-control {
    margin-left: 12px;
    margin-right: 12px;
  }
}
/*!
*
* IPython auth
*
*/
.center-nav {
  display: inline-block;
  margin-bottom: -4px;
}
[dir="rtl"] .center-nav form.pull-left {
  float: right !important;
  float: right;
}
[dir="rtl"] .center-nav .navbar-text {
  float: right;
}
[dir="rtl"] .navbar-inner {
  text-align: right;
}
[dir="rtl"] div.text-left {
  text-align: right;
}
/*!
*
* IPython tree view
*
*/
/* We need an invisible input field on top of the sentense*/
/* "Drag file onto the list ..." */
.alternate_upload {
  background-color: none;
  display: inline;
}
.alternate_upload.form {
  padding: 0;
  margin: 0;
}
.alternate_upload input.fileinput {
  position: absolute;
  display: block;
  width: 100%;
  height: 100%;
  overflow: hidden;
  cursor: pointer;
  opacity: 0;
  z-index: 2;
}
.alternate_upload .btn-xs > input.fileinput {
  margin: -1px -5px;
}
.alternate_upload .btn-upload {
  position: relative;
  height: 22px;
}
::-webkit-file-upload-button {
  cursor: pointer;
}
/**
 * Primary styles
 *
 * Author: Jupyter Development Team
 */
ul#tabs {
  margin-bottom: 4px;
}
ul#tabs a {
  padding-top: 6px;
  padding-bottom: 4px;
}
[dir="rtl"] ul#tabs.nav-tabs > li {
  float: right;
}
[dir="rtl"] ul#tabs.nav.nav-tabs {
  padding-right: 0;
}
ul.breadcrumb a:focus,
ul.breadcrumb a:hover {
  text-decoration: none;
}
ul.breadcrumb i.icon-home {
  font-size: 16px;
  margin-right: 4px;
}
ul.breadcrumb span {
  color: #5e5e5e;
}
.list_toolbar {
  padding: 4px 0 4px 0;
  vertical-align: middle;
}
.list_toolbar .tree-buttons {
  padding-top: 1px;
}
[dir="rtl"] .list_toolbar .tree-buttons .pull-right {
  float: left !important;
  float: left;
}
[dir="rtl"] .list_toolbar .col-sm-4,
[dir="rtl"] .list_toolbar .col-sm-8 {
  float: right;
}
.dynamic-buttons {
  padding-top: 3px;
  display: inline-block;
}
.list_toolbar [class*="span"] {
  min-height: 24px;
}
.list_header {
  font-weight: bold;
  background-color: #EEE;
}
.list_placeholder {
  font-weight: bold;
  padding-top: 4px;
  padding-bottom: 4px;
  padding-left: 7px;
  padding-right: 7px;
}
.list_container {
  margin-top: 4px;
  margin-bottom: 20px;
  border: 1px solid #ddd;
  border-radius: 2px;
}
.list_container > div {
  border-bottom: 1px solid #ddd;
}
.list_container > div:hover .list-item {
  background-color: red;
}
.list_container > div:last-child {
  border: none;
}
.list_item:hover .list_item {
  background-color: #ddd;
}
.list_item a {
  text-decoration: none;
}
.list_item:hover {
  background-color: #fafafa;
}
.list_header > div,
.list_item > div {
  padding-top: 4px;
  padding-bottom: 4px;
  padding-left: 7px;
  padding-right: 7px;
  line-height: 22px;
}
.list_header > div input,
.list_item > div input {
  margin-right: 7px;
  margin-left: 14px;
  vertical-align: text-bottom;
  line-height: 22px;
  position: relative;
  top: -1px;
}
.list_header > div .item_link,
.list_item > div .item_link {
  margin-left: -1px;
  vertical-align: baseline;
  line-height: 22px;
}
[dir="rtl"] .list_item > div input {
  margin-right: 0;
}
.new-file input[type=checkbox] {
  visibility: hidden;
}
.item_name {
  line-height: 22px;
  height: 24px;
}
.item_icon {
  font-size: 14px;
  color: #5e5e5e;
  margin-right: 7px;
  margin-left: 7px;
  line-height: 22px;
  vertical-align: baseline;
}
.item_modified {
  margin-right: 7px;
  margin-left: 7px;
}
[dir="rtl"] .item_modified.pull-right {
  float: left !important;
  float: left;
}
.item_buttons {
  line-height: 1em;
  margin-left: -5px;
}
.item_buttons .btn,
.item_buttons .btn-group,
.item_buttons .input-group {
  float: left;
}
.item_buttons > .btn,
.item_buttons > .btn-group,
.item_buttons > .input-group {
  margin-left: 5px;
}
.item_buttons .btn {
  min-width: 13ex;
}
.item_buttons .running-indicator {
  padding-top: 4px;
  color: #5cb85c;
}
.item_buttons .kernel-name {
  padding-top: 4px;
  color: #5bc0de;
  margin-right: 7px;
  float: left;
}
[dir="rtl"] .item_buttons.pull-right {
  float: left !important;
  float: left;
}
[dir="rtl"] .item_buttons .kernel-name {
  margin-left: 7px;
  float: right;
}
.toolbar_info {
  height: 24px;
  line-height: 24px;
}
.list_item input:not([type=checkbox]) {
  padding-top: 3px;
  padding-bottom: 3px;
  height: 22px;
  line-height: 14px;
  margin: 0px;
}
.highlight_text {
  color: blue;
}
#project_name {
  display: inline-block;
  padding-left: 7px;
  margin-left: -2px;
}
#project_name > .breadcrumb {
  padding: 0px;
  margin-bottom: 0px;
  background-color: transparent;
  font-weight: bold;
}
.sort_button {
  display: inline-block;
  padding-left: 7px;
}
[dir="rtl"] .sort_button.pull-right {
  float: left !important;
  float: left;
}
#tree-selector {
  padding-right: 0px;
}
#button-select-all {
  min-width: 50px;
}
[dir="rtl"] #button-select-all.btn {
  float: right ;
}
#select-all {
  margin-left: 7px;
  margin-right: 2px;
  margin-top: 2px;
  height: 16px;
}
[dir="rtl"] #select-all.pull-left {
  float: right !important;
  float: right;
}
.menu_icon {
  margin-right: 2px;
}
.tab-content .row {
  margin-left: 0px;
  margin-right: 0px;
}
.folder_icon:before {
  display: inline-block;
  font: normal normal normal 14px/1 FontAwesome;
  font-size: inherit;
  text-rendering: auto;
  -webkit-font-smoothing: antialiased;
  -moz-osx-font-smoothing: grayscale;
  content: "\f114";
}
.folder_icon:before.fa-pull-left {
  margin-right: .3em;
}
.folder_icon:before.fa-pull-right {
  margin-left: .3em;
}
.folder_icon:before.pull-left {
  margin-right: .3em;
}
.folder_icon:before.pull-right {
  margin-left: .3em;
}
.notebook_icon:before {
  display: inline-block;
  font: normal normal normal 14px/1 FontAwesome;
  font-size: inherit;
  text-rendering: auto;
  -webkit-font-smoothing: antialiased;
  -moz-osx-font-smoothing: grayscale;
  content: "\f02d";
  position: relative;
  top: -1px;
}
.notebook_icon:before.fa-pull-left {
  margin-right: .3em;
}
.notebook_icon:before.fa-pull-right {
  margin-left: .3em;
}
.notebook_icon:before.pull-left {
  margin-right: .3em;
}
.notebook_icon:before.pull-right {
  margin-left: .3em;
}
.running_notebook_icon:before {
  display: inline-block;
  font: normal normal normal 14px/1 FontAwesome;
  font-size: inherit;
  text-rendering: auto;
  -webkit-font-smoothing: antialiased;
  -moz-osx-font-smoothing: grayscale;
  content: "\f02d";
  position: relative;
  top: -1px;
  color: #5cb85c;
}
.running_notebook_icon:before.fa-pull-left {
  margin-right: .3em;
}
.running_notebook_icon:before.fa-pull-right {
  margin-left: .3em;
}
.running_notebook_icon:before.pull-left {
  margin-right: .3em;
}
.running_notebook_icon:before.pull-right {
  margin-left: .3em;
}
.file_icon:before {
  display: inline-block;
  font: normal normal normal 14px/1 FontAwesome;
  font-size: inherit;
  text-rendering: auto;
  -webkit-font-smoothing: antialiased;
  -moz-osx-font-smoothing: grayscale;
  content: "\f016";
  position: relative;
  top: -2px;
}
.file_icon:before.fa-pull-left {
  margin-right: .3em;
}
.file_icon:before.fa-pull-right {
  margin-left: .3em;
}
.file_icon:before.pull-left {
  margin-right: .3em;
}
.file_icon:before.pull-right {
  margin-left: .3em;
}
#notebook_toolbar .pull-right {
  padding-top: 0px;
  margin-right: -1px;
}
ul#new-menu {
  left: auto;
  right: 0;
}
#new-menu .dropdown-header {
  font-size: 10px;
  border-bottom: 1px solid #e5e5e5;
  padding: 0 0 3px;
  margin: -3px 20px 0;
}
.kernel-menu-icon {
  padding-right: 12px;
  width: 24px;
  content: "\f096";
}
.kernel-menu-icon:before {
  content: "\f096";
}
.kernel-menu-icon-current:before {
  content: "\f00c";
}
#tab_content {
  padding-top: 20px;
}
#running .panel-group .panel {
  margin-top: 3px;
  margin-bottom: 1em;
}
#running .panel-group .panel .panel-heading {
  background-color: #EEE;
  padding-top: 4px;
  padding-bottom: 4px;
  padding-left: 7px;
  padding-right: 7px;
  line-height: 22px;
}
#running .panel-group .panel .panel-heading a:focus,
#running .panel-group .panel .panel-heading a:hover {
  text-decoration: none;
}
#running .panel-group .panel .panel-body {
  padding: 0px;
}
#running .panel-group .panel .panel-body .list_container {
  margin-top: 0px;
  margin-bottom: 0px;
  border: 0px;
  border-radius: 0px;
}
#running .panel-group .panel .panel-body .list_container .list_item {
  border-bottom: 1px solid #ddd;
}
#running .panel-group .panel .panel-body .list_container .list_item:last-child {
  border-bottom: 0px;
}
.delete-button {
  display: none;
}
.duplicate-button {
  display: none;
}
.rename-button {
  display: none;
}
.move-button {
  display: none;
}
.download-button {
  display: none;
}
.shutdown-button {
  display: none;
}
.dynamic-instructions {
  display: inline-block;
  padding-top: 4px;
}
/*!
*
* IPython text editor webapp
*
*/
.selected-keymap i.fa {
  padding: 0px 5px;
}
.selected-keymap i.fa:before {
  content: "\f00c";
}
#mode-menu {
  overflow: auto;
  max-height: 20em;
}
.edit_app #header {
  -webkit-box-shadow: 0px 0px 12px 1px rgba(87, 87, 87, 0.2);
  box-shadow: 0px 0px 12px 1px rgba(87, 87, 87, 0.2);
}
.edit_app #menubar .navbar {
  /* Use a negative 1 bottom margin, so the border overlaps the border of the
    header */
  margin-bottom: -1px;
}
.dirty-indicator {
  display: inline-block;
  font: normal normal normal 14px/1 FontAwesome;
  font-size: inherit;
  text-rendering: auto;
  -webkit-font-smoothing: antialiased;
  -moz-osx-font-smoothing: grayscale;
  width: 20px;
}
.dirty-indicator.fa-pull-left {
  margin-right: .3em;
}
.dirty-indicator.fa-pull-right {
  margin-left: .3em;
}
.dirty-indicator.pull-left {
  margin-right: .3em;
}
.dirty-indicator.pull-right {
  margin-left: .3em;
}
.dirty-indicator-dirty {
  display: inline-block;
  font: normal normal normal 14px/1 FontAwesome;
  font-size: inherit;
  text-rendering: auto;
  -webkit-font-smoothing: antialiased;
  -moz-osx-font-smoothing: grayscale;
  width: 20px;
}
.dirty-indicator-dirty.fa-pull-left {
  margin-right: .3em;
}
.dirty-indicator-dirty.fa-pull-right {
  margin-left: .3em;
}
.dirty-indicator-dirty.pull-left {
  margin-right: .3em;
}
.dirty-indicator-dirty.pull-right {
  margin-left: .3em;
}
.dirty-indicator-clean {
  display: inline-block;
  font: normal normal normal 14px/1 FontAwesome;
  font-size: inherit;
  text-rendering: auto;
  -webkit-font-smoothing: antialiased;
  -moz-osx-font-smoothing: grayscale;
  width: 20px;
}
.dirty-indicator-clean.fa-pull-left {
  margin-right: .3em;
}
.dirty-indicator-clean.fa-pull-right {
  margin-left: .3em;
}
.dirty-indicator-clean.pull-left {
  margin-right: .3em;
}
.dirty-indicator-clean.pull-right {
  margin-left: .3em;
}
.dirty-indicator-clean:before {
  display: inline-block;
  font: normal normal normal 14px/1 FontAwesome;
  font-size: inherit;
  text-rendering: auto;
  -webkit-font-smoothing: antialiased;
  -moz-osx-font-smoothing: grayscale;
  content: "\f00c";
}
.dirty-indicator-clean:before.fa-pull-left {
  margin-right: .3em;
}
.dirty-indicator-clean:before.fa-pull-right {
  margin-left: .3em;
}
.dirty-indicator-clean:before.pull-left {
  margin-right: .3em;
}
.dirty-indicator-clean:before.pull-right {
  margin-left: .3em;
}
#filename {
  font-size: 16pt;
  display: table;
  padding: 0px 5px;
}
#current-mode {
  padding-left: 5px;
  padding-right: 5px;
}
#texteditor-backdrop {
  padding-top: 20px;
  padding-bottom: 20px;
}
@media not print {
  #texteditor-backdrop {
    background-color: #EEE;
  }
}
@media print {
  #texteditor-backdrop #texteditor-container .CodeMirror-gutter,
  #texteditor-backdrop #texteditor-container .CodeMirror-gutters {
    background-color: #fff;
  }
}
@media not print {
  #texteditor-backdrop #texteditor-container .CodeMirror-gutter,
  #texteditor-backdrop #texteditor-container .CodeMirror-gutters {
    background-color: #fff;
  }
}
@media not print {
  #texteditor-backdrop #texteditor-container {
    padding: 0px;
    background-color: #fff;
    -webkit-box-shadow: 0px 0px 12px 1px rgba(87, 87, 87, 0.2);
    box-shadow: 0px 0px 12px 1px rgba(87, 87, 87, 0.2);
  }
}
.CodeMirror-dialog {
  background-color: #fff;
}
/*!
*
* IPython notebook
*
*/
/* CSS font colors for translated ANSI escape sequences */
/* The color values are a mix of
   http://www.xcolors.net/dl/baskerville-ivorylight and
   http://www.xcolors.net/dl/euphrasia */
.ansi-black-fg {
  color: #3E424D;
}
.ansi-black-bg {
  background-color: #3E424D;
}
.ansi-black-intense-fg {
  color: #282C36;
}
.ansi-black-intense-bg {
  background-color: #282C36;
}
.ansi-red-fg {
  color: #E75C58;
}
.ansi-red-bg {
  background-color: #E75C58;
}
.ansi-red-intense-fg {
  color: #B22B31;
}
.ansi-red-intense-bg {
  background-color: #B22B31;
}
.ansi-green-fg {
  color: #00A250;
}
.ansi-green-bg {
  background-color: #00A250;
}
.ansi-green-intense-fg {
  color: #007427;
}
.ansi-green-intense-bg {
  background-color: #007427;
}
.ansi-yellow-fg {
  color: #DDB62B;
}
.ansi-yellow-bg {
  background-color: #DDB62B;
}
.ansi-yellow-intense-fg {
  color: #B27D12;
}
.ansi-yellow-intense-bg {
  background-color: #B27D12;
}
.ansi-blue-fg {
  color: #208FFB;
}
.ansi-blue-bg {
  background-color: #208FFB;
}
.ansi-blue-intense-fg {
  color: #0065CA;
}
.ansi-blue-intense-bg {
  background-color: #0065CA;
}
.ansi-magenta-fg {
  color: #D160C4;
}
.ansi-magenta-bg {
  background-color: #D160C4;
}
.ansi-magenta-intense-fg {
  color: #A03196;
}
.ansi-magenta-intense-bg {
  background-color: #A03196;
}
.ansi-cyan-fg {
  color: #60C6C8;
}
.ansi-cyan-bg {
  background-color: #60C6C8;
}
.ansi-cyan-intense-fg {
  color: #258F8F;
}
.ansi-cyan-intense-bg {
  background-color: #258F8F;
}
.ansi-white-fg {
  color: #C5C1B4;
}
.ansi-white-bg {
  background-color: #C5C1B4;
}
.ansi-white-intense-fg {
  color: #A1A6B2;
}
.ansi-white-intense-bg {
  background-color: #A1A6B2;
}
.ansi-default-inverse-fg {
  color: #FFFFFF;
}
.ansi-default-inverse-bg {
  background-color: #000000;
}
.ansi-bold {
  font-weight: bold;
}
.ansi-underline {
  text-decoration: underline;
}
/* The following styles are deprecated an will be removed in a future version */
.ansibold {
  font-weight: bold;
}
.ansi-inverse {
  outline: 0.5px dotted;
}
/* use dark versions for foreground, to improve visibility */
.ansiblack {
  color: black;
}
.ansired {
  color: darkred;
}
.ansigreen {
  color: darkgreen;
}
.ansiyellow {
  color: #c4a000;
}
.ansiblue {
  color: darkblue;
}
.ansipurple {
  color: darkviolet;
}
.ansicyan {
  color: steelblue;
}
.ansigray {
  color: gray;
}
/* and light for background, for the same reason */
.ansibgblack {
  background-color: black;
}
.ansibgred {
  background-color: red;
}
.ansibggreen {
  background-color: green;
}
.ansibgyellow {
  background-color: yellow;
}
.ansibgblue {
  background-color: blue;
}
.ansibgpurple {
  background-color: magenta;
}
.ansibgcyan {
  background-color: cyan;
}
.ansibggray {
  background-color: gray;
}
div.cell {
  /* Old browsers */
  display: -webkit-box;
  -webkit-box-orient: vertical;
  -webkit-box-align: stretch;
  display: -moz-box;
  -moz-box-orient: vertical;
  -moz-box-align: stretch;
  display: box;
  box-orient: vertical;
  box-align: stretch;
  /* Modern browsers */
  display: flex;
  flex-direction: column;
  align-items: stretch;
  border-radius: 2px;
  box-sizing: border-box;
  -moz-box-sizing: border-box;
  -webkit-box-sizing: border-box;
  border-width: 1px;
  border-style: solid;
  border-color: transparent;
  width: 100%;
  padding: 5px;
  /* This acts as a spacer between cells, that is outside the border */
  margin: 0px;
  outline: none;
  position: relative;
  overflow: visible;
}
div.cell:before {
  position: absolute;
  display: block;
  top: -1px;
  left: -1px;
  width: 5px;
  height: calc(100% +  2px);
  content: '';
  background: transparent;
}
div.cell.jupyter-soft-selected {
  border-left-color: #E3F2FD;
  border-left-width: 1px;
  padding-left: 5px;
  border-right-color: #E3F2FD;
  border-right-width: 1px;
  background: #E3F2FD;
}
@media print {
  div.cell.jupyter-soft-selected {
    border-color: transparent;
  }
}
div.cell.selected,
div.cell.selected.jupyter-soft-selected {
  border-color: #ababab;
}
div.cell.selected:before,
div.cell.selected.jupyter-soft-selected:before {
  position: absolute;
  display: block;
  top: -1px;
  left: -1px;
  width: 5px;
  height: calc(100% +  2px);
  content: '';
  background: #42A5F5;
}
@media print {
  div.cell.selected,
  div.cell.selected.jupyter-soft-selected {
    border-color: transparent;
  }
}
.edit_mode div.cell.selected {
  border-color: #66BB6A;
}
.edit_mode div.cell.selected:before {
  position: absolute;
  display: block;
  top: -1px;
  left: -1px;
  width: 5px;
  height: calc(100% +  2px);
  content: '';
  background: #66BB6A;
}
@media print {
  .edit_mode div.cell.selected {
    border-color: transparent;
  }
}
.prompt {
  /* This needs to be wide enough for 3 digit prompt numbers: In[100]: */
  min-width: 14ex;
  /* This padding is tuned to match the padding on the CodeMirror editor. */
  padding: 0.4em;
  margin: 0px;
  font-family: monospace;
  text-align: right;
  /* This has to match that of the the CodeMirror class line-height below */
  line-height: 1.21429em;
  /* Don't highlight prompt number selection */
  -webkit-touch-callout: none;
  -webkit-user-select: none;
  -khtml-user-select: none;
  -moz-user-select: none;
  -ms-user-select: none;
  user-select: none;
  /* Use default cursor */
  cursor: default;
}
@media (max-width: 540px) {
  .prompt {
    text-align: left;
  }
}
div.inner_cell {
  min-width: 0;
  /* Old browsers */
  display: -webkit-box;
  -webkit-box-orient: vertical;
  -webkit-box-align: stretch;
  display: -moz-box;
  -moz-box-orient: vertical;
  -moz-box-align: stretch;
  display: box;
  box-orient: vertical;
  box-align: stretch;
  /* Modern browsers */
  display: flex;
  flex-direction: column;
  align-items: stretch;
  /* Old browsers */
  -webkit-box-flex: 1;
  -moz-box-flex: 1;
  box-flex: 1;
  /* Modern browsers */
  flex: 1;
}
/* input_area and input_prompt must match in top border and margin for alignment */
div.input_area {
  border: 1px solid #cfcfcf;
  border-radius: 2px;
  background: #f7f7f7;
  line-height: 1.21429em;
}
/* This is needed so that empty prompt areas can collapse to zero height when there
   is no content in the output_subarea and the prompt. The main purpose of this is
   to make sure that empty JavaScript output_subareas have no height. */
div.prompt:empty {
  padding-top: 0;
  padding-bottom: 0;
}
div.unrecognized_cell {
  padding: 5px 5px 5px 0px;
  /* Old browsers */
  display: -webkit-box;
  -webkit-box-orient: horizontal;
  -webkit-box-align: stretch;
  display: -moz-box;
  -moz-box-orient: horizontal;
  -moz-box-align: stretch;
  display: box;
  box-orient: horizontal;
  box-align: stretch;
  /* Modern browsers */
  display: flex;
  flex-direction: row;
  align-items: stretch;
}
div.unrecognized_cell .inner_cell {
  border-radius: 2px;
  padding: 5px;
  font-weight: bold;
  color: red;
  border: 1px solid #cfcfcf;
  background: #eaeaea;
}
div.unrecognized_cell .inner_cell a {
  color: inherit;
  text-decoration: none;
}
div.unrecognized_cell .inner_cell a:hover {
  color: inherit;
  text-decoration: none;
}
@media (max-width: 540px) {
  div.unrecognized_cell > div.prompt {
    display: none;
  }
}
div.code_cell {
  /* avoid page breaking on code cells when printing */
}
@media print {
  div.code_cell {
    page-break-inside: avoid;
  }
}
/* any special styling for code cells that are currently running goes here */
div.input {
  page-break-inside: avoid;
  /* Old browsers */
  display: -webkit-box;
  -webkit-box-orient: horizontal;
  -webkit-box-align: stretch;
  display: -moz-box;
  -moz-box-orient: horizontal;
  -moz-box-align: stretch;
  display: box;
  box-orient: horizontal;
  box-align: stretch;
  /* Modern browsers */
  display: flex;
  flex-direction: row;
  align-items: stretch;
}
@media (max-width: 540px) {
  div.input {
    /* Old browsers */
    display: -webkit-box;
    -webkit-box-orient: vertical;
    -webkit-box-align: stretch;
    display: -moz-box;
    -moz-box-orient: vertical;
    -moz-box-align: stretch;
    display: box;
    box-orient: vertical;
    box-align: stretch;
    /* Modern browsers */
    display: flex;
    flex-direction: column;
    align-items: stretch;
  }
}
/* input_area and input_prompt must match in top border and margin for alignment */
div.input_prompt {
  color: #303F9F;
  border-top: 1px solid transparent;
}
div.input_area > div.highlight {
  margin: 0.4em;
  border: none;
  padding: 0px;
  background-color: transparent;
}
div.input_area > div.highlight > pre {
  margin: 0px;
  border: none;
  padding: 0px;
  background-color: transparent;
}
/* The following gets added to the <head> if it is detected that the user has a
 * monospace font with inconsistent normal/bold/italic height.  See
 * notebookmain.js.  Such fonts will have keywords vertically offset with
 * respect to the rest of the text.  The user should select a better font.
 * See: https://github.com/ipython/ipython/issues/1503
 *
 * .CodeMirror span {
 *      vertical-align: bottom;
 * }
 */
.CodeMirror {
  line-height: 1.21429em;
  /* Changed from 1em to our global default */
  font-size: 14px;
  height: auto;
  /* Changed to auto to autogrow */
  background: none;
  /* Changed from white to allow our bg to show through */
}
.CodeMirror-scroll {
  /*  The CodeMirror docs are a bit fuzzy on if overflow-y should be hidden or visible.*/
  /*  We have found that if it is visible, vertical scrollbars appear with font size changes.*/
  overflow-y: hidden;
  overflow-x: auto;
}
.CodeMirror-lines {
  /* In CM2, this used to be 0.4em, but in CM3 it went to 4px. We need the em value because */
  /* we have set a different line-height and want this to scale with that. */
  /* Note that this should set vertical padding only, since CodeMirror assumes
       that horizontal padding will be set on CodeMirror pre */
  padding: 0.4em 0;
}
.CodeMirror-linenumber {
  padding: 0 8px 0 4px;
}
.CodeMirror-gutters {
  border-bottom-left-radius: 2px;
  border-top-left-radius: 2px;
}
.CodeMirror pre {
  /* In CM3 this went to 4px from 0 in CM2. This sets horizontal padding only,
    use .CodeMirror-lines for vertical */
  padding: 0 0.4em;
  border: 0;
  border-radius: 0;
}
.CodeMirror-cursor {
  border-left: 1.4px solid black;
}
@media screen and (min-width: 2138px) and (max-width: 4319px) {
  .CodeMirror-cursor {
    border-left: 2px solid black;
  }
}
@media screen and (min-width: 4320px) {
  .CodeMirror-cursor {
    border-left: 4px solid black;
  }
}
/*

Original style from softwaremaniacs.org (c) Ivan Sagalaev <Maniac@SoftwareManiacs.Org>
Adapted from GitHub theme

*/
.highlight-base {
  color: #000;
}
.highlight-variable {
  color: #000;
}
.highlight-variable-2 {
  color: #1a1a1a;
}
.highlight-variable-3 {
  color: #333333;
}
.highlight-string {
  color: #BA2121;
}
.highlight-comment {
  color: #408080;
  font-style: italic;
}
.highlight-number {
  color: #080;
}
.highlight-atom {
  color: #88F;
}
.highlight-keyword {
  color: #008000;
  font-weight: bold;
}
.highlight-builtin {
  color: #008000;
}
.highlight-error {
  color: #f00;
}
.highlight-operator {
  color: #AA22FF;
  font-weight: bold;
}
.highlight-meta {
  color: #AA22FF;
}
/* previously not defined, copying from default codemirror */
.highlight-def {
  color: #00f;
}
.highlight-string-2 {
  color: #f50;
}
.highlight-qualifier {
  color: #555;
}
.highlight-bracket {
  color: #997;
}
.highlight-tag {
  color: #170;
}
.highlight-attribute {
  color: #00c;
}
.highlight-header {
  color: blue;
}
.highlight-quote {
  color: #090;
}
.highlight-link {
  color: #00c;
}
/* apply the same style to codemirror */
.cm-s-ipython span.cm-keyword {
  color: #008000;
  font-weight: bold;
}
.cm-s-ipython span.cm-atom {
  color: #88F;
}
.cm-s-ipython span.cm-number {
  color: #080;
}
.cm-s-ipython span.cm-def {
  color: #00f;
}
.cm-s-ipython span.cm-variable {
  color: #000;
}
.cm-s-ipython span.cm-operator {
  color: #AA22FF;
  font-weight: bold;
}
.cm-s-ipython span.cm-variable-2 {
  color: #1a1a1a;
}
.cm-s-ipython span.cm-variable-3 {
  color: #333333;
}
.cm-s-ipython span.cm-comment {
  color: #408080;
  font-style: italic;
}
.cm-s-ipython span.cm-string {
  color: #BA2121;
}
.cm-s-ipython span.cm-string-2 {
  color: #f50;
}
.cm-s-ipython span.cm-meta {
  color: #AA22FF;
}
.cm-s-ipython span.cm-qualifier {
  color: #555;
}
.cm-s-ipython span.cm-builtin {
  color: #008000;
}
.cm-s-ipython span.cm-bracket {
  color: #997;
}
.cm-s-ipython span.cm-tag {
  color: #170;
}
.cm-s-ipython span.cm-attribute {
  color: #00c;
}
.cm-s-ipython span.cm-header {
  color: blue;
}
.cm-s-ipython span.cm-quote {
  color: #090;
}
.cm-s-ipython span.cm-link {
  color: #00c;
}
.cm-s-ipython span.cm-error {
  color: #f00;
}
.cm-s-ipython span.cm-tab {
  background: url(data:image/png;base64,iVBORw0KGgoAAAANSUhEUgAAADAAAAAMCAYAAAAkuj5RAAAAAXNSR0IArs4c6QAAAGFJREFUSMft1LsRQFAQheHPowAKoACx3IgEKtaEHujDjORSgWTH/ZOdnZOcM/sgk/kFFWY0qV8foQwS4MKBCS3qR6ixBJvElOobYAtivseIE120FaowJPN75GMu8j/LfMwNjh4HUpwg4LUAAAAASUVORK5CYII=);
  background-position: right;
  background-repeat: no-repeat;
}
div.output_wrapper {
  /* this position must be relative to enable descendents to be absolute within it */
  position: relative;
  /* Old browsers */
  display: -webkit-box;
  -webkit-box-orient: vertical;
  -webkit-box-align: stretch;
  display: -moz-box;
  -moz-box-orient: vertical;
  -moz-box-align: stretch;
  display: box;
  box-orient: vertical;
  box-align: stretch;
  /* Modern browsers */
  display: flex;
  flex-direction: column;
  align-items: stretch;
  z-index: 1;
}
/* class for the output area when it should be height-limited */
div.output_scroll {
  /* ideally, this would be max-height, but FF barfs all over that */
  height: 24em;
  /* FF needs this *and the wrapper* to specify full width, or it will shrinkwrap */
  width: 100%;
  overflow: auto;
  border-radius: 2px;
  -webkit-box-shadow: inset 0 2px 8px rgba(0, 0, 0, 0.8);
  box-shadow: inset 0 2px 8px rgba(0, 0, 0, 0.8);
  display: block;
}
/* output div while it is collapsed */
div.output_collapsed {
  margin: 0px;
  padding: 0px;
  /* Old browsers */
  display: -webkit-box;
  -webkit-box-orient: vertical;
  -webkit-box-align: stretch;
  display: -moz-box;
  -moz-box-orient: vertical;
  -moz-box-align: stretch;
  display: box;
  box-orient: vertical;
  box-align: stretch;
  /* Modern browsers */
  display: flex;
  flex-direction: column;
  align-items: stretch;
}
div.out_prompt_overlay {
  height: 100%;
  padding: 0px 0.4em;
  position: absolute;
  border-radius: 2px;
}
div.out_prompt_overlay:hover {
  /* use inner shadow to get border that is computed the same on WebKit/FF */
  -webkit-box-shadow: inset 0 0 1px #000;
  box-shadow: inset 0 0 1px #000;
  background: rgba(240, 240, 240, 0.5);
}
div.output_prompt {
  color: #D84315;
}
/* This class is the outer container of all output sections. */
div.output_area {
  padding: 0px;
  page-break-inside: avoid;
  /* Old browsers */
  display: -webkit-box;
  -webkit-box-orient: horizontal;
  -webkit-box-align: stretch;
  display: -moz-box;
  -moz-box-orient: horizontal;
  -moz-box-align: stretch;
  display: box;
  box-orient: horizontal;
  box-align: stretch;
  /* Modern browsers */
  display: flex;
  flex-direction: row;
  align-items: stretch;
}
div.output_area .MathJax_Display {
  text-align: left !important;
}
div.output_area .rendered_html table {
  margin-left: 0;
  margin-right: 0;
}
div.output_area .rendered_html img {
  margin-left: 0;
  margin-right: 0;
}
div.output_area img,
div.output_area svg {
  max-width: 100%;
  height: auto;
}
div.output_area img.unconfined,
div.output_area svg.unconfined {
  max-width: none;
}
div.output_area .mglyph > img {
  max-width: none;
}
/* This is needed to protect the pre formating from global settings such
   as that of bootstrap */
.output {
  /* Old browsers */
  display: -webkit-box;
  -webkit-box-orient: vertical;
  -webkit-box-align: stretch;
  display: -moz-box;
  -moz-box-orient: vertical;
  -moz-box-align: stretch;
  display: box;
  box-orient: vertical;
  box-align: stretch;
  /* Modern browsers */
  display: flex;
  flex-direction: column;
  align-items: stretch;
}
@media (max-width: 540px) {
  div.output_area {
    /* Old browsers */
    display: -webkit-box;
    -webkit-box-orient: vertical;
    -webkit-box-align: stretch;
    display: -moz-box;
    -moz-box-orient: vertical;
    -moz-box-align: stretch;
    display: box;
    box-orient: vertical;
    box-align: stretch;
    /* Modern browsers */
    display: flex;
    flex-direction: column;
    align-items: stretch;
  }
}
div.output_area pre {
  margin: 0;
  padding: 1px 0 1px 0;
  border: 0;
  vertical-align: baseline;
  color: black;
  background-color: transparent;
  border-radius: 0;
}
/* This class is for the output subarea inside the output_area and after
   the prompt div. */
div.output_subarea {
  overflow-x: auto;
  padding: 0.4em;
  /* Old browsers */
  -webkit-box-flex: 1;
  -moz-box-flex: 1;
  box-flex: 1;
  /* Modern browsers */
  flex: 1;
  max-width: calc(100% - 14ex);
}
div.output_scroll div.output_subarea {
  overflow-x: visible;
}
/* The rest of the output_* classes are for special styling of the different
   output types */
/* all text output has this class: */
div.output_text {
  text-align: left;
  color: #000;
  /* This has to match that of the the CodeMirror class line-height below */
  line-height: 1.21429em;
}
/* stdout/stderr are 'text' as well as 'stream', but execute_result/error are *not* streams */
div.output_stderr {
  background: #fdd;
  /* very light red background for stderr */
}
div.output_latex {
  text-align: left;
}
/* Empty output_javascript divs should have no height */
div.output_javascript:empty {
  padding: 0;
}
.js-error {
  color: darkred;
}
/* raw_input styles */
div.raw_input_container {
  line-height: 1.21429em;
  padding-top: 5px;
}
pre.raw_input_prompt {
  /* nothing needed here. */
}
input.raw_input {
  font-family: monospace;
  font-size: inherit;
  color: inherit;
  width: auto;
  /* make sure input baseline aligns with prompt */
  vertical-align: baseline;
  /* padding + margin = 0.5em between prompt and cursor */
  padding: 0em 0.25em;
  margin: 0em 0.25em;
}
input.raw_input:focus {
  box-shadow: none;
}
p.p-space {
  margin-bottom: 10px;
}
div.output_unrecognized {
  padding: 5px;
  font-weight: bold;
  color: red;
}
div.output_unrecognized a {
  color: inherit;
  text-decoration: none;
}
div.output_unrecognized a:hover {
  color: inherit;
  text-decoration: none;
}
.rendered_html {
  color: #000;
  /* any extras will just be numbers: */
}
.rendered_html em {
  font-style: italic;
}
.rendered_html strong {
  font-weight: bold;
}
.rendered_html u {
  text-decoration: underline;
}
.rendered_html :link {
  text-decoration: underline;
}
.rendered_html :visited {
  text-decoration: underline;
}
.rendered_html h1 {
  font-size: 185.7%;
  margin: 1.08em 0 0 0;
  font-weight: bold;
  line-height: 1.0;
}
.rendered_html h2 {
  font-size: 157.1%;
  margin: 1.27em 0 0 0;
  font-weight: bold;
  line-height: 1.0;
}
.rendered_html h3 {
  font-size: 128.6%;
  margin: 1.55em 0 0 0;
  font-weight: bold;
  line-height: 1.0;
}
.rendered_html h4 {
  font-size: 100%;
  margin: 2em 0 0 0;
  font-weight: bold;
  line-height: 1.0;
}
.rendered_html h5 {
  font-size: 100%;
  margin: 2em 0 0 0;
  font-weight: bold;
  line-height: 1.0;
  font-style: italic;
}
.rendered_html h6 {
  font-size: 100%;
  margin: 2em 0 0 0;
  font-weight: bold;
  line-height: 1.0;
  font-style: italic;
}
.rendered_html h1:first-child {
  margin-top: 0.538em;
}
.rendered_html h2:first-child {
  margin-top: 0.636em;
}
.rendered_html h3:first-child {
  margin-top: 0.777em;
}
.rendered_html h4:first-child {
  margin-top: 1em;
}
.rendered_html h5:first-child {
  margin-top: 1em;
}
.rendered_html h6:first-child {
  margin-top: 1em;
}
.rendered_html ul:not(.list-inline),
.rendered_html ol:not(.list-inline) {
  padding-left: 2em;
}
.rendered_html ul {
  list-style: disc;
}
.rendered_html ul ul {
  list-style: square;
  margin-top: 0;
}
.rendered_html ul ul ul {
  list-style: circle;
}
.rendered_html ol {
  list-style: decimal;
}
.rendered_html ol ol {
  list-style: upper-alpha;
  margin-top: 0;
}
.rendered_html ol ol ol {
  list-style: lower-alpha;
}
.rendered_html ol ol ol ol {
  list-style: lower-roman;
}
.rendered_html ol ol ol ol ol {
  list-style: decimal;
}
.rendered_html * + ul {
  margin-top: 1em;
}
.rendered_html * + ol {
  margin-top: 1em;
}
.rendered_html hr {
  color: black;
  background-color: black;
}
.rendered_html pre {
  margin: 1em 2em;
  padding: 0px;
  background-color: #fff;
}
.rendered_html code {
  background-color: #eff0f1;
}
.rendered_html p code {
  padding: 1px 5px;
}
.rendered_html pre code {
  background-color: #fff;
}
.rendered_html pre,
.rendered_html code {
  border: 0;
  color: #000;
  font-size: 100%;
}
.rendered_html blockquote {
  margin: 1em 2em;
}
.rendered_html table {
  margin-left: auto;
  margin-right: auto;
  border: none;
  border-collapse: collapse;
  border-spacing: 0;
  color: black;
  font-size: 12px;
  table-layout: fixed;
}
.rendered_html thead {
  border-bottom: 1px solid black;
  vertical-align: bottom;
}
.rendered_html tr,
.rendered_html th,
.rendered_html td {
  text-align: right;
  vertical-align: middle;
  padding: 0.5em 0.5em;
  line-height: normal;
  white-space: normal;
  max-width: none;
  border: none;
}
.rendered_html th {
  font-weight: bold;
}
.rendered_html tbody tr:nth-child(odd) {
  background: #f5f5f5;
}
.rendered_html tbody tr:hover {
  background: rgba(66, 165, 245, 0.2);
}
.rendered_html * + table {
  margin-top: 1em;
}
.rendered_html p {
  text-align: left;
}
.rendered_html * + p {
  margin-top: 1em;
}
.rendered_html img {
  display: block;
  margin-left: auto;
  margin-right: auto;
}
.rendered_html * + img {
  margin-top: 1em;
}
.rendered_html img,
.rendered_html svg {
  max-width: 100%;
  height: auto;
}
.rendered_html img.unconfined,
.rendered_html svg.unconfined {
  max-width: none;
}
.rendered_html .alert {
  margin-bottom: initial;
}
.rendered_html * + .alert {
  margin-top: 1em;
}
[dir="rtl"] .rendered_html p {
  text-align: right;
}
div.text_cell {
  /* Old browsers */
  display: -webkit-box;
  -webkit-box-orient: horizontal;
  -webkit-box-align: stretch;
  display: -moz-box;
  -moz-box-orient: horizontal;
  -moz-box-align: stretch;
  display: box;
  box-orient: horizontal;
  box-align: stretch;
  /* Modern browsers */
  display: flex;
  flex-direction: row;
  align-items: stretch;
}
@media (max-width: 540px) {
  div.text_cell > div.prompt {
    display: none;
  }
}
div.text_cell_render {
  /*font-family: "Helvetica Neue", Arial, Helvetica, Geneva, sans-serif;*/
  outline: none;
  resize: none;
  width: inherit;
  border-style: none;
  padding: 0.5em 0.5em 0.5em 0.4em;
  color: #000;
  box-sizing: border-box;
  -moz-box-sizing: border-box;
  -webkit-box-sizing: border-box;
}
a.anchor-link:link {
  text-decoration: none;
  padding: 0px 20px;
  visibility: hidden;
}
h1:hover .anchor-link,
h2:hover .anchor-link,
h3:hover .anchor-link,
h4:hover .anchor-link,
h5:hover .anchor-link,
h6:hover .anchor-link {
  visibility: visible;
}
.text_cell.rendered .input_area {
  display: none;
}
.text_cell.rendered .rendered_html {
  overflow-x: auto;
  overflow-y: hidden;
}
.text_cell.rendered .rendered_html tr,
.text_cell.rendered .rendered_html th,
.text_cell.rendered .rendered_html td {
  max-width: none;
}
.text_cell.unrendered .text_cell_render {
  display: none;
}
.text_cell .dropzone .input_area {
  border: 2px dashed #bababa;
  margin: -1px;
}
.cm-header-1,
.cm-header-2,
.cm-header-3,
.cm-header-4,
.cm-header-5,
.cm-header-6 {
  font-weight: bold;
  font-family: "Helvetica Neue", Helvetica, Arial, sans-serif;
}
.cm-header-1 {
  font-size: 185.7%;
}
.cm-header-2 {
  font-size: 157.1%;
}
.cm-header-3 {
  font-size: 128.6%;
}
.cm-header-4 {
  font-size: 110%;
}
.cm-header-5 {
  font-size: 100%;
  font-style: italic;
}
.cm-header-6 {
  font-size: 100%;
  font-style: italic;
}
/*!
*
* IPython notebook webapp
*
*/
@media (max-width: 767px) {
  .notebook_app {
    padding-left: 0px;
    padding-right: 0px;
  }
}
#ipython-main-app {
  box-sizing: border-box;
  -moz-box-sizing: border-box;
  -webkit-box-sizing: border-box;
  height: 100%;
}
div#notebook_panel {
  margin: 0px;
  padding: 0px;
  box-sizing: border-box;
  -moz-box-sizing: border-box;
  -webkit-box-sizing: border-box;
  height: 100%;
}
div#notebook {
  font-size: 14px;
  line-height: 20px;
  overflow-y: hidden;
  overflow-x: auto;
  width: 100%;
  /* This spaces the page away from the edge of the notebook area */
  padding-top: 20px;
  margin: 0px;
  outline: none;
  box-sizing: border-box;
  -moz-box-sizing: border-box;
  -webkit-box-sizing: border-box;
  min-height: 100%;
}
@media not print {
  #notebook-container {
    padding: 15px;
    background-color: #fff;
    min-height: 0;
    -webkit-box-shadow: 0px 0px 12px 1px rgba(87, 87, 87, 0.2);
    box-shadow: 0px 0px 12px 1px rgba(87, 87, 87, 0.2);
  }
}
@media print {
  #notebook-container {
    width: 100%;
  }
}
div.ui-widget-content {
  border: 1px solid #ababab;
  outline: none;
}
pre.dialog {
  background-color: #f7f7f7;
  border: 1px solid #ddd;
  border-radius: 2px;
  padding: 0.4em;
  padding-left: 2em;
}
p.dialog {
  padding: 0.2em;
}
/* Word-wrap output correctly.  This is the CSS3 spelling, though Firefox seems
   to not honor it correctly.  Webkit browsers (Chrome, rekonq, Safari) do.
 */
pre,
code,
kbd,
samp {
  white-space: pre-wrap;
}
#fonttest {
  font-family: monospace;
}
p {
  margin-bottom: 0;
}
.end_space {
  min-height: 100px;
  transition: height .2s ease;
}
.notebook_app > #header {
  -webkit-box-shadow: 0px 0px 12px 1px rgba(87, 87, 87, 0.2);
  box-shadow: 0px 0px 12px 1px rgba(87, 87, 87, 0.2);
}
@media not print {
  .notebook_app {
    background-color: #EEE;
  }
}
kbd {
  border-style: solid;
  border-width: 1px;
  box-shadow: none;
  margin: 2px;
  padding-left: 2px;
  padding-right: 2px;
  padding-top: 1px;
  padding-bottom: 1px;
}
.jupyter-keybindings {
  padding: 1px;
  line-height: 24px;
  border-bottom: 1px solid gray;
}
.jupyter-keybindings input {
  margin: 0;
  padding: 0;
  border: none;
}
.jupyter-keybindings i {
  padding: 6px;
}
.well code {
  background-color: #ffffff;
  border-color: #ababab;
  border-width: 1px;
  border-style: solid;
  padding: 2px;
  padding-top: 1px;
  padding-bottom: 1px;
}
/* CSS for the cell toolbar */
.celltoolbar {
  border: thin solid #CFCFCF;
  border-bottom: none;
  background: #EEE;
  border-radius: 2px 2px 0px 0px;
  width: 100%;
  height: 29px;
  padding-right: 4px;
  /* Old browsers */
  display: -webkit-box;
  -webkit-box-orient: horizontal;
  -webkit-box-align: stretch;
  display: -moz-box;
  -moz-box-orient: horizontal;
  -moz-box-align: stretch;
  display: box;
  box-orient: horizontal;
  box-align: stretch;
  /* Modern browsers */
  display: flex;
  flex-direction: row;
  align-items: stretch;
  /* Old browsers */
  -webkit-box-pack: end;
  -moz-box-pack: end;
  box-pack: end;
  /* Modern browsers */
  justify-content: flex-end;
  display: -webkit-flex;
}
@media print {
  .celltoolbar {
    display: none;
  }
}
.ctb_hideshow {
  display: none;
  vertical-align: bottom;
}
/* ctb_show is added to the ctb_hideshow div to show the cell toolbar.
   Cell toolbars are only shown when the ctb_global_show class is also set.
*/
.ctb_global_show .ctb_show.ctb_hideshow {
  display: block;
}
.ctb_global_show .ctb_show + .input_area,
.ctb_global_show .ctb_show + div.text_cell_input,
.ctb_global_show .ctb_show ~ div.text_cell_render {
  border-top-right-radius: 0px;
  border-top-left-radius: 0px;
}
.ctb_global_show .ctb_show ~ div.text_cell_render {
  border: 1px solid #cfcfcf;
}
.celltoolbar {
  font-size: 87%;
  padding-top: 3px;
}
.celltoolbar select {
  display: block;
  width: 100%;
  height: 32px;
  padding: 6px 12px;
  font-size: 13px;
  line-height: 1.42857143;
  color: #555555;
  background-color: #fff;
  background-image: none;
  border: 1px solid #ccc;
  border-radius: 2px;
  -webkit-box-shadow: inset 0 1px 1px rgba(0, 0, 0, 0.075);
  box-shadow: inset 0 1px 1px rgba(0, 0, 0, 0.075);
  -webkit-transition: border-color ease-in-out .15s, box-shadow ease-in-out .15s;
  -o-transition: border-color ease-in-out .15s, box-shadow ease-in-out .15s;
  transition: border-color ease-in-out .15s, box-shadow ease-in-out .15s;
  height: 30px;
  padding: 5px 10px;
  font-size: 12px;
  line-height: 1.5;
  border-radius: 1px;
  width: inherit;
  font-size: inherit;
  height: 22px;
  padding: 0px;
  display: inline-block;
}
.celltoolbar select:focus {
  border-color: #66afe9;
  outline: 0;
  -webkit-box-shadow: inset 0 1px 1px rgba(0,0,0,.075), 0 0 8px rgba(102, 175, 233, 0.6);
  box-shadow: inset 0 1px 1px rgba(0,0,0,.075), 0 0 8px rgba(102, 175, 233, 0.6);
}
.celltoolbar select::-moz-placeholder {
  color: #999;
  opacity: 1;
}
.celltoolbar select:-ms-input-placeholder {
  color: #999;
}
.celltoolbar select::-webkit-input-placeholder {
  color: #999;
}
.celltoolbar select::-ms-expand {
  border: 0;
  background-color: transparent;
}
.celltoolbar select[disabled],
.celltoolbar select[readonly],
fieldset[disabled] .celltoolbar select {
  background-color: #eeeeee;
  opacity: 1;
}
.celltoolbar select[disabled],
fieldset[disabled] .celltoolbar select {
  cursor: not-allowed;
}
textarea.celltoolbar select {
  height: auto;
}
select.celltoolbar select {
  height: 30px;
  line-height: 30px;
}
textarea.celltoolbar select,
select[multiple].celltoolbar select {
  height: auto;
}
.celltoolbar label {
  margin-left: 5px;
  margin-right: 5px;
}
.tags_button_container {
  width: 100%;
  display: flex;
}
.tag-container {
  display: flex;
  flex-direction: row;
  flex-grow: 1;
  overflow: hidden;
  position: relative;
}
.tag-container > * {
  margin: 0 4px;
}
.remove-tag-btn {
  margin-left: 4px;
}
.tags-input {
  display: flex;
}
.cell-tag:last-child:after {
  content: "";
  position: absolute;
  right: 0;
  width: 40px;
  height: 100%;
  /* Fade to background color of cell toolbar */
  background: linear-gradient(to right, rgba(0, 0, 0, 0), #EEE);
}
.tags-input > * {
  margin-left: 4px;
}
.cell-tag,
.tags-input input,
.tags-input button {
  display: block;
  width: 100%;
  height: 32px;
  padding: 6px 12px;
  font-size: 13px;
  line-height: 1.42857143;
  color: #555555;
  background-color: #fff;
  background-image: none;
  border: 1px solid #ccc;
  border-radius: 2px;
  -webkit-box-shadow: inset 0 1px 1px rgba(0, 0, 0, 0.075);
  box-shadow: inset 0 1px 1px rgba(0, 0, 0, 0.075);
  -webkit-transition: border-color ease-in-out .15s, box-shadow ease-in-out .15s;
  -o-transition: border-color ease-in-out .15s, box-shadow ease-in-out .15s;
  transition: border-color ease-in-out .15s, box-shadow ease-in-out .15s;
  height: 30px;
  padding: 5px 10px;
  font-size: 12px;
  line-height: 1.5;
  border-radius: 1px;
  box-shadow: none;
  width: inherit;
  font-size: inherit;
  height: 22px;
  line-height: 22px;
  padding: 0px 4px;
  display: inline-block;
}
.cell-tag:focus,
.tags-input input:focus,
.tags-input button:focus {
  border-color: #66afe9;
  outline: 0;
  -webkit-box-shadow: inset 0 1px 1px rgba(0,0,0,.075), 0 0 8px rgba(102, 175, 233, 0.6);
  box-shadow: inset 0 1px 1px rgba(0,0,0,.075), 0 0 8px rgba(102, 175, 233, 0.6);
}
.cell-tag::-moz-placeholder,
.tags-input input::-moz-placeholder,
.tags-input button::-moz-placeholder {
  color: #999;
  opacity: 1;
}
.cell-tag:-ms-input-placeholder,
.tags-input input:-ms-input-placeholder,
.tags-input button:-ms-input-placeholder {
  color: #999;
}
.cell-tag::-webkit-input-placeholder,
.tags-input input::-webkit-input-placeholder,
.tags-input button::-webkit-input-placeholder {
  color: #999;
}
.cell-tag::-ms-expand,
.tags-input input::-ms-expand,
.tags-input button::-ms-expand {
  border: 0;
  background-color: transparent;
}
.cell-tag[disabled],
.tags-input input[disabled],
.tags-input button[disabled],
.cell-tag[readonly],
.tags-input input[readonly],
.tags-input button[readonly],
fieldset[disabled] .cell-tag,
fieldset[disabled] .tags-input input,
fieldset[disabled] .tags-input button {
  background-color: #eeeeee;
  opacity: 1;
}
.cell-tag[disabled],
.tags-input input[disabled],
.tags-input button[disabled],
fieldset[disabled] .cell-tag,
fieldset[disabled] .tags-input input,
fieldset[disabled] .tags-input button {
  cursor: not-allowed;
}
textarea.cell-tag,
textarea.tags-input input,
textarea.tags-input button {
  height: auto;
}
select.cell-tag,
select.tags-input input,
select.tags-input button {
  height: 30px;
  line-height: 30px;
}
textarea.cell-tag,
textarea.tags-input input,
textarea.tags-input button,
select[multiple].cell-tag,
select[multiple].tags-input input,
select[multiple].tags-input button {
  height: auto;
}
.cell-tag,
.tags-input button {
  padding: 0px 4px;
}
.cell-tag {
  background-color: #fff;
  white-space: nowrap;
}
.tags-input input[type=text]:focus {
  outline: none;
  box-shadow: none;
  border-color: #ccc;
}
.completions {
  position: absolute;
  z-index: 110;
  overflow: hidden;
  border: 1px solid #ababab;
  border-radius: 2px;
  -webkit-box-shadow: 0px 6px 10px -1px #adadad;
  box-shadow: 0px 6px 10px -1px #adadad;
  line-height: 1;
}
.completions select {
  background: white;
  outline: none;
  border: none;
  padding: 0px;
  margin: 0px;
  overflow: auto;
  font-family: monospace;
  font-size: 110%;
  color: #000;
  width: auto;
}
.completions select option.context {
  color: #286090;
}
#kernel_logo_widget .current_kernel_logo {
  display: none;
  margin-top: -1px;
  margin-bottom: -1px;
  width: 32px;
  height: 32px;
}
[dir="rtl"] #kernel_logo_widget {
  float: left !important;
  float: left;
}
.modal .modal-body .move-path {
  display: flex;
  flex-direction: row;
  justify-content: space;
  align-items: center;
}
.modal .modal-body .move-path .server-root {
  padding-right: 20px;
}
.modal .modal-body .move-path .path-input {
  flex: 1;
}
#menubar {
  box-sizing: border-box;
  -moz-box-sizing: border-box;
  -webkit-box-sizing: border-box;
  margin-top: 1px;
}
#menubar .navbar {
  border-top: 1px;
  border-radius: 0px 0px 2px 2px;
  margin-bottom: 0px;
}
#menubar .navbar-toggle {
  float: left;
  padding-top: 7px;
  padding-bottom: 7px;
  border: none;
}
#menubar .navbar-collapse {
  clear: left;
}
[dir="rtl"] #menubar .navbar-toggle {
  float: right;
}
[dir="rtl"] #menubar .navbar-collapse {
  clear: right;
}
[dir="rtl"] #menubar .navbar-nav {
  float: right;
}
[dir="rtl"] #menubar .nav {
  padding-right: 0px;
}
[dir="rtl"] #menubar .navbar-nav > li {
  float: right;
}
[dir="rtl"] #menubar .navbar-right {
  float: left !important;
}
[dir="rtl"] ul.dropdown-menu {
  text-align: right;
  left: auto;
}
[dir="rtl"] ul#new-menu.dropdown-menu {
  right: auto;
  left: 0;
}
.nav-wrapper {
  border-bottom: 1px solid #e7e7e7;
}
i.menu-icon {
  padding-top: 4px;
}
[dir="rtl"] i.menu-icon.pull-right {
  float: left !important;
  float: left;
}
ul#help_menu li a {
  overflow: hidden;
  padding-right: 2.2em;
}
ul#help_menu li a i {
  margin-right: -1.2em;
}
[dir="rtl"] ul#help_menu li a {
  padding-left: 2.2em;
}
[dir="rtl"] ul#help_menu li a i {
  margin-right: 0;
  margin-left: -1.2em;
}
[dir="rtl"] ul#help_menu li a i.pull-right {
  float: left !important;
  float: left;
}
.dropdown-submenu {
  position: relative;
}
.dropdown-submenu > .dropdown-menu {
  top: 0;
  left: 100%;
  margin-top: -6px;
  margin-left: -1px;
}
[dir="rtl"] .dropdown-submenu > .dropdown-menu {
  right: 100%;
  margin-right: -1px;
}
.dropdown-submenu:hover > .dropdown-menu {
  display: block;
}
.dropdown-submenu > a:after {
  display: inline-block;
  font: normal normal normal 14px/1 FontAwesome;
  font-size: inherit;
  text-rendering: auto;
  -webkit-font-smoothing: antialiased;
  -moz-osx-font-smoothing: grayscale;
  display: block;
  content: "\f0da";
  float: right;
  color: #333333;
  margin-top: 2px;
  margin-right: -10px;
}
.dropdown-submenu > a:after.fa-pull-left {
  margin-right: .3em;
}
.dropdown-submenu > a:after.fa-pull-right {
  margin-left: .3em;
}
.dropdown-submenu > a:after.pull-left {
  margin-right: .3em;
}
.dropdown-submenu > a:after.pull-right {
  margin-left: .3em;
}
[dir="rtl"] .dropdown-submenu > a:after {
  float: left;
  content: "\f0d9";
  margin-right: 0;
  margin-left: -10px;
}
.dropdown-submenu:hover > a:after {
  color: #262626;
}
.dropdown-submenu.pull-left {
  float: none;
}
.dropdown-submenu.pull-left > .dropdown-menu {
  left: -100%;
  margin-left: 10px;
}
#notification_area {
  float: right !important;
  float: right;
  z-index: 10;
}
[dir="rtl"] #notification_area {
  float: left !important;
  float: left;
}
.indicator_area {
  float: right !important;
  float: right;
  color: #777;
  margin-left: 5px;
  margin-right: 5px;
  width: 11px;
  z-index: 10;
  text-align: center;
  width: auto;
}
[dir="rtl"] .indicator_area {
  float: left !important;
  float: left;
}
#kernel_indicator {
  float: right !important;
  float: right;
  color: #777;
  margin-left: 5px;
  margin-right: 5px;
  width: 11px;
  z-index: 10;
  text-align: center;
  width: auto;
  border-left: 1px solid;
}
#kernel_indicator .kernel_indicator_name {
  padding-left: 5px;
  padding-right: 5px;
}
[dir="rtl"] #kernel_indicator {
  float: left !important;
  float: left;
  border-left: 0;
  border-right: 1px solid;
}
#modal_indicator {
  float: right !important;
  float: right;
  color: #777;
  margin-left: 5px;
  margin-right: 5px;
  width: 11px;
  z-index: 10;
  text-align: center;
  width: auto;
}
[dir="rtl"] #modal_indicator {
  float: left !important;
  float: left;
}
#readonly-indicator {
  float: right !important;
  float: right;
  color: #777;
  margin-left: 5px;
  margin-right: 5px;
  width: 11px;
  z-index: 10;
  text-align: center;
  width: auto;
  margin-top: 2px;
  margin-bottom: 0px;
  margin-left: 0px;
  margin-right: 0px;
  display: none;
}
.modal_indicator:before {
  width: 1.28571429em;
  text-align: center;
}
.edit_mode .modal_indicator:before {
  display: inline-block;
  font: normal normal normal 14px/1 FontAwesome;
  font-size: inherit;
  text-rendering: auto;
  -webkit-font-smoothing: antialiased;
  -moz-osx-font-smoothing: grayscale;
  content: "\f040";
}
.edit_mode .modal_indicator:before.fa-pull-left {
  margin-right: .3em;
}
.edit_mode .modal_indicator:before.fa-pull-right {
  margin-left: .3em;
}
.edit_mode .modal_indicator:before.pull-left {
  margin-right: .3em;
}
.edit_mode .modal_indicator:before.pull-right {
  margin-left: .3em;
}
.command_mode .modal_indicator:before {
  display: inline-block;
  font: normal normal normal 14px/1 FontAwesome;
  font-size: inherit;
  text-rendering: auto;
  -webkit-font-smoothing: antialiased;
  -moz-osx-font-smoothing: grayscale;
  content: ' ';
}
.command_mode .modal_indicator:before.fa-pull-left {
  margin-right: .3em;
}
.command_mode .modal_indicator:before.fa-pull-right {
  margin-left: .3em;
}
.command_mode .modal_indicator:before.pull-left {
  margin-right: .3em;
}
.command_mode .modal_indicator:before.pull-right {
  margin-left: .3em;
}
.kernel_idle_icon:before {
  display: inline-block;
  font: normal normal normal 14px/1 FontAwesome;
  font-size: inherit;
  text-rendering: auto;
  -webkit-font-smoothing: antialiased;
  -moz-osx-font-smoothing: grayscale;
  content: "\f10c";
}
.kernel_idle_icon:before.fa-pull-left {
  margin-right: .3em;
}
.kernel_idle_icon:before.fa-pull-right {
  margin-left: .3em;
}
.kernel_idle_icon:before.pull-left {
  margin-right: .3em;
}
.kernel_idle_icon:before.pull-right {
  margin-left: .3em;
}
.kernel_busy_icon:before {
  display: inline-block;
  font: normal normal normal 14px/1 FontAwesome;
  font-size: inherit;
  text-rendering: auto;
  -webkit-font-smoothing: antialiased;
  -moz-osx-font-smoothing: grayscale;
  content: "\f111";
}
.kernel_busy_icon:before.fa-pull-left {
  margin-right: .3em;
}
.kernel_busy_icon:before.fa-pull-right {
  margin-left: .3em;
}
.kernel_busy_icon:before.pull-left {
  margin-right: .3em;
}
.kernel_busy_icon:before.pull-right {
  margin-left: .3em;
}
.kernel_dead_icon:before {
  display: inline-block;
  font: normal normal normal 14px/1 FontAwesome;
  font-size: inherit;
  text-rendering: auto;
  -webkit-font-smoothing: antialiased;
  -moz-osx-font-smoothing: grayscale;
  content: "\f1e2";
}
.kernel_dead_icon:before.fa-pull-left {
  margin-right: .3em;
}
.kernel_dead_icon:before.fa-pull-right {
  margin-left: .3em;
}
.kernel_dead_icon:before.pull-left {
  margin-right: .3em;
}
.kernel_dead_icon:before.pull-right {
  margin-left: .3em;
}
.kernel_disconnected_icon:before {
  display: inline-block;
  font: normal normal normal 14px/1 FontAwesome;
  font-size: inherit;
  text-rendering: auto;
  -webkit-font-smoothing: antialiased;
  -moz-osx-font-smoothing: grayscale;
  content: "\f127";
}
.kernel_disconnected_icon:before.fa-pull-left {
  margin-right: .3em;
}
.kernel_disconnected_icon:before.fa-pull-right {
  margin-left: .3em;
}
.kernel_disconnected_icon:before.pull-left {
  margin-right: .3em;
}
.kernel_disconnected_icon:before.pull-right {
  margin-left: .3em;
}
.notification_widget {
  color: #777;
  z-index: 10;
  background: rgba(240, 240, 240, 0.5);
  margin-right: 4px;
  color: #333;
  background-color: #fff;
  border-color: #ccc;
}
.notification_widget:focus,
.notification_widget.focus {
  color: #333;
  background-color: #e6e6e6;
  border-color: #8c8c8c;
}
.notification_widget:hover {
  color: #333;
  background-color: #e6e6e6;
  border-color: #adadad;
}
.notification_widget:active,
.notification_widget.active,
.open > .dropdown-toggle.notification_widget {
  color: #333;
  background-color: #e6e6e6;
  border-color: #adadad;
}
.notification_widget:active:hover,
.notification_widget.active:hover,
.open > .dropdown-toggle.notification_widget:hover,
.notification_widget:active:focus,
.notification_widget.active:focus,
.open > .dropdown-toggle.notification_widget:focus,
.notification_widget:active.focus,
.notification_widget.active.focus,
.open > .dropdown-toggle.notification_widget.focus {
  color: #333;
  background-color: #d4d4d4;
  border-color: #8c8c8c;
}
.notification_widget:active,
.notification_widget.active,
.open > .dropdown-toggle.notification_widget {
  background-image: none;
}
.notification_widget.disabled:hover,
.notification_widget[disabled]:hover,
fieldset[disabled] .notification_widget:hover,
.notification_widget.disabled:focus,
.notification_widget[disabled]:focus,
fieldset[disabled] .notification_widget:focus,
.notification_widget.disabled.focus,
.notification_widget[disabled].focus,
fieldset[disabled] .notification_widget.focus {
  background-color: #fff;
  border-color: #ccc;
}
.notification_widget .badge {
  color: #fff;
  background-color: #333;
}
.notification_widget.warning {
  color: #fff;
  background-color: #f0ad4e;
  border-color: #eea236;
}
.notification_widget.warning:focus,
.notification_widget.warning.focus {
  color: #fff;
  background-color: #ec971f;
  border-color: #985f0d;
}
.notification_widget.warning:hover {
  color: #fff;
  background-color: #ec971f;
  border-color: #d58512;
}
.notification_widget.warning:active,
.notification_widget.warning.active,
.open > .dropdown-toggle.notification_widget.warning {
  color: #fff;
  background-color: #ec971f;
  border-color: #d58512;
}
.notification_widget.warning:active:hover,
.notification_widget.warning.active:hover,
.open > .dropdown-toggle.notification_widget.warning:hover,
.notification_widget.warning:active:focus,
.notification_widget.warning.active:focus,
.open > .dropdown-toggle.notification_widget.warning:focus,
.notification_widget.warning:active.focus,
.notification_widget.warning.active.focus,
.open > .dropdown-toggle.notification_widget.warning.focus {
  color: #fff;
  background-color: #d58512;
  border-color: #985f0d;
}
.notification_widget.warning:active,
.notification_widget.warning.active,
.open > .dropdown-toggle.notification_widget.warning {
  background-image: none;
}
.notification_widget.warning.disabled:hover,
.notification_widget.warning[disabled]:hover,
fieldset[disabled] .notification_widget.warning:hover,
.notification_widget.warning.disabled:focus,
.notification_widget.warning[disabled]:focus,
fieldset[disabled] .notification_widget.warning:focus,
.notification_widget.warning.disabled.focus,
.notification_widget.warning[disabled].focus,
fieldset[disabled] .notification_widget.warning.focus {
  background-color: #f0ad4e;
  border-color: #eea236;
}
.notification_widget.warning .badge {
  color: #f0ad4e;
  background-color: #fff;
}
.notification_widget.success {
  color: #fff;
  background-color: #5cb85c;
  border-color: #4cae4c;
}
.notification_widget.success:focus,
.notification_widget.success.focus {
  color: #fff;
  background-color: #449d44;
  border-color: #255625;
}
.notification_widget.success:hover {
  color: #fff;
  background-color: #449d44;
  border-color: #398439;
}
.notification_widget.success:active,
.notification_widget.success.active,
.open > .dropdown-toggle.notification_widget.success {
  color: #fff;
  background-color: #449d44;
  border-color: #398439;
}
.notification_widget.success:active:hover,
.notification_widget.success.active:hover,
.open > .dropdown-toggle.notification_widget.success:hover,
.notification_widget.success:active:focus,
.notification_widget.success.active:focus,
.open > .dropdown-toggle.notification_widget.success:focus,
.notification_widget.success:active.focus,
.notification_widget.success.active.focus,
.open > .dropdown-toggle.notification_widget.success.focus {
  color: #fff;
  background-color: #398439;
  border-color: #255625;
}
.notification_widget.success:active,
.notification_widget.success.active,
.open > .dropdown-toggle.notification_widget.success {
  background-image: none;
}
.notification_widget.success.disabled:hover,
.notification_widget.success[disabled]:hover,
fieldset[disabled] .notification_widget.success:hover,
.notification_widget.success.disabled:focus,
.notification_widget.success[disabled]:focus,
fieldset[disabled] .notification_widget.success:focus,
.notification_widget.success.disabled.focus,
.notification_widget.success[disabled].focus,
fieldset[disabled] .notification_widget.success.focus {
  background-color: #5cb85c;
  border-color: #4cae4c;
}
.notification_widget.success .badge {
  color: #5cb85c;
  background-color: #fff;
}
.notification_widget.info {
  color: #fff;
  background-color: #5bc0de;
  border-color: #46b8da;
}
.notification_widget.info:focus,
.notification_widget.info.focus {
  color: #fff;
  background-color: #31b0d5;
  border-color: #1b6d85;
}
.notification_widget.info:hover {
  color: #fff;
  background-color: #31b0d5;
  border-color: #269abc;
}
.notification_widget.info:active,
.notification_widget.info.active,
.open > .dropdown-toggle.notification_widget.info {
  color: #fff;
  background-color: #31b0d5;
  border-color: #269abc;
}
.notification_widget.info:active:hover,
.notification_widget.info.active:hover,
.open > .dropdown-toggle.notification_widget.info:hover,
.notification_widget.info:active:focus,
.notification_widget.info.active:focus,
.open > .dropdown-toggle.notification_widget.info:focus,
.notification_widget.info:active.focus,
.notification_widget.info.active.focus,
.open > .dropdown-toggle.notification_widget.info.focus {
  color: #fff;
  background-color: #269abc;
  border-color: #1b6d85;
}
.notification_widget.info:active,
.notification_widget.info.active,
.open > .dropdown-toggle.notification_widget.info {
  background-image: none;
}
.notification_widget.info.disabled:hover,
.notification_widget.info[disabled]:hover,
fieldset[disabled] .notification_widget.info:hover,
.notification_widget.info.disabled:focus,
.notification_widget.info[disabled]:focus,
fieldset[disabled] .notification_widget.info:focus,
.notification_widget.info.disabled.focus,
.notification_widget.info[disabled].focus,
fieldset[disabled] .notification_widget.info.focus {
  background-color: #5bc0de;
  border-color: #46b8da;
}
.notification_widget.info .badge {
  color: #5bc0de;
  background-color: #fff;
}
.notification_widget.danger {
  color: #fff;
  background-color: #d9534f;
  border-color: #d43f3a;
}
.notification_widget.danger:focus,
.notification_widget.danger.focus {
  color: #fff;
  background-color: #c9302c;
  border-color: #761c19;
}
.notification_widget.danger:hover {
  color: #fff;
  background-color: #c9302c;
  border-color: #ac2925;
}
.notification_widget.danger:active,
.notification_widget.danger.active,
.open > .dropdown-toggle.notification_widget.danger {
  color: #fff;
  background-color: #c9302c;
  border-color: #ac2925;
}
.notification_widget.danger:active:hover,
.notification_widget.danger.active:hover,
.open > .dropdown-toggle.notification_widget.danger:hover,
.notification_widget.danger:active:focus,
.notification_widget.danger.active:focus,
.open > .dropdown-toggle.notification_widget.danger:focus,
.notification_widget.danger:active.focus,
.notification_widget.danger.active.focus,
.open > .dropdown-toggle.notification_widget.danger.focus {
  color: #fff;
  background-color: #ac2925;
  border-color: #761c19;
}
.notification_widget.danger:active,
.notification_widget.danger.active,
.open > .dropdown-toggle.notification_widget.danger {
  background-image: none;
}
.notification_widget.danger.disabled:hover,
.notification_widget.danger[disabled]:hover,
fieldset[disabled] .notification_widget.danger:hover,
.notification_widget.danger.disabled:focus,
.notification_widget.danger[disabled]:focus,
fieldset[disabled] .notification_widget.danger:focus,
.notification_widget.danger.disabled.focus,
.notification_widget.danger[disabled].focus,
fieldset[disabled] .notification_widget.danger.focus {
  background-color: #d9534f;
  border-color: #d43f3a;
}
.notification_widget.danger .badge {
  color: #d9534f;
  background-color: #fff;
}
div#pager {
  background-color: #fff;
  font-size: 14px;
  line-height: 20px;
  overflow: hidden;
  display: none;
  position: fixed;
  bottom: 0px;
  width: 100%;
  max-height: 50%;
  padding-top: 8px;
  -webkit-box-shadow: 0px 0px 12px 1px rgba(87, 87, 87, 0.2);
  box-shadow: 0px 0px 12px 1px rgba(87, 87, 87, 0.2);
  /* Display over codemirror */
  z-index: 100;
  /* Hack which prevents jquery ui resizable from changing top. */
  top: auto !important;
}
div#pager pre {
  line-height: 1.21429em;
  color: #000;
  background-color: #f7f7f7;
  padding: 0.4em;
}
div#pager #pager-button-area {
  position: absolute;
  top: 8px;
  right: 20px;
}
div#pager #pager-contents {
  position: relative;
  overflow: auto;
  width: 100%;
  height: 100%;
}
div#pager #pager-contents #pager-container {
  position: relative;
  padding: 15px 0px;
  box-sizing: border-box;
  -moz-box-sizing: border-box;
  -webkit-box-sizing: border-box;
}
div#pager .ui-resizable-handle {
  top: 0px;
  height: 8px;
  background: #f7f7f7;
  border-top: 1px solid #cfcfcf;
  border-bottom: 1px solid #cfcfcf;
  /* This injects handle bars (a short, wide = symbol) for 
        the resize handle. */
}
div#pager .ui-resizable-handle::after {
  content: '';
  top: 2px;
  left: 50%;
  height: 3px;
  width: 30px;
  margin-left: -15px;
  position: absolute;
  border-top: 1px solid #cfcfcf;
}
.quickhelp {
  /* Old browsers */
  display: -webkit-box;
  -webkit-box-orient: horizontal;
  -webkit-box-align: stretch;
  display: -moz-box;
  -moz-box-orient: horizontal;
  -moz-box-align: stretch;
  display: box;
  box-orient: horizontal;
  box-align: stretch;
  /* Modern browsers */
  display: flex;
  flex-direction: row;
  align-items: stretch;
  line-height: 1.8em;
}
.shortcut_key {
  display: inline-block;
  width: 21ex;
  text-align: right;
  font-family: monospace;
}
.shortcut_descr {
  display: inline-block;
  /* Old browsers */
  -webkit-box-flex: 1;
  -moz-box-flex: 1;
  box-flex: 1;
  /* Modern browsers */
  flex: 1;
}
span.save_widget {
  height: 30px;
  margin-top: 4px;
  display: flex;
  justify-content: flex-start;
  align-items: baseline;
  width: 50%;
  flex: 1;
}
span.save_widget span.filename {
  height: 100%;
  line-height: 1em;
  margin-left: 16px;
  border: none;
  font-size: 146.5%;
  text-overflow: ellipsis;
  overflow: hidden;
  white-space: nowrap;
  border-radius: 2px;
}
span.save_widget span.filename:hover {
  background-color: #e6e6e6;
}
[dir="rtl"] span.save_widget.pull-left {
  float: right !important;
  float: right;
}
[dir="rtl"] span.save_widget span.filename {
  margin-left: 0;
  margin-right: 16px;
}
span.checkpoint_status,
span.autosave_status {
  font-size: small;
  white-space: nowrap;
  padding: 0 5px;
}
@media (max-width: 767px) {
  span.save_widget {
    font-size: small;
    padding: 0 0 0 5px;
  }
  span.checkpoint_status,
  span.autosave_status {
    display: none;
  }
}
@media (min-width: 768px) and (max-width: 991px) {
  span.checkpoint_status {
    display: none;
  }
  span.autosave_status {
    font-size: x-small;
  }
}
.toolbar {
  padding: 0px;
  margin-left: -5px;
  margin-top: 2px;
  margin-bottom: 5px;
  box-sizing: border-box;
  -moz-box-sizing: border-box;
  -webkit-box-sizing: border-box;
}
.toolbar select,
.toolbar label {
  width: auto;
  vertical-align: middle;
  margin-right: 2px;
  margin-bottom: 0px;
  display: inline;
  font-size: 92%;
  margin-left: 0.3em;
  margin-right: 0.3em;
  padding: 0px;
  padding-top: 3px;
}
.toolbar .btn {
  padding: 2px 8px;
}
.toolbar .btn-group {
  margin-top: 0px;
  margin-left: 5px;
}
.toolbar-btn-label {
  margin-left: 6px;
}
#maintoolbar {
  margin-bottom: -3px;
  margin-top: -8px;
  border: 0px;
  min-height: 27px;
  margin-left: 0px;
  padding-top: 11px;
  padding-bottom: 3px;
}
#maintoolbar .navbar-text {
  float: none;
  vertical-align: middle;
  text-align: right;
  margin-left: 5px;
  margin-right: 0px;
  margin-top: 0px;
}
.select-xs {
  height: 24px;
}
[dir="rtl"] .btn-group > .btn,
.btn-group-vertical > .btn {
  float: right;
}
.pulse,
.dropdown-menu > li > a.pulse,
li.pulse > a.dropdown-toggle,
li.pulse.open > a.dropdown-toggle {
  background-color: #F37626;
  color: white;
}
/**
 * Primary styles
 *
 * Author: Jupyter Development Team
 */
/** WARNING IF YOU ARE EDITTING THIS FILE, if this is a .css file, It has a lot
 * of chance of beeing generated from the ../less/[samename].less file, you can
 * try to get back the less file by reverting somme commit in history
 **/
/*
 * We'll try to get something pretty, so we
 * have some strange css to have the scroll bar on
 * the left with fix button on the top right of the tooltip
 */
@-moz-keyframes fadeOut {
  from {
    opacity: 1;
  }
  to {
    opacity: 0;
  }
}
@-webkit-keyframes fadeOut {
  from {
    opacity: 1;
  }
  to {
    opacity: 0;
  }
}
@-moz-keyframes fadeIn {
  from {
    opacity: 0;
  }
  to {
    opacity: 1;
  }
}
@-webkit-keyframes fadeIn {
  from {
    opacity: 0;
  }
  to {
    opacity: 1;
  }
}
/*properties of tooltip after "expand"*/
.bigtooltip {
  overflow: auto;
  height: 200px;
  -webkit-transition-property: height;
  -webkit-transition-duration: 500ms;
  -moz-transition-property: height;
  -moz-transition-duration: 500ms;
  transition-property: height;
  transition-duration: 500ms;
}
/*properties of tooltip before "expand"*/
.smalltooltip {
  -webkit-transition-property: height;
  -webkit-transition-duration: 500ms;
  -moz-transition-property: height;
  -moz-transition-duration: 500ms;
  transition-property: height;
  transition-duration: 500ms;
  text-overflow: ellipsis;
  overflow: hidden;
  height: 80px;
}
.tooltipbuttons {
  position: absolute;
  padding-right: 15px;
  top: 0px;
  right: 0px;
}
.tooltiptext {
  /*avoid the button to overlap on some docstring*/
  padding-right: 30px;
}
.ipython_tooltip {
  max-width: 700px;
  /*fade-in animation when inserted*/
  -webkit-animation: fadeOut 400ms;
  -moz-animation: fadeOut 400ms;
  animation: fadeOut 400ms;
  -webkit-animation: fadeIn 400ms;
  -moz-animation: fadeIn 400ms;
  animation: fadeIn 400ms;
  vertical-align: middle;
  background-color: #f7f7f7;
  overflow: visible;
  border: #ababab 1px solid;
  outline: none;
  padding: 3px;
  margin: 0px;
  padding-left: 7px;
  font-family: monospace;
  min-height: 50px;
  -moz-box-shadow: 0px 6px 10px -1px #adadad;
  -webkit-box-shadow: 0px 6px 10px -1px #adadad;
  box-shadow: 0px 6px 10px -1px #adadad;
  border-radius: 2px;
  position: absolute;
  z-index: 1000;
}
.ipython_tooltip a {
  float: right;
}
.ipython_tooltip .tooltiptext pre {
  border: 0;
  border-radius: 0;
  font-size: 100%;
  background-color: #f7f7f7;
}
.pretooltiparrow {
  left: 0px;
  margin: 0px;
  top: -16px;
  width: 40px;
  height: 16px;
  overflow: hidden;
  position: absolute;
}
.pretooltiparrow:before {
  background-color: #f7f7f7;
  border: 1px #ababab solid;
  z-index: 11;
  content: "";
  position: absolute;
  left: 15px;
  top: 10px;
  width: 25px;
  height: 25px;
  -webkit-transform: rotate(45deg);
  -moz-transform: rotate(45deg);
  -ms-transform: rotate(45deg);
  -o-transform: rotate(45deg);
}
ul.typeahead-list i {
  margin-left: -10px;
  width: 18px;
}
[dir="rtl"] ul.typeahead-list i {
  margin-left: 0;
  margin-right: -10px;
}
ul.typeahead-list {
  max-height: 80vh;
  overflow: auto;
}
ul.typeahead-list > li > a {
  /** Firefox bug **/
  /* see https://github.com/jupyter/notebook/issues/559 */
  white-space: normal;
}
ul.typeahead-list  > li > a.pull-right {
  float: left !important;
  float: left;
}
[dir="rtl"] .typeahead-list {
  text-align: right;
}
.cmd-palette .modal-body {
  padding: 7px;
}
.cmd-palette form {
  background: white;
}
.cmd-palette input {
  outline: none;
}
.no-shortcut {
  min-width: 20px;
  color: transparent;
}
[dir="rtl"] .no-shortcut.pull-right {
  float: left !important;
  float: left;
}
[dir="rtl"] .command-shortcut.pull-right {
  float: left !important;
  float: left;
}
.command-shortcut:before {
  content: "(command mode)";
  padding-right: 3px;
  color: #777777;
}
.edit-shortcut:before {
  content: "(edit)";
  padding-right: 3px;
  color: #777777;
}
[dir="rtl"] .edit-shortcut.pull-right {
  float: left !important;
  float: left;
}
#find-and-replace #replace-preview .match,
#find-and-replace #replace-preview .insert {
  background-color: #BBDEFB;
  border-color: #90CAF9;
  border-style: solid;
  border-width: 1px;
  border-radius: 0px;
}
[dir="ltr"] #find-and-replace .input-group-btn + .form-control {
  border-left: none;
}
[dir="rtl"] #find-and-replace .input-group-btn + .form-control {
  border-right: none;
}
#find-and-replace #replace-preview .replace .match {
  background-color: #FFCDD2;
  border-color: #EF9A9A;
  border-radius: 0px;
}
#find-and-replace #replace-preview .replace .insert {
  background-color: #C8E6C9;
  border-color: #A5D6A7;
  border-radius: 0px;
}
#find-and-replace #replace-preview {
  max-height: 60vh;
  overflow: auto;
}
#find-and-replace #replace-preview pre {
  padding: 5px 10px;
}
.terminal-app {
  background: #EEE;
}
.terminal-app #header {
  background: #fff;
  -webkit-box-shadow: 0px 0px 12px 1px rgba(87, 87, 87, 0.2);
  box-shadow: 0px 0px 12px 1px rgba(87, 87, 87, 0.2);
}
.terminal-app .terminal {
  width: 100%;
  float: left;
  font-family: monospace;
  color: white;
  background: black;
  padding: 0.4em;
  border-radius: 2px;
  -webkit-box-shadow: 0px 0px 12px 1px rgba(87, 87, 87, 0.4);
  box-shadow: 0px 0px 12px 1px rgba(87, 87, 87, 0.4);
}
.terminal-app .terminal,
.terminal-app .terminal dummy-screen {
  line-height: 1em;
  font-size: 14px;
}
.terminal-app .terminal .xterm-rows {
  padding: 10px;
}
.terminal-app .terminal-cursor {
  color: black;
  background: white;
}
.terminal-app #terminado-container {
  margin-top: 20px;
}
/*# sourceMappingURL=style.min.css.map */
    </style>
<style type="text/css">
    .highlight .hll { background-color: #ffffcc }
.highlight  { background: #f8f8f8; }
.highlight .c { color: #408080; font-style: italic } /* Comment */
.highlight .err { border: 1px solid #FF0000 } /* Error */
.highlight .k { color: #008000; font-weight: bold } /* Keyword */
.highlight .o { color: #666666 } /* Operator */
.highlight .ch { color: #408080; font-style: italic } /* Comment.Hashbang */
.highlight .cm { color: #408080; font-style: italic } /* Comment.Multiline */
.highlight .cp { color: #BC7A00 } /* Comment.Preproc */
.highlight .cpf { color: #408080; font-style: italic } /* Comment.PreprocFile */
.highlight .c1 { color: #408080; font-style: italic } /* Comment.Single */
.highlight .cs { color: #408080; font-style: italic } /* Comment.Special */
.highlight .gd { color: #A00000 } /* Generic.Deleted */
.highlight .ge { font-style: italic } /* Generic.Emph */
.highlight .gr { color: #FF0000 } /* Generic.Error */
.highlight .gh { color: #000080; font-weight: bold } /* Generic.Heading */
.highlight .gi { color: #00A000 } /* Generic.Inserted */
.highlight .go { color: #888888 } /* Generic.Output */
.highlight .gp { color: #000080; font-weight: bold } /* Generic.Prompt */
.highlight .gs { font-weight: bold } /* Generic.Strong */
.highlight .gu { color: #800080; font-weight: bold } /* Generic.Subheading */
.highlight .gt { color: #0044DD } /* Generic.Traceback */
.highlight .kc { color: #008000; font-weight: bold } /* Keyword.Constant */
.highlight .kd { color: #008000; font-weight: bold } /* Keyword.Declaration */
.highlight .kn { color: #008000; font-weight: bold } /* Keyword.Namespace */
.highlight .kp { color: #008000 } /* Keyword.Pseudo */
.highlight .kr { color: #008000; font-weight: bold } /* Keyword.Reserved */
.highlight .kt { color: #B00040 } /* Keyword.Type */
.highlight .m { color: #666666 } /* Literal.Number */
.highlight .s { color: #BA2121 } /* Literal.String */
.highlight .na { color: #7D9029 } /* Name.Attribute */
.highlight .nb { color: #008000 } /* Name.Builtin */
.highlight .nc { color: #0000FF; font-weight: bold } /* Name.Class */
.highlight .no { color: #880000 } /* Name.Constant */
.highlight .nd { color: #AA22FF } /* Name.Decorator */
.highlight .ni { color: #999999; font-weight: bold } /* Name.Entity */
.highlight .ne { color: #D2413A; font-weight: bold } /* Name.Exception */
.highlight .nf { color: #0000FF } /* Name.Function */
.highlight .nl { color: #A0A000 } /* Name.Label */
.highlight .nn { color: #0000FF; font-weight: bold } /* Name.Namespace */
.highlight .nt { color: #008000; font-weight: bold } /* Name.Tag */
.highlight .nv { color: #19177C } /* Name.Variable */
.highlight .ow { color: #AA22FF; font-weight: bold } /* Operator.Word */
.highlight .w { color: #bbbbbb } /* Text.Whitespace */
.highlight .mb { color: #666666 } /* Literal.Number.Bin */
.highlight .mf { color: #666666 } /* Literal.Number.Float */
.highlight .mh { color: #666666 } /* Literal.Number.Hex */
.highlight .mi { color: #666666 } /* Literal.Number.Integer */
.highlight .mo { color: #666666 } /* Literal.Number.Oct */
.highlight .sa { color: #BA2121 } /* Literal.String.Affix */
.highlight .sb { color: #BA2121 } /* Literal.String.Backtick */
.highlight .sc { color: #BA2121 } /* Literal.String.Char */
.highlight .dl { color: #BA2121 } /* Literal.String.Delimiter */
.highlight .sd { color: #BA2121; font-style: italic } /* Literal.String.Doc */
.highlight .s2 { color: #BA2121 } /* Literal.String.Double */
.highlight .se { color: #BB6622; font-weight: bold } /* Literal.String.Escape */
.highlight .sh { color: #BA2121 } /* Literal.String.Heredoc */
.highlight .si { color: #BB6688; font-weight: bold } /* Literal.String.Interpol */
.highlight .sx { color: #008000 } /* Literal.String.Other */
.highlight .sr { color: #BB6688 } /* Literal.String.Regex */
.highlight .s1 { color: #BA2121 } /* Literal.String.Single */
.highlight .ss { color: #19177C } /* Literal.String.Symbol */
.highlight .bp { color: #008000 } /* Name.Builtin.Pseudo */
.highlight .fm { color: #0000FF } /* Name.Function.Magic */
.highlight .vc { color: #19177C } /* Name.Variable.Class */
.highlight .vg { color: #19177C } /* Name.Variable.Global */
.highlight .vi { color: #19177C } /* Name.Variable.Instance */
.highlight .vm { color: #19177C } /* Name.Variable.Magic */
.highlight .il { color: #666666 } /* Literal.Number.Integer.Long */
    </style>
<style type="text/css">
    
/* Temporary definitions which will become obsolete with Notebook release 5.0 */
.ansi-black-fg { color: #3E424D; }
.ansi-black-bg { background-color: #3E424D; }
.ansi-black-intense-fg { color: #282C36; }
.ansi-black-intense-bg { background-color: #282C36; }
.ansi-red-fg { color: #E75C58; }
.ansi-red-bg { background-color: #E75C58; }
.ansi-red-intense-fg { color: #B22B31; }
.ansi-red-intense-bg { background-color: #B22B31; }
.ansi-green-fg { color: #00A250; }
.ansi-green-bg { background-color: #00A250; }
.ansi-green-intense-fg { color: #007427; }
.ansi-green-intense-bg { background-color: #007427; }
.ansi-yellow-fg { color: #DDB62B; }
.ansi-yellow-bg { background-color: #DDB62B; }
.ansi-yellow-intense-fg { color: #B27D12; }
.ansi-yellow-intense-bg { background-color: #B27D12; }
.ansi-blue-fg { color: #208FFB; }
.ansi-blue-bg { background-color: #208FFB; }
.ansi-blue-intense-fg { color: #0065CA; }
.ansi-blue-intense-bg { background-color: #0065CA; }
.ansi-magenta-fg { color: #D160C4; }
.ansi-magenta-bg { background-color: #D160C4; }
.ansi-magenta-intense-fg { color: #A03196; }
.ansi-magenta-intense-bg { background-color: #A03196; }
.ansi-cyan-fg { color: #60C6C8; }
.ansi-cyan-bg { background-color: #60C6C8; }
.ansi-cyan-intense-fg { color: #258F8F; }
.ansi-cyan-intense-bg { background-color: #258F8F; }
.ansi-white-fg { color: #C5C1B4; }
.ansi-white-bg { background-color: #C5C1B4; }
.ansi-white-intense-fg { color: #A1A6B2; }
.ansi-white-intense-bg { background-color: #A1A6B2; }

.ansi-bold { font-weight: bold; }

    </style>


<style type="text/css">
/* Overrides of notebook CSS for static HTML export */
body {
  overflow: visible;
  padding: 8px;
}

div#notebook {
  overflow: visible;
  border-top: none;
}@media print {
  div.cell {
    display: block;
    page-break-inside: avoid;
  } 
  div.output_wrapper { 
    display: block;
    page-break-inside: avoid; 
  }
  div.output { 
    display: block;
    page-break-inside: avoid; 
  }
}
</style>

<!-- Custom stylesheet, it must be in the same directory as the html file -->
<link rel="stylesheet" href="custom.css">

<!-- Loading mathjax macro -->
<!-- Load mathjax -->
    <script src="https://cdnjs.cloudflare.com/ajax/libs/mathjax/2.7.5/latest.js?config=TeX-AMS_HTML"></script>
    <!-- MathJax configuration -->
    <script type="text/x-mathjax-config">
    MathJax.Hub.Config({
        tex2jax: {
            inlineMath: [ ['$','$'], ["\\(","\\)"] ],
            displayMath: [ ['$$','$$'], ["\\[","\\]"] ],
            processEscapes: true,
            processEnvironments: true
        },
        // Center justify equations in code and markdown cells. Elsewhere
        // we use CSS to left justify single line equations in code cells.
        displayAlign: 'center',
        "HTML-CSS": {
            styles: {'.MathJax_Display': {"margin": 0}},
            linebreaks: { automatic: true }
        }
    });
    </script>
    <!-- End of mathjax configuration --></head>
<body>
  <div tabindex="-1" id="notebook" class="border-box-sizing">
    <div class="container" id="notebook-container">

<div class="cell border-box-sizing code_cell rendered">
<div class="input">
<div class="prompt input_prompt">In&nbsp;[2]:</div>
<div class="inner_cell">
    <div class="input_area">
<div class=" highlight hl-ipython3"><pre><span></span><span class="o">%</span><span class="k">matplotlib</span> notebook
<span class="kn">from</span> <span class="nn">astropy.io</span> <span class="k">import</span> <span class="n">fits</span>
<span class="kn">import</span> <span class="nn">matplotlib.pyplot</span> <span class="k">as</span> <span class="nn">plt</span>
<span class="kn">import</span> <span class="nn">numpy</span> <span class="k">as</span> <span class="nn">np</span>
<span class="kn">from</span> <span class="nn">pylab</span> <span class="k">import</span> <span class="o">*</span>
<span class="kn">import</span> <span class="nn">math</span>


<span class="n">hdul</span><span class="o">=</span><span class="n">fits</span><span class="o">.</span><span class="n">open</span><span class="p">(</span><span class="s1">&#39;L559141_SAP000_natural_1500l.fits&#39;</span><span class="p">)</span>

<span class="c1">#with fits.open(&#39;L559141_SAP000_natural_1500l.fits&#39;) as hdul:</span>
<span class="c1">#    hdul.info()</span>
<span class="c1">#list(hdr.keys())</span>

<span class="n">hdul</span><span class="o">.</span><span class="n">info</span><span class="p">()</span>
<span class="n">hdr</span> <span class="o">=</span> <span class="n">hdul</span><span class="p">[</span><span class="mi">0</span><span class="p">]</span><span class="o">.</span><span class="n">header</span>
<span class="c1">#hdul[0].header[0]</span>
<span class="n">image</span><span class="o">=</span><span class="n">fits</span><span class="o">.</span><span class="n">getdata</span><span class="p">(</span><span class="s1">&#39;L559141_SAP000_natural_1500l.fits&#39;</span><span class="p">)</span>

<span class="nb">print</span><span class="p">(</span><span class="s1">&#39;Dimension of the file:&#39;</span><span class="p">,</span> <span class="n">image</span><span class="o">.</span><span class="n">shape</span><span class="p">)</span>

<span class="n">fig1</span><span class="o">=</span><span class="n">figure</span><span class="p">(</span><span class="mi">1</span><span class="p">)</span>
<span class="n">plt</span><span class="o">.</span><span class="n">imshow</span><span class="p">(</span><span class="n">image</span><span class="p">[</span><span class="mi">0</span><span class="p">][</span><span class="mi">0</span><span class="p">],</span> <span class="n">cmap</span><span class="o">=</span><span class="s1">&#39;hot&#39;</span><span class="p">)</span>
<span class="n">plt</span><span class="o">.</span><span class="n">title</span><span class="p">(</span><span class="s1">&#39;Stokes I of first frame&#39;</span><span class="p">)</span>
<span class="n">plt</span><span class="o">.</span><span class="n">colorbar</span><span class="p">()</span>
<span class="n">fig1</span><span class="o">.</span><span class="n">savefig</span><span class="p">(</span><span class="s1">&#39;stokesI_frame1.png&#39;</span><span class="p">)</span>
</pre></div>

    </div>
</div>
</div>

<div class="output_wrapper">
<div class="output">


<div class="output_area">

    <div class="prompt"></div>


<div class="output_subarea output_stream output_stdout output_text">
<pre>Filename: L559141_SAP000_natural_1500l.fits
No.    Name      Ver    Type      Cards   Dimensions   Format
  0  PRIMARY       1 PrimaryHDU      67   (1024, 1024, 15, 2)   float64   
Dimension of the file: (2, 15, 1024, 1024)
</pre>
</div>
</div>

<div class="output_area">

    <div class="prompt"></div>





<div id="c92c37d2-9d93-43b7-aa39-3707f58cd30a"></div>
<div class="output_subarea output_javascript ">
<script type="text/javascript">
var element = $('#c92c37d2-9d93-43b7-aa39-3707f58cd30a');
/* Put everything inside the global mpl namespace */
window.mpl = {};


mpl.get_websocket_type = function() {
    if (typeof(WebSocket) !== 'undefined') {
        return WebSocket;
    } else if (typeof(MozWebSocket) !== 'undefined') {
        return MozWebSocket;
    } else {
        alert('Your browser does not have WebSocket support. ' +
              'Please try Chrome, Safari or Firefox ≥ 6. ' +
              'Firefox 4 and 5 are also supported but you ' +
              'have to enable WebSockets in about:config.');
    };
}

mpl.figure = function(figure_id, websocket, ondownload, parent_element) {
    this.id = figure_id;

    this.ws = websocket;

    this.supports_binary = (this.ws.binaryType != undefined);

    if (!this.supports_binary) {
        var warnings = document.getElementById("mpl-warnings");
        if (warnings) {
            warnings.style.display = 'block';
            warnings.textContent = (
                "This browser does not support binary websocket messages. " +
                    "Performance may be slow.");
        }
    }

    this.imageObj = new Image();

    this.context = undefined;
    this.message = undefined;
    this.canvas = undefined;
    this.rubberband_canvas = undefined;
    this.rubberband_context = undefined;
    this.format_dropdown = undefined;

    this.image_mode = 'full';

    this.root = $('<div/>');
    this._root_extra_style(this.root)
    this.root.attr('style', 'display: inline-block');

    $(parent_element).append(this.root);

    this._init_header(this);
    this._init_canvas(this);
    this._init_toolbar(this);

    var fig = this;

    this.waiting = false;

    this.ws.onopen =  function () {
            fig.send_message("supports_binary", {value: fig.supports_binary});
            fig.send_message("send_image_mode", {});
            if (mpl.ratio != 1) {
                fig.send_message("set_dpi_ratio", {'dpi_ratio': mpl.ratio});
            }
            fig.send_message("refresh", {});
        }

    this.imageObj.onload = function() {
            if (fig.image_mode == 'full') {
                // Full images could contain transparency (where diff images
                // almost always do), so we need to clear the canvas so that
                // there is no ghosting.
                fig.context.clearRect(0, 0, fig.canvas.width, fig.canvas.height);
            }
            fig.context.drawImage(fig.imageObj, 0, 0);
        };

    this.imageObj.onunload = function() {
        fig.ws.close();
    }

    this.ws.onmessage = this._make_on_message_function(this);

    this.ondownload = ondownload;
}

mpl.figure.prototype._init_header = function() {
    var titlebar = $(
        '<div class="ui-dialog-titlebar ui-widget-header ui-corner-all ' +
        'ui-helper-clearfix"/>');
    var titletext = $(
        '<div class="ui-dialog-title" style="width: 100%; ' +
        'text-align: center; padding: 3px;"/>');
    titlebar.append(titletext)
    this.root.append(titlebar);
    this.header = titletext[0];
}



mpl.figure.prototype._canvas_extra_style = function(canvas_div) {

}


mpl.figure.prototype._root_extra_style = function(canvas_div) {

}

mpl.figure.prototype._init_canvas = function() {
    var fig = this;

    var canvas_div = $('<div/>');

    canvas_div.attr('style', 'position: relative; clear: both; outline: 0');

    function canvas_keyboard_event(event) {
        return fig.key_event(event, event['data']);
    }

    canvas_div.keydown('key_press', canvas_keyboard_event);
    canvas_div.keyup('key_release', canvas_keyboard_event);
    this.canvas_div = canvas_div
    this._canvas_extra_style(canvas_div)
    this.root.append(canvas_div);

    var canvas = $('<canvas/>');
    canvas.addClass('mpl-canvas');
    canvas.attr('style', "left: 0; top: 0; z-index: 0; outline: 0")

    this.canvas = canvas[0];
    this.context = canvas[0].getContext("2d");

    var backingStore = this.context.backingStorePixelRatio ||
	this.context.webkitBackingStorePixelRatio ||
	this.context.mozBackingStorePixelRatio ||
	this.context.msBackingStorePixelRatio ||
	this.context.oBackingStorePixelRatio ||
	this.context.backingStorePixelRatio || 1;

    mpl.ratio = (window.devicePixelRatio || 1) / backingStore;

    var rubberband = $('<canvas/>');
    rubberband.attr('style', "position: absolute; left: 0; top: 0; z-index: 1;")

    var pass_mouse_events = true;

    canvas_div.resizable({
        start: function(event, ui) {
            pass_mouse_events = false;
        },
        resize: function(event, ui) {
            fig.request_resize(ui.size.width, ui.size.height);
        },
        stop: function(event, ui) {
            pass_mouse_events = true;
            fig.request_resize(ui.size.width, ui.size.height);
        },
    });

    function mouse_event_fn(event) {
        if (pass_mouse_events)
            return fig.mouse_event(event, event['data']);
    }

    rubberband.mousedown('button_press', mouse_event_fn);
    rubberband.mouseup('button_release', mouse_event_fn);
    // Throttle sequential mouse events to 1 every 20ms.
    rubberband.mousemove('motion_notify', mouse_event_fn);

    rubberband.mouseenter('figure_enter', mouse_event_fn);
    rubberband.mouseleave('figure_leave', mouse_event_fn);

    canvas_div.on("wheel", function (event) {
        event = event.originalEvent;
        event['data'] = 'scroll'
        if (event.deltaY < 0) {
            event.step = 1;
        } else {
            event.step = -1;
        }
        mouse_event_fn(event);
    });

    canvas_div.append(canvas);
    canvas_div.append(rubberband);

    this.rubberband = rubberband;
    this.rubberband_canvas = rubberband[0];
    this.rubberband_context = rubberband[0].getContext("2d");
    this.rubberband_context.strokeStyle = "#000000";

    this._resize_canvas = function(width, height) {
        // Keep the size of the canvas, canvas container, and rubber band
        // canvas in synch.
        canvas_div.css('width', width)
        canvas_div.css('height', height)

        canvas.attr('width', width * mpl.ratio);
        canvas.attr('height', height * mpl.ratio);
        canvas.attr('style', 'width: ' + width + 'px; height: ' + height + 'px;');

        rubberband.attr('width', width);
        rubberband.attr('height', height);
    }

    // Set the figure to an initial 600x600px, this will subsequently be updated
    // upon first draw.
    this._resize_canvas(600, 600);

    // Disable right mouse context menu.
    $(this.rubberband_canvas).bind("contextmenu",function(e){
        return false;
    });

    function set_focus () {
        canvas.focus();
        canvas_div.focus();
    }

    window.setTimeout(set_focus, 100);
}

mpl.figure.prototype._init_toolbar = function() {
    var fig = this;

    var nav_element = $('<div/>');
    nav_element.attr('style', 'width: 100%');
    this.root.append(nav_element);

    // Define a callback function for later on.
    function toolbar_event(event) {
        return fig.toolbar_button_onclick(event['data']);
    }
    function toolbar_mouse_event(event) {
        return fig.toolbar_button_onmouseover(event['data']);
    }

    for(var toolbar_ind in mpl.toolbar_items) {
        var name = mpl.toolbar_items[toolbar_ind][0];
        var tooltip = mpl.toolbar_items[toolbar_ind][1];
        var image = mpl.toolbar_items[toolbar_ind][2];
        var method_name = mpl.toolbar_items[toolbar_ind][3];

        if (!name) {
            // put a spacer in here.
            continue;
        }
        var button = $('<button/>');
        button.addClass('ui-button ui-widget ui-state-default ui-corner-all ' +
                        'ui-button-icon-only');
        button.attr('role', 'button');
        button.attr('aria-disabled', 'false');
        button.click(method_name, toolbar_event);
        button.mouseover(tooltip, toolbar_mouse_event);

        var icon_img = $('<span/>');
        icon_img.addClass('ui-button-icon-primary ui-icon');
        icon_img.addClass(image);
        icon_img.addClass('ui-corner-all');

        var tooltip_span = $('<span/>');
        tooltip_span.addClass('ui-button-text');
        tooltip_span.html(tooltip);

        button.append(icon_img);
        button.append(tooltip_span);

        nav_element.append(button);
    }

    var fmt_picker_span = $('<span/>');

    var fmt_picker = $('<select/>');
    fmt_picker.addClass('mpl-toolbar-option ui-widget ui-widget-content');
    fmt_picker_span.append(fmt_picker);
    nav_element.append(fmt_picker_span);
    this.format_dropdown = fmt_picker[0];

    for (var ind in mpl.extensions) {
        var fmt = mpl.extensions[ind];
        var option = $(
            '<option/>', {selected: fmt === mpl.default_extension}).html(fmt);
        fmt_picker.append(option);
    }

    // Add hover states to the ui-buttons
    $( ".ui-button" ).hover(
        function() { $(this).addClass("ui-state-hover");},
        function() { $(this).removeClass("ui-state-hover");}
    );

    var status_bar = $('<span class="mpl-message"/>');
    nav_element.append(status_bar);
    this.message = status_bar[0];
}

mpl.figure.prototype.request_resize = function(x_pixels, y_pixels) {
    // Request matplotlib to resize the figure. Matplotlib will then trigger a resize in the client,
    // which will in turn request a refresh of the image.
    this.send_message('resize', {'width': x_pixels, 'height': y_pixels});
}

mpl.figure.prototype.send_message = function(type, properties) {
    properties['type'] = type;
    properties['figure_id'] = this.id;
    this.ws.send(JSON.stringify(properties));
}

mpl.figure.prototype.send_draw_message = function() {
    if (!this.waiting) {
        this.waiting = true;
        this.ws.send(JSON.stringify({type: "draw", figure_id: this.id}));
    }
}


mpl.figure.prototype.handle_save = function(fig, msg) {
    var format_dropdown = fig.format_dropdown;
    var format = format_dropdown.options[format_dropdown.selectedIndex].value;
    fig.ondownload(fig, format);
}


mpl.figure.prototype.handle_resize = function(fig, msg) {
    var size = msg['size'];
    if (size[0] != fig.canvas.width || size[1] != fig.canvas.height) {
        fig._resize_canvas(size[0], size[1]);
        fig.send_message("refresh", {});
    };
}

mpl.figure.prototype.handle_rubberband = function(fig, msg) {
    var x0 = msg['x0'] / mpl.ratio;
    var y0 = (fig.canvas.height - msg['y0']) / mpl.ratio;
    var x1 = msg['x1'] / mpl.ratio;
    var y1 = (fig.canvas.height - msg['y1']) / mpl.ratio;
    x0 = Math.floor(x0) + 0.5;
    y0 = Math.floor(y0) + 0.5;
    x1 = Math.floor(x1) + 0.5;
    y1 = Math.floor(y1) + 0.5;
    var min_x = Math.min(x0, x1);
    var min_y = Math.min(y0, y1);
    var width = Math.abs(x1 - x0);
    var height = Math.abs(y1 - y0);

    fig.rubberband_context.clearRect(
        0, 0, fig.canvas.width, fig.canvas.height);

    fig.rubberband_context.strokeRect(min_x, min_y, width, height);
}

mpl.figure.prototype.handle_figure_label = function(fig, msg) {
    // Updates the figure title.
    fig.header.textContent = msg['label'];
}

mpl.figure.prototype.handle_cursor = function(fig, msg) {
    var cursor = msg['cursor'];
    switch(cursor)
    {
    case 0:
        cursor = 'pointer';
        break;
    case 1:
        cursor = 'default';
        break;
    case 2:
        cursor = 'crosshair';
        break;
    case 3:
        cursor = 'move';
        break;
    }
    fig.rubberband_canvas.style.cursor = cursor;
}

mpl.figure.prototype.handle_message = function(fig, msg) {
    fig.message.textContent = msg['message'];
}

mpl.figure.prototype.handle_draw = function(fig, msg) {
    // Request the server to send over a new figure.
    fig.send_draw_message();
}

mpl.figure.prototype.handle_image_mode = function(fig, msg) {
    fig.image_mode = msg['mode'];
}

mpl.figure.prototype.updated_canvas_event = function() {
    // Called whenever the canvas gets updated.
    this.send_message("ack", {});
}

// A function to construct a web socket function for onmessage handling.
// Called in the figure constructor.
mpl.figure.prototype._make_on_message_function = function(fig) {
    return function socket_on_message(evt) {
        if (evt.data instanceof Blob) {
            /* FIXME: We get "Resource interpreted as Image but
             * transferred with MIME type text/plain:" errors on
             * Chrome.  But how to set the MIME type?  It doesn't seem
             * to be part of the websocket stream */
            evt.data.type = "image/png";

            /* Free the memory for the previous frames */
            if (fig.imageObj.src) {
                (window.URL || window.webkitURL).revokeObjectURL(
                    fig.imageObj.src);
            }

            fig.imageObj.src = (window.URL || window.webkitURL).createObjectURL(
                evt.data);
            fig.updated_canvas_event();
            fig.waiting = false;
            return;
        }
        else if (typeof evt.data === 'string' && evt.data.slice(0, 21) == "data:image/png;base64") {
            fig.imageObj.src = evt.data;
            fig.updated_canvas_event();
            fig.waiting = false;
            return;
        }

        var msg = JSON.parse(evt.data);
        var msg_type = msg['type'];

        // Call the  "handle_{type}" callback, which takes
        // the figure and JSON message as its only arguments.
        try {
            var callback = fig["handle_" + msg_type];
        } catch (e) {
            console.log("No handler for the '" + msg_type + "' message type: ", msg);
            return;
        }

        if (callback) {
            try {
                // console.log("Handling '" + msg_type + "' message: ", msg);
                callback(fig, msg);
            } catch (e) {
                console.log("Exception inside the 'handler_" + msg_type + "' callback:", e, e.stack, msg);
            }
        }
    };
}

// from http://stackoverflow.com/questions/1114465/getting-mouse-location-in-canvas
mpl.findpos = function(e) {
    //this section is from http://www.quirksmode.org/js/events_properties.html
    var targ;
    if (!e)
        e = window.event;
    if (e.target)
        targ = e.target;
    else if (e.srcElement)
        targ = e.srcElement;
    if (targ.nodeType == 3) // defeat Safari bug
        targ = targ.parentNode;

    // jQuery normalizes the pageX and pageY
    // pageX,Y are the mouse positions relative to the document
    // offset() returns the position of the element relative to the document
    var x = e.pageX - $(targ).offset().left;
    var y = e.pageY - $(targ).offset().top;

    return {"x": x, "y": y};
};

/*
 * return a copy of an object with only non-object keys
 * we need this to avoid circular references
 * http://stackoverflow.com/a/24161582/3208463
 */
function simpleKeys (original) {
  return Object.keys(original).reduce(function (obj, key) {
    if (typeof original[key] !== 'object')
        obj[key] = original[key]
    return obj;
  }, {});
}

mpl.figure.prototype.mouse_event = function(event, name) {
    var canvas_pos = mpl.findpos(event)

    if (name === 'button_press')
    {
        this.canvas.focus();
        this.canvas_div.focus();
    }

    var x = canvas_pos.x * mpl.ratio;
    var y = canvas_pos.y * mpl.ratio;

    this.send_message(name, {x: x, y: y, button: event.button,
                             step: event.step,
                             guiEvent: simpleKeys(event)});

    /* This prevents the web browser from automatically changing to
     * the text insertion cursor when the button is pressed.  We want
     * to control all of the cursor setting manually through the
     * 'cursor' event from matplotlib */
    event.preventDefault();
    return false;
}

mpl.figure.prototype._key_event_extra = function(event, name) {
    // Handle any extra behaviour associated with a key event
}

mpl.figure.prototype.key_event = function(event, name) {

    // Prevent repeat events
    if (name == 'key_press')
    {
        if (event.which === this._key)
            return;
        else
            this._key = event.which;
    }
    if (name == 'key_release')
        this._key = null;

    var value = '';
    if (event.ctrlKey && event.which != 17)
        value += "ctrl+";
    if (event.altKey && event.which != 18)
        value += "alt+";
    if (event.shiftKey && event.which != 16)
        value += "shift+";

    value += 'k';
    value += event.which.toString();

    this._key_event_extra(event, name);

    this.send_message(name, {key: value,
                             guiEvent: simpleKeys(event)});
    return false;
}

mpl.figure.prototype.toolbar_button_onclick = function(name) {
    if (name == 'download') {
        this.handle_save(this, null);
    } else {
        this.send_message("toolbar_button", {name: name});
    }
};

mpl.figure.prototype.toolbar_button_onmouseover = function(tooltip) {
    this.message.textContent = tooltip;
};
mpl.toolbar_items = [["Home", "Reset original view", "fa fa-home icon-home", "home"], ["Back", "Back to previous view", "fa fa-arrow-left icon-arrow-left", "back"], ["Forward", "Forward to next view", "fa fa-arrow-right icon-arrow-right", "forward"], ["", "", "", ""], ["Pan", "Pan axes with left mouse, zoom with right", "fa fa-arrows icon-move", "pan"], ["Zoom", "Zoom to rectangle", "fa fa-square-o icon-check-empty", "zoom"], ["", "", "", ""], ["Download", "Download plot", "fa fa-floppy-o icon-save", "download"]];

mpl.extensions = ["eps", "jpeg", "pdf", "png", "ps", "raw", "svg", "tif"];

mpl.default_extension = "png";var comm_websocket_adapter = function(comm) {
    // Create a "websocket"-like object which calls the given IPython comm
    // object with the appropriate methods. Currently this is a non binary
    // socket, so there is still some room for performance tuning.
    var ws = {};

    ws.close = function() {
        comm.close()
    };
    ws.send = function(m) {
        //console.log('sending', m);
        comm.send(m);
    };
    // Register the callback with on_msg.
    comm.on_msg(function(msg) {
        //console.log('receiving', msg['content']['data'], msg);
        // Pass the mpl event to the overridden (by mpl) onmessage function.
        ws.onmessage(msg['content']['data'])
    });
    return ws;
}

mpl.mpl_figure_comm = function(comm, msg) {
    // This is the function which gets called when the mpl process
    // starts-up an IPython Comm through the "matplotlib" channel.

    var id = msg.content.data.id;
    // Get hold of the div created by the display call when the Comm
    // socket was opened in Python.
    var element = $("#" + id);
    var ws_proxy = comm_websocket_adapter(comm)

    function ondownload(figure, format) {
        window.open(figure.imageObj.src);
    }

    var fig = new mpl.figure(id, ws_proxy,
                           ondownload,
                           element.get(0));

    // Call onopen now - mpl needs it, as it is assuming we've passed it a real
    // web socket which is closed, not our websocket->open comm proxy.
    ws_proxy.onopen();

    fig.parent_element = element.get(0);
    fig.cell_info = mpl.find_output_cell("<div id='" + id + "'></div>");
    if (!fig.cell_info) {
        console.error("Failed to find cell for figure", id, fig);
        return;
    }

    var output_index = fig.cell_info[2]
    var cell = fig.cell_info[0];

};

mpl.figure.prototype.handle_close = function(fig, msg) {
    var width = fig.canvas.width/mpl.ratio
    fig.root.unbind('remove')

    // Update the output cell to use the data from the current canvas.
    fig.push_to_output();
    var dataURL = fig.canvas.toDataURL();
    // Re-enable the keyboard manager in IPython - without this line, in FF,
    // the notebook keyboard shortcuts fail.
    IPython.keyboard_manager.enable()
    $(fig.parent_element).html('<img src="' + dataURL + '" width="' + width + '">');
    fig.close_ws(fig, msg);
}

mpl.figure.prototype.close_ws = function(fig, msg){
    fig.send_message('closing', msg);
    // fig.ws.close()
}

mpl.figure.prototype.push_to_output = function(remove_interactive) {
    // Turn the data on the canvas into data in the output cell.
    var width = this.canvas.width/mpl.ratio
    var dataURL = this.canvas.toDataURL();
    this.cell_info[1]['text/html'] = '<img src="' + dataURL + '" width="' + width + '">';
}

mpl.figure.prototype.updated_canvas_event = function() {
    // Tell IPython that the notebook contents must change.
    IPython.notebook.set_dirty(true);
    this.send_message("ack", {});
    var fig = this;
    // Wait a second, then push the new image to the DOM so
    // that it is saved nicely (might be nice to debounce this).
    setTimeout(function () { fig.push_to_output() }, 1000);
}

mpl.figure.prototype._init_toolbar = function() {
    var fig = this;

    var nav_element = $('<div/>');
    nav_element.attr('style', 'width: 100%');
    this.root.append(nav_element);

    // Define a callback function for later on.
    function toolbar_event(event) {
        return fig.toolbar_button_onclick(event['data']);
    }
    function toolbar_mouse_event(event) {
        return fig.toolbar_button_onmouseover(event['data']);
    }

    for(var toolbar_ind in mpl.toolbar_items){
        var name = mpl.toolbar_items[toolbar_ind][0];
        var tooltip = mpl.toolbar_items[toolbar_ind][1];
        var image = mpl.toolbar_items[toolbar_ind][2];
        var method_name = mpl.toolbar_items[toolbar_ind][3];

        if (!name) { continue; };

        var button = $('<button class="btn btn-default" href="#" title="' + name + '"><i class="fa ' + image + ' fa-lg"></i></button>');
        button.click(method_name, toolbar_event);
        button.mouseover(tooltip, toolbar_mouse_event);
        nav_element.append(button);
    }

    // Add the status bar.
    var status_bar = $('<span class="mpl-message" style="text-align:right; float: right;"/>');
    nav_element.append(status_bar);
    this.message = status_bar[0];

    // Add the close button to the window.
    var buttongrp = $('<div class="btn-group inline pull-right"></div>');
    var button = $('<button class="btn btn-mini btn-primary" href="#" title="Stop Interaction"><i class="fa fa-power-off icon-remove icon-large"></i></button>');
    button.click(function (evt) { fig.handle_close(fig, {}); } );
    button.mouseover('Stop Interaction', toolbar_mouse_event);
    buttongrp.append(button);
    var titlebar = this.root.find($('.ui-dialog-titlebar'));
    titlebar.prepend(buttongrp);
}

mpl.figure.prototype._root_extra_style = function(el){
    var fig = this
    el.on("remove", function(){
	fig.close_ws(fig, {});
    });
}

mpl.figure.prototype._canvas_extra_style = function(el){
    // this is important to make the div 'focusable
    el.attr('tabindex', 0)
    // reach out to IPython and tell the keyboard manager to turn it's self
    // off when our div gets focus

    // location in version 3
    if (IPython.notebook.keyboard_manager) {
        IPython.notebook.keyboard_manager.register_events(el);
    }
    else {
        // location in version 2
        IPython.keyboard_manager.register_events(el);
    }

}

mpl.figure.prototype._key_event_extra = function(event, name) {
    var manager = IPython.notebook.keyboard_manager;
    if (!manager)
        manager = IPython.keyboard_manager;

    // Check for shift+enter
    if (event.shiftKey && event.which == 13) {
        this.canvas_div.blur();
        event.shiftKey = false;
        // Send a "J" for go to next cell
        event.which = 74;
        event.keyCode = 74;
        manager.command_mode();
        manager.handle_keydown(event);
    }
}

mpl.figure.prototype.handle_save = function(fig, msg) {
    fig.ondownload(fig, null);
}


mpl.find_output_cell = function(html_output) {
    // Return the cell and output element which can be found *uniquely* in the notebook.
    // Note - this is a bit hacky, but it is done because the "notebook_saving.Notebook"
    // IPython event is triggered only after the cells have been serialised, which for
    // our purposes (turning an active figure into a static one), is too late.
    var cells = IPython.notebook.get_cells();
    var ncells = cells.length;
    for (var i=0; i<ncells; i++) {
        var cell = cells[i];
        if (cell.cell_type === 'code'){
            for (var j=0; j<cell.output_area.outputs.length; j++) {
                var data = cell.output_area.outputs[j];
                if (data.data) {
                    // IPython >= 3 moved mimebundle to data attribute of output
                    data = data.data;
                }
                if (data['text/html'] == html_output) {
                    return [cell, data, j];
                }
            }
        }
    }
}

// Register the function which deals with the matplotlib target/channel.
// The kernel may be null if the page has been refreshed.
if (IPython.notebook.kernel != null) {
    IPython.notebook.kernel.comm_manager.register_target('matplotlib', mpl.mpl_figure_comm);
}

</script>
</div>

</div>

<div class="output_area">

    <div class="prompt"></div>



<div class="output_html rendered_html output_subarea ">
<img src="data:image/png;base64,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" width="640">
</div>

</div>

</div>
</div>

</div>
<div class="cell border-box-sizing code_cell rendered">
<div class="input">
<div class="prompt input_prompt">In&nbsp;[3]:</div>
<div class="inner_cell">
    <div class="input_area">
<div class=" highlight hl-ipython3"><pre><span></span><span class="c1"># maximum intensity at x=254, y=153</span>
<span class="c1">#spectrum of this pixel</span>

<span class="n">fig2</span><span class="o">=</span><span class="n">figure</span><span class="p">(</span><span class="mi">2</span><span class="p">)</span>
<span class="n">plt</span><span class="o">.</span><span class="n">plot</span><span class="p">(</span><span class="n">image</span><span class="p">[</span><span class="mi">0</span><span class="p">,</span> <span class="p">:,</span> <span class="mi">153</span><span class="p">,</span><span class="mi">254</span><span class="p">])</span>
<span class="n">plt</span><span class="o">.</span><span class="n">title</span><span class="p">(</span><span class="s1">&#39;Spectrum of brightest pixel in Stokes I&#39;</span><span class="p">)</span>
<span class="n">plt</span><span class="o">.</span><span class="n">xlabel</span><span class="p">(</span><span class="s1">&#39;Frequency Channel&#39;</span><span class="p">)</span>
<span class="n">plt</span><span class="o">.</span><span class="n">ylabel</span><span class="p">(</span><span class="s1">&#39;Flux-Density (Jansky/beam)&#39;</span><span class="p">)</span>
<span class="n">fig2</span><span class="o">.</span><span class="n">savefig</span><span class="p">(</span><span class="s1">&#39;spectra_254_153.png&#39;</span><span class="p">)</span>
<span class="n">plt</span><span class="o">.</span><span class="n">show</span><span class="p">()</span>
</pre></div>

    </div>
</div>
</div>

<div class="output_wrapper">
<div class="output">


<div class="output_area">

    <div class="prompt"></div>





<div id="bececc0e-39ea-4f34-9f8a-e635d274a240"></div>
<div class="output_subarea output_javascript ">
<script type="text/javascript">
var element = $('#bececc0e-39ea-4f34-9f8a-e635d274a240');
/* Put everything inside the global mpl namespace */
window.mpl = {};


mpl.get_websocket_type = function() {
    if (typeof(WebSocket) !== 'undefined') {
        return WebSocket;
    } else if (typeof(MozWebSocket) !== 'undefined') {
        return MozWebSocket;
    } else {
        alert('Your browser does not have WebSocket support. ' +
              'Please try Chrome, Safari or Firefox ≥ 6. ' +
              'Firefox 4 and 5 are also supported but you ' +
              'have to enable WebSockets in about:config.');
    };
}

mpl.figure = function(figure_id, websocket, ondownload, parent_element) {
    this.id = figure_id;

    this.ws = websocket;

    this.supports_binary = (this.ws.binaryType != undefined);

    if (!this.supports_binary) {
        var warnings = document.getElementById("mpl-warnings");
        if (warnings) {
            warnings.style.display = 'block';
            warnings.textContent = (
                "This browser does not support binary websocket messages. " +
                    "Performance may be slow.");
        }
    }

    this.imageObj = new Image();

    this.context = undefined;
    this.message = undefined;
    this.canvas = undefined;
    this.rubberband_canvas = undefined;
    this.rubberband_context = undefined;
    this.format_dropdown = undefined;

    this.image_mode = 'full';

    this.root = $('<div/>');
    this._root_extra_style(this.root)
    this.root.attr('style', 'display: inline-block');

    $(parent_element).append(this.root);

    this._init_header(this);
    this._init_canvas(this);
    this._init_toolbar(this);

    var fig = this;

    this.waiting = false;

    this.ws.onopen =  function () {
            fig.send_message("supports_binary", {value: fig.supports_binary});
            fig.send_message("send_image_mode", {});
            if (mpl.ratio != 1) {
                fig.send_message("set_dpi_ratio", {'dpi_ratio': mpl.ratio});
            }
            fig.send_message("refresh", {});
        }

    this.imageObj.onload = function() {
            if (fig.image_mode == 'full') {
                // Full images could contain transparency (where diff images
                // almost always do), so we need to clear the canvas so that
                // there is no ghosting.
                fig.context.clearRect(0, 0, fig.canvas.width, fig.canvas.height);
            }
            fig.context.drawImage(fig.imageObj, 0, 0);
        };

    this.imageObj.onunload = function() {
        fig.ws.close();
    }

    this.ws.onmessage = this._make_on_message_function(this);

    this.ondownload = ondownload;
}

mpl.figure.prototype._init_header = function() {
    var titlebar = $(
        '<div class="ui-dialog-titlebar ui-widget-header ui-corner-all ' +
        'ui-helper-clearfix"/>');
    var titletext = $(
        '<div class="ui-dialog-title" style="width: 100%; ' +
        'text-align: center; padding: 3px;"/>');
    titlebar.append(titletext)
    this.root.append(titlebar);
    this.header = titletext[0];
}



mpl.figure.prototype._canvas_extra_style = function(canvas_div) {

}


mpl.figure.prototype._root_extra_style = function(canvas_div) {

}

mpl.figure.prototype._init_canvas = function() {
    var fig = this;

    var canvas_div = $('<div/>');

    canvas_div.attr('style', 'position: relative; clear: both; outline: 0');

    function canvas_keyboard_event(event) {
        return fig.key_event(event, event['data']);
    }

    canvas_div.keydown('key_press', canvas_keyboard_event);
    canvas_div.keyup('key_release', canvas_keyboard_event);
    this.canvas_div = canvas_div
    this._canvas_extra_style(canvas_div)
    this.root.append(canvas_div);

    var canvas = $('<canvas/>');
    canvas.addClass('mpl-canvas');
    canvas.attr('style', "left: 0; top: 0; z-index: 0; outline: 0")

    this.canvas = canvas[0];
    this.context = canvas[0].getContext("2d");

    var backingStore = this.context.backingStorePixelRatio ||
	this.context.webkitBackingStorePixelRatio ||
	this.context.mozBackingStorePixelRatio ||
	this.context.msBackingStorePixelRatio ||
	this.context.oBackingStorePixelRatio ||
	this.context.backingStorePixelRatio || 1;

    mpl.ratio = (window.devicePixelRatio || 1) / backingStore;

    var rubberband = $('<canvas/>');
    rubberband.attr('style', "position: absolute; left: 0; top: 0; z-index: 1;")

    var pass_mouse_events = true;

    canvas_div.resizable({
        start: function(event, ui) {
            pass_mouse_events = false;
        },
        resize: function(event, ui) {
            fig.request_resize(ui.size.width, ui.size.height);
        },
        stop: function(event, ui) {
            pass_mouse_events = true;
            fig.request_resize(ui.size.width, ui.size.height);
        },
    });

    function mouse_event_fn(event) {
        if (pass_mouse_events)
            return fig.mouse_event(event, event['data']);
    }

    rubberband.mousedown('button_press', mouse_event_fn);
    rubberband.mouseup('button_release', mouse_event_fn);
    // Throttle sequential mouse events to 1 every 20ms.
    rubberband.mousemove('motion_notify', mouse_event_fn);

    rubberband.mouseenter('figure_enter', mouse_event_fn);
    rubberband.mouseleave('figure_leave', mouse_event_fn);

    canvas_div.on("wheel", function (event) {
        event = event.originalEvent;
        event['data'] = 'scroll'
        if (event.deltaY < 0) {
            event.step = 1;
        } else {
            event.step = -1;
        }
        mouse_event_fn(event);
    });

    canvas_div.append(canvas);
    canvas_div.append(rubberband);

    this.rubberband = rubberband;
    this.rubberband_canvas = rubberband[0];
    this.rubberband_context = rubberband[0].getContext("2d");
    this.rubberband_context.strokeStyle = "#000000";

    this._resize_canvas = function(width, height) {
        // Keep the size of the canvas, canvas container, and rubber band
        // canvas in synch.
        canvas_div.css('width', width)
        canvas_div.css('height', height)

        canvas.attr('width', width * mpl.ratio);
        canvas.attr('height', height * mpl.ratio);
        canvas.attr('style', 'width: ' + width + 'px; height: ' + height + 'px;');

        rubberband.attr('width', width);
        rubberband.attr('height', height);
    }

    // Set the figure to an initial 600x600px, this will subsequently be updated
    // upon first draw.
    this._resize_canvas(600, 600);

    // Disable right mouse context menu.
    $(this.rubberband_canvas).bind("contextmenu",function(e){
        return false;
    });

    function set_focus () {
        canvas.focus();
        canvas_div.focus();
    }

    window.setTimeout(set_focus, 100);
}

mpl.figure.prototype._init_toolbar = function() {
    var fig = this;

    var nav_element = $('<div/>');
    nav_element.attr('style', 'width: 100%');
    this.root.append(nav_element);

    // Define a callback function for later on.
    function toolbar_event(event) {
        return fig.toolbar_button_onclick(event['data']);
    }
    function toolbar_mouse_event(event) {
        return fig.toolbar_button_onmouseover(event['data']);
    }

    for(var toolbar_ind in mpl.toolbar_items) {
        var name = mpl.toolbar_items[toolbar_ind][0];
        var tooltip = mpl.toolbar_items[toolbar_ind][1];
        var image = mpl.toolbar_items[toolbar_ind][2];
        var method_name = mpl.toolbar_items[toolbar_ind][3];

        if (!name) {
            // put a spacer in here.
            continue;
        }
        var button = $('<button/>');
        button.addClass('ui-button ui-widget ui-state-default ui-corner-all ' +
                        'ui-button-icon-only');
        button.attr('role', 'button');
        button.attr('aria-disabled', 'false');
        button.click(method_name, toolbar_event);
        button.mouseover(tooltip, toolbar_mouse_event);

        var icon_img = $('<span/>');
        icon_img.addClass('ui-button-icon-primary ui-icon');
        icon_img.addClass(image);
        icon_img.addClass('ui-corner-all');

        var tooltip_span = $('<span/>');
        tooltip_span.addClass('ui-button-text');
        tooltip_span.html(tooltip);

        button.append(icon_img);
        button.append(tooltip_span);

        nav_element.append(button);
    }

    var fmt_picker_span = $('<span/>');

    var fmt_picker = $('<select/>');
    fmt_picker.addClass('mpl-toolbar-option ui-widget ui-widget-content');
    fmt_picker_span.append(fmt_picker);
    nav_element.append(fmt_picker_span);
    this.format_dropdown = fmt_picker[0];

    for (var ind in mpl.extensions) {
        var fmt = mpl.extensions[ind];
        var option = $(
            '<option/>', {selected: fmt === mpl.default_extension}).html(fmt);
        fmt_picker.append(option);
    }

    // Add hover states to the ui-buttons
    $( ".ui-button" ).hover(
        function() { $(this).addClass("ui-state-hover");},
        function() { $(this).removeClass("ui-state-hover");}
    );

    var status_bar = $('<span class="mpl-message"/>');
    nav_element.append(status_bar);
    this.message = status_bar[0];
}

mpl.figure.prototype.request_resize = function(x_pixels, y_pixels) {
    // Request matplotlib to resize the figure. Matplotlib will then trigger a resize in the client,
    // which will in turn request a refresh of the image.
    this.send_message('resize', {'width': x_pixels, 'height': y_pixels});
}

mpl.figure.prototype.send_message = function(type, properties) {
    properties['type'] = type;
    properties['figure_id'] = this.id;
    this.ws.send(JSON.stringify(properties));
}

mpl.figure.prototype.send_draw_message = function() {
    if (!this.waiting) {
        this.waiting = true;
        this.ws.send(JSON.stringify({type: "draw", figure_id: this.id}));
    }
}


mpl.figure.prototype.handle_save = function(fig, msg) {
    var format_dropdown = fig.format_dropdown;
    var format = format_dropdown.options[format_dropdown.selectedIndex].value;
    fig.ondownload(fig, format);
}


mpl.figure.prototype.handle_resize = function(fig, msg) {
    var size = msg['size'];
    if (size[0] != fig.canvas.width || size[1] != fig.canvas.height) {
        fig._resize_canvas(size[0], size[1]);
        fig.send_message("refresh", {});
    };
}

mpl.figure.prototype.handle_rubberband = function(fig, msg) {
    var x0 = msg['x0'] / mpl.ratio;
    var y0 = (fig.canvas.height - msg['y0']) / mpl.ratio;
    var x1 = msg['x1'] / mpl.ratio;
    var y1 = (fig.canvas.height - msg['y1']) / mpl.ratio;
    x0 = Math.floor(x0) + 0.5;
    y0 = Math.floor(y0) + 0.5;
    x1 = Math.floor(x1) + 0.5;
    y1 = Math.floor(y1) + 0.5;
    var min_x = Math.min(x0, x1);
    var min_y = Math.min(y0, y1);
    var width = Math.abs(x1 - x0);
    var height = Math.abs(y1 - y0);

    fig.rubberband_context.clearRect(
        0, 0, fig.canvas.width, fig.canvas.height);

    fig.rubberband_context.strokeRect(min_x, min_y, width, height);
}

mpl.figure.prototype.handle_figure_label = function(fig, msg) {
    // Updates the figure title.
    fig.header.textContent = msg['label'];
}

mpl.figure.prototype.handle_cursor = function(fig, msg) {
    var cursor = msg['cursor'];
    switch(cursor)
    {
    case 0:
        cursor = 'pointer';
        break;
    case 1:
        cursor = 'default';
        break;
    case 2:
        cursor = 'crosshair';
        break;
    case 3:
        cursor = 'move';
        break;
    }
    fig.rubberband_canvas.style.cursor = cursor;
}

mpl.figure.prototype.handle_message = function(fig, msg) {
    fig.message.textContent = msg['message'];
}

mpl.figure.prototype.handle_draw = function(fig, msg) {
    // Request the server to send over a new figure.
    fig.send_draw_message();
}

mpl.figure.prototype.handle_image_mode = function(fig, msg) {
    fig.image_mode = msg['mode'];
}

mpl.figure.prototype.updated_canvas_event = function() {
    // Called whenever the canvas gets updated.
    this.send_message("ack", {});
}

// A function to construct a web socket function for onmessage handling.
// Called in the figure constructor.
mpl.figure.prototype._make_on_message_function = function(fig) {
    return function socket_on_message(evt) {
        if (evt.data instanceof Blob) {
            /* FIXME: We get "Resource interpreted as Image but
             * transferred with MIME type text/plain:" errors on
             * Chrome.  But how to set the MIME type?  It doesn't seem
             * to be part of the websocket stream */
            evt.data.type = "image/png";

            /* Free the memory for the previous frames */
            if (fig.imageObj.src) {
                (window.URL || window.webkitURL).revokeObjectURL(
                    fig.imageObj.src);
            }

            fig.imageObj.src = (window.URL || window.webkitURL).createObjectURL(
                evt.data);
            fig.updated_canvas_event();
            fig.waiting = false;
            return;
        }
        else if (typeof evt.data === 'string' && evt.data.slice(0, 21) == "data:image/png;base64") {
            fig.imageObj.src = evt.data;
            fig.updated_canvas_event();
            fig.waiting = false;
            return;
        }

        var msg = JSON.parse(evt.data);
        var msg_type = msg['type'];

        // Call the  "handle_{type}" callback, which takes
        // the figure and JSON message as its only arguments.
        try {
            var callback = fig["handle_" + msg_type];
        } catch (e) {
            console.log("No handler for the '" + msg_type + "' message type: ", msg);
            return;
        }

        if (callback) {
            try {
                // console.log("Handling '" + msg_type + "' message: ", msg);
                callback(fig, msg);
            } catch (e) {
                console.log("Exception inside the 'handler_" + msg_type + "' callback:", e, e.stack, msg);
            }
        }
    };
}

// from http://stackoverflow.com/questions/1114465/getting-mouse-location-in-canvas
mpl.findpos = function(e) {
    //this section is from http://www.quirksmode.org/js/events_properties.html
    var targ;
    if (!e)
        e = window.event;
    if (e.target)
        targ = e.target;
    else if (e.srcElement)
        targ = e.srcElement;
    if (targ.nodeType == 3) // defeat Safari bug
        targ = targ.parentNode;

    // jQuery normalizes the pageX and pageY
    // pageX,Y are the mouse positions relative to the document
    // offset() returns the position of the element relative to the document
    var x = e.pageX - $(targ).offset().left;
    var y = e.pageY - $(targ).offset().top;

    return {"x": x, "y": y};
};

/*
 * return a copy of an object with only non-object keys
 * we need this to avoid circular references
 * http://stackoverflow.com/a/24161582/3208463
 */
function simpleKeys (original) {
  return Object.keys(original).reduce(function (obj, key) {
    if (typeof original[key] !== 'object')
        obj[key] = original[key]
    return obj;
  }, {});
}

mpl.figure.prototype.mouse_event = function(event, name) {
    var canvas_pos = mpl.findpos(event)

    if (name === 'button_press')
    {
        this.canvas.focus();
        this.canvas_div.focus();
    }

    var x = canvas_pos.x * mpl.ratio;
    var y = canvas_pos.y * mpl.ratio;

    this.send_message(name, {x: x, y: y, button: event.button,
                             step: event.step,
                             guiEvent: simpleKeys(event)});

    /* This prevents the web browser from automatically changing to
     * the text insertion cursor when the button is pressed.  We want
     * to control all of the cursor setting manually through the
     * 'cursor' event from matplotlib */
    event.preventDefault();
    return false;
}

mpl.figure.prototype._key_event_extra = function(event, name) {
    // Handle any extra behaviour associated with a key event
}

mpl.figure.prototype.key_event = function(event, name) {

    // Prevent repeat events
    if (name == 'key_press')
    {
        if (event.which === this._key)
            return;
        else
            this._key = event.which;
    }
    if (name == 'key_release')
        this._key = null;

    var value = '';
    if (event.ctrlKey && event.which != 17)
        value += "ctrl+";
    if (event.altKey && event.which != 18)
        value += "alt+";
    if (event.shiftKey && event.which != 16)
        value += "shift+";

    value += 'k';
    value += event.which.toString();

    this._key_event_extra(event, name);

    this.send_message(name, {key: value,
                             guiEvent: simpleKeys(event)});
    return false;
}

mpl.figure.prototype.toolbar_button_onclick = function(name) {
    if (name == 'download') {
        this.handle_save(this, null);
    } else {
        this.send_message("toolbar_button", {name: name});
    }
};

mpl.figure.prototype.toolbar_button_onmouseover = function(tooltip) {
    this.message.textContent = tooltip;
};
mpl.toolbar_items = [["Home", "Reset original view", "fa fa-home icon-home", "home"], ["Back", "Back to previous view", "fa fa-arrow-left icon-arrow-left", "back"], ["Forward", "Forward to next view", "fa fa-arrow-right icon-arrow-right", "forward"], ["", "", "", ""], ["Pan", "Pan axes with left mouse, zoom with right", "fa fa-arrows icon-move", "pan"], ["Zoom", "Zoom to rectangle", "fa fa-square-o icon-check-empty", "zoom"], ["", "", "", ""], ["Download", "Download plot", "fa fa-floppy-o icon-save", "download"]];

mpl.extensions = ["eps", "jpeg", "pdf", "png", "ps", "raw", "svg", "tif"];

mpl.default_extension = "png";var comm_websocket_adapter = function(comm) {
    // Create a "websocket"-like object which calls the given IPython comm
    // object with the appropriate methods. Currently this is a non binary
    // socket, so there is still some room for performance tuning.
    var ws = {};

    ws.close = function() {
        comm.close()
    };
    ws.send = function(m) {
        //console.log('sending', m);
        comm.send(m);
    };
    // Register the callback with on_msg.
    comm.on_msg(function(msg) {
        //console.log('receiving', msg['content']['data'], msg);
        // Pass the mpl event to the overridden (by mpl) onmessage function.
        ws.onmessage(msg['content']['data'])
    });
    return ws;
}

mpl.mpl_figure_comm = function(comm, msg) {
    // This is the function which gets called when the mpl process
    // starts-up an IPython Comm through the "matplotlib" channel.

    var id = msg.content.data.id;
    // Get hold of the div created by the display call when the Comm
    // socket was opened in Python.
    var element = $("#" + id);
    var ws_proxy = comm_websocket_adapter(comm)

    function ondownload(figure, format) {
        window.open(figure.imageObj.src);
    }

    var fig = new mpl.figure(id, ws_proxy,
                           ondownload,
                           element.get(0));

    // Call onopen now - mpl needs it, as it is assuming we've passed it a real
    // web socket which is closed, not our websocket->open comm proxy.
    ws_proxy.onopen();

    fig.parent_element = element.get(0);
    fig.cell_info = mpl.find_output_cell("<div id='" + id + "'></div>");
    if (!fig.cell_info) {
        console.error("Failed to find cell for figure", id, fig);
        return;
    }

    var output_index = fig.cell_info[2]
    var cell = fig.cell_info[0];

};

mpl.figure.prototype.handle_close = function(fig, msg) {
    var width = fig.canvas.width/mpl.ratio
    fig.root.unbind('remove')

    // Update the output cell to use the data from the current canvas.
    fig.push_to_output();
    var dataURL = fig.canvas.toDataURL();
    // Re-enable the keyboard manager in IPython - without this line, in FF,
    // the notebook keyboard shortcuts fail.
    IPython.keyboard_manager.enable()
    $(fig.parent_element).html('<img src="' + dataURL + '" width="' + width + '">');
    fig.close_ws(fig, msg);
}

mpl.figure.prototype.close_ws = function(fig, msg){
    fig.send_message('closing', msg);
    // fig.ws.close()
}

mpl.figure.prototype.push_to_output = function(remove_interactive) {
    // Turn the data on the canvas into data in the output cell.
    var width = this.canvas.width/mpl.ratio
    var dataURL = this.canvas.toDataURL();
    this.cell_info[1]['text/html'] = '<img src="' + dataURL + '" width="' + width + '">';
}

mpl.figure.prototype.updated_canvas_event = function() {
    // Tell IPython that the notebook contents must change.
    IPython.notebook.set_dirty(true);
    this.send_message("ack", {});
    var fig = this;
    // Wait a second, then push the new image to the DOM so
    // that it is saved nicely (might be nice to debounce this).
    setTimeout(function () { fig.push_to_output() }, 1000);
}

mpl.figure.prototype._init_toolbar = function() {
    var fig = this;

    var nav_element = $('<div/>');
    nav_element.attr('style', 'width: 100%');
    this.root.append(nav_element);

    // Define a callback function for later on.
    function toolbar_event(event) {
        return fig.toolbar_button_onclick(event['data']);
    }
    function toolbar_mouse_event(event) {
        return fig.toolbar_button_onmouseover(event['data']);
    }

    for(var toolbar_ind in mpl.toolbar_items){
        var name = mpl.toolbar_items[toolbar_ind][0];
        var tooltip = mpl.toolbar_items[toolbar_ind][1];
        var image = mpl.toolbar_items[toolbar_ind][2];
        var method_name = mpl.toolbar_items[toolbar_ind][3];

        if (!name) { continue; };

        var button = $('<button class="btn btn-default" href="#" title="' + name + '"><i class="fa ' + image + ' fa-lg"></i></button>');
        button.click(method_name, toolbar_event);
        button.mouseover(tooltip, toolbar_mouse_event);
        nav_element.append(button);
    }

    // Add the status bar.
    var status_bar = $('<span class="mpl-message" style="text-align:right; float: right;"/>');
    nav_element.append(status_bar);
    this.message = status_bar[0];

    // Add the close button to the window.
    var buttongrp = $('<div class="btn-group inline pull-right"></div>');
    var button = $('<button class="btn btn-mini btn-primary" href="#" title="Stop Interaction"><i class="fa fa-power-off icon-remove icon-large"></i></button>');
    button.click(function (evt) { fig.handle_close(fig, {}); } );
    button.mouseover('Stop Interaction', toolbar_mouse_event);
    buttongrp.append(button);
    var titlebar = this.root.find($('.ui-dialog-titlebar'));
    titlebar.prepend(buttongrp);
}

mpl.figure.prototype._root_extra_style = function(el){
    var fig = this
    el.on("remove", function(){
	fig.close_ws(fig, {});
    });
}

mpl.figure.prototype._canvas_extra_style = function(el){
    // this is important to make the div 'focusable
    el.attr('tabindex', 0)
    // reach out to IPython and tell the keyboard manager to turn it's self
    // off when our div gets focus

    // location in version 3
    if (IPython.notebook.keyboard_manager) {
        IPython.notebook.keyboard_manager.register_events(el);
    }
    else {
        // location in version 2
        IPython.keyboard_manager.register_events(el);
    }

}

mpl.figure.prototype._key_event_extra = function(event, name) {
    var manager = IPython.notebook.keyboard_manager;
    if (!manager)
        manager = IPython.keyboard_manager;

    // Check for shift+enter
    if (event.shiftKey && event.which == 13) {
        this.canvas_div.blur();
        event.shiftKey = false;
        // Send a "J" for go to next cell
        event.which = 74;
        event.keyCode = 74;
        manager.command_mode();
        manager.handle_keydown(event);
    }
}

mpl.figure.prototype.handle_save = function(fig, msg) {
    fig.ondownload(fig, null);
}


mpl.find_output_cell = function(html_output) {
    // Return the cell and output element which can be found *uniquely* in the notebook.
    // Note - this is a bit hacky, but it is done because the "notebook_saving.Notebook"
    // IPython event is triggered only after the cells have been serialised, which for
    // our purposes (turning an active figure into a static one), is too late.
    var cells = IPython.notebook.get_cells();
    var ncells = cells.length;
    for (var i=0; i<ncells; i++) {
        var cell = cells[i];
        if (cell.cell_type === 'code'){
            for (var j=0; j<cell.output_area.outputs.length; j++) {
                var data = cell.output_area.outputs[j];
                if (data.data) {
                    // IPython >= 3 moved mimebundle to data attribute of output
                    data = data.data;
                }
                if (data['text/html'] == html_output) {
                    return [cell, data, j];
                }
            }
        }
    }
}

// Register the function which deals with the matplotlib target/channel.
// The kernel may be null if the page has been refreshed.
if (IPython.notebook.kernel != null) {
    IPython.notebook.kernel.comm_manager.register_target('matplotlib', mpl.mpl_figure_comm);
}

</script>
</div>

</div>

<div class="output_area">

    <div class="prompt"></div>



<div class="output_html rendered_html output_subarea ">
<img src="data:image/png;base64,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" width="640">
</div>

</div>

</div>
</div>

</div>
<div class="cell border-box-sizing code_cell rendered">
<div class="input">
<div class="prompt input_prompt">In&nbsp;[4]:</div>
<div class="inner_cell">
    <div class="input_area">
<div class=" highlight hl-ipython3"><pre><span></span><span class="c1">#second maximum intensity at x=491, y=453</span>
<span class="c1">#spectrum of this pixel</span>

<span class="n">fig5</span><span class="o">=</span><span class="n">figure</span><span class="p">(</span><span class="mi">5</span><span class="p">)</span>
<span class="n">plt</span><span class="o">.</span><span class="n">plot</span><span class="p">(</span><span class="n">image</span><span class="p">[</span><span class="mi">0</span><span class="p">,</span> <span class="p">:,</span> <span class="mi">453</span><span class="p">,</span><span class="mi">491</span><span class="p">])</span>
<span class="n">plt</span><span class="o">.</span><span class="n">title</span><span class="p">(</span><span class="s1">&#39;Spectrum of second brightest pixel in Stokes I&#39;</span><span class="p">)</span>
<span class="n">plt</span><span class="o">.</span><span class="n">xlabel</span><span class="p">(</span><span class="s1">&#39;Frequency Channel&#39;</span><span class="p">)</span>
<span class="n">plt</span><span class="o">.</span><span class="n">ylabel</span><span class="p">(</span><span class="s1">&#39;Flux-Density(Jansky/beam)&#39;</span><span class="p">)</span>
<span class="n">fig5</span><span class="o">.</span><span class="n">savefig</span><span class="p">(</span><span class="s1">&#39;spectra_453_491.png&#39;</span><span class="p">)</span>
<span class="n">plt</span><span class="o">.</span><span class="n">show</span><span class="p">()</span>
</pre></div>

    </div>
</div>
</div>

<div class="output_wrapper">
<div class="output">


<div class="output_area">

    <div class="prompt"></div>





<div id="2b242428-4196-43c3-bbeb-53d01c892988"></div>
<div class="output_subarea output_javascript ">
<script type="text/javascript">
var element = $('#2b242428-4196-43c3-bbeb-53d01c892988');
/* Put everything inside the global mpl namespace */
window.mpl = {};


mpl.get_websocket_type = function() {
    if (typeof(WebSocket) !== 'undefined') {
        return WebSocket;
    } else if (typeof(MozWebSocket) !== 'undefined') {
        return MozWebSocket;
    } else {
        alert('Your browser does not have WebSocket support. ' +
              'Please try Chrome, Safari or Firefox ≥ 6. ' +
              'Firefox 4 and 5 are also supported but you ' +
              'have to enable WebSockets in about:config.');
    };
}

mpl.figure = function(figure_id, websocket, ondownload, parent_element) {
    this.id = figure_id;

    this.ws = websocket;

    this.supports_binary = (this.ws.binaryType != undefined);

    if (!this.supports_binary) {
        var warnings = document.getElementById("mpl-warnings");
        if (warnings) {
            warnings.style.display = 'block';
            warnings.textContent = (
                "This browser does not support binary websocket messages. " +
                    "Performance may be slow.");
        }
    }

    this.imageObj = new Image();

    this.context = undefined;
    this.message = undefined;
    this.canvas = undefined;
    this.rubberband_canvas = undefined;
    this.rubberband_context = undefined;
    this.format_dropdown = undefined;

    this.image_mode = 'full';

    this.root = $('<div/>');
    this._root_extra_style(this.root)
    this.root.attr('style', 'display: inline-block');

    $(parent_element).append(this.root);

    this._init_header(this);
    this._init_canvas(this);
    this._init_toolbar(this);

    var fig = this;

    this.waiting = false;

    this.ws.onopen =  function () {
            fig.send_message("supports_binary", {value: fig.supports_binary});
            fig.send_message("send_image_mode", {});
            if (mpl.ratio != 1) {
                fig.send_message("set_dpi_ratio", {'dpi_ratio': mpl.ratio});
            }
            fig.send_message("refresh", {});
        }

    this.imageObj.onload = function() {
            if (fig.image_mode == 'full') {
                // Full images could contain transparency (where diff images
                // almost always do), so we need to clear the canvas so that
                // there is no ghosting.
                fig.context.clearRect(0, 0, fig.canvas.width, fig.canvas.height);
            }
            fig.context.drawImage(fig.imageObj, 0, 0);
        };

    this.imageObj.onunload = function() {
        fig.ws.close();
    }

    this.ws.onmessage = this._make_on_message_function(this);

    this.ondownload = ondownload;
}

mpl.figure.prototype._init_header = function() {
    var titlebar = $(
        '<div class="ui-dialog-titlebar ui-widget-header ui-corner-all ' +
        'ui-helper-clearfix"/>');
    var titletext = $(
        '<div class="ui-dialog-title" style="width: 100%; ' +
        'text-align: center; padding: 3px;"/>');
    titlebar.append(titletext)
    this.root.append(titlebar);
    this.header = titletext[0];
}



mpl.figure.prototype._canvas_extra_style = function(canvas_div) {

}


mpl.figure.prototype._root_extra_style = function(canvas_div) {

}

mpl.figure.prototype._init_canvas = function() {
    var fig = this;

    var canvas_div = $('<div/>');

    canvas_div.attr('style', 'position: relative; clear: both; outline: 0');

    function canvas_keyboard_event(event) {
        return fig.key_event(event, event['data']);
    }

    canvas_div.keydown('key_press', canvas_keyboard_event);
    canvas_div.keyup('key_release', canvas_keyboard_event);
    this.canvas_div = canvas_div
    this._canvas_extra_style(canvas_div)
    this.root.append(canvas_div);

    var canvas = $('<canvas/>');
    canvas.addClass('mpl-canvas');
    canvas.attr('style', "left: 0; top: 0; z-index: 0; outline: 0")

    this.canvas = canvas[0];
    this.context = canvas[0].getContext("2d");

    var backingStore = this.context.backingStorePixelRatio ||
	this.context.webkitBackingStorePixelRatio ||
	this.context.mozBackingStorePixelRatio ||
	this.context.msBackingStorePixelRatio ||
	this.context.oBackingStorePixelRatio ||
	this.context.backingStorePixelRatio || 1;

    mpl.ratio = (window.devicePixelRatio || 1) / backingStore;

    var rubberband = $('<canvas/>');
    rubberband.attr('style', "position: absolute; left: 0; top: 0; z-index: 1;")

    var pass_mouse_events = true;

    canvas_div.resizable({
        start: function(event, ui) {
            pass_mouse_events = false;
        },
        resize: function(event, ui) {
            fig.request_resize(ui.size.width, ui.size.height);
        },
        stop: function(event, ui) {
            pass_mouse_events = true;
            fig.request_resize(ui.size.width, ui.size.height);
        },
    });

    function mouse_event_fn(event) {
        if (pass_mouse_events)
            return fig.mouse_event(event, event['data']);
    }

    rubberband.mousedown('button_press', mouse_event_fn);
    rubberband.mouseup('button_release', mouse_event_fn);
    // Throttle sequential mouse events to 1 every 20ms.
    rubberband.mousemove('motion_notify', mouse_event_fn);

    rubberband.mouseenter('figure_enter', mouse_event_fn);
    rubberband.mouseleave('figure_leave', mouse_event_fn);

    canvas_div.on("wheel", function (event) {
        event = event.originalEvent;
        event['data'] = 'scroll'
        if (event.deltaY < 0) {
            event.step = 1;
        } else {
            event.step = -1;
        }
        mouse_event_fn(event);
    });

    canvas_div.append(canvas);
    canvas_div.append(rubberband);

    this.rubberband = rubberband;
    this.rubberband_canvas = rubberband[0];
    this.rubberband_context = rubberband[0].getContext("2d");
    this.rubberband_context.strokeStyle = "#000000";

    this._resize_canvas = function(width, height) {
        // Keep the size of the canvas, canvas container, and rubber band
        // canvas in synch.
        canvas_div.css('width', width)
        canvas_div.css('height', height)

        canvas.attr('width', width * mpl.ratio);
        canvas.attr('height', height * mpl.ratio);
        canvas.attr('style', 'width: ' + width + 'px; height: ' + height + 'px;');

        rubberband.attr('width', width);
        rubberband.attr('height', height);
    }

    // Set the figure to an initial 600x600px, this will subsequently be updated
    // upon first draw.
    this._resize_canvas(600, 600);

    // Disable right mouse context menu.
    $(this.rubberband_canvas).bind("contextmenu",function(e){
        return false;
    });

    function set_focus () {
        canvas.focus();
        canvas_div.focus();
    }

    window.setTimeout(set_focus, 100);
}

mpl.figure.prototype._init_toolbar = function() {
    var fig = this;

    var nav_element = $('<div/>');
    nav_element.attr('style', 'width: 100%');
    this.root.append(nav_element);

    // Define a callback function for later on.
    function toolbar_event(event) {
        return fig.toolbar_button_onclick(event['data']);
    }
    function toolbar_mouse_event(event) {
        return fig.toolbar_button_onmouseover(event['data']);
    }

    for(var toolbar_ind in mpl.toolbar_items) {
        var name = mpl.toolbar_items[toolbar_ind][0];
        var tooltip = mpl.toolbar_items[toolbar_ind][1];
        var image = mpl.toolbar_items[toolbar_ind][2];
        var method_name = mpl.toolbar_items[toolbar_ind][3];

        if (!name) {
            // put a spacer in here.
            continue;
        }
        var button = $('<button/>');
        button.addClass('ui-button ui-widget ui-state-default ui-corner-all ' +
                        'ui-button-icon-only');
        button.attr('role', 'button');
        button.attr('aria-disabled', 'false');
        button.click(method_name, toolbar_event);
        button.mouseover(tooltip, toolbar_mouse_event);

        var icon_img = $('<span/>');
        icon_img.addClass('ui-button-icon-primary ui-icon');
        icon_img.addClass(image);
        icon_img.addClass('ui-corner-all');

        var tooltip_span = $('<span/>');
        tooltip_span.addClass('ui-button-text');
        tooltip_span.html(tooltip);

        button.append(icon_img);
        button.append(tooltip_span);

        nav_element.append(button);
    }

    var fmt_picker_span = $('<span/>');

    var fmt_picker = $('<select/>');
    fmt_picker.addClass('mpl-toolbar-option ui-widget ui-widget-content');
    fmt_picker_span.append(fmt_picker);
    nav_element.append(fmt_picker_span);
    this.format_dropdown = fmt_picker[0];

    for (var ind in mpl.extensions) {
        var fmt = mpl.extensions[ind];
        var option = $(
            '<option/>', {selected: fmt === mpl.default_extension}).html(fmt);
        fmt_picker.append(option);
    }

    // Add hover states to the ui-buttons
    $( ".ui-button" ).hover(
        function() { $(this).addClass("ui-state-hover");},
        function() { $(this).removeClass("ui-state-hover");}
    );

    var status_bar = $('<span class="mpl-message"/>');
    nav_element.append(status_bar);
    this.message = status_bar[0];
}

mpl.figure.prototype.request_resize = function(x_pixels, y_pixels) {
    // Request matplotlib to resize the figure. Matplotlib will then trigger a resize in the client,
    // which will in turn request a refresh of the image.
    this.send_message('resize', {'width': x_pixels, 'height': y_pixels});
}

mpl.figure.prototype.send_message = function(type, properties) {
    properties['type'] = type;
    properties['figure_id'] = this.id;
    this.ws.send(JSON.stringify(properties));
}

mpl.figure.prototype.send_draw_message = function() {
    if (!this.waiting) {
        this.waiting = true;
        this.ws.send(JSON.stringify({type: "draw", figure_id: this.id}));
    }
}


mpl.figure.prototype.handle_save = function(fig, msg) {
    var format_dropdown = fig.format_dropdown;
    var format = format_dropdown.options[format_dropdown.selectedIndex].value;
    fig.ondownload(fig, format);
}


mpl.figure.prototype.handle_resize = function(fig, msg) {
    var size = msg['size'];
    if (size[0] != fig.canvas.width || size[1] != fig.canvas.height) {
        fig._resize_canvas(size[0], size[1]);
        fig.send_message("refresh", {});
    };
}

mpl.figure.prototype.handle_rubberband = function(fig, msg) {
    var x0 = msg['x0'] / mpl.ratio;
    var y0 = (fig.canvas.height - msg['y0']) / mpl.ratio;
    var x1 = msg['x1'] / mpl.ratio;
    var y1 = (fig.canvas.height - msg['y1']) / mpl.ratio;
    x0 = Math.floor(x0) + 0.5;
    y0 = Math.floor(y0) + 0.5;
    x1 = Math.floor(x1) + 0.5;
    y1 = Math.floor(y1) + 0.5;
    var min_x = Math.min(x0, x1);
    var min_y = Math.min(y0, y1);
    var width = Math.abs(x1 - x0);
    var height = Math.abs(y1 - y0);

    fig.rubberband_context.clearRect(
        0, 0, fig.canvas.width, fig.canvas.height);

    fig.rubberband_context.strokeRect(min_x, min_y, width, height);
}

mpl.figure.prototype.handle_figure_label = function(fig, msg) {
    // Updates the figure title.
    fig.header.textContent = msg['label'];
}

mpl.figure.prototype.handle_cursor = function(fig, msg) {
    var cursor = msg['cursor'];
    switch(cursor)
    {
    case 0:
        cursor = 'pointer';
        break;
    case 1:
        cursor = 'default';
        break;
    case 2:
        cursor = 'crosshair';
        break;
    case 3:
        cursor = 'move';
        break;
    }
    fig.rubberband_canvas.style.cursor = cursor;
}

mpl.figure.prototype.handle_message = function(fig, msg) {
    fig.message.textContent = msg['message'];
}

mpl.figure.prototype.handle_draw = function(fig, msg) {
    // Request the server to send over a new figure.
    fig.send_draw_message();
}

mpl.figure.prototype.handle_image_mode = function(fig, msg) {
    fig.image_mode = msg['mode'];
}

mpl.figure.prototype.updated_canvas_event = function() {
    // Called whenever the canvas gets updated.
    this.send_message("ack", {});
}

// A function to construct a web socket function for onmessage handling.
// Called in the figure constructor.
mpl.figure.prototype._make_on_message_function = function(fig) {
    return function socket_on_message(evt) {
        if (evt.data instanceof Blob) {
            /* FIXME: We get "Resource interpreted as Image but
             * transferred with MIME type text/plain:" errors on
             * Chrome.  But how to set the MIME type?  It doesn't seem
             * to be part of the websocket stream */
            evt.data.type = "image/png";

            /* Free the memory for the previous frames */
            if (fig.imageObj.src) {
                (window.URL || window.webkitURL).revokeObjectURL(
                    fig.imageObj.src);
            }

            fig.imageObj.src = (window.URL || window.webkitURL).createObjectURL(
                evt.data);
            fig.updated_canvas_event();
            fig.waiting = false;
            return;
        }
        else if (typeof evt.data === 'string' && evt.data.slice(0, 21) == "data:image/png;base64") {
            fig.imageObj.src = evt.data;
            fig.updated_canvas_event();
            fig.waiting = false;
            return;
        }

        var msg = JSON.parse(evt.data);
        var msg_type = msg['type'];

        // Call the  "handle_{type}" callback, which takes
        // the figure and JSON message as its only arguments.
        try {
            var callback = fig["handle_" + msg_type];
        } catch (e) {
            console.log("No handler for the '" + msg_type + "' message type: ", msg);
            return;
        }

        if (callback) {
            try {
                // console.log("Handling '" + msg_type + "' message: ", msg);
                callback(fig, msg);
            } catch (e) {
                console.log("Exception inside the 'handler_" + msg_type + "' callback:", e, e.stack, msg);
            }
        }
    };
}

// from http://stackoverflow.com/questions/1114465/getting-mouse-location-in-canvas
mpl.findpos = function(e) {
    //this section is from http://www.quirksmode.org/js/events_properties.html
    var targ;
    if (!e)
        e = window.event;
    if (e.target)
        targ = e.target;
    else if (e.srcElement)
        targ = e.srcElement;
    if (targ.nodeType == 3) // defeat Safari bug
        targ = targ.parentNode;

    // jQuery normalizes the pageX and pageY
    // pageX,Y are the mouse positions relative to the document
    // offset() returns the position of the element relative to the document
    var x = e.pageX - $(targ).offset().left;
    var y = e.pageY - $(targ).offset().top;

    return {"x": x, "y": y};
};

/*
 * return a copy of an object with only non-object keys
 * we need this to avoid circular references
 * http://stackoverflow.com/a/24161582/3208463
 */
function simpleKeys (original) {
  return Object.keys(original).reduce(function (obj, key) {
    if (typeof original[key] !== 'object')
        obj[key] = original[key]
    return obj;
  }, {});
}

mpl.figure.prototype.mouse_event = function(event, name) {
    var canvas_pos = mpl.findpos(event)

    if (name === 'button_press')
    {
        this.canvas.focus();
        this.canvas_div.focus();
    }

    var x = canvas_pos.x * mpl.ratio;
    var y = canvas_pos.y * mpl.ratio;

    this.send_message(name, {x: x, y: y, button: event.button,
                             step: event.step,
                             guiEvent: simpleKeys(event)});

    /* This prevents the web browser from automatically changing to
     * the text insertion cursor when the button is pressed.  We want
     * to control all of the cursor setting manually through the
     * 'cursor' event from matplotlib */
    event.preventDefault();
    return false;
}

mpl.figure.prototype._key_event_extra = function(event, name) {
    // Handle any extra behaviour associated with a key event
}

mpl.figure.prototype.key_event = function(event, name) {

    // Prevent repeat events
    if (name == 'key_press')
    {
        if (event.which === this._key)
            return;
        else
            this._key = event.which;
    }
    if (name == 'key_release')
        this._key = null;

    var value = '';
    if (event.ctrlKey && event.which != 17)
        value += "ctrl+";
    if (event.altKey && event.which != 18)
        value += "alt+";
    if (event.shiftKey && event.which != 16)
        value += "shift+";

    value += 'k';
    value += event.which.toString();

    this._key_event_extra(event, name);

    this.send_message(name, {key: value,
                             guiEvent: simpleKeys(event)});
    return false;
}

mpl.figure.prototype.toolbar_button_onclick = function(name) {
    if (name == 'download') {
        this.handle_save(this, null);
    } else {
        this.send_message("toolbar_button", {name: name});
    }
};

mpl.figure.prototype.toolbar_button_onmouseover = function(tooltip) {
    this.message.textContent = tooltip;
};
mpl.toolbar_items = [["Home", "Reset original view", "fa fa-home icon-home", "home"], ["Back", "Back to previous view", "fa fa-arrow-left icon-arrow-left", "back"], ["Forward", "Forward to next view", "fa fa-arrow-right icon-arrow-right", "forward"], ["", "", "", ""], ["Pan", "Pan axes with left mouse, zoom with right", "fa fa-arrows icon-move", "pan"], ["Zoom", "Zoom to rectangle", "fa fa-square-o icon-check-empty", "zoom"], ["", "", "", ""], ["Download", "Download plot", "fa fa-floppy-o icon-save", "download"]];

mpl.extensions = ["eps", "jpeg", "pdf", "png", "ps", "raw", "svg", "tif"];

mpl.default_extension = "png";var comm_websocket_adapter = function(comm) {
    // Create a "websocket"-like object which calls the given IPython comm
    // object with the appropriate methods. Currently this is a non binary
    // socket, so there is still some room for performance tuning.
    var ws = {};

    ws.close = function() {
        comm.close()
    };
    ws.send = function(m) {
        //console.log('sending', m);
        comm.send(m);
    };
    // Register the callback with on_msg.
    comm.on_msg(function(msg) {
        //console.log('receiving', msg['content']['data'], msg);
        // Pass the mpl event to the overridden (by mpl) onmessage function.
        ws.onmessage(msg['content']['data'])
    });
    return ws;
}

mpl.mpl_figure_comm = function(comm, msg) {
    // This is the function which gets called when the mpl process
    // starts-up an IPython Comm through the "matplotlib" channel.

    var id = msg.content.data.id;
    // Get hold of the div created by the display call when the Comm
    // socket was opened in Python.
    var element = $("#" + id);
    var ws_proxy = comm_websocket_adapter(comm)

    function ondownload(figure, format) {
        window.open(figure.imageObj.src);
    }

    var fig = new mpl.figure(id, ws_proxy,
                           ondownload,
                           element.get(0));

    // Call onopen now - mpl needs it, as it is assuming we've passed it a real
    // web socket which is closed, not our websocket->open comm proxy.
    ws_proxy.onopen();

    fig.parent_element = element.get(0);
    fig.cell_info = mpl.find_output_cell("<div id='" + id + "'></div>");
    if (!fig.cell_info) {
        console.error("Failed to find cell for figure", id, fig);
        return;
    }

    var output_index = fig.cell_info[2]
    var cell = fig.cell_info[0];

};

mpl.figure.prototype.handle_close = function(fig, msg) {
    var width = fig.canvas.width/mpl.ratio
    fig.root.unbind('remove')

    // Update the output cell to use the data from the current canvas.
    fig.push_to_output();
    var dataURL = fig.canvas.toDataURL();
    // Re-enable the keyboard manager in IPython - without this line, in FF,
    // the notebook keyboard shortcuts fail.
    IPython.keyboard_manager.enable()
    $(fig.parent_element).html('<img src="' + dataURL + '" width="' + width + '">');
    fig.close_ws(fig, msg);
}

mpl.figure.prototype.close_ws = function(fig, msg){
    fig.send_message('closing', msg);
    // fig.ws.close()
}

mpl.figure.prototype.push_to_output = function(remove_interactive) {
    // Turn the data on the canvas into data in the output cell.
    var width = this.canvas.width/mpl.ratio
    var dataURL = this.canvas.toDataURL();
    this.cell_info[1]['text/html'] = '<img src="' + dataURL + '" width="' + width + '">';
}

mpl.figure.prototype.updated_canvas_event = function() {
    // Tell IPython that the notebook contents must change.
    IPython.notebook.set_dirty(true);
    this.send_message("ack", {});
    var fig = this;
    // Wait a second, then push the new image to the DOM so
    // that it is saved nicely (might be nice to debounce this).
    setTimeout(function () { fig.push_to_output() }, 1000);
}

mpl.figure.prototype._init_toolbar = function() {
    var fig = this;

    var nav_element = $('<div/>');
    nav_element.attr('style', 'width: 100%');
    this.root.append(nav_element);

    // Define a callback function for later on.
    function toolbar_event(event) {
        return fig.toolbar_button_onclick(event['data']);
    }
    function toolbar_mouse_event(event) {
        return fig.toolbar_button_onmouseover(event['data']);
    }

    for(var toolbar_ind in mpl.toolbar_items){
        var name = mpl.toolbar_items[toolbar_ind][0];
        var tooltip = mpl.toolbar_items[toolbar_ind][1];
        var image = mpl.toolbar_items[toolbar_ind][2];
        var method_name = mpl.toolbar_items[toolbar_ind][3];

        if (!name) { continue; };

        var button = $('<button class="btn btn-default" href="#" title="' + name + '"><i class="fa ' + image + ' fa-lg"></i></button>');
        button.click(method_name, toolbar_event);
        button.mouseover(tooltip, toolbar_mouse_event);
        nav_element.append(button);
    }

    // Add the status bar.
    var status_bar = $('<span class="mpl-message" style="text-align:right; float: right;"/>');
    nav_element.append(status_bar);
    this.message = status_bar[0];

    // Add the close button to the window.
    var buttongrp = $('<div class="btn-group inline pull-right"></div>');
    var button = $('<button class="btn btn-mini btn-primary" href="#" title="Stop Interaction"><i class="fa fa-power-off icon-remove icon-large"></i></button>');
    button.click(function (evt) { fig.handle_close(fig, {}); } );
    button.mouseover('Stop Interaction', toolbar_mouse_event);
    buttongrp.append(button);
    var titlebar = this.root.find($('.ui-dialog-titlebar'));
    titlebar.prepend(buttongrp);
}

mpl.figure.prototype._root_extra_style = function(el){
    var fig = this
    el.on("remove", function(){
	fig.close_ws(fig, {});
    });
}

mpl.figure.prototype._canvas_extra_style = function(el){
    // this is important to make the div 'focusable
    el.attr('tabindex', 0)
    // reach out to IPython and tell the keyboard manager to turn it's self
    // off when our div gets focus

    // location in version 3
    if (IPython.notebook.keyboard_manager) {
        IPython.notebook.keyboard_manager.register_events(el);
    }
    else {
        // location in version 2
        IPython.keyboard_manager.register_events(el);
    }

}

mpl.figure.prototype._key_event_extra = function(event, name) {
    var manager = IPython.notebook.keyboard_manager;
    if (!manager)
        manager = IPython.keyboard_manager;

    // Check for shift+enter
    if (event.shiftKey && event.which == 13) {
        this.canvas_div.blur();
        event.shiftKey = false;
        // Send a "J" for go to next cell
        event.which = 74;
        event.keyCode = 74;
        manager.command_mode();
        manager.handle_keydown(event);
    }
}

mpl.figure.prototype.handle_save = function(fig, msg) {
    fig.ondownload(fig, null);
}


mpl.find_output_cell = function(html_output) {
    // Return the cell and output element which can be found *uniquely* in the notebook.
    // Note - this is a bit hacky, but it is done because the "notebook_saving.Notebook"
    // IPython event is triggered only after the cells have been serialised, which for
    // our purposes (turning an active figure into a static one), is too late.
    var cells = IPython.notebook.get_cells();
    var ncells = cells.length;
    for (var i=0; i<ncells; i++) {
        var cell = cells[i];
        if (cell.cell_type === 'code'){
            for (var j=0; j<cell.output_area.outputs.length; j++) {
                var data = cell.output_area.outputs[j];
                if (data.data) {
                    // IPython >= 3 moved mimebundle to data attribute of output
                    data = data.data;
                }
                if (data['text/html'] == html_output) {
                    return [cell, data, j];
                }
            }
        }
    }
}

// Register the function which deals with the matplotlib target/channel.
// The kernel may be null if the page has been refreshed.
if (IPython.notebook.kernel != null) {
    IPython.notebook.kernel.comm_manager.register_target('matplotlib', mpl.mpl_figure_comm);
}

</script>
</div>

</div>

<div class="output_area">

    <div class="prompt"></div>



<div class="output_html rendered_html output_subarea ">
<img src="data:image/png;base64,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" width="640">
</div>

</div>

</div>
</div>

</div>
<div class="cell border-box-sizing code_cell rendered">
<div class="input">
<div class="prompt input_prompt">In&nbsp;[5]:</div>
<div class="inner_cell">
    <div class="input_area">
<div class=" highlight hl-ipython3"><pre><span></span><span class="c1"># Stokes V frames</span>
<span class="n">fig3</span><span class="o">=</span><span class="n">figure</span><span class="p">(</span><span class="mi">3</span><span class="p">)</span>
<span class="n">plt</span><span class="o">.</span><span class="n">imshow</span><span class="p">(</span><span class="n">image</span><span class="p">[</span><span class="mi">1</span><span class="p">][</span><span class="mi">0</span><span class="p">],</span> <span class="n">cmap</span><span class="o">=</span><span class="s1">&#39;hot&#39;</span><span class="p">)</span>
<span class="n">plt</span><span class="o">.</span><span class="n">title</span><span class="p">(</span><span class="s1">&#39;Stokes V of first frame&#39;</span><span class="p">)</span>
<span class="n">plt</span><span class="o">.</span><span class="n">colorbar</span><span class="p">()</span>
<span class="n">fig3</span><span class="o">.</span><span class="n">savefig</span><span class="p">(</span><span class="s1">&#39;stokesV_frame1.png&#39;</span><span class="p">)</span>
</pre></div>

    </div>
</div>
</div>

<div class="output_wrapper">
<div class="output">


<div class="output_area">

    <div class="prompt"></div>





<div id="f5db3237-c9cd-42d9-bcf1-8bb2a83a5ba2"></div>
<div class="output_subarea output_javascript ">
<script type="text/javascript">
var element = $('#f5db3237-c9cd-42d9-bcf1-8bb2a83a5ba2');
/* Put everything inside the global mpl namespace */
window.mpl = {};


mpl.get_websocket_type = function() {
    if (typeof(WebSocket) !== 'undefined') {
        return WebSocket;
    } else if (typeof(MozWebSocket) !== 'undefined') {
        return MozWebSocket;
    } else {
        alert('Your browser does not have WebSocket support. ' +
              'Please try Chrome, Safari or Firefox ≥ 6. ' +
              'Firefox 4 and 5 are also supported but you ' +
              'have to enable WebSockets in about:config.');
    };
}

mpl.figure = function(figure_id, websocket, ondownload, parent_element) {
    this.id = figure_id;

    this.ws = websocket;

    this.supports_binary = (this.ws.binaryType != undefined);

    if (!this.supports_binary) {
        var warnings = document.getElementById("mpl-warnings");
        if (warnings) {
            warnings.style.display = 'block';
            warnings.textContent = (
                "This browser does not support binary websocket messages. " +
                    "Performance may be slow.");
        }
    }

    this.imageObj = new Image();

    this.context = undefined;
    this.message = undefined;
    this.canvas = undefined;
    this.rubberband_canvas = undefined;
    this.rubberband_context = undefined;
    this.format_dropdown = undefined;

    this.image_mode = 'full';

    this.root = $('<div/>');
    this._root_extra_style(this.root)
    this.root.attr('style', 'display: inline-block');

    $(parent_element).append(this.root);

    this._init_header(this);
    this._init_canvas(this);
    this._init_toolbar(this);

    var fig = this;

    this.waiting = false;

    this.ws.onopen =  function () {
            fig.send_message("supports_binary", {value: fig.supports_binary});
            fig.send_message("send_image_mode", {});
            if (mpl.ratio != 1) {
                fig.send_message("set_dpi_ratio", {'dpi_ratio': mpl.ratio});
            }
            fig.send_message("refresh", {});
        }

    this.imageObj.onload = function() {
            if (fig.image_mode == 'full') {
                // Full images could contain transparency (where diff images
                // almost always do), so we need to clear the canvas so that
                // there is no ghosting.
                fig.context.clearRect(0, 0, fig.canvas.width, fig.canvas.height);
            }
            fig.context.drawImage(fig.imageObj, 0, 0);
        };

    this.imageObj.onunload = function() {
        fig.ws.close();
    }

    this.ws.onmessage = this._make_on_message_function(this);

    this.ondownload = ondownload;
}

mpl.figure.prototype._init_header = function() {
    var titlebar = $(
        '<div class="ui-dialog-titlebar ui-widget-header ui-corner-all ' +
        'ui-helper-clearfix"/>');
    var titletext = $(
        '<div class="ui-dialog-title" style="width: 100%; ' +
        'text-align: center; padding: 3px;"/>');
    titlebar.append(titletext)
    this.root.append(titlebar);
    this.header = titletext[0];
}



mpl.figure.prototype._canvas_extra_style = function(canvas_div) {

}


mpl.figure.prototype._root_extra_style = function(canvas_div) {

}

mpl.figure.prototype._init_canvas = function() {
    var fig = this;

    var canvas_div = $('<div/>');

    canvas_div.attr('style', 'position: relative; clear: both; outline: 0');

    function canvas_keyboard_event(event) {
        return fig.key_event(event, event['data']);
    }

    canvas_div.keydown('key_press', canvas_keyboard_event);
    canvas_div.keyup('key_release', canvas_keyboard_event);
    this.canvas_div = canvas_div
    this._canvas_extra_style(canvas_div)
    this.root.append(canvas_div);

    var canvas = $('<canvas/>');
    canvas.addClass('mpl-canvas');
    canvas.attr('style', "left: 0; top: 0; z-index: 0; outline: 0")

    this.canvas = canvas[0];
    this.context = canvas[0].getContext("2d");

    var backingStore = this.context.backingStorePixelRatio ||
	this.context.webkitBackingStorePixelRatio ||
	this.context.mozBackingStorePixelRatio ||
	this.context.msBackingStorePixelRatio ||
	this.context.oBackingStorePixelRatio ||
	this.context.backingStorePixelRatio || 1;

    mpl.ratio = (window.devicePixelRatio || 1) / backingStore;

    var rubberband = $('<canvas/>');
    rubberband.attr('style', "position: absolute; left: 0; top: 0; z-index: 1;")

    var pass_mouse_events = true;

    canvas_div.resizable({
        start: function(event, ui) {
            pass_mouse_events = false;
        },
        resize: function(event, ui) {
            fig.request_resize(ui.size.width, ui.size.height);
        },
        stop: function(event, ui) {
            pass_mouse_events = true;
            fig.request_resize(ui.size.width, ui.size.height);
        },
    });

    function mouse_event_fn(event) {
        if (pass_mouse_events)
            return fig.mouse_event(event, event['data']);
    }

    rubberband.mousedown('button_press', mouse_event_fn);
    rubberband.mouseup('button_release', mouse_event_fn);
    // Throttle sequential mouse events to 1 every 20ms.
    rubberband.mousemove('motion_notify', mouse_event_fn);

    rubberband.mouseenter('figure_enter', mouse_event_fn);
    rubberband.mouseleave('figure_leave', mouse_event_fn);

    canvas_div.on("wheel", function (event) {
        event = event.originalEvent;
        event['data'] = 'scroll'
        if (event.deltaY < 0) {
            event.step = 1;
        } else {
            event.step = -1;
        }
        mouse_event_fn(event);
    });

    canvas_div.append(canvas);
    canvas_div.append(rubberband);

    this.rubberband = rubberband;
    this.rubberband_canvas = rubberband[0];
    this.rubberband_context = rubberband[0].getContext("2d");
    this.rubberband_context.strokeStyle = "#000000";

    this._resize_canvas = function(width, height) {
        // Keep the size of the canvas, canvas container, and rubber band
        // canvas in synch.
        canvas_div.css('width', width)
        canvas_div.css('height', height)

        canvas.attr('width', width * mpl.ratio);
        canvas.attr('height', height * mpl.ratio);
        canvas.attr('style', 'width: ' + width + 'px; height: ' + height + 'px;');

        rubberband.attr('width', width);
        rubberband.attr('height', height);
    }

    // Set the figure to an initial 600x600px, this will subsequently be updated
    // upon first draw.
    this._resize_canvas(600, 600);

    // Disable right mouse context menu.
    $(this.rubberband_canvas).bind("contextmenu",function(e){
        return false;
    });

    function set_focus () {
        canvas.focus();
        canvas_div.focus();
    }

    window.setTimeout(set_focus, 100);
}

mpl.figure.prototype._init_toolbar = function() {
    var fig = this;

    var nav_element = $('<div/>');
    nav_element.attr('style', 'width: 100%');
    this.root.append(nav_element);

    // Define a callback function for later on.
    function toolbar_event(event) {
        return fig.toolbar_button_onclick(event['data']);
    }
    function toolbar_mouse_event(event) {
        return fig.toolbar_button_onmouseover(event['data']);
    }

    for(var toolbar_ind in mpl.toolbar_items) {
        var name = mpl.toolbar_items[toolbar_ind][0];
        var tooltip = mpl.toolbar_items[toolbar_ind][1];
        var image = mpl.toolbar_items[toolbar_ind][2];
        var method_name = mpl.toolbar_items[toolbar_ind][3];

        if (!name) {
            // put a spacer in here.
            continue;
        }
        var button = $('<button/>');
        button.addClass('ui-button ui-widget ui-state-default ui-corner-all ' +
                        'ui-button-icon-only');
        button.attr('role', 'button');
        button.attr('aria-disabled', 'false');
        button.click(method_name, toolbar_event);
        button.mouseover(tooltip, toolbar_mouse_event);

        var icon_img = $('<span/>');
        icon_img.addClass('ui-button-icon-primary ui-icon');
        icon_img.addClass(image);
        icon_img.addClass('ui-corner-all');

        var tooltip_span = $('<span/>');
        tooltip_span.addClass('ui-button-text');
        tooltip_span.html(tooltip);

        button.append(icon_img);
        button.append(tooltip_span);

        nav_element.append(button);
    }

    var fmt_picker_span = $('<span/>');

    var fmt_picker = $('<select/>');
    fmt_picker.addClass('mpl-toolbar-option ui-widget ui-widget-content');
    fmt_picker_span.append(fmt_picker);
    nav_element.append(fmt_picker_span);
    this.format_dropdown = fmt_picker[0];

    for (var ind in mpl.extensions) {
        var fmt = mpl.extensions[ind];
        var option = $(
            '<option/>', {selected: fmt === mpl.default_extension}).html(fmt);
        fmt_picker.append(option);
    }

    // Add hover states to the ui-buttons
    $( ".ui-button" ).hover(
        function() { $(this).addClass("ui-state-hover");},
        function() { $(this).removeClass("ui-state-hover");}
    );

    var status_bar = $('<span class="mpl-message"/>');
    nav_element.append(status_bar);
    this.message = status_bar[0];
}

mpl.figure.prototype.request_resize = function(x_pixels, y_pixels) {
    // Request matplotlib to resize the figure. Matplotlib will then trigger a resize in the client,
    // which will in turn request a refresh of the image.
    this.send_message('resize', {'width': x_pixels, 'height': y_pixels});
}

mpl.figure.prototype.send_message = function(type, properties) {
    properties['type'] = type;
    properties['figure_id'] = this.id;
    this.ws.send(JSON.stringify(properties));
}

mpl.figure.prototype.send_draw_message = function() {
    if (!this.waiting) {
        this.waiting = true;
        this.ws.send(JSON.stringify({type: "draw", figure_id: this.id}));
    }
}


mpl.figure.prototype.handle_save = function(fig, msg) {
    var format_dropdown = fig.format_dropdown;
    var format = format_dropdown.options[format_dropdown.selectedIndex].value;
    fig.ondownload(fig, format);
}


mpl.figure.prototype.handle_resize = function(fig, msg) {
    var size = msg['size'];
    if (size[0] != fig.canvas.width || size[1] != fig.canvas.height) {
        fig._resize_canvas(size[0], size[1]);
        fig.send_message("refresh", {});
    };
}

mpl.figure.prototype.handle_rubberband = function(fig, msg) {
    var x0 = msg['x0'] / mpl.ratio;
    var y0 = (fig.canvas.height - msg['y0']) / mpl.ratio;
    var x1 = msg['x1'] / mpl.ratio;
    var y1 = (fig.canvas.height - msg['y1']) / mpl.ratio;
    x0 = Math.floor(x0) + 0.5;
    y0 = Math.floor(y0) + 0.5;
    x1 = Math.floor(x1) + 0.5;
    y1 = Math.floor(y1) + 0.5;
    var min_x = Math.min(x0, x1);
    var min_y = Math.min(y0, y1);
    var width = Math.abs(x1 - x0);
    var height = Math.abs(y1 - y0);

    fig.rubberband_context.clearRect(
        0, 0, fig.canvas.width, fig.canvas.height);

    fig.rubberband_context.strokeRect(min_x, min_y, width, height);
}

mpl.figure.prototype.handle_figure_label = function(fig, msg) {
    // Updates the figure title.
    fig.header.textContent = msg['label'];
}

mpl.figure.prototype.handle_cursor = function(fig, msg) {
    var cursor = msg['cursor'];
    switch(cursor)
    {
    case 0:
        cursor = 'pointer';
        break;
    case 1:
        cursor = 'default';
        break;
    case 2:
        cursor = 'crosshair';
        break;
    case 3:
        cursor = 'move';
        break;
    }
    fig.rubberband_canvas.style.cursor = cursor;
}

mpl.figure.prototype.handle_message = function(fig, msg) {
    fig.message.textContent = msg['message'];
}

mpl.figure.prototype.handle_draw = function(fig, msg) {
    // Request the server to send over a new figure.
    fig.send_draw_message();
}

mpl.figure.prototype.handle_image_mode = function(fig, msg) {
    fig.image_mode = msg['mode'];
}

mpl.figure.prototype.updated_canvas_event = function() {
    // Called whenever the canvas gets updated.
    this.send_message("ack", {});
}

// A function to construct a web socket function for onmessage handling.
// Called in the figure constructor.
mpl.figure.prototype._make_on_message_function = function(fig) {
    return function socket_on_message(evt) {
        if (evt.data instanceof Blob) {
            /* FIXME: We get "Resource interpreted as Image but
             * transferred with MIME type text/plain:" errors on
             * Chrome.  But how to set the MIME type?  It doesn't seem
             * to be part of the websocket stream */
            evt.data.type = "image/png";

            /* Free the memory for the previous frames */
            if (fig.imageObj.src) {
                (window.URL || window.webkitURL).revokeObjectURL(
                    fig.imageObj.src);
            }

            fig.imageObj.src = (window.URL || window.webkitURL).createObjectURL(
                evt.data);
            fig.updated_canvas_event();
            fig.waiting = false;
            return;
        }
        else if (typeof evt.data === 'string' && evt.data.slice(0, 21) == "data:image/png;base64") {
            fig.imageObj.src = evt.data;
            fig.updated_canvas_event();
            fig.waiting = false;
            return;
        }

        var msg = JSON.parse(evt.data);
        var msg_type = msg['type'];

        // Call the  "handle_{type}" callback, which takes
        // the figure and JSON message as its only arguments.
        try {
            var callback = fig["handle_" + msg_type];
        } catch (e) {
            console.log("No handler for the '" + msg_type + "' message type: ", msg);
            return;
        }

        if (callback) {
            try {
                // console.log("Handling '" + msg_type + "' message: ", msg);
                callback(fig, msg);
            } catch (e) {
                console.log("Exception inside the 'handler_" + msg_type + "' callback:", e, e.stack, msg);
            }
        }
    };
}

// from http://stackoverflow.com/questions/1114465/getting-mouse-location-in-canvas
mpl.findpos = function(e) {
    //this section is from http://www.quirksmode.org/js/events_properties.html
    var targ;
    if (!e)
        e = window.event;
    if (e.target)
        targ = e.target;
    else if (e.srcElement)
        targ = e.srcElement;
    if (targ.nodeType == 3) // defeat Safari bug
        targ = targ.parentNode;

    // jQuery normalizes the pageX and pageY
    // pageX,Y are the mouse positions relative to the document
    // offset() returns the position of the element relative to the document
    var x = e.pageX - $(targ).offset().left;
    var y = e.pageY - $(targ).offset().top;

    return {"x": x, "y": y};
};

/*
 * return a copy of an object with only non-object keys
 * we need this to avoid circular references
 * http://stackoverflow.com/a/24161582/3208463
 */
function simpleKeys (original) {
  return Object.keys(original).reduce(function (obj, key) {
    if (typeof original[key] !== 'object')
        obj[key] = original[key]
    return obj;
  }, {});
}

mpl.figure.prototype.mouse_event = function(event, name) {
    var canvas_pos = mpl.findpos(event)

    if (name === 'button_press')
    {
        this.canvas.focus();
        this.canvas_div.focus();
    }

    var x = canvas_pos.x * mpl.ratio;
    var y = canvas_pos.y * mpl.ratio;

    this.send_message(name, {x: x, y: y, button: event.button,
                             step: event.step,
                             guiEvent: simpleKeys(event)});

    /* This prevents the web browser from automatically changing to
     * the text insertion cursor when the button is pressed.  We want
     * to control all of the cursor setting manually through the
     * 'cursor' event from matplotlib */
    event.preventDefault();
    return false;
}

mpl.figure.prototype._key_event_extra = function(event, name) {
    // Handle any extra behaviour associated with a key event
}

mpl.figure.prototype.key_event = function(event, name) {

    // Prevent repeat events
    if (name == 'key_press')
    {
        if (event.which === this._key)
            return;
        else
            this._key = event.which;
    }
    if (name == 'key_release')
        this._key = null;

    var value = '';
    if (event.ctrlKey && event.which != 17)
        value += "ctrl+";
    if (event.altKey && event.which != 18)
        value += "alt+";
    if (event.shiftKey && event.which != 16)
        value += "shift+";

    value += 'k';
    value += event.which.toString();

    this._key_event_extra(event, name);

    this.send_message(name, {key: value,
                             guiEvent: simpleKeys(event)});
    return false;
}

mpl.figure.prototype.toolbar_button_onclick = function(name) {
    if (name == 'download') {
        this.handle_save(this, null);
    } else {
        this.send_message("toolbar_button", {name: name});
    }
};

mpl.figure.prototype.toolbar_button_onmouseover = function(tooltip) {
    this.message.textContent = tooltip;
};
mpl.toolbar_items = [["Home", "Reset original view", "fa fa-home icon-home", "home"], ["Back", "Back to previous view", "fa fa-arrow-left icon-arrow-left", "back"], ["Forward", "Forward to next view", "fa fa-arrow-right icon-arrow-right", "forward"], ["", "", "", ""], ["Pan", "Pan axes with left mouse, zoom with right", "fa fa-arrows icon-move", "pan"], ["Zoom", "Zoom to rectangle", "fa fa-square-o icon-check-empty", "zoom"], ["", "", "", ""], ["Download", "Download plot", "fa fa-floppy-o icon-save", "download"]];

mpl.extensions = ["eps", "jpeg", "pdf", "png", "ps", "raw", "svg", "tif"];

mpl.default_extension = "png";var comm_websocket_adapter = function(comm) {
    // Create a "websocket"-like object which calls the given IPython comm
    // object with the appropriate methods. Currently this is a non binary
    // socket, so there is still some room for performance tuning.
    var ws = {};

    ws.close = function() {
        comm.close()
    };
    ws.send = function(m) {
        //console.log('sending', m);
        comm.send(m);
    };
    // Register the callback with on_msg.
    comm.on_msg(function(msg) {
        //console.log('receiving', msg['content']['data'], msg);
        // Pass the mpl event to the overridden (by mpl) onmessage function.
        ws.onmessage(msg['content']['data'])
    });
    return ws;
}

mpl.mpl_figure_comm = function(comm, msg) {
    // This is the function which gets called when the mpl process
    // starts-up an IPython Comm through the "matplotlib" channel.

    var id = msg.content.data.id;
    // Get hold of the div created by the display call when the Comm
    // socket was opened in Python.
    var element = $("#" + id);
    var ws_proxy = comm_websocket_adapter(comm)

    function ondownload(figure, format) {
        window.open(figure.imageObj.src);
    }

    var fig = new mpl.figure(id, ws_proxy,
                           ondownload,
                           element.get(0));

    // Call onopen now - mpl needs it, as it is assuming we've passed it a real
    // web socket which is closed, not our websocket->open comm proxy.
    ws_proxy.onopen();

    fig.parent_element = element.get(0);
    fig.cell_info = mpl.find_output_cell("<div id='" + id + "'></div>");
    if (!fig.cell_info) {
        console.error("Failed to find cell for figure", id, fig);
        return;
    }

    var output_index = fig.cell_info[2]
    var cell = fig.cell_info[0];

};

mpl.figure.prototype.handle_close = function(fig, msg) {
    var width = fig.canvas.width/mpl.ratio
    fig.root.unbind('remove')

    // Update the output cell to use the data from the current canvas.
    fig.push_to_output();
    var dataURL = fig.canvas.toDataURL();
    // Re-enable the keyboard manager in IPython - without this line, in FF,
    // the notebook keyboard shortcuts fail.
    IPython.keyboard_manager.enable()
    $(fig.parent_element).html('<img src="' + dataURL + '" width="' + width + '">');
    fig.close_ws(fig, msg);
}

mpl.figure.prototype.close_ws = function(fig, msg){
    fig.send_message('closing', msg);
    // fig.ws.close()
}

mpl.figure.prototype.push_to_output = function(remove_interactive) {
    // Turn the data on the canvas into data in the output cell.
    var width = this.canvas.width/mpl.ratio
    var dataURL = this.canvas.toDataURL();
    this.cell_info[1]['text/html'] = '<img src="' + dataURL + '" width="' + width + '">';
}

mpl.figure.prototype.updated_canvas_event = function() {
    // Tell IPython that the notebook contents must change.
    IPython.notebook.set_dirty(true);
    this.send_message("ack", {});
    var fig = this;
    // Wait a second, then push the new image to the DOM so
    // that it is saved nicely (might be nice to debounce this).
    setTimeout(function () { fig.push_to_output() }, 1000);
}

mpl.figure.prototype._init_toolbar = function() {
    var fig = this;

    var nav_element = $('<div/>');
    nav_element.attr('style', 'width: 100%');
    this.root.append(nav_element);

    // Define a callback function for later on.
    function toolbar_event(event) {
        return fig.toolbar_button_onclick(event['data']);
    }
    function toolbar_mouse_event(event) {
        return fig.toolbar_button_onmouseover(event['data']);
    }

    for(var toolbar_ind in mpl.toolbar_items){
        var name = mpl.toolbar_items[toolbar_ind][0];
        var tooltip = mpl.toolbar_items[toolbar_ind][1];
        var image = mpl.toolbar_items[toolbar_ind][2];
        var method_name = mpl.toolbar_items[toolbar_ind][3];

        if (!name) { continue; };

        var button = $('<button class="btn btn-default" href="#" title="' + name + '"><i class="fa ' + image + ' fa-lg"></i></button>');
        button.click(method_name, toolbar_event);
        button.mouseover(tooltip, toolbar_mouse_event);
        nav_element.append(button);
    }

    // Add the status bar.
    var status_bar = $('<span class="mpl-message" style="text-align:right; float: right;"/>');
    nav_element.append(status_bar);
    this.message = status_bar[0];

    // Add the close button to the window.
    var buttongrp = $('<div class="btn-group inline pull-right"></div>');
    var button = $('<button class="btn btn-mini btn-primary" href="#" title="Stop Interaction"><i class="fa fa-power-off icon-remove icon-large"></i></button>');
    button.click(function (evt) { fig.handle_close(fig, {}); } );
    button.mouseover('Stop Interaction', toolbar_mouse_event);
    buttongrp.append(button);
    var titlebar = this.root.find($('.ui-dialog-titlebar'));
    titlebar.prepend(buttongrp);
}

mpl.figure.prototype._root_extra_style = function(el){
    var fig = this
    el.on("remove", function(){
	fig.close_ws(fig, {});
    });
}

mpl.figure.prototype._canvas_extra_style = function(el){
    // this is important to make the div 'focusable
    el.attr('tabindex', 0)
    // reach out to IPython and tell the keyboard manager to turn it's self
    // off when our div gets focus

    // location in version 3
    if (IPython.notebook.keyboard_manager) {
        IPython.notebook.keyboard_manager.register_events(el);
    }
    else {
        // location in version 2
        IPython.keyboard_manager.register_events(el);
    }

}

mpl.figure.prototype._key_event_extra = function(event, name) {
    var manager = IPython.notebook.keyboard_manager;
    if (!manager)
        manager = IPython.keyboard_manager;

    // Check for shift+enter
    if (event.shiftKey && event.which == 13) {
        this.canvas_div.blur();
        event.shiftKey = false;
        // Send a "J" for go to next cell
        event.which = 74;
        event.keyCode = 74;
        manager.command_mode();
        manager.handle_keydown(event);
    }
}

mpl.figure.prototype.handle_save = function(fig, msg) {
    fig.ondownload(fig, null);
}


mpl.find_output_cell = function(html_output) {
    // Return the cell and output element which can be found *uniquely* in the notebook.
    // Note - this is a bit hacky, but it is done because the "notebook_saving.Notebook"
    // IPython event is triggered only after the cells have been serialised, which for
    // our purposes (turning an active figure into a static one), is too late.
    var cells = IPython.notebook.get_cells();
    var ncells = cells.length;
    for (var i=0; i<ncells; i++) {
        var cell = cells[i];
        if (cell.cell_type === 'code'){
            for (var j=0; j<cell.output_area.outputs.length; j++) {
                var data = cell.output_area.outputs[j];
                if (data.data) {
                    // IPython >= 3 moved mimebundle to data attribute of output
                    data = data.data;
                }
                if (data['text/html'] == html_output) {
                    return [cell, data, j];
                }
            }
        }
    }
}

// Register the function which deals with the matplotlib target/channel.
// The kernel may be null if the page has been refreshed.
if (IPython.notebook.kernel != null) {
    IPython.notebook.kernel.comm_manager.register_target('matplotlib', mpl.mpl_figure_comm);
}

</script>
</div>

</div>

<div class="output_area">

    <div class="prompt"></div>



<div class="output_html rendered_html output_subarea ">
<img src="data:image/png;base64,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" width="640">
</div>

</div>

</div>
</div>

</div>
<div class="cell border-box-sizing code_cell rendered">
<div class="input">
<div class="prompt input_prompt">In&nbsp;[34]:</div>
<div class="inner_cell">
    <div class="input_area">
<div class=" highlight hl-ipython3"><pre><span></span><span class="c1">#Noise parameter calculation</span>
<span class="c1">#std at the brightest pixel at various freq and RMS of each frame</span>
<span class="n">rms</span><span class="o">=</span><span class="n">np</span><span class="o">.</span><span class="n">zeros</span><span class="p">(</span><span class="mi">15</span><span class="p">)</span>
<span class="nb">print</span><span class="p">(</span><span class="s1">&#39;Dimension of the Stokes V&#39;</span><span class="p">,</span><span class="n">np</span><span class="o">.</span><span class="n">shape</span><span class="p">(</span><span class="n">data</span><span class="p">))</span>
<span class="n">std_freq</span><span class="o">=</span><span class="n">np</span><span class="o">.</span><span class="n">zeros</span><span class="p">(</span><span class="mi">15</span><span class="p">)</span>
<span class="k">for</span> <span class="n">k</span> <span class="ow">in</span> <span class="nb">range</span> <span class="p">(</span><span class="mi">15</span><span class="p">):</span>
    <span class="n">data</span><span class="o">=</span><span class="n">np</span><span class="o">.</span><span class="n">zeros</span><span class="p">((</span><span class="mi">1024</span><span class="p">,</span><span class="mi">1024</span><span class="p">))</span>
    <span class="n">row_std</span><span class="o">=</span><span class="n">np</span><span class="o">.</span><span class="n">zeros</span><span class="p">(</span><span class="mi">1024</span><span class="p">)</span>
    <span class="n">data</span><span class="o">=</span><span class="n">image</span><span class="p">[</span><span class="mi">1</span><span class="p">][</span><span class="n">k</span><span class="p">]</span>      <span class="c1">#kth frame of Stokes V</span>
    <span class="k">for</span> <span class="n">i</span> <span class="ow">in</span> <span class="nb">range</span><span class="p">(</span><span class="mi">1024</span><span class="p">):</span>
        <span class="k">for</span> <span class="n">j</span> <span class="ow">in</span> <span class="nb">range</span><span class="p">(</span><span class="mi">1024</span><span class="p">):</span>
            
            <span class="n">rms</span><span class="p">[</span><span class="n">k</span><span class="p">]</span><span class="o">+=</span> <span class="p">(</span><span class="n">data</span><span class="p">[</span><span class="n">i</span><span class="p">][</span><span class="n">j</span><span class="p">]</span> <span class="p">)</span><span class="o">**</span><span class="mi">2</span>
    <span class="n">rms</span><span class="p">[</span><span class="n">k</span><span class="p">]</span><span class="o">=</span><span class="n">rms</span><span class="p">[</span><span class="n">k</span><span class="p">]</span><span class="o">/</span><span class="p">(</span><span class="mi">1024</span><span class="o">**</span><span class="mi">2</span><span class="p">)</span>
    <span class="n">rms</span><span class="p">[</span><span class="n">k</span><span class="p">]</span><span class="o">=</span><span class="n">math</span><span class="o">.</span><span class="n">sqrt</span><span class="p">(</span><span class="n">rms</span><span class="p">[</span><span class="n">k</span><span class="p">])</span>
    <span class="n">row_std</span><span class="o">=</span><span class="n">np</span><span class="o">.</span><span class="n">std</span><span class="p">(</span><span class="n">data</span><span class="p">,</span> <span class="n">axis</span><span class="o">=</span><span class="mi">1</span><span class="p">)</span>
    <span class="n">std_freq</span><span class="p">[</span><span class="n">k</span><span class="p">]</span><span class="o">=</span><span class="n">row_std</span><span class="p">[</span><span class="mi">153</span><span class="p">]</span>    <span class="c1">#at the brightest pixel (row-wise std)</span>
    
<span class="nb">print</span><span class="p">(</span><span class="s1">&#39;RMS of each frame:&#39;</span><span class="p">,</span><span class="n">rms</span><span class="p">)</span>

<span class="c1">#Calculation of std. deviation</span>
<span class="n">row_wise_std</span><span class="o">=</span><span class="n">np</span><span class="o">.</span><span class="n">std</span><span class="p">(</span><span class="n">data</span><span class="p">,</span><span class="n">axis</span><span class="o">=</span><span class="mi">1</span><span class="p">)</span>
<span class="nb">print</span><span class="p">(</span><span class="n">np</span><span class="o">.</span><span class="n">shape</span><span class="p">(</span><span class="n">row_wise_std</span><span class="p">))</span>

<span class="nb">print</span><span class="p">(</span><span class="n">row_wise_std</span><span class="p">[</span><span class="mi">153</span><span class="p">])</span>

<span class="n">fig7</span><span class="o">=</span><span class="n">figure</span><span class="p">(</span><span class="mi">7</span><span class="p">)</span>
<span class="n">plt</span><span class="o">.</span><span class="n">plot</span><span class="p">(</span><span class="n">rms</span><span class="p">,</span> <span class="n">label</span><span class="o">=</span><span class="s1">&#39;RMS&#39;</span><span class="p">,</span> <span class="n">color</span><span class="o">=</span><span class="s1">&#39;red&#39;</span><span class="p">)</span>
<span class="n">plt</span><span class="o">.</span><span class="n">plot</span><span class="p">(</span><span class="n">std_freq</span><span class="p">,</span> <span class="n">label</span><span class="o">=</span><span class="s1">&#39;Standard deviation at brightest pixel around the row-wise mean&#39;</span><span class="p">)</span>
<span class="n">plt</span><span class="o">.</span><span class="n">xlabel</span><span class="p">(</span><span class="s1">&#39;Frequency channels&#39;</span><span class="p">)</span>
<span class="n">plt</span><span class="o">.</span><span class="n">ylabel</span><span class="p">(</span><span class="s1">&#39;Deviation&#39;</span><span class="p">)</span>
<span class="n">plt</span><span class="o">.</span><span class="n">legend</span><span class="p">()</span>
<span class="n">fig7</span><span class="o">.</span><span class="n">savefig</span><span class="p">(</span><span class="s1">&#39;rms_std_15_channels.png&#39;</span><span class="p">)</span>
<span class="n">plt</span><span class="o">.</span><span class="n">show</span><span class="p">()</span>
</pre></div>

    </div>
</div>
</div>

<div class="output_wrapper">
<div class="output">


<div class="output_area">

    <div class="prompt"></div>


<div class="output_subarea output_stream output_stdout output_text">
<pre>Dimension of the Stokes V (1024, 1024)
RMS of each frame: [0.00952821 0.00939878 0.00947543 0.01016344 0.00942625 0.00976082
 0.00954207 0.00962339 0.00981349 0.00975064 0.00969082 0.00950542
 0.01002712 0.01015675 0.01002652]
(1024,)
0.009993209224658843
</pre>
</div>
</div>

<div class="output_area">

    <div class="prompt"></div>





<div id="3fc455f1-9765-49b0-8b97-759fb262e244"></div>
<div class="output_subarea output_javascript ">
<script type="text/javascript">
var element = $('#3fc455f1-9765-49b0-8b97-759fb262e244');
/* Put everything inside the global mpl namespace */
window.mpl = {};


mpl.get_websocket_type = function() {
    if (typeof(WebSocket) !== 'undefined') {
        return WebSocket;
    } else if (typeof(MozWebSocket) !== 'undefined') {
        return MozWebSocket;
    } else {
        alert('Your browser does not have WebSocket support. ' +
              'Please try Chrome, Safari or Firefox ≥ 6. ' +
              'Firefox 4 and 5 are also supported but you ' +
              'have to enable WebSockets in about:config.');
    };
}

mpl.figure = function(figure_id, websocket, ondownload, parent_element) {
    this.id = figure_id;

    this.ws = websocket;

    this.supports_binary = (this.ws.binaryType != undefined);

    if (!this.supports_binary) {
        var warnings = document.getElementById("mpl-warnings");
        if (warnings) {
            warnings.style.display = 'block';
            warnings.textContent = (
                "This browser does not support binary websocket messages. " +
                    "Performance may be slow.");
        }
    }

    this.imageObj = new Image();

    this.context = undefined;
    this.message = undefined;
    this.canvas = undefined;
    this.rubberband_canvas = undefined;
    this.rubberband_context = undefined;
    this.format_dropdown = undefined;

    this.image_mode = 'full';

    this.root = $('<div/>');
    this._root_extra_style(this.root)
    this.root.attr('style', 'display: inline-block');

    $(parent_element).append(this.root);

    this._init_header(this);
    this._init_canvas(this);
    this._init_toolbar(this);

    var fig = this;

    this.waiting = false;

    this.ws.onopen =  function () {
            fig.send_message("supports_binary", {value: fig.supports_binary});
            fig.send_message("send_image_mode", {});
            if (mpl.ratio != 1) {
                fig.send_message("set_dpi_ratio", {'dpi_ratio': mpl.ratio});
            }
            fig.send_message("refresh", {});
        }

    this.imageObj.onload = function() {
            if (fig.image_mode == 'full') {
                // Full images could contain transparency (where diff images
                // almost always do), so we need to clear the canvas so that
                // there is no ghosting.
                fig.context.clearRect(0, 0, fig.canvas.width, fig.canvas.height);
            }
            fig.context.drawImage(fig.imageObj, 0, 0);
        };

    this.imageObj.onunload = function() {
        fig.ws.close();
    }

    this.ws.onmessage = this._make_on_message_function(this);

    this.ondownload = ondownload;
}

mpl.figure.prototype._init_header = function() {
    var titlebar = $(
        '<div class="ui-dialog-titlebar ui-widget-header ui-corner-all ' +
        'ui-helper-clearfix"/>');
    var titletext = $(
        '<div class="ui-dialog-title" style="width: 100%; ' +
        'text-align: center; padding: 3px;"/>');
    titlebar.append(titletext)
    this.root.append(titlebar);
    this.header = titletext[0];
}



mpl.figure.prototype._canvas_extra_style = function(canvas_div) {

}


mpl.figure.prototype._root_extra_style = function(canvas_div) {

}

mpl.figure.prototype._init_canvas = function() {
    var fig = this;

    var canvas_div = $('<div/>');

    canvas_div.attr('style', 'position: relative; clear: both; outline: 0');

    function canvas_keyboard_event(event) {
        return fig.key_event(event, event['data']);
    }

    canvas_div.keydown('key_press', canvas_keyboard_event);
    canvas_div.keyup('key_release', canvas_keyboard_event);
    this.canvas_div = canvas_div
    this._canvas_extra_style(canvas_div)
    this.root.append(canvas_div);

    var canvas = $('<canvas/>');
    canvas.addClass('mpl-canvas');
    canvas.attr('style', "left: 0; top: 0; z-index: 0; outline: 0")

    this.canvas = canvas[0];
    this.context = canvas[0].getContext("2d");

    var backingStore = this.context.backingStorePixelRatio ||
	this.context.webkitBackingStorePixelRatio ||
	this.context.mozBackingStorePixelRatio ||
	this.context.msBackingStorePixelRatio ||
	this.context.oBackingStorePixelRatio ||
	this.context.backingStorePixelRatio || 1;

    mpl.ratio = (window.devicePixelRatio || 1) / backingStore;

    var rubberband = $('<canvas/>');
    rubberband.attr('style', "position: absolute; left: 0; top: 0; z-index: 1;")

    var pass_mouse_events = true;

    canvas_div.resizable({
        start: function(event, ui) {
            pass_mouse_events = false;
        },
        resize: function(event, ui) {
            fig.request_resize(ui.size.width, ui.size.height);
        },
        stop: function(event, ui) {
            pass_mouse_events = true;
            fig.request_resize(ui.size.width, ui.size.height);
        },
    });

    function mouse_event_fn(event) {
        if (pass_mouse_events)
            return fig.mouse_event(event, event['data']);
    }

    rubberband.mousedown('button_press', mouse_event_fn);
    rubberband.mouseup('button_release', mouse_event_fn);
    // Throttle sequential mouse events to 1 every 20ms.
    rubberband.mousemove('motion_notify', mouse_event_fn);

    rubberband.mouseenter('figure_enter', mouse_event_fn);
    rubberband.mouseleave('figure_leave', mouse_event_fn);

    canvas_div.on("wheel", function (event) {
        event = event.originalEvent;
        event['data'] = 'scroll'
        if (event.deltaY < 0) {
            event.step = 1;
        } else {
            event.step = -1;
        }
        mouse_event_fn(event);
    });

    canvas_div.append(canvas);
    canvas_div.append(rubberband);

    this.rubberband = rubberband;
    this.rubberband_canvas = rubberband[0];
    this.rubberband_context = rubberband[0].getContext("2d");
    this.rubberband_context.strokeStyle = "#000000";

    this._resize_canvas = function(width, height) {
        // Keep the size of the canvas, canvas container, and rubber band
        // canvas in synch.
        canvas_div.css('width', width)
        canvas_div.css('height', height)

        canvas.attr('width', width * mpl.ratio);
        canvas.attr('height', height * mpl.ratio);
        canvas.attr('style', 'width: ' + width + 'px; height: ' + height + 'px;');

        rubberband.attr('width', width);
        rubberband.attr('height', height);
    }

    // Set the figure to an initial 600x600px, this will subsequently be updated
    // upon first draw.
    this._resize_canvas(600, 600);

    // Disable right mouse context menu.
    $(this.rubberband_canvas).bind("contextmenu",function(e){
        return false;
    });

    function set_focus () {
        canvas.focus();
        canvas_div.focus();
    }

    window.setTimeout(set_focus, 100);
}

mpl.figure.prototype._init_toolbar = function() {
    var fig = this;

    var nav_element = $('<div/>');
    nav_element.attr('style', 'width: 100%');
    this.root.append(nav_element);

    // Define a callback function for later on.
    function toolbar_event(event) {
        return fig.toolbar_button_onclick(event['data']);
    }
    function toolbar_mouse_event(event) {
        return fig.toolbar_button_onmouseover(event['data']);
    }

    for(var toolbar_ind in mpl.toolbar_items) {
        var name = mpl.toolbar_items[toolbar_ind][0];
        var tooltip = mpl.toolbar_items[toolbar_ind][1];
        var image = mpl.toolbar_items[toolbar_ind][2];
        var method_name = mpl.toolbar_items[toolbar_ind][3];

        if (!name) {
            // put a spacer in here.
            continue;
        }
        var button = $('<button/>');
        button.addClass('ui-button ui-widget ui-state-default ui-corner-all ' +
                        'ui-button-icon-only');
        button.attr('role', 'button');
        button.attr('aria-disabled', 'false');
        button.click(method_name, toolbar_event);
        button.mouseover(tooltip, toolbar_mouse_event);

        var icon_img = $('<span/>');
        icon_img.addClass('ui-button-icon-primary ui-icon');
        icon_img.addClass(image);
        icon_img.addClass('ui-corner-all');

        var tooltip_span = $('<span/>');
        tooltip_span.addClass('ui-button-text');
        tooltip_span.html(tooltip);

        button.append(icon_img);
        button.append(tooltip_span);

        nav_element.append(button);
    }

    var fmt_picker_span = $('<span/>');

    var fmt_picker = $('<select/>');
    fmt_picker.addClass('mpl-toolbar-option ui-widget ui-widget-content');
    fmt_picker_span.append(fmt_picker);
    nav_element.append(fmt_picker_span);
    this.format_dropdown = fmt_picker[0];

    for (var ind in mpl.extensions) {
        var fmt = mpl.extensions[ind];
        var option = $(
            '<option/>', {selected: fmt === mpl.default_extension}).html(fmt);
        fmt_picker.append(option);
    }

    // Add hover states to the ui-buttons
    $( ".ui-button" ).hover(
        function() { $(this).addClass("ui-state-hover");},
        function() { $(this).removeClass("ui-state-hover");}
    );

    var status_bar = $('<span class="mpl-message"/>');
    nav_element.append(status_bar);
    this.message = status_bar[0];
}

mpl.figure.prototype.request_resize = function(x_pixels, y_pixels) {
    // Request matplotlib to resize the figure. Matplotlib will then trigger a resize in the client,
    // which will in turn request a refresh of the image.
    this.send_message('resize', {'width': x_pixels, 'height': y_pixels});
}

mpl.figure.prototype.send_message = function(type, properties) {
    properties['type'] = type;
    properties['figure_id'] = this.id;
    this.ws.send(JSON.stringify(properties));
}

mpl.figure.prototype.send_draw_message = function() {
    if (!this.waiting) {
        this.waiting = true;
        this.ws.send(JSON.stringify({type: "draw", figure_id: this.id}));
    }
}


mpl.figure.prototype.handle_save = function(fig, msg) {
    var format_dropdown = fig.format_dropdown;
    var format = format_dropdown.options[format_dropdown.selectedIndex].value;
    fig.ondownload(fig, format);
}


mpl.figure.prototype.handle_resize = function(fig, msg) {
    var size = msg['size'];
    if (size[0] != fig.canvas.width || size[1] != fig.canvas.height) {
        fig._resize_canvas(size[0], size[1]);
        fig.send_message("refresh", {});
    };
}

mpl.figure.prototype.handle_rubberband = function(fig, msg) {
    var x0 = msg['x0'] / mpl.ratio;
    var y0 = (fig.canvas.height - msg['y0']) / mpl.ratio;
    var x1 = msg['x1'] / mpl.ratio;
    var y1 = (fig.canvas.height - msg['y1']) / mpl.ratio;
    x0 = Math.floor(x0) + 0.5;
    y0 = Math.floor(y0) + 0.5;
    x1 = Math.floor(x1) + 0.5;
    y1 = Math.floor(y1) + 0.5;
    var min_x = Math.min(x0, x1);
    var min_y = Math.min(y0, y1);
    var width = Math.abs(x1 - x0);
    var height = Math.abs(y1 - y0);

    fig.rubberband_context.clearRect(
        0, 0, fig.canvas.width, fig.canvas.height);

    fig.rubberband_context.strokeRect(min_x, min_y, width, height);
}

mpl.figure.prototype.handle_figure_label = function(fig, msg) {
    // Updates the figure title.
    fig.header.textContent = msg['label'];
}

mpl.figure.prototype.handle_cursor = function(fig, msg) {
    var cursor = msg['cursor'];
    switch(cursor)
    {
    case 0:
        cursor = 'pointer';
        break;
    case 1:
        cursor = 'default';
        break;
    case 2:
        cursor = 'crosshair';
        break;
    case 3:
        cursor = 'move';
        break;
    }
    fig.rubberband_canvas.style.cursor = cursor;
}

mpl.figure.prototype.handle_message = function(fig, msg) {
    fig.message.textContent = msg['message'];
}

mpl.figure.prototype.handle_draw = function(fig, msg) {
    // Request the server to send over a new figure.
    fig.send_draw_message();
}

mpl.figure.prototype.handle_image_mode = function(fig, msg) {
    fig.image_mode = msg['mode'];
}

mpl.figure.prototype.updated_canvas_event = function() {
    // Called whenever the canvas gets updated.
    this.send_message("ack", {});
}

// A function to construct a web socket function for onmessage handling.
// Called in the figure constructor.
mpl.figure.prototype._make_on_message_function = function(fig) {
    return function socket_on_message(evt) {
        if (evt.data instanceof Blob) {
            /* FIXME: We get "Resource interpreted as Image but
             * transferred with MIME type text/plain:" errors on
             * Chrome.  But how to set the MIME type?  It doesn't seem
             * to be part of the websocket stream */
            evt.data.type = "image/png";

            /* Free the memory for the previous frames */
            if (fig.imageObj.src) {
                (window.URL || window.webkitURL).revokeObjectURL(
                    fig.imageObj.src);
            }

            fig.imageObj.src = (window.URL || window.webkitURL).createObjectURL(
                evt.data);
            fig.updated_canvas_event();
            fig.waiting = false;
            return;
        }
        else if (typeof evt.data === 'string' && evt.data.slice(0, 21) == "data:image/png;base64") {
            fig.imageObj.src = evt.data;
            fig.updated_canvas_event();
            fig.waiting = false;
            return;
        }

        var msg = JSON.parse(evt.data);
        var msg_type = msg['type'];

        // Call the  "handle_{type}" callback, which takes
        // the figure and JSON message as its only arguments.
        try {
            var callback = fig["handle_" + msg_type];
        } catch (e) {
            console.log("No handler for the '" + msg_type + "' message type: ", msg);
            return;
        }

        if (callback) {
            try {
                // console.log("Handling '" + msg_type + "' message: ", msg);
                callback(fig, msg);
            } catch (e) {
                console.log("Exception inside the 'handler_" + msg_type + "' callback:", e, e.stack, msg);
            }
        }
    };
}

// from http://stackoverflow.com/questions/1114465/getting-mouse-location-in-canvas
mpl.findpos = function(e) {
    //this section is from http://www.quirksmode.org/js/events_properties.html
    var targ;
    if (!e)
        e = window.event;
    if (e.target)
        targ = e.target;
    else if (e.srcElement)
        targ = e.srcElement;
    if (targ.nodeType == 3) // defeat Safari bug
        targ = targ.parentNode;

    // jQuery normalizes the pageX and pageY
    // pageX,Y are the mouse positions relative to the document
    // offset() returns the position of the element relative to the document
    var x = e.pageX - $(targ).offset().left;
    var y = e.pageY - $(targ).offset().top;

    return {"x": x, "y": y};
};

/*
 * return a copy of an object with only non-object keys
 * we need this to avoid circular references
 * http://stackoverflow.com/a/24161582/3208463
 */
function simpleKeys (original) {
  return Object.keys(original).reduce(function (obj, key) {
    if (typeof original[key] !== 'object')
        obj[key] = original[key]
    return obj;
  }, {});
}

mpl.figure.prototype.mouse_event = function(event, name) {
    var canvas_pos = mpl.findpos(event)

    if (name === 'button_press')
    {
        this.canvas.focus();
        this.canvas_div.focus();
    }

    var x = canvas_pos.x * mpl.ratio;
    var y = canvas_pos.y * mpl.ratio;

    this.send_message(name, {x: x, y: y, button: event.button,
                             step: event.step,
                             guiEvent: simpleKeys(event)});

    /* This prevents the web browser from automatically changing to
     * the text insertion cursor when the button is pressed.  We want
     * to control all of the cursor setting manually through the
     * 'cursor' event from matplotlib */
    event.preventDefault();
    return false;
}

mpl.figure.prototype._key_event_extra = function(event, name) {
    // Handle any extra behaviour associated with a key event
}

mpl.figure.prototype.key_event = function(event, name) {

    // Prevent repeat events
    if (name == 'key_press')
    {
        if (event.which === this._key)
            return;
        else
            this._key = event.which;
    }
    if (name == 'key_release')
        this._key = null;

    var value = '';
    if (event.ctrlKey && event.which != 17)
        value += "ctrl+";
    if (event.altKey && event.which != 18)
        value += "alt+";
    if (event.shiftKey && event.which != 16)
        value += "shift+";

    value += 'k';
    value += event.which.toString();

    this._key_event_extra(event, name);

    this.send_message(name, {key: value,
                             guiEvent: simpleKeys(event)});
    return false;
}

mpl.figure.prototype.toolbar_button_onclick = function(name) {
    if (name == 'download') {
        this.handle_save(this, null);
    } else {
        this.send_message("toolbar_button", {name: name});
    }
};

mpl.figure.prototype.toolbar_button_onmouseover = function(tooltip) {
    this.message.textContent = tooltip;
};
mpl.toolbar_items = [["Home", "Reset original view", "fa fa-home icon-home", "home"], ["Back", "Back to previous view", "fa fa-arrow-left icon-arrow-left", "back"], ["Forward", "Forward to next view", "fa fa-arrow-right icon-arrow-right", "forward"], ["", "", "", ""], ["Pan", "Pan axes with left mouse, zoom with right", "fa fa-arrows icon-move", "pan"], ["Zoom", "Zoom to rectangle", "fa fa-square-o icon-check-empty", "zoom"], ["", "", "", ""], ["Download", "Download plot", "fa fa-floppy-o icon-save", "download"]];

mpl.extensions = ["eps", "jpeg", "pdf", "png", "ps", "raw", "svg", "tif"];

mpl.default_extension = "png";var comm_websocket_adapter = function(comm) {
    // Create a "websocket"-like object which calls the given IPython comm
    // object with the appropriate methods. Currently this is a non binary
    // socket, so there is still some room for performance tuning.
    var ws = {};

    ws.close = function() {
        comm.close()
    };
    ws.send = function(m) {
        //console.log('sending', m);
        comm.send(m);
    };
    // Register the callback with on_msg.
    comm.on_msg(function(msg) {
        //console.log('receiving', msg['content']['data'], msg);
        // Pass the mpl event to the overridden (by mpl) onmessage function.
        ws.onmessage(msg['content']['data'])
    });
    return ws;
}

mpl.mpl_figure_comm = function(comm, msg) {
    // This is the function which gets called when the mpl process
    // starts-up an IPython Comm through the "matplotlib" channel.

    var id = msg.content.data.id;
    // Get hold of the div created by the display call when the Comm
    // socket was opened in Python.
    var element = $("#" + id);
    var ws_proxy = comm_websocket_adapter(comm)

    function ondownload(figure, format) {
        window.open(figure.imageObj.src);
    }

    var fig = new mpl.figure(id, ws_proxy,
                           ondownload,
                           element.get(0));

    // Call onopen now - mpl needs it, as it is assuming we've passed it a real
    // web socket which is closed, not our websocket->open comm proxy.
    ws_proxy.onopen();

    fig.parent_element = element.get(0);
    fig.cell_info = mpl.find_output_cell("<div id='" + id + "'></div>");
    if (!fig.cell_info) {
        console.error("Failed to find cell for figure", id, fig);
        return;
    }

    var output_index = fig.cell_info[2]
    var cell = fig.cell_info[0];

};

mpl.figure.prototype.handle_close = function(fig, msg) {
    var width = fig.canvas.width/mpl.ratio
    fig.root.unbind('remove')

    // Update the output cell to use the data from the current canvas.
    fig.push_to_output();
    var dataURL = fig.canvas.toDataURL();
    // Re-enable the keyboard manager in IPython - without this line, in FF,
    // the notebook keyboard shortcuts fail.
    IPython.keyboard_manager.enable()
    $(fig.parent_element).html('<img src="' + dataURL + '" width="' + width + '">');
    fig.close_ws(fig, msg);
}

mpl.figure.prototype.close_ws = function(fig, msg){
    fig.send_message('closing', msg);
    // fig.ws.close()
}

mpl.figure.prototype.push_to_output = function(remove_interactive) {
    // Turn the data on the canvas into data in the output cell.
    var width = this.canvas.width/mpl.ratio
    var dataURL = this.canvas.toDataURL();
    this.cell_info[1]['text/html'] = '<img src="' + dataURL + '" width="' + width + '">';
}

mpl.figure.prototype.updated_canvas_event = function() {
    // Tell IPython that the notebook contents must change.
    IPython.notebook.set_dirty(true);
    this.send_message("ack", {});
    var fig = this;
    // Wait a second, then push the new image to the DOM so
    // that it is saved nicely (might be nice to debounce this).
    setTimeout(function () { fig.push_to_output() }, 1000);
}

mpl.figure.prototype._init_toolbar = function() {
    var fig = this;

    var nav_element = $('<div/>');
    nav_element.attr('style', 'width: 100%');
    this.root.append(nav_element);

    // Define a callback function for later on.
    function toolbar_event(event) {
        return fig.toolbar_button_onclick(event['data']);
    }
    function toolbar_mouse_event(event) {
        return fig.toolbar_button_onmouseover(event['data']);
    }

    for(var toolbar_ind in mpl.toolbar_items){
        var name = mpl.toolbar_items[toolbar_ind][0];
        var tooltip = mpl.toolbar_items[toolbar_ind][1];
        var image = mpl.toolbar_items[toolbar_ind][2];
        var method_name = mpl.toolbar_items[toolbar_ind][3];

        if (!name) { continue; };

        var button = $('<button class="btn btn-default" href="#" title="' + name + '"><i class="fa ' + image + ' fa-lg"></i></button>');
        button.click(method_name, toolbar_event);
        button.mouseover(tooltip, toolbar_mouse_event);
        nav_element.append(button);
    }

    // Add the status bar.
    var status_bar = $('<span class="mpl-message" style="text-align:right; float: right;"/>');
    nav_element.append(status_bar);
    this.message = status_bar[0];

    // Add the close button to the window.
    var buttongrp = $('<div class="btn-group inline pull-right"></div>');
    var button = $('<button class="btn btn-mini btn-primary" href="#" title="Stop Interaction"><i class="fa fa-power-off icon-remove icon-large"></i></button>');
    button.click(function (evt) { fig.handle_close(fig, {}); } );
    button.mouseover('Stop Interaction', toolbar_mouse_event);
    buttongrp.append(button);
    var titlebar = this.root.find($('.ui-dialog-titlebar'));
    titlebar.prepend(buttongrp);
}

mpl.figure.prototype._root_extra_style = function(el){
    var fig = this
    el.on("remove", function(){
	fig.close_ws(fig, {});
    });
}

mpl.figure.prototype._canvas_extra_style = function(el){
    // this is important to make the div 'focusable
    el.attr('tabindex', 0)
    // reach out to IPython and tell the keyboard manager to turn it's self
    // off when our div gets focus

    // location in version 3
    if (IPython.notebook.keyboard_manager) {
        IPython.notebook.keyboard_manager.register_events(el);
    }
    else {
        // location in version 2
        IPython.keyboard_manager.register_events(el);
    }

}

mpl.figure.prototype._key_event_extra = function(event, name) {
    var manager = IPython.notebook.keyboard_manager;
    if (!manager)
        manager = IPython.keyboard_manager;

    // Check for shift+enter
    if (event.shiftKey && event.which == 13) {
        this.canvas_div.blur();
        event.shiftKey = false;
        // Send a "J" for go to next cell
        event.which = 74;
        event.keyCode = 74;
        manager.command_mode();
        manager.handle_keydown(event);
    }
}

mpl.figure.prototype.handle_save = function(fig, msg) {
    fig.ondownload(fig, null);
}


mpl.find_output_cell = function(html_output) {
    // Return the cell and output element which can be found *uniquely* in the notebook.
    // Note - this is a bit hacky, but it is done because the "notebook_saving.Notebook"
    // IPython event is triggered only after the cells have been serialised, which for
    // our purposes (turning an active figure into a static one), is too late.
    var cells = IPython.notebook.get_cells();
    var ncells = cells.length;
    for (var i=0; i<ncells; i++) {
        var cell = cells[i];
        if (cell.cell_type === 'code'){
            for (var j=0; j<cell.output_area.outputs.length; j++) {
                var data = cell.output_area.outputs[j];
                if (data.data) {
                    // IPython >= 3 moved mimebundle to data attribute of output
                    data = data.data;
                }
                if (data['text/html'] == html_output) {
                    return [cell, data, j];
                }
            }
        }
    }
}

// Register the function which deals with the matplotlib target/channel.
// The kernel may be null if the page has been refreshed.
if (IPython.notebook.kernel != null) {
    IPython.notebook.kernel.comm_manager.register_target('matplotlib', mpl.mpl_figure_comm);
}

</script>
</div>

</div>

<div class="output_area">

    <div class="prompt"></div>



<div class="output_html rendered_html output_subarea ">
<img src="data:image/png;base64,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" width="640">
</div>

</div>

</div>
</div>

</div>
    </div>
  </div>
</body>

 


</html>
